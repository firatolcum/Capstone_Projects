{
 "cells": [
  {
   "cell_type": "markdown",
   "id": "517d0f61",
   "metadata": {},
   "source": [
    "___\n",
    "\n",
    "<p style=\"text-align: center;\"><img src=\"https://docs.google.com/uc?id=1lY0Uj5R04yMY3-ZppPWxqCr5pvBLYPnV\" class=\"img-fluid\" \n",
    "alt=\"CLRSWY\"></p>\n",
    "\n",
    "## <p style=\"background-color:#FDFEFE; font-family:newtimeroman; color:#9d4f8c; font-size:100%; text-align:center; border-radius:10px 10px;\">WAY TO REINVENT YOURSELF</p>"
   ]
  },
  {
   "cell_type": "markdown",
   "id": "af143edb",
   "metadata": {},
   "source": [
    "<img src=https://i.ibb.co/wJW61Y2/Used-cars.jpg width=\"700\" height=\"200\">\n",
    "\n",
    "## <p style=\"background-color:#FDFEFE; font-family:newtimeroman; color:#060108; font-size:200%; text-align:center; border-radius:10px 10px;\">The Capstone Project of Data Analytics Module</p>\n",
    "\n",
    "## <p style=\"background-color:#FDFEFE; font-family:newtimeroman; color:#060108; font-size:150%; text-align:center; border-radius:10px 10px;\">Car Price Prediction EDA</p>"
   ]
  },
  {
   "cell_type": "markdown",
   "id": "85b8212b",
   "metadata": {},
   "source": [
    "## Introduction\n",
    "Welcome to \"***AutoScout Data Analysis Project***\". This is the capstone project of ***Data Analysis*** Module. **Auto Scout** data which using for this project, scraped from the on-line car trading company in 2019, contains many features of 9 different car models. In this project, you will have the opportunity to apply many commonly used algorithms for Data Cleaning and Exploratory Data Analysis by using many Python libraries such as Numpy, Pandas, Matplotlib, Seaborn, Scipy you will analyze clean dataset.\n",
    "\n",
    "### Some Reminders on Exploratory data analysis (EDA)\n",
    "\n",
    "Exploratory data analysis (EDA) is an especially important activity in the routine of a data analyst or scientist. It enables an in depth understanding of the dataset, define or discard hypotheses and create predictive models on a solid basis. It uses data manipulation techniques and several statistical tools to describe and understand the relationship between variables and how these can impact business. By means of EDA, we can obtain meaningful insights that can impact analysis under the following questions (If a checklist is good enough for pilots to use every flight, it’s good enough for data scientists to use with every dataset).\n",
    "1. What question are you trying to solve (or prove wrong)?\n",
    "2. What kind of data do you have?\n",
    "3. What’s missing from the data?\n",
    "4. Where are the outliers?\n",
    "5. How can you add, change or remove features to get more out of your data?\n",
    "\n",
    "**``Exploratory data analysis (EDA)``** is often an **iterative brainstorming process** where you pose a question, review the data, and develop further questions to investigate before beginning model development work. The image below shows how the brainstorming phase is connected with that of understanding the variables and how this in turn is connected again with the brainstorming phase.<br>\n",
    "\n",
    "<img src=https://i.ibb.co/k0MC950/EDA-Process.png width=\"300\" height=\"100\">\n",
    "\n",
    "[Image Credit: Andrew D.](https://towardsdatascience.com/exploratory-data-analysis-in-python-a-step-by-step-process-d0dfa6bf94ee)\n",
    "\n",
    "**``In this context, the project consists of 3 parts in general:``**\n",
    "* **The first part** is related to 'Data Cleaning'. It deals with Incorrect Headers, Incorrect Format, Anomalies, and Dropping useless columns.\n",
    "* **The second part** is related to 'Filling Data', in other words 'Imputation'. It deals with Missing Values. Categorical to numeric transformation is done as well.\n",
    "* **The third part** is related to 'Handling Outliers of Data' via Visualization libraries. So, some insights will be extracted.\n",
    "\n",
    "**``NOTE:``**  However, you are free to create your own style. You do NOT have to stick to the steps above. We, the DA & DV instructors, recommend you study each part separately to create a source notebook for each part title for your further studies. "
   ]
  },
  {
   "cell_type": "markdown",
   "id": "b5d4ab4a",
   "metadata": {},
   "source": [
    "## Part 1 - Data Cleaning\n",
    "The first part is related to 'Data Cleaning'. It deals with Incorrect Headers, Incorrect Format, Anomalies, and Dropping useless columns"
   ]
  },
  {
   "cell_type": "code",
   "execution_count": 290,
   "id": "94b2efde",
   "metadata": {},
   "outputs": [],
   "source": [
    "import pandas as pd\n",
    "import numpy as np\n",
    "import seaborn as sns\n",
    "import matplotlib.pyplot as plt\n",
    "from scipy import stats\n",
    "\n",
    "pd.set_option('display.max_columns', None)\n",
    "pd.set_option('display.max_rows', 100)\n",
    "import warnings\n",
    "warnings.filterwarnings(\"ignore\")"
   ]
  },
  {
   "cell_type": "code",
   "execution_count": 291,
   "id": "a0c9416e",
   "metadata": {},
   "outputs": [],
   "source": [
    "df_origin = pd.read_json(\"scout_car.json\", lines=True)"
   ]
  },
  {
   "cell_type": "code",
   "execution_count": 292,
   "id": "63bd470d",
   "metadata": {},
   "outputs": [
    {
     "data": {
      "text/html": [
       "<div>\n",
       "<style scoped>\n",
       "    .dataframe tbody tr th:only-of-type {\n",
       "        vertical-align: middle;\n",
       "    }\n",
       "\n",
       "    .dataframe tbody tr th {\n",
       "        vertical-align: top;\n",
       "    }\n",
       "\n",
       "    .dataframe thead th {\n",
       "        text-align: right;\n",
       "    }\n",
       "</style>\n",
       "<table border=\"1\" class=\"dataframe\">\n",
       "  <thead>\n",
       "    <tr style=\"text-align: right;\">\n",
       "      <th></th>\n",
       "      <th>url</th>\n",
       "      <th>make_model</th>\n",
       "      <th>short_description</th>\n",
       "      <th>body_type</th>\n",
       "      <th>price</th>\n",
       "      <th>vat</th>\n",
       "      <th>km</th>\n",
       "      <th>registration</th>\n",
       "      <th>prev_owner</th>\n",
       "      <th>kW</th>\n",
       "      <th>hp</th>\n",
       "      <th>Type</th>\n",
       "      <th>Previous Owners</th>\n",
       "      <th>Next Inspection</th>\n",
       "      <th>Inspection new</th>\n",
       "      <th>Warranty</th>\n",
       "      <th>Full Service</th>\n",
       "      <th>Non-smoking Vehicle</th>\n",
       "      <th>null</th>\n",
       "      <th>Make</th>\n",
       "      <th>Model</th>\n",
       "      <th>Offer Number</th>\n",
       "      <th>First Registration</th>\n",
       "      <th>Body Color</th>\n",
       "      <th>Paint Type</th>\n",
       "      <th>Body Color Original</th>\n",
       "      <th>Upholstery</th>\n",
       "      <th>Body</th>\n",
       "      <th>Nr. of Doors</th>\n",
       "      <th>Nr. of Seats</th>\n",
       "      <th>Model Code</th>\n",
       "      <th>Gearing Type</th>\n",
       "      <th>Displacement</th>\n",
       "      <th>Cylinders</th>\n",
       "      <th>Weight</th>\n",
       "      <th>Drive chain</th>\n",
       "      <th>Fuel</th>\n",
       "      <th>Consumption</th>\n",
       "      <th>CO2 Emission</th>\n",
       "      <th>Emission Class</th>\n",
       "      <th>\\nComfort &amp; Convenience\\n</th>\n",
       "      <th>\\nEntertainment &amp; Media\\n</th>\n",
       "      <th>\\nExtras\\n</th>\n",
       "      <th>\\nSafety &amp; Security\\n</th>\n",
       "      <th>description</th>\n",
       "      <th>Emission Label</th>\n",
       "      <th>Gears</th>\n",
       "      <th>Country version</th>\n",
       "      <th>Electricity consumption</th>\n",
       "      <th>Last Service Date</th>\n",
       "      <th>Other Fuel Types</th>\n",
       "      <th>Availability</th>\n",
       "      <th>Last Timing Belt Service Date</th>\n",
       "      <th>Available from</th>\n",
       "    </tr>\n",
       "  </thead>\n",
       "  <tbody>\n",
       "    <tr>\n",
       "      <th>0</th>\n",
       "      <td>https://www.autoscout24.com//offers/audi-a1-sp...</td>\n",
       "      <td>Audi A1</td>\n",
       "      <td>Sportback 1.4 TDI S-tronic Xenon Navi Klima</td>\n",
       "      <td>Sedans</td>\n",
       "      <td>15770</td>\n",
       "      <td>VAT deductible</td>\n",
       "      <td>56,013 km</td>\n",
       "      <td>01/2016</td>\n",
       "      <td>2 previous owners</td>\n",
       "      <td>NaN</td>\n",
       "      <td>66 kW</td>\n",
       "      <td>[, Used, , Diesel (Particulate Filter)]</td>\n",
       "      <td>\\n2\\n</td>\n",
       "      <td>[\\n06/2021\\n, \\n99 g CO2/km (comb)\\n]</td>\n",
       "      <td>[\\nYes\\n, \\nEuro 6\\n]</td>\n",
       "      <td>[\\n, \\n, \\n4 (Green)\\n]</td>\n",
       "      <td>[\\n, \\n]</td>\n",
       "      <td>[\\n, \\n]</td>\n",
       "      <td>[]</td>\n",
       "      <td>\\nAudi\\n</td>\n",
       "      <td>[\\n, A1, \\n]</td>\n",
       "      <td>[\\nLR-062483\\n]</td>\n",
       "      <td>[\\n, 2016, \\n]</td>\n",
       "      <td>[\\n, Black, \\n]</td>\n",
       "      <td>[\\nMetallic\\n]</td>\n",
       "      <td>[\\nMythosschwarz\\n]</td>\n",
       "      <td>[\\nCloth, Black\\n]</td>\n",
       "      <td>[\\n, Sedans, \\n]</td>\n",
       "      <td>[\\n5\\n]</td>\n",
       "      <td>[\\n5\\n]</td>\n",
       "      <td>[\\n0588/BDF\\n]</td>\n",
       "      <td>[\\n, Automatic, \\n]</td>\n",
       "      <td>[\\n1,422 cc\\n]</td>\n",
       "      <td>[\\n3\\n]</td>\n",
       "      <td>[\\n1,220 kg\\n]</td>\n",
       "      <td>[\\nfront\\n]</td>\n",
       "      <td>[\\n, Diesel (Particulate Filter), \\n]</td>\n",
       "      <td>[[3.8 l/100 km (comb)], [4.3 l/100 km (city)],...</td>\n",
       "      <td>[\\n99 g CO2/km (comb)\\n]</td>\n",
       "      <td>[\\nEuro 6\\n]</td>\n",
       "      <td>[Air conditioning, Armrest, Automatic climate ...</td>\n",
       "      <td>[Bluetooth, Hands-free equipment, On-board com...</td>\n",
       "      <td>[Alloy wheels, Catalytic Converter, Voice Cont...</td>\n",
       "      <td>[ABS, Central door lock, Daytime running light...</td>\n",
       "      <td>[\\n, Sicherheit:,  , Deaktivierung für Beifahr...</td>\n",
       "      <td>NaN</td>\n",
       "      <td>NaN</td>\n",
       "      <td>NaN</td>\n",
       "      <td>NaN</td>\n",
       "      <td>NaN</td>\n",
       "      <td>NaN</td>\n",
       "      <td>NaN</td>\n",
       "      <td>NaN</td>\n",
       "      <td>NaN</td>\n",
       "    </tr>\n",
       "    <tr>\n",
       "      <th>1</th>\n",
       "      <td>https://www.autoscout24.com//offers/audi-a1-1-...</td>\n",
       "      <td>Audi A1</td>\n",
       "      <td>1.8 TFSI sport</td>\n",
       "      <td>Sedans</td>\n",
       "      <td>14500</td>\n",
       "      <td>Price negotiable</td>\n",
       "      <td>80,000 km</td>\n",
       "      <td>03/2017</td>\n",
       "      <td>None</td>\n",
       "      <td>NaN</td>\n",
       "      <td>141 kW</td>\n",
       "      <td>[, Used, , Gasoline]</td>\n",
       "      <td>NaN</td>\n",
       "      <td>NaN</td>\n",
       "      <td>NaN</td>\n",
       "      <td>NaN</td>\n",
       "      <td>NaN</td>\n",
       "      <td>NaN</td>\n",
       "      <td>[]</td>\n",
       "      <td>\\nAudi\\n</td>\n",
       "      <td>[\\n, A1, \\n]</td>\n",
       "      <td>NaN</td>\n",
       "      <td>[\\n, 2017, \\n]</td>\n",
       "      <td>[\\n, Red, \\n]</td>\n",
       "      <td>NaN</td>\n",
       "      <td>NaN</td>\n",
       "      <td>[\\nCloth, Grey\\n]</td>\n",
       "      <td>[\\n, Sedans, \\n]</td>\n",
       "      <td>[\\n3\\n]</td>\n",
       "      <td>[\\n4\\n]</td>\n",
       "      <td>[\\n0588/BCY\\n]</td>\n",
       "      <td>[\\n, Automatic, \\n]</td>\n",
       "      <td>[\\n1,798 cc\\n]</td>\n",
       "      <td>[\\n4\\n]</td>\n",
       "      <td>[\\n1,255 kg\\n]</td>\n",
       "      <td>[\\nfront\\n]</td>\n",
       "      <td>[\\n, Gasoline, \\n]</td>\n",
       "      <td>[[5.6 l/100 km (comb)], [7.1 l/100 km (city)],...</td>\n",
       "      <td>[\\n129 g CO2/km (comb)\\n]</td>\n",
       "      <td>[\\nEuro 6\\n]</td>\n",
       "      <td>[Air conditioning, Automatic climate control, ...</td>\n",
       "      <td>[Bluetooth, Hands-free equipment, On-board com...</td>\n",
       "      <td>[Alloy wheels, Sport seats, Sport suspension, ...</td>\n",
       "      <td>[ABS, Central door lock, Central door lock wit...</td>\n",
       "      <td>[\\nLangstreckenfahrzeug daher die hohe Kilomet...</td>\n",
       "      <td>[\\n4 (Green)\\n]</td>\n",
       "      <td>[\\n7\\n]</td>\n",
       "      <td>NaN</td>\n",
       "      <td>NaN</td>\n",
       "      <td>NaN</td>\n",
       "      <td>NaN</td>\n",
       "      <td>NaN</td>\n",
       "      <td>NaN</td>\n",
       "      <td>NaN</td>\n",
       "    </tr>\n",
       "    <tr>\n",
       "      <th>2</th>\n",
       "      <td>https://www.autoscout24.com//offers/audi-a1-sp...</td>\n",
       "      <td>Audi A1</td>\n",
       "      <td>Sportback 1.6 TDI S tronic Einparkhilfe plus+m...</td>\n",
       "      <td>Sedans</td>\n",
       "      <td>14640</td>\n",
       "      <td>VAT deductible</td>\n",
       "      <td>83,450 km</td>\n",
       "      <td>02/2016</td>\n",
       "      <td>1 previous owner</td>\n",
       "      <td>NaN</td>\n",
       "      <td>85 kW</td>\n",
       "      <td>[, Used, , Diesel (Particulate Filter)]</td>\n",
       "      <td>\\n1\\n</td>\n",
       "      <td>NaN</td>\n",
       "      <td>NaN</td>\n",
       "      <td>[\\n, \\n, \\n99 g CO2/km (comb)\\n]</td>\n",
       "      <td>NaN</td>\n",
       "      <td>NaN</td>\n",
       "      <td>[]</td>\n",
       "      <td>\\nAudi\\n</td>\n",
       "      <td>[\\n, A1, \\n]</td>\n",
       "      <td>[\\nAM-95365\\n]</td>\n",
       "      <td>[\\n, 2016, \\n]</td>\n",
       "      <td>[\\n, Black, \\n]</td>\n",
       "      <td>[\\nMetallic\\n]</td>\n",
       "      <td>[\\nmythosschwarz metallic\\n]</td>\n",
       "      <td>[\\nCloth, Black\\n]</td>\n",
       "      <td>[\\n, Sedans, \\n]</td>\n",
       "      <td>[\\n4\\n]</td>\n",
       "      <td>[\\n4\\n]</td>\n",
       "      <td>NaN</td>\n",
       "      <td>[\\n, Automatic, \\n]</td>\n",
       "      <td>[\\n1,598 cc\\n]</td>\n",
       "      <td>NaN</td>\n",
       "      <td>NaN</td>\n",
       "      <td>[\\nfront\\n]</td>\n",
       "      <td>[\\n, Diesel (Particulate Filter), \\n]</td>\n",
       "      <td>[[3.8 l/100 km (comb)], [4.4 l/100 km (city)],...</td>\n",
       "      <td>[\\n99 g CO2/km (comb)\\n]</td>\n",
       "      <td>[\\nEuro 6\\n]</td>\n",
       "      <td>[Air conditioning, Cruise control, Electrical ...</td>\n",
       "      <td>[MP3, On-board computer]</td>\n",
       "      <td>[Alloy wheels, Voice Control]</td>\n",
       "      <td>[ABS, Central door lock, Daytime running light...</td>\n",
       "      <td>[\\n, Fahrzeug-Nummer: AM-95365,  , Ehem. UPE 2...</td>\n",
       "      <td>[\\n4 (Green)\\n]</td>\n",
       "      <td>NaN</td>\n",
       "      <td>NaN</td>\n",
       "      <td>NaN</td>\n",
       "      <td>NaN</td>\n",
       "      <td>NaN</td>\n",
       "      <td>NaN</td>\n",
       "      <td>NaN</td>\n",
       "      <td>NaN</td>\n",
       "    </tr>\n",
       "    <tr>\n",
       "      <th>3</th>\n",
       "      <td>https://www.autoscout24.com//offers/audi-a1-1-...</td>\n",
       "      <td>Audi A1</td>\n",
       "      <td>1.4 TDi Design S tronic</td>\n",
       "      <td>Sedans</td>\n",
       "      <td>14500</td>\n",
       "      <td>None</td>\n",
       "      <td>73,000 km</td>\n",
       "      <td>08/2016</td>\n",
       "      <td>1 previous owner</td>\n",
       "      <td>NaN</td>\n",
       "      <td>66 kW</td>\n",
       "      <td>[, Used, , Diesel (Particulate Filter)]</td>\n",
       "      <td>\\n1\\n</td>\n",
       "      <td>NaN</td>\n",
       "      <td>NaN</td>\n",
       "      <td>NaN</td>\n",
       "      <td>[\\n, \\n, \\n99 g CO2/km (comb)\\n]</td>\n",
       "      <td>[\\n, \\n, \\nEuro 6\\n]</td>\n",
       "      <td>[]</td>\n",
       "      <td>\\nAudi\\n</td>\n",
       "      <td>[\\n, A1, \\n]</td>\n",
       "      <td>NaN</td>\n",
       "      <td>[\\n, 2016, \\n]</td>\n",
       "      <td>[\\n, Brown, \\n]</td>\n",
       "      <td>[\\nMetallic\\n]</td>\n",
       "      <td>NaN</td>\n",
       "      <td>NaN</td>\n",
       "      <td>[\\n, Sedans, \\n]</td>\n",
       "      <td>[\\n3\\n]</td>\n",
       "      <td>[\\n4\\n]</td>\n",
       "      <td>NaN</td>\n",
       "      <td>[\\n, Automatic, \\n]</td>\n",
       "      <td>[\\n1,422 cc\\n]</td>\n",
       "      <td>[\\n3\\n]</td>\n",
       "      <td>[\\n1,195 kg\\n]</td>\n",
       "      <td>NaN</td>\n",
       "      <td>[\\n, Diesel (Particulate Filter), \\n]</td>\n",
       "      <td>[[3.8 l/100 km (comb)], [4.3 l/100 km (city)],...</td>\n",
       "      <td>[\\n99 g CO2/km (comb)\\n]</td>\n",
       "      <td>[\\nEuro 6\\n]</td>\n",
       "      <td>[Air suspension, Armrest, Auxiliary heating, E...</td>\n",
       "      <td>[Bluetooth, CD player, Hands-free equipment, M...</td>\n",
       "      <td>[Alloy wheels, Sport seats, Voice Control]</td>\n",
       "      <td>[ABS, Alarm system, Central door lock with rem...</td>\n",
       "      <td>[\\nAudi A1: , - 1e eigenaar , - Perfecte staat...</td>\n",
       "      <td>NaN</td>\n",
       "      <td>[\\n6\\n]</td>\n",
       "      <td>NaN</td>\n",
       "      <td>NaN</td>\n",
       "      <td>NaN</td>\n",
       "      <td>NaN</td>\n",
       "      <td>NaN</td>\n",
       "      <td>NaN</td>\n",
       "      <td>NaN</td>\n",
       "    </tr>\n",
       "    <tr>\n",
       "      <th>4</th>\n",
       "      <td>https://www.autoscout24.com//offers/audi-a1-sp...</td>\n",
       "      <td>Audi A1</td>\n",
       "      <td>Sportback 1.4 TDI S-Tronic S-Line Ext. admired...</td>\n",
       "      <td>Sedans</td>\n",
       "      <td>16790</td>\n",
       "      <td>None</td>\n",
       "      <td>16,200 km</td>\n",
       "      <td>05/2016</td>\n",
       "      <td>1 previous owner</td>\n",
       "      <td>NaN</td>\n",
       "      <td>66 kW</td>\n",
       "      <td>[, Used, , Diesel (Particulate Filter)]</td>\n",
       "      <td>\\n1\\n</td>\n",
       "      <td>NaN</td>\n",
       "      <td>[\\nYes\\n, \\n109 g CO2/km (comb)\\n]</td>\n",
       "      <td>[\\n, \\n, \\nEuro 6\\n]</td>\n",
       "      <td>[\\n, \\n, \\n4 (Green)\\n]</td>\n",
       "      <td>[\\n, \\n]</td>\n",
       "      <td>[]</td>\n",
       "      <td>\\nAudi\\n</td>\n",
       "      <td>[\\n, A1, \\n]</td>\n",
       "      <td>[\\nC1626\\n]</td>\n",
       "      <td>[\\n, 2016, \\n]</td>\n",
       "      <td>[\\n, Black, \\n]</td>\n",
       "      <td>[\\nMetallic\\n]</td>\n",
       "      <td>[\\nMythosschwarz Metallic\\n]</td>\n",
       "      <td>[\\nCloth, Black\\n]</td>\n",
       "      <td>[\\n, Sedans, \\n]</td>\n",
       "      <td>[\\n5\\n]</td>\n",
       "      <td>[\\n5\\n]</td>\n",
       "      <td>[\\n0588/BDF\\n]</td>\n",
       "      <td>[\\n, Automatic, \\n]</td>\n",
       "      <td>[\\n1,422 cc\\n]</td>\n",
       "      <td>[\\n3\\n]</td>\n",
       "      <td>NaN</td>\n",
       "      <td>[\\nfront\\n]</td>\n",
       "      <td>[\\n, Diesel (Particulate Filter), \\n]</td>\n",
       "      <td>[[4.1 l/100 km (comb)], [4.6 l/100 km (city)],...</td>\n",
       "      <td>[\\n109 g CO2/km (comb)\\n]</td>\n",
       "      <td>[\\nEuro 6\\n]</td>\n",
       "      <td>[Air conditioning, Armrest, Automatic climate ...</td>\n",
       "      <td>[Bluetooth, CD player, Hands-free equipment, M...</td>\n",
       "      <td>[Alloy wheels, Sport package, Sport suspension...</td>\n",
       "      <td>[ABS, Central door lock, Driver-side airbag, E...</td>\n",
       "      <td>[\\n, Technik &amp; Sicherheit:, Xenon plus, Klimaa...</td>\n",
       "      <td>NaN</td>\n",
       "      <td>NaN</td>\n",
       "      <td>[\\nGermany\\n]</td>\n",
       "      <td>NaN</td>\n",
       "      <td>NaN</td>\n",
       "      <td>NaN</td>\n",
       "      <td>NaN</td>\n",
       "      <td>NaN</td>\n",
       "      <td>NaN</td>\n",
       "    </tr>\n",
       "  </tbody>\n",
       "</table>\n",
       "</div>"
      ],
      "text/plain": [
       "                                                 url make_model  \\\n",
       "0  https://www.autoscout24.com//offers/audi-a1-sp...    Audi A1   \n",
       "1  https://www.autoscout24.com//offers/audi-a1-1-...    Audi A1   \n",
       "2  https://www.autoscout24.com//offers/audi-a1-sp...    Audi A1   \n",
       "3  https://www.autoscout24.com//offers/audi-a1-1-...    Audi A1   \n",
       "4  https://www.autoscout24.com//offers/audi-a1-sp...    Audi A1   \n",
       "\n",
       "                                   short_description body_type  price  \\\n",
       "0        Sportback 1.4 TDI S-tronic Xenon Navi Klima    Sedans  15770   \n",
       "1                                     1.8 TFSI sport    Sedans  14500   \n",
       "2  Sportback 1.6 TDI S tronic Einparkhilfe plus+m...    Sedans  14640   \n",
       "3                            1.4 TDi Design S tronic    Sedans  14500   \n",
       "4  Sportback 1.4 TDI S-Tronic S-Line Ext. admired...    Sedans  16790   \n",
       "\n",
       "                vat         km registration         prev_owner  kW      hp  \\\n",
       "0    VAT deductible  56,013 km      01/2016  2 previous owners NaN   66 kW   \n",
       "1  Price negotiable  80,000 km      03/2017               None NaN  141 kW   \n",
       "2    VAT deductible  83,450 km      02/2016   1 previous owner NaN   85 kW   \n",
       "3              None  73,000 km      08/2016   1 previous owner NaN   66 kW   \n",
       "4              None  16,200 km      05/2016   1 previous owner NaN   66 kW   \n",
       "\n",
       "                                      Type Previous Owners  \\\n",
       "0  [, Used, , Diesel (Particulate Filter)]           \\n2\\n   \n",
       "1                     [, Used, , Gasoline]             NaN   \n",
       "2  [, Used, , Diesel (Particulate Filter)]           \\n1\\n   \n",
       "3  [, Used, , Diesel (Particulate Filter)]           \\n1\\n   \n",
       "4  [, Used, , Diesel (Particulate Filter)]           \\n1\\n   \n",
       "\n",
       "                         Next Inspection                      Inspection new  \\\n",
       "0  [\\n06/2021\\n, \\n99 g CO2/km (comb)\\n]               [\\nYes\\n, \\nEuro 6\\n]   \n",
       "1                                    NaN                                 NaN   \n",
       "2                                    NaN                                 NaN   \n",
       "3                                    NaN                                 NaN   \n",
       "4                                    NaN  [\\nYes\\n, \\n109 g CO2/km (comb)\\n]   \n",
       "\n",
       "                           Warranty                      Full Service  \\\n",
       "0           [\\n, \\n, \\n4 (Green)\\n]                          [\\n, \\n]   \n",
       "1                               NaN                               NaN   \n",
       "2  [\\n, \\n, \\n99 g CO2/km (comb)\\n]                               NaN   \n",
       "3                               NaN  [\\n, \\n, \\n99 g CO2/km (comb)\\n]   \n",
       "4              [\\n, \\n, \\nEuro 6\\n]           [\\n, \\n, \\n4 (Green)\\n]   \n",
       "\n",
       "    Non-smoking Vehicle null      Make         Model     Offer Number  \\\n",
       "0              [\\n, \\n]   []  \\nAudi\\n  [\\n, A1, \\n]  [\\nLR-062483\\n]   \n",
       "1                   NaN   []  \\nAudi\\n  [\\n, A1, \\n]              NaN   \n",
       "2                   NaN   []  \\nAudi\\n  [\\n, A1, \\n]   [\\nAM-95365\\n]   \n",
       "3  [\\n, \\n, \\nEuro 6\\n]   []  \\nAudi\\n  [\\n, A1, \\n]              NaN   \n",
       "4              [\\n, \\n]   []  \\nAudi\\n  [\\n, A1, \\n]      [\\nC1626\\n]   \n",
       "\n",
       "  First Registration       Body Color      Paint Type  \\\n",
       "0     [\\n, 2016, \\n]  [\\n, Black, \\n]  [\\nMetallic\\n]   \n",
       "1     [\\n, 2017, \\n]    [\\n, Red, \\n]             NaN   \n",
       "2     [\\n, 2016, \\n]  [\\n, Black, \\n]  [\\nMetallic\\n]   \n",
       "3     [\\n, 2016, \\n]  [\\n, Brown, \\n]  [\\nMetallic\\n]   \n",
       "4     [\\n, 2016, \\n]  [\\n, Black, \\n]  [\\nMetallic\\n]   \n",
       "\n",
       "            Body Color Original          Upholstery              Body  \\\n",
       "0           [\\nMythosschwarz\\n]  [\\nCloth, Black\\n]  [\\n, Sedans, \\n]   \n",
       "1                           NaN   [\\nCloth, Grey\\n]  [\\n, Sedans, \\n]   \n",
       "2  [\\nmythosschwarz metallic\\n]  [\\nCloth, Black\\n]  [\\n, Sedans, \\n]   \n",
       "3                           NaN                 NaN  [\\n, Sedans, \\n]   \n",
       "4  [\\nMythosschwarz Metallic\\n]  [\\nCloth, Black\\n]  [\\n, Sedans, \\n]   \n",
       "\n",
       "  Nr. of Doors Nr. of Seats      Model Code         Gearing Type  \\\n",
       "0      [\\n5\\n]      [\\n5\\n]  [\\n0588/BDF\\n]  [\\n, Automatic, \\n]   \n",
       "1      [\\n3\\n]      [\\n4\\n]  [\\n0588/BCY\\n]  [\\n, Automatic, \\n]   \n",
       "2      [\\n4\\n]      [\\n4\\n]             NaN  [\\n, Automatic, \\n]   \n",
       "3      [\\n3\\n]      [\\n4\\n]             NaN  [\\n, Automatic, \\n]   \n",
       "4      [\\n5\\n]      [\\n5\\n]  [\\n0588/BDF\\n]  [\\n, Automatic, \\n]   \n",
       "\n",
       "     Displacement Cylinders          Weight  Drive chain  \\\n",
       "0  [\\n1,422 cc\\n]   [\\n3\\n]  [\\n1,220 kg\\n]  [\\nfront\\n]   \n",
       "1  [\\n1,798 cc\\n]   [\\n4\\n]  [\\n1,255 kg\\n]  [\\nfront\\n]   \n",
       "2  [\\n1,598 cc\\n]       NaN             NaN  [\\nfront\\n]   \n",
       "3  [\\n1,422 cc\\n]   [\\n3\\n]  [\\n1,195 kg\\n]          NaN   \n",
       "4  [\\n1,422 cc\\n]   [\\n3\\n]             NaN  [\\nfront\\n]   \n",
       "\n",
       "                                    Fuel  \\\n",
       "0  [\\n, Diesel (Particulate Filter), \\n]   \n",
       "1                     [\\n, Gasoline, \\n]   \n",
       "2  [\\n, Diesel (Particulate Filter), \\n]   \n",
       "3  [\\n, Diesel (Particulate Filter), \\n]   \n",
       "4  [\\n, Diesel (Particulate Filter), \\n]   \n",
       "\n",
       "                                         Consumption  \\\n",
       "0  [[3.8 l/100 km (comb)], [4.3 l/100 km (city)],...   \n",
       "1  [[5.6 l/100 km (comb)], [7.1 l/100 km (city)],...   \n",
       "2  [[3.8 l/100 km (comb)], [4.4 l/100 km (city)],...   \n",
       "3  [[3.8 l/100 km (comb)], [4.3 l/100 km (city)],...   \n",
       "4  [[4.1 l/100 km (comb)], [4.6 l/100 km (city)],...   \n",
       "\n",
       "                CO2 Emission Emission Class  \\\n",
       "0   [\\n99 g CO2/km (comb)\\n]   [\\nEuro 6\\n]   \n",
       "1  [\\n129 g CO2/km (comb)\\n]   [\\nEuro 6\\n]   \n",
       "2   [\\n99 g CO2/km (comb)\\n]   [\\nEuro 6\\n]   \n",
       "3   [\\n99 g CO2/km (comb)\\n]   [\\nEuro 6\\n]   \n",
       "4  [\\n109 g CO2/km (comb)\\n]   [\\nEuro 6\\n]   \n",
       "\n",
       "                           \\nComfort & Convenience\\n  \\\n",
       "0  [Air conditioning, Armrest, Automatic climate ...   \n",
       "1  [Air conditioning, Automatic climate control, ...   \n",
       "2  [Air conditioning, Cruise control, Electrical ...   \n",
       "3  [Air suspension, Armrest, Auxiliary heating, E...   \n",
       "4  [Air conditioning, Armrest, Automatic climate ...   \n",
       "\n",
       "                           \\nEntertainment & Media\\n  \\\n",
       "0  [Bluetooth, Hands-free equipment, On-board com...   \n",
       "1  [Bluetooth, Hands-free equipment, On-board com...   \n",
       "2                           [MP3, On-board computer]   \n",
       "3  [Bluetooth, CD player, Hands-free equipment, M...   \n",
       "4  [Bluetooth, CD player, Hands-free equipment, M...   \n",
       "\n",
       "                                          \\nExtras\\n  \\\n",
       "0  [Alloy wheels, Catalytic Converter, Voice Cont...   \n",
       "1  [Alloy wheels, Sport seats, Sport suspension, ...   \n",
       "2                      [Alloy wheels, Voice Control]   \n",
       "3         [Alloy wheels, Sport seats, Voice Control]   \n",
       "4  [Alloy wheels, Sport package, Sport suspension...   \n",
       "\n",
       "                               \\nSafety & Security\\n  \\\n",
       "0  [ABS, Central door lock, Daytime running light...   \n",
       "1  [ABS, Central door lock, Central door lock wit...   \n",
       "2  [ABS, Central door lock, Daytime running light...   \n",
       "3  [ABS, Alarm system, Central door lock with rem...   \n",
       "4  [ABS, Central door lock, Driver-side airbag, E...   \n",
       "\n",
       "                                         description   Emission Label  \\\n",
       "0  [\\n, Sicherheit:,  , Deaktivierung für Beifahr...              NaN   \n",
       "1  [\\nLangstreckenfahrzeug daher die hohe Kilomet...  [\\n4 (Green)\\n]   \n",
       "2  [\\n, Fahrzeug-Nummer: AM-95365,  , Ehem. UPE 2...  [\\n4 (Green)\\n]   \n",
       "3  [\\nAudi A1: , - 1e eigenaar , - Perfecte staat...              NaN   \n",
       "4  [\\n, Technik & Sicherheit:, Xenon plus, Klimaa...              NaN   \n",
       "\n",
       "     Gears Country version Electricity consumption Last Service Date  \\\n",
       "0      NaN             NaN                     NaN               NaN   \n",
       "1  [\\n7\\n]             NaN                     NaN               NaN   \n",
       "2      NaN             NaN                     NaN               NaN   \n",
       "3  [\\n6\\n]             NaN                     NaN               NaN   \n",
       "4      NaN   [\\nGermany\\n]                     NaN               NaN   \n",
       "\n",
       "  Other Fuel Types Availability Last Timing Belt Service Date Available from  \n",
       "0              NaN          NaN                           NaN            NaN  \n",
       "1              NaN          NaN                           NaN            NaN  \n",
       "2              NaN          NaN                           NaN            NaN  \n",
       "3              NaN          NaN                           NaN            NaN  \n",
       "4              NaN          NaN                           NaN            NaN  "
      ]
     },
     "execution_count": 292,
     "metadata": {},
     "output_type": "execute_result"
    }
   ],
   "source": [
    "df = df_origin.copy()\n",
    "df.head()"
   ]
  },
  {
   "cell_type": "code",
   "execution_count": 293,
   "id": "7bee11ac",
   "metadata": {},
   "outputs": [
    {
     "data": {
      "text/plain": [
       "(15919, 54)"
      ]
     },
     "execution_count": 293,
     "metadata": {},
     "output_type": "execute_result"
    }
   ],
   "source": [
    "df.shape"
   ]
  },
  {
   "cell_type": "code",
   "execution_count": 294,
   "id": "96c032d6",
   "metadata": {},
   "outputs": [
    {
     "name": "stdout",
     "output_type": "stream",
     "text": [
      "<class 'pandas.core.frame.DataFrame'>\n",
      "RangeIndex: 15919 entries, 0 to 15918\n",
      "Data columns (total 54 columns):\n",
      " #   Column                         Non-Null Count  Dtype  \n",
      "---  ------                         --------------  -----  \n",
      " 0   url                            15919 non-null  object \n",
      " 1   make_model                     15919 non-null  object \n",
      " 2   short_description              15873 non-null  object \n",
      " 3   body_type                      15859 non-null  object \n",
      " 4   price                          15919 non-null  int64  \n",
      " 5   vat                            11406 non-null  object \n",
      " 6   km                             15919 non-null  object \n",
      " 7   registration                   15919 non-null  object \n",
      " 8   prev_owner                     9091 non-null   object \n",
      " 9   kW                             0 non-null      float64\n",
      " 10  hp                             15919 non-null  object \n",
      " 11  Type                           15917 non-null  object \n",
      " 12  Previous Owners                9279 non-null   object \n",
      " 13  Next Inspection                3535 non-null   object \n",
      " 14  Inspection new                 3932 non-null   object \n",
      " 15  Warranty                       10499 non-null  object \n",
      " 16  Full Service                   8215 non-null   object \n",
      " 17  Non-smoking Vehicle            7177 non-null   object \n",
      " 18  null                           15919 non-null  object \n",
      " 19  Make                           15919 non-null  object \n",
      " 20  Model                          15919 non-null  object \n",
      " 21  Offer Number                   12744 non-null  object \n",
      " 22  First Registration             14322 non-null  object \n",
      " 23  Body Color                     15322 non-null  object \n",
      " 24  Paint Type                     10147 non-null  object \n",
      " 25  Body Color Original            12160 non-null  object \n",
      " 26  Upholstery                     12199 non-null  object \n",
      " 27  Body                           15859 non-null  object \n",
      " 28  Nr. of Doors                   15707 non-null  object \n",
      " 29  Nr. of Seats                   14942 non-null  object \n",
      " 30  Model Code                     4978 non-null   object \n",
      " 31  Gearing Type                   15919 non-null  object \n",
      " 32  Displacement                   15423 non-null  object \n",
      " 33  Cylinders                      10239 non-null  object \n",
      " 34  Weight                         8945 non-null   object \n",
      " 35  Drive chain                    9061 non-null   object \n",
      " 36  Fuel                           15919 non-null  object \n",
      " 37  Consumption                    14013 non-null  object \n",
      " 38  CO2 Emission                   14111 non-null  object \n",
      " 39  Emission Class                 12898 non-null  object \n",
      " 40  \n",
      "Comfort & Convenience\n",
      "        14999 non-null  object \n",
      " 41  \n",
      "Entertainment & Media\n",
      "        14545 non-null  object \n",
      " 42  \n",
      "Extras\n",
      "                       12957 non-null  object \n",
      " 43  \n",
      "Safety & Security\n",
      "            14937 non-null  object \n",
      " 44  description                    15919 non-null  object \n",
      " 45  Emission Label                 3985 non-null   object \n",
      " 46  Gears                          11207 non-null  object \n",
      " 47  Country version                7586 non-null   object \n",
      " 48  Electricity consumption        137 non-null    object \n",
      " 49  Last Service Date              566 non-null    object \n",
      " 50  Other Fuel Types               880 non-null    object \n",
      " 51  Availability                   635 non-null    object \n",
      " 52  Last Timing Belt Service Date  16 non-null     object \n",
      " 53  Available from                 272 non-null    object \n",
      "dtypes: float64(1), int64(1), object(52)\n",
      "memory usage: 6.6+ MB\n"
     ]
    }
   ],
   "source": [
    "df.info()"
   ]
  },
  {
   "cell_type": "code",
   "execution_count": 295,
   "id": "34af5c37",
   "metadata": {},
   "outputs": [
    {
     "data": {
      "text/plain": [
       "False    15919\n",
       "dtype: int64"
      ]
     },
     "execution_count": 295,
     "metadata": {},
     "output_type": "execute_result"
    }
   ],
   "source": [
    "df.astype(\"str\").duplicated().value_counts()"
   ]
  },
  {
   "cell_type": "code",
   "execution_count": 296,
   "id": "c61fc521",
   "metadata": {},
   "outputs": [
    {
     "data": {
      "text/plain": [
       "False    15919\n",
       "dtype: int64"
      ]
     },
     "execution_count": 296,
     "metadata": {},
     "output_type": "execute_result"
    }
   ],
   "source": [
    "df.isnull().all(axis=1).value_counts()"
   ]
  },
  {
   "cell_type": "code",
   "execution_count": 297,
   "id": "4a8d0cec",
   "metadata": {},
   "outputs": [
    {
     "data": {
      "text/plain": [
       "True    15919\n",
       "dtype: int64"
      ]
     },
     "execution_count": 297,
     "metadata": {},
     "output_type": "execute_result"
    }
   ],
   "source": [
    "df.isnull().any(axis=1).value_counts()"
   ]
  },
  {
   "cell_type": "markdown",
   "id": "bc0bbe26",
   "metadata": {},
   "source": [
    "##### 0-url column"
   ]
  },
  {
   "cell_type": "code",
   "execution_count": 298,
   "id": "cf2e7528",
   "metadata": {},
   "outputs": [
    {
     "data": {
      "text/plain": [
       "https://www.autoscout24.com//offers/audi-a1-sportback-1-4-tdi-s-tronic-xenon-navi-klima-diesel-black-bdab349a-caa5-41b0-98eb-c1345b84445e                  1\n",
       "https://www.autoscout24.com//offers/opel-insignia-bus-inno-2-0-cdti-aut-navi-bi-xe-led-e6-diesel-black-8710b253-dd98-4ed0-9d46-cbad2d79532b                1\n",
       "https://www.autoscout24.com//offers/opel-insignia-sport-tourer-opel-sport-tourer-1-6-cdti-136-ch-a-c-diesel-silver-10b7463b-9f56-4348-af35-df3432b2b585    1\n",
       "https://www.autoscout24.com//offers/opel-insignia-2-0cdti-st-business-innovation-navi-bt-diesel-black-ba5a3368-dedc-4e51-9127-3976b26e93c2                 1\n",
       "https://www.autoscout24.com//offers/opel-insignia-sport-tourer-opel-sport-tourer-1-6-cdti-136-ch-a-c-diesel-silver-7b52f054-78d3-4d5e-9370-8a7d081d7edd    1\n",
       "                                                                                                                                                          ..\n",
       "https://www.autoscout24.com//offers/audi-a3-sb-30-1-6-tdi-business-116cv-s-tronic-diesel-black-cf50f7b1-4d7b-466f-93a2-4e11ec0b4107                        1\n",
       "https://www.autoscout24.com//offers/audi-a3-sb-30-1-6-tdi-business-116cv-s-tronic-diesel-grey-3f47eb34-15c4-4763-860d-78fcbbd2c9ff                         1\n",
       "https://www.autoscout24.com//offers/audi-a3-sb-30-1-6-tdi-business-116cv-s-tronic-diesel-silver-f7a4bc95-b2ef-4bac-9497-6bcbcd05db0b                       1\n",
       "https://www.autoscout24.com//offers/audi-a3-sb-30-1-6-tdi-business-116cv-s-tronic-diesel-silver-1c94c7a2-67b5-49ca-ae42-42a6800fb3f5                       1\n",
       "https://www.autoscout24.com//offers/renault-espace-initiale-paris-tce-225-edc-gpf-navi-shz-aux-gasoline-grey-0bd690d9-7e93-4cab-bc5a-9d5b63402481          1\n",
       "Name: url, Length: 15919, dtype: int64"
      ]
     },
     "execution_count": 298,
     "metadata": {},
     "output_type": "execute_result"
    }
   ],
   "source": [
    "df[\"url\"].value_counts()"
   ]
  },
  {
   "cell_type": "code",
   "execution_count": 299,
   "id": "2544c91f",
   "metadata": {},
   "outputs": [
    {
     "data": {
      "text/plain": [
       "15919"
      ]
     },
     "execution_count": 299,
     "metadata": {},
     "output_type": "execute_result"
    }
   ],
   "source": [
    "df[\"url\"].nunique()"
   ]
  },
  {
   "cell_type": "code",
   "execution_count": 300,
   "id": "80d6c2ef",
   "metadata": {},
   "outputs": [
    {
     "data": {
      "text/plain": [
       "dtype('O')"
      ]
     },
     "execution_count": 300,
     "metadata": {},
     "output_type": "execute_result"
    }
   ],
   "source": [
    "df[\"url\"].dtypes"
   ]
  },
  {
   "cell_type": "code",
   "execution_count": 301,
   "id": "b6563e08",
   "metadata": {},
   "outputs": [
    {
     "data": {
      "text/plain": [
       "0"
      ]
     },
     "execution_count": 301,
     "metadata": {},
     "output_type": "execute_result"
    }
   ],
   "source": [
    "df[\"url\"].isnull().sum()"
   ]
  },
  {
   "cell_type": "markdown",
   "id": "7aaac3a2",
   "metadata": {},
   "source": [
    "##### 1- make_model column"
   ]
  },
  {
   "cell_type": "code",
   "execution_count": 302,
   "id": "1c503d97",
   "metadata": {},
   "outputs": [
    {
     "data": {
      "text/plain": [
       "Audi A3           3097\n",
       "Audi A1           2614\n",
       "Opel Insignia     2598\n",
       "Opel Astra        2526\n",
       "Opel Corsa        2219\n",
       "Renault Clio      1839\n",
       "Renault Espace     991\n",
       "Renault Duster      34\n",
       "Audi A2              1\n",
       "Name: make_model, dtype: int64"
      ]
     },
     "execution_count": 302,
     "metadata": {},
     "output_type": "execute_result"
    }
   ],
   "source": [
    "df[\"make_model\"].value_counts(dropna=False)"
   ]
  },
  {
   "cell_type": "code",
   "execution_count": 303,
   "id": "1313ce64",
   "metadata": {},
   "outputs": [
    {
     "data": {
      "text/plain": [
       "dtype('O')"
      ]
     },
     "execution_count": 303,
     "metadata": {},
     "output_type": "execute_result"
    }
   ],
   "source": [
    "df[\"make_model\"].dtypes"
   ]
  },
  {
   "cell_type": "code",
   "execution_count": 304,
   "id": "10fc96d8",
   "metadata": {},
   "outputs": [
    {
     "data": {
      "text/html": [
       "<div>\n",
       "<style scoped>\n",
       "    .dataframe tbody tr th:only-of-type {\n",
       "        vertical-align: middle;\n",
       "    }\n",
       "\n",
       "    .dataframe tbody tr th {\n",
       "        vertical-align: top;\n",
       "    }\n",
       "\n",
       "    .dataframe thead th {\n",
       "        text-align: right;\n",
       "    }\n",
       "</style>\n",
       "<table border=\"1\" class=\"dataframe\">\n",
       "  <thead>\n",
       "    <tr style=\"text-align: right;\">\n",
       "      <th></th>\n",
       "      <th>url</th>\n",
       "      <th>make_model</th>\n",
       "      <th>short_description</th>\n",
       "      <th>body_type</th>\n",
       "      <th>price</th>\n",
       "      <th>vat</th>\n",
       "      <th>km</th>\n",
       "      <th>registration</th>\n",
       "      <th>prev_owner</th>\n",
       "      <th>kW</th>\n",
       "      <th>hp</th>\n",
       "      <th>Type</th>\n",
       "      <th>Previous Owners</th>\n",
       "      <th>Next Inspection</th>\n",
       "      <th>Inspection new</th>\n",
       "      <th>Warranty</th>\n",
       "      <th>Full Service</th>\n",
       "      <th>Non-smoking Vehicle</th>\n",
       "      <th>null</th>\n",
       "      <th>Make</th>\n",
       "      <th>Model</th>\n",
       "      <th>Offer Number</th>\n",
       "      <th>First Registration</th>\n",
       "      <th>Body Color</th>\n",
       "      <th>Paint Type</th>\n",
       "      <th>Body Color Original</th>\n",
       "      <th>Upholstery</th>\n",
       "      <th>Body</th>\n",
       "      <th>Nr. of Doors</th>\n",
       "      <th>Nr. of Seats</th>\n",
       "      <th>Model Code</th>\n",
       "      <th>Gearing Type</th>\n",
       "      <th>Displacement</th>\n",
       "      <th>Cylinders</th>\n",
       "      <th>Weight</th>\n",
       "      <th>Drive chain</th>\n",
       "      <th>Fuel</th>\n",
       "      <th>Consumption</th>\n",
       "      <th>CO2 Emission</th>\n",
       "      <th>Emission Class</th>\n",
       "      <th>\\nComfort &amp; Convenience\\n</th>\n",
       "      <th>\\nEntertainment &amp; Media\\n</th>\n",
       "      <th>\\nExtras\\n</th>\n",
       "      <th>\\nSafety &amp; Security\\n</th>\n",
       "      <th>description</th>\n",
       "      <th>Emission Label</th>\n",
       "      <th>Gears</th>\n",
       "      <th>Country version</th>\n",
       "      <th>Electricity consumption</th>\n",
       "      <th>Last Service Date</th>\n",
       "      <th>Other Fuel Types</th>\n",
       "      <th>Availability</th>\n",
       "      <th>Last Timing Belt Service Date</th>\n",
       "      <th>Available from</th>\n",
       "    </tr>\n",
       "  </thead>\n",
       "  <tbody>\n",
       "    <tr>\n",
       "      <th>2614</th>\n",
       "      <td>https://www.autoscout24.com//offers/audi-a2-30...</td>\n",
       "      <td>Audi A2</td>\n",
       "      <td>30 TDI Navi, Lane assist, Sitzheizung, Einpark...</td>\n",
       "      <td>Off-Road</td>\n",
       "      <td>28200</td>\n",
       "      <td>VAT deductible</td>\n",
       "      <td>26,166 km</td>\n",
       "      <td>10/2018</td>\n",
       "      <td>1 previous owner</td>\n",
       "      <td>NaN</td>\n",
       "      <td>85 kW</td>\n",
       "      <td>[, Employee's car, , Diesel (Particulate Filter)]</td>\n",
       "      <td>\\n1\\n</td>\n",
       "      <td>[\\n10/2019\\n, \\nEuro 6\\n]</td>\n",
       "      <td>NaN</td>\n",
       "      <td>[\\n, \\n, \\n4 (Green)\\n]</td>\n",
       "      <td>[\\n, \\n]</td>\n",
       "      <td>[\\n, \\n]</td>\n",
       "      <td>[]</td>\n",
       "      <td>\\nAudi\\n</td>\n",
       "      <td>[\\n, A2, \\n]</td>\n",
       "      <td>[\\n27609\\n]</td>\n",
       "      <td>[\\n, 2018, \\n]</td>\n",
       "      <td>[\\n, Grey, \\n]</td>\n",
       "      <td>[\\nMetallic\\n]</td>\n",
       "      <td>[\\nG3 Nanograu Metallic\\n]</td>\n",
       "      <td>[\\nCloth, Black\\n]</td>\n",
       "      <td>[\\n, Off-Road, \\n]</td>\n",
       "      <td>[\\n5\\n]</td>\n",
       "      <td>[\\n5\\n]</td>\n",
       "      <td>[\\n0588/BJV\\n]</td>\n",
       "      <td>[\\n, Manual, \\n]</td>\n",
       "      <td>[\\n1,598 cc\\n]</td>\n",
       "      <td>NaN</td>\n",
       "      <td>NaN</td>\n",
       "      <td>[\\nfront\\n]</td>\n",
       "      <td>[\\n, Diesel (Particulate Filter), \\n]</td>\n",
       "      <td>[[4.9 l/100 km (comb)], [5.6 l/100 km (city)],...</td>\n",
       "      <td>NaN</td>\n",
       "      <td>[\\nEuro 6\\n]</td>\n",
       "      <td>[Air conditioning, Armrest, Automatic climate ...</td>\n",
       "      <td>[Bluetooth, CD player, Hands-free equipment, M...</td>\n",
       "      <td>[Alloy wheels]</td>\n",
       "      <td>[ABS, Adaptive Cruise Control, Central door lo...</td>\n",
       "      <td>[\\n, Technik &amp; Sicherheit:, 7-Gang-Automatikge...</td>\n",
       "      <td>[\\n4 (Green)\\n]</td>\n",
       "      <td>NaN</td>\n",
       "      <td>[\\nGermany\\n]</td>\n",
       "      <td>NaN</td>\n",
       "      <td>NaN</td>\n",
       "      <td>NaN</td>\n",
       "      <td>NaN</td>\n",
       "      <td>NaN</td>\n",
       "      <td>NaN</td>\n",
       "    </tr>\n",
       "  </tbody>\n",
       "</table>\n",
       "</div>"
      ],
      "text/plain": [
       "                                                    url make_model  \\\n",
       "2614  https://www.autoscout24.com//offers/audi-a2-30...    Audi A2   \n",
       "\n",
       "                                      short_description body_type  price  \\\n",
       "2614  30 TDI Navi, Lane assist, Sitzheizung, Einpark...  Off-Road  28200   \n",
       "\n",
       "                 vat         km registration        prev_owner  kW     hp  \\\n",
       "2614  VAT deductible  26,166 km      10/2018  1 previous owner NaN  85 kW   \n",
       "\n",
       "                                                   Type Previous Owners  \\\n",
       "2614  [, Employee's car, , Diesel (Particulate Filter)]           \\n1\\n   \n",
       "\n",
       "                Next Inspection Inspection new                 Warranty  \\\n",
       "2614  [\\n10/2019\\n, \\nEuro 6\\n]            NaN  [\\n, \\n, \\n4 (Green)\\n]   \n",
       "\n",
       "     Full Service Non-smoking Vehicle null      Make         Model  \\\n",
       "2614     [\\n, \\n]            [\\n, \\n]   []  \\nAudi\\n  [\\n, A2, \\n]   \n",
       "\n",
       "     Offer Number First Registration      Body Color      Paint Type  \\\n",
       "2614  [\\n27609\\n]     [\\n, 2018, \\n]  [\\n, Grey, \\n]  [\\nMetallic\\n]   \n",
       "\n",
       "             Body Color Original          Upholstery                Body  \\\n",
       "2614  [\\nG3 Nanograu Metallic\\n]  [\\nCloth, Black\\n]  [\\n, Off-Road, \\n]   \n",
       "\n",
       "     Nr. of Doors Nr. of Seats      Model Code      Gearing Type  \\\n",
       "2614      [\\n5\\n]      [\\n5\\n]  [\\n0588/BJV\\n]  [\\n, Manual, \\n]   \n",
       "\n",
       "        Displacement Cylinders Weight  Drive chain  \\\n",
       "2614  [\\n1,598 cc\\n]       NaN    NaN  [\\nfront\\n]   \n",
       "\n",
       "                                       Fuel  \\\n",
       "2614  [\\n, Diesel (Particulate Filter), \\n]   \n",
       "\n",
       "                                            Consumption CO2 Emission  \\\n",
       "2614  [[4.9 l/100 km (comb)], [5.6 l/100 km (city)],...          NaN   \n",
       "\n",
       "     Emission Class                          \\nComfort & Convenience\\n  \\\n",
       "2614   [\\nEuro 6\\n]  [Air conditioning, Armrest, Automatic climate ...   \n",
       "\n",
       "                              \\nEntertainment & Media\\n      \\nExtras\\n  \\\n",
       "2614  [Bluetooth, CD player, Hands-free equipment, M...  [Alloy wheels]   \n",
       "\n",
       "                                  \\nSafety & Security\\n  \\\n",
       "2614  [ABS, Adaptive Cruise Control, Central door lo...   \n",
       "\n",
       "                                            description   Emission Label  \\\n",
       "2614  [\\n, Technik & Sicherheit:, 7-Gang-Automatikge...  [\\n4 (Green)\\n]   \n",
       "\n",
       "     Gears Country version Electricity consumption Last Service Date  \\\n",
       "2614   NaN   [\\nGermany\\n]                     NaN               NaN   \n",
       "\n",
       "     Other Fuel Types Availability Last Timing Belt Service Date  \\\n",
       "2614              NaN          NaN                           NaN   \n",
       "\n",
       "     Available from  \n",
       "2614            NaN  "
      ]
     },
     "execution_count": 304,
     "metadata": {},
     "output_type": "execute_result"
    }
   ],
   "source": [
    "df[df[\"make_model\"] == \"Audi A2\"]"
   ]
  },
  {
   "cell_type": "markdown",
   "id": "d1c488ac",
   "metadata": {},
   "source": [
    "##### 19- Make column"
   ]
  },
  {
   "cell_type": "code",
   "execution_count": 305,
   "id": "5cd2ce97",
   "metadata": {},
   "outputs": [
    {
     "data": {
      "text/plain": [
       "\\nOpel\\n       7343\n",
       "\\nAudi\\n       5712\n",
       "\\nRenault\\n    2864\n",
       "Name: Make, dtype: int64"
      ]
     },
     "execution_count": 305,
     "metadata": {},
     "output_type": "execute_result"
    }
   ],
   "source": [
    "df[\"Make\"].value_counts(dropna=False)"
   ]
  },
  {
   "cell_type": "code",
   "execution_count": 306,
   "id": "a012d0cd",
   "metadata": {},
   "outputs": [
    {
     "data": {
      "text/plain": [
       "dtype('O')"
      ]
     },
     "execution_count": 306,
     "metadata": {},
     "output_type": "execute_result"
    }
   ],
   "source": [
    "df[\"Make\"].dtypes"
   ]
  },
  {
   "cell_type": "code",
   "execution_count": 307,
   "id": "5d051bd8",
   "metadata": {},
   "outputs": [
    {
     "data": {
      "text/plain": [
       "0           Audi\n",
       "1           Audi\n",
       "2           Audi\n",
       "3           Audi\n",
       "4           Audi\n",
       "          ...   \n",
       "15914    Renault\n",
       "15915    Renault\n",
       "15916    Renault\n",
       "15917    Renault\n",
       "15918    Renault\n",
       "Name: 0, Length: 15919, dtype: object"
      ]
     },
     "execution_count": 307,
     "metadata": {},
     "output_type": "execute_result"
    }
   ],
   "source": [
    "df[\"make_model\"].str.split(\" \", expand=True)[0]"
   ]
  },
  {
   "cell_type": "code",
   "execution_count": 308,
   "id": "545d19ab",
   "metadata": {},
   "outputs": [],
   "source": [
    "df.rename(columns={\"Make\": \"make\"}, inplace=True)"
   ]
  },
  {
   "cell_type": "code",
   "execution_count": 309,
   "id": "7af49ab8",
   "metadata": {},
   "outputs": [],
   "source": [
    "df[\"make\"] = df[\"make_model\"].str.split(\" \", expand=True)[0].astype(\"str\")"
   ]
  },
  {
   "cell_type": "code",
   "execution_count": 310,
   "id": "5a40dcdf",
   "metadata": {},
   "outputs": [
    {
     "data": {
      "text/plain": [
       "dtype('O')"
      ]
     },
     "execution_count": 310,
     "metadata": {},
     "output_type": "execute_result"
    }
   ],
   "source": [
    "df[\"make\"].dtypes"
   ]
  },
  {
   "cell_type": "code",
   "execution_count": 311,
   "id": "09aa3040",
   "metadata": {},
   "outputs": [
    {
     "data": {
      "text/plain": [
       "Opel       7343\n",
       "Audi       5712\n",
       "Renault    2864\n",
       "Name: make, dtype: int64"
      ]
     },
     "execution_count": 311,
     "metadata": {},
     "output_type": "execute_result"
    }
   ],
   "source": [
    "df[\"make\"].value_counts()"
   ]
  },
  {
   "cell_type": "markdown",
   "id": "2872583c",
   "metadata": {},
   "source": [
    "##### 20- Model column"
   ]
  },
  {
   "cell_type": "code",
   "execution_count": 312,
   "id": "646712b8",
   "metadata": {},
   "outputs": [],
   "source": [
    "df.rename(columns={\"Model\": \"model\"}, inplace=True)"
   ]
  },
  {
   "cell_type": "code",
   "execution_count": 313,
   "id": "46773464",
   "metadata": {},
   "outputs": [],
   "source": [
    "df[\"model\"] = df[\"make_model\"].str.split(\" \", expand=True)[1].astype(\"str\")"
   ]
  },
  {
   "cell_type": "code",
   "execution_count": 314,
   "id": "c7d6f315",
   "metadata": {},
   "outputs": [
    {
     "data": {
      "text/plain": [
       "A3          3097\n",
       "A1          2614\n",
       "Insignia    2598\n",
       "Astra       2526\n",
       "Corsa       2219\n",
       "Clio        1839\n",
       "Espace       991\n",
       "Duster        34\n",
       "A2             1\n",
       "Name: model, dtype: int64"
      ]
     },
     "execution_count": 314,
     "metadata": {},
     "output_type": "execute_result"
    }
   ],
   "source": [
    "df[\"model\"].value_counts()"
   ]
  },
  {
   "cell_type": "markdown",
   "id": "df2fecb9",
   "metadata": {},
   "source": [
    "##### 2- short_description"
   ]
  },
  {
   "cell_type": "code",
   "execution_count": 315,
   "id": "a244442d",
   "metadata": {},
   "outputs": [
    {
     "data": {
      "text/plain": [
       "SPB 1.6 TDI 116 CV S tronic Sport                 64\n",
       "NaN                                               46\n",
       "1.4 66kW (90CV) Selective                         40\n",
       "MOVE KLIMA CD USB ALLWETTER BLUETOOTH             38\n",
       "SPB 30 TDI S tronic Business                      35\n",
       "                                                  ..\n",
       "K Sports Tourer Business **Navi*Voll**             1\n",
       "1.0 Turbo ecoFLEX Automatic Elective Park Navi     1\n",
       "1.6 CDTI Business *Navi*Automatik*Spurh.*          1\n",
       "1.6 136 CV Automatica Navi E 6 Garanzia Full       1\n",
       "TCe 225 EDC GPF LIM Deluxe Pano,RFK                1\n",
       "Name: short_description, Length: 10002, dtype: int64"
      ]
     },
     "execution_count": 315,
     "metadata": {},
     "output_type": "execute_result"
    }
   ],
   "source": [
    "df[\"short_description\"].value_counts(dropna=False)"
   ]
  },
  {
   "cell_type": "markdown",
   "id": "2b5639c9",
   "metadata": {},
   "source": [
    "##### 3- body_type column"
   ]
  },
  {
   "cell_type": "code",
   "execution_count": 317,
   "id": "262ad1e4",
   "metadata": {},
   "outputs": [
    {
     "data": {
      "text/plain": [
       "Sedans           7903\n",
       "Station wagon    3553\n",
       "Compact          3153\n",
       "Van               783\n",
       "Other             290\n",
       "Transporter        88\n",
       "NaN                60\n",
       "Off-Road           56\n",
       "Coupe              25\n",
       "Convertible         8\n",
       "Name: body_type, dtype: int64"
      ]
     },
     "execution_count": 317,
     "metadata": {},
     "output_type": "execute_result"
    }
   ],
   "source": [
    "df[\"body_type\"].value_counts(dropna=False)"
   ]
  },
  {
   "cell_type": "markdown",
   "id": "204541ae",
   "metadata": {},
   "source": [
    "##### 27- Body column"
   ]
  },
  {
   "cell_type": "code",
   "execution_count": 318,
   "id": "bd403219",
   "metadata": {},
   "outputs": [
    {
     "data": {
      "text/plain": [
       "0        [\\n, Sedans, \\n]\n",
       "1        [\\n, Sedans, \\n]\n",
       "2        [\\n, Sedans, \\n]\n",
       "3        [\\n, Sedans, \\n]\n",
       "4        [\\n, Sedans, \\n]\n",
       "               ...       \n",
       "15914       [\\n, Van, \\n]\n",
       "15915       [\\n, Van, \\n]\n",
       "15916       [\\n, Van, \\n]\n",
       "15917       [\\n, Van, \\n]\n",
       "15918       [\\n, Van, \\n]\n",
       "Name: Body, Length: 15919, dtype: object"
      ]
     },
     "execution_count": 318,
     "metadata": {},
     "output_type": "execute_result"
    }
   ],
   "source": [
    "df[\"Body\"]"
   ]
  },
  {
   "cell_type": "code",
   "execution_count": 319,
   "id": "17db3fcd",
   "metadata": {},
   "outputs": [
    {
     "data": {
      "text/plain": [
       "0        Sedans\n",
       "1        Sedans\n",
       "2        Sedans\n",
       "3        Sedans\n",
       "4        Sedans\n",
       "          ...  \n",
       "15914       Van\n",
       "15915       Van\n",
       "15916       Van\n",
       "15917       Van\n",
       "15918       Van\n",
       "Name: Body, Length: 15919, dtype: object"
      ]
     },
     "execution_count": 319,
     "metadata": {},
     "output_type": "execute_result"
    }
   ],
   "source": [
    "df[\"Body\"].apply(lambda x: x[1] if type(x)==list else x)"
   ]
  },
  {
   "cell_type": "code",
   "execution_count": 320,
   "id": "ced74a03",
   "metadata": {},
   "outputs": [],
   "source": [
    "df[\"Body\"] = df[\"Body\"].apply(lambda x: x[1] if type(x)==list else x)"
   ]
  },
  {
   "cell_type": "code",
   "execution_count": 321,
   "id": "dec0336c",
   "metadata": {},
   "outputs": [],
   "source": [
    "df[\"Body\"] = df[\"Body\"].apply(lambda x: x[1] if type(x)==list else x)"
   ]
  },
  {
   "cell_type": "code",
   "execution_count": 322,
   "id": "0d1fe379",
   "metadata": {},
   "outputs": [
    {
     "data": {
      "text/plain": [
       "Sedans           7903\n",
       "Station wagon    3553\n",
       "Compact          3153\n",
       "Van               783\n",
       "Other             290\n",
       "Transporter        88\n",
       "NaN                60\n",
       "Off-Road           56\n",
       "Coupe              25\n",
       "Convertible         8\n",
       "Name: Body, dtype: int64"
      ]
     },
     "execution_count": 322,
     "metadata": {},
     "output_type": "execute_result"
    }
   ],
   "source": [
    "df[\"Body\"].value_counts(dropna=False)"
   ]
  },
  {
   "cell_type": "markdown",
   "id": "c97104d3",
   "metadata": {},
   "source": [
    "##### 4- price column"
   ]
  },
  {
   "cell_type": "code",
   "execution_count": 323,
   "id": "98ca1a94",
   "metadata": {},
   "outputs": [
    {
     "data": {
      "text/plain": [
       "dtype('int64')"
      ]
     },
     "execution_count": 323,
     "metadata": {},
     "output_type": "execute_result"
    }
   ],
   "source": [
    "df[\"price\"].dtypes"
   ]
  },
  {
   "cell_type": "code",
   "execution_count": 324,
   "id": "c368efc2",
   "metadata": {},
   "outputs": [
    {
     "data": {
      "text/plain": [
       "13"
      ]
     },
     "execution_count": 324,
     "metadata": {},
     "output_type": "execute_result"
    }
   ],
   "source": [
    "df[\"price\"].min()"
   ]
  },
  {
   "cell_type": "code",
   "execution_count": 325,
   "id": "4ec87df9",
   "metadata": {},
   "outputs": [
    {
     "data": {
      "text/plain": [
       "74600"
      ]
     },
     "execution_count": 325,
     "metadata": {},
     "output_type": "execute_result"
    }
   ],
   "source": [
    "df[\"price\"].max()"
   ]
  },
  {
   "cell_type": "code",
   "execution_count": 326,
   "id": "e1ffd6b2",
   "metadata": {
    "scrolled": true
   },
   "outputs": [
    {
     "data": {
      "text/plain": [
       "18019.896727181356"
      ]
     },
     "execution_count": 326,
     "metadata": {},
     "output_type": "execute_result"
    }
   ],
   "source": [
    "df[\"price\"].mean()"
   ]
  },
  {
   "cell_type": "code",
   "execution_count": 327,
   "id": "c4e2a459",
   "metadata": {},
   "outputs": [
    {
     "data": {
      "image/png": "[encoded data removed]",
      "text/plain": [
       "<Figure size 432x288 with 1 Axes>"
      ]
     },
     "metadata": {
      "needs_background": "light"
     },
     "output_type": "display_data"
    }
   ],
   "source": [
    "sns.boxplot(df[\"price\"]);"
   ]
  },
  {
   "cell_type": "code",
   "execution_count": 328,
   "id": "96f748d3",
   "metadata": {},
   "outputs": [
    {
     "data": {
      "image/png": "[encoded data removed]",
      "text/plain": [
       "<Figure size 360x360 with 1 Axes>"
      ]
     },
     "metadata": {
      "needs_background": "light"
     },
     "output_type": "display_data"
    }
   ],
   "source": [
    "sns.displot(df[\"price\"]);"
   ]
  },
  {
   "cell_type": "markdown",
   "id": "f517c81c",
   "metadata": {},
   "source": [
    "##### 5- vat column"
   ]
  },
  {
   "cell_type": "code",
   "execution_count": 329,
   "id": "f0ab4c08",
   "metadata": {},
   "outputs": [
    {
     "data": {
      "text/plain": [
       "VAT deductible      10980\n",
       "NaN                  4513\n",
       "Price negotiable      426\n",
       "Name: vat, dtype: int64"
      ]
     },
     "execution_count": 329,
     "metadata": {},
     "output_type": "execute_result"
    }
   ],
   "source": [
    "df[\"vat\"].value_counts(dropna=False)"
   ]
  },
  {
   "cell_type": "markdown",
   "id": "dce4fe4d",
   "metadata": {},
   "source": [
    "##### 6- km column"
   ]
  },
  {
   "cell_type": "code",
   "execution_count": 330,
   "id": "7fee0ede",
   "metadata": {},
   "outputs": [
    {
     "data": {
      "text/plain": [
       "dtype('O')"
      ]
     },
     "execution_count": 330,
     "metadata": {},
     "output_type": "execute_result"
    }
   ],
   "source": [
    "df[\"km\"].dtypes"
   ]
  },
  {
   "cell_type": "code",
   "execution_count": 331,
   "id": "6344d5ac",
   "metadata": {},
   "outputs": [],
   "source": [
    "df[\"km\"].replace([\"km\", \",\"], \"\", regex=True, inplace=True)"
   ]
  },
  {
   "cell_type": "code",
   "execution_count": 332,
   "id": "0bd96683",
   "metadata": {},
   "outputs": [],
   "source": [
    "df[\"km\"].replace(\"- \",np.nan, inplace=True)"
   ]
  },
  {
   "cell_type": "code",
   "execution_count": 333,
   "id": "95074e6e",
   "metadata": {},
   "outputs": [],
   "source": [
    "df[\"km\"] = df[\"km\"].astype(\"float\")"
   ]
  },
  {
   "cell_type": "code",
   "execution_count": 334,
   "id": "461a5304",
   "metadata": {},
   "outputs": [
    {
     "data": {
      "text/plain": [
       "10.0       1045\n",
       "NaN        1024\n",
       "1.0         367\n",
       "5.0         170\n",
       "50.0        148\n",
       "           ... \n",
       "67469.0       1\n",
       "43197.0       1\n",
       "10027.0       1\n",
       "35882.0       1\n",
       "57.0          1\n",
       "Name: km, Length: 6690, dtype: int64"
      ]
     },
     "execution_count": 334,
     "metadata": {},
     "output_type": "execute_result"
    }
   ],
   "source": [
    "df[\"km\"].value_counts(dropna=False)"
   ]
  },
  {
   "cell_type": "code",
   "execution_count": 335,
   "id": "f71e5536",
   "metadata": {},
   "outputs": [
    {
     "data": {
      "text/plain": [
       "34130.127828130244"
      ]
     },
     "execution_count": 335,
     "metadata": {},
     "output_type": "execute_result"
    }
   ],
   "source": [
    "df[\"km\"].mean()"
   ]
  },
  {
   "cell_type": "code",
   "execution_count": 336,
   "id": "24c058d1",
   "metadata": {},
   "outputs": [
    {
     "data": {
      "text/plain": [
       "0.0"
      ]
     },
     "execution_count": 336,
     "metadata": {},
     "output_type": "execute_result"
    }
   ],
   "source": [
    "df[\"km\"].min()"
   ]
  },
  {
   "cell_type": "code",
   "execution_count": 337,
   "id": "b9d001dc",
   "metadata": {},
   "outputs": [
    {
     "data": {
      "text/plain": [
       "317000.0"
      ]
     },
     "execution_count": 337,
     "metadata": {},
     "output_type": "execute_result"
    }
   ],
   "source": [
    "df[\"km\"].max()"
   ]
  },
  {
   "cell_type": "code",
   "execution_count": 338,
   "id": "3a9c94b4",
   "metadata": {
    "scrolled": true
   },
   "outputs": [
    {
     "data": {
      "image/png": "[encoded data removed]",
      "text/plain": [
       "<Figure size 432x288 with 1 Axes>"
      ]
     },
     "metadata": {
      "needs_background": "light"
     },
     "output_type": "display_data"
    }
   ],
   "source": [
    "sns.boxplot(df[\"km\"]);"
   ]
  },
  {
   "cell_type": "code",
   "execution_count": 339,
   "id": "486e7cb5",
   "metadata": {},
   "outputs": [
    {
     "data": {
      "image/png": "[encoded data removed]",
      "text/plain": [
       "<Figure size 360x360 with 1 Axes>"
      ]
     },
     "metadata": {
      "needs_background": "light"
     },
     "output_type": "display_data"
    }
   ],
   "source": [
    "sns.displot(df[\"km\"]);"
   ]
  },
  {
   "cell_type": "markdown",
   "id": "20baa530",
   "metadata": {},
   "source": [
    "##### 7- registration column"
   ]
  },
  {
   "cell_type": "code",
   "execution_count": 340,
   "id": "d2d1b8e1",
   "metadata": {},
   "outputs": [
    {
     "data": {
      "text/plain": [
       "0        01/2016\n",
       "1        03/2017\n",
       "2        02/2016\n",
       "3        08/2016\n",
       "4        05/2016\n",
       "          ...   \n",
       "15914        -/-\n",
       "15915    01/2019\n",
       "15916    03/2019\n",
       "15917    06/2019\n",
       "15918    01/2019\n",
       "Name: registration, Length: 15919, dtype: object"
      ]
     },
     "execution_count": 340,
     "metadata": {},
     "output_type": "execute_result"
    }
   ],
   "source": [
    "df[\"registration\"]"
   ]
  },
  {
   "cell_type": "code",
   "execution_count": 341,
   "id": "2f36c0f1",
   "metadata": {},
   "outputs": [
    {
     "data": {
      "text/plain": [
       "dtype('O')"
      ]
     },
     "execution_count": 341,
     "metadata": {},
     "output_type": "execute_result"
    }
   ],
   "source": [
    "df[\"registration\"].dtypes"
   ]
  },
  {
   "cell_type": "code",
   "execution_count": 342,
   "id": "7ae1d988",
   "metadata": {},
   "outputs": [
    {
     "data": {
      "text/plain": [
       "1427    06/2017\n",
       "944     02/2018\n",
       "2617    10/2016\n",
       "2860    02/2017\n",
       "6391    01/2016\n",
       "Name: registration, dtype: object"
      ]
     },
     "execution_count": 342,
     "metadata": {},
     "output_type": "execute_result"
    }
   ],
   "source": [
    "df[\"registration\"].sample(5)"
   ]
  },
  {
   "cell_type": "code",
   "execution_count": 343,
   "id": "53b3f04c",
   "metadata": {},
   "outputs": [
    {
     "data": {
      "text/plain": [
       "0"
      ]
     },
     "execution_count": 343,
     "metadata": {},
     "output_type": "execute_result"
    }
   ],
   "source": [
    "df[\"registration\"].isnull().sum()"
   ]
  },
  {
   "cell_type": "code",
   "execution_count": 344,
   "id": "993fd3dc",
   "metadata": {},
   "outputs": [],
   "source": [
    "df[\"registration\"].replace(\"-/-\", np.nan, inplace=True)"
   ]
  },
  {
   "cell_type": "code",
   "execution_count": 345,
   "id": "f751a8c7",
   "metadata": {},
   "outputs": [],
   "source": [
    "df[\"registration\"] = pd.to_datetime(df[\"registration\"])"
   ]
  },
  {
   "cell_type": "code",
   "execution_count": 346,
   "id": "23062021",
   "metadata": {},
   "outputs": [
    {
     "data": {
      "text/plain": [
       "1597"
      ]
     },
     "execution_count": 346,
     "metadata": {},
     "output_type": "execute_result"
    }
   ],
   "source": [
    "df[\"registration\"].isnull().sum()"
   ]
  },
  {
   "cell_type": "code",
   "execution_count": 347,
   "id": "9d508a41",
   "metadata": {},
   "outputs": [
    {
     "data": {
      "text/plain": [
       "NaT           1597\n",
       "2018-03-01     695\n",
       "2019-02-01     585\n",
       "2018-05-01     572\n",
       "2019-03-01     543\n",
       "2019-01-01     541\n",
       "2018-04-01     541\n",
       "2018-02-01     539\n",
       "2016-03-01     536\n",
       "2016-04-01     532\n",
       "2018-06-01     532\n",
       "2018-01-01     511\n",
       "2019-04-01     506\n",
       "2016-02-01     472\n",
       "2017-03-01     471\n",
       "2016-05-01     459\n",
       "2016-06-01     452\n",
       "2019-05-01     440\n",
       "2017-06-01     409\n",
       "2017-05-01     404\n",
       "2018-07-01     396\n",
       "2017-04-01     380\n",
       "2016-01-01     376\n",
       "2017-02-01     368\n",
       "2017-01-01     306\n",
       "2018-08-01     285\n",
       "2019-06-01     224\n",
       "2017-07-01     215\n",
       "2017-11-01     180\n",
       "2016-07-01     176\n",
       "2016-10-01     160\n",
       "2017-10-01     154\n",
       "2017-09-01     149\n",
       "2016-11-01     142\n",
       "2018-09-01     141\n",
       "2016-09-01     141\n",
       "2016-12-01     134\n",
       "2017-12-01     123\n",
       "2017-08-01     114\n",
       "2018-11-01     110\n",
       "2018-12-01     103\n",
       "2018-10-01      97\n",
       "2016-08-01      94\n",
       "2019-07-01       6\n",
       "2019-09-01       5\n",
       "2019-08-01       1\n",
       "2019-11-01       1\n",
       "2019-12-01       1\n",
       "Name: registration, dtype: int64"
      ]
     },
     "execution_count": 347,
     "metadata": {},
     "output_type": "execute_result"
    }
   ],
   "source": [
    "df[\"registration\"].value_counts(dropna=False)"
   ]
  },
  {
   "cell_type": "markdown",
   "id": "444af62c",
   "metadata": {},
   "source": [
    "##### 22- First Registration column"
   ]
  },
  {
   "cell_type": "code",
   "execution_count": 348,
   "id": "3d0230a9",
   "metadata": {},
   "outputs": [
    {
     "data": {
      "text/plain": [
       "0        [\\n, 2016, \\n]\n",
       "1        [\\n, 2017, \\n]\n",
       "2        [\\n, 2016, \\n]\n",
       "3        [\\n, 2016, \\n]\n",
       "4        [\\n, 2016, \\n]\n",
       "              ...      \n",
       "15914               NaN\n",
       "15915    [\\n, 2019, \\n]\n",
       "15916    [\\n, 2019, \\n]\n",
       "15917    [\\n, 2019, \\n]\n",
       "15918    [\\n, 2019, \\n]\n",
       "Name: First Registration, Length: 15919, dtype: object"
      ]
     },
     "execution_count": 348,
     "metadata": {},
     "output_type": "execute_result"
    }
   ],
   "source": [
    "df[\"First Registration\"]"
   ]
  },
  {
   "cell_type": "code",
   "execution_count": 349,
   "id": "2025bfb3",
   "metadata": {},
   "outputs": [
    {
     "data": {
      "text/plain": [
       "1597"
      ]
     },
     "execution_count": 349,
     "metadata": {},
     "output_type": "execute_result"
    }
   ],
   "source": [
    "df[\"First Registration\"].isnull().sum()"
   ]
  },
  {
   "cell_type": "code",
   "execution_count": 350,
   "id": "d42ed032",
   "metadata": {},
   "outputs": [
    {
     "data": {
      "text/plain": [
       "0        2016\n",
       "1        2017\n",
       "2        2016\n",
       "3        2016\n",
       "4        2016\n",
       "         ... \n",
       "15914     NaN\n",
       "15915    2019\n",
       "15916    2019\n",
       "15917    2019\n",
       "15918    2019\n",
       "Name: First Registration, Length: 15919, dtype: object"
      ]
     },
     "execution_count": 350,
     "metadata": {},
     "output_type": "execute_result"
    }
   ],
   "source": [
    "df[\"First Registration\"].apply(lambda x : x[1] if type(x) == list else np.nan)"
   ]
  },
  {
   "cell_type": "code",
   "execution_count": 351,
   "id": "dc691cfb",
   "metadata": {},
   "outputs": [],
   "source": [
    "df[\"First Registration\"] = df[\"First Registration\"].apply(lambda x : x[1] if type(x) == list else np.nan).astype(\"float\")"
   ]
  },
  {
   "cell_type": "code",
   "execution_count": 352,
   "id": "b26a861d",
   "metadata": {},
   "outputs": [
    {
     "data": {
      "text/plain": [
       "1597"
      ]
     },
     "execution_count": 352,
     "metadata": {},
     "output_type": "execute_result"
    }
   ],
   "source": [
    "df[\"First Registration\"].isnull().sum()"
   ]
  },
  {
   "cell_type": "code",
   "execution_count": 353,
   "id": "43d52ccd",
   "metadata": {},
   "outputs": [
    {
     "data": {
      "text/plain": [
       "2018.0    4522\n",
       "2016.0    3674\n",
       "2017.0    3273\n",
       "2019.0    2853\n",
       "NaN       1597\n",
       "Name: First Registration, dtype: int64"
      ]
     },
     "execution_count": 353,
     "metadata": {},
     "output_type": "execute_result"
    }
   ],
   "source": [
    "df[\"First Registration\"].value_counts(dropna=False)"
   ]
  },
  {
   "cell_type": "code",
   "execution_count": 354,
   "id": "fe2059dc",
   "metadata": {},
   "outputs": [],
   "source": [
    "df.rename(columns={\"First Registration\": \"first_registration\"}, inplace=True)"
   ]
  },
  {
   "cell_type": "code",
   "execution_count": 355,
   "id": "182ffa34",
   "metadata": {},
   "outputs": [],
   "source": [
    "df[\"age\"] = 2019 - df[\"first_registration\"]"
   ]
  },
  {
   "cell_type": "code",
   "execution_count": 356,
   "id": "f7261136",
   "metadata": {},
   "outputs": [
    {
     "data": {
      "text/plain": [
       "1.0    4522\n",
       "3.0    3674\n",
       "2.0    3273\n",
       "0.0    2853\n",
       "NaN    1597\n",
       "Name: age, dtype: int64"
      ]
     },
     "execution_count": 356,
     "metadata": {},
     "output_type": "execute_result"
    }
   ],
   "source": [
    "df[\"age\"].value_counts(dropna=False)"
   ]
  },
  {
   "cell_type": "markdown",
   "id": "5b173a67",
   "metadata": {},
   "source": [
    "##### 8- prev_owner column"
   ]
  },
  {
   "cell_type": "code",
   "execution_count": 357,
   "id": "d77bad73",
   "metadata": {},
   "outputs": [
    {
     "data": {
      "text/plain": [
       "0        2 previous owners\n",
       "1                     None\n",
       "2         1 previous owner\n",
       "3         1 previous owner\n",
       "4         1 previous owner\n",
       "               ...        \n",
       "15914                 None\n",
       "15915     1 previous owner\n",
       "15916     1 previous owner\n",
       "15917                 None\n",
       "15918     1 previous owner\n",
       "Name: prev_owner, Length: 15919, dtype: object"
      ]
     },
     "execution_count": 357,
     "metadata": {},
     "output_type": "execute_result"
    }
   ],
   "source": [
    "df[\"prev_owner\"]"
   ]
  },
  {
   "cell_type": "code",
   "execution_count": 358,
   "id": "1bfa9c02",
   "metadata": {},
   "outputs": [
    {
     "data": {
      "text/plain": [
       "6828"
      ]
     },
     "execution_count": 358,
     "metadata": {},
     "output_type": "execute_result"
    }
   ],
   "source": [
    "df[\"prev_owner\"].isnull().sum()"
   ]
  },
  {
   "cell_type": "code",
   "execution_count": 359,
   "id": "8c8769cf",
   "metadata": {},
   "outputs": [
    {
     "data": {
      "text/plain": [
       "array(['2 previous owners', None, '1 previous owner', '3 previous owners',\n",
       "       '4 previous owners'], dtype=object)"
      ]
     },
     "execution_count": 359,
     "metadata": {},
     "output_type": "execute_result"
    }
   ],
   "source": [
    "df[\"prev_owner\"].unique()"
   ]
  },
  {
   "cell_type": "code",
   "execution_count": 360,
   "id": "bfaafcbb",
   "metadata": {},
   "outputs": [],
   "source": [
    "df[\"prev_owner\"] = df[\"prev_owner\"].str.split(\" \", expand=True)[0].astype(\"float\")"
   ]
  },
  {
   "cell_type": "code",
   "execution_count": 361,
   "id": "2f2c68d4",
   "metadata": {},
   "outputs": [
    {
     "data": {
      "text/plain": [
       "array([ 2., nan,  1.,  3.,  4.])"
      ]
     },
     "execution_count": 361,
     "metadata": {},
     "output_type": "execute_result"
    }
   ],
   "source": [
    "df[\"prev_owner\"].unique()"
   ]
  },
  {
   "cell_type": "code",
   "execution_count": 362,
   "id": "efa168b7",
   "metadata": {},
   "outputs": [
    {
     "data": {
      "text/plain": [
       "dtype('float64')"
      ]
     },
     "execution_count": 362,
     "metadata": {},
     "output_type": "execute_result"
    }
   ],
   "source": [
    "df[\"prev_owner\"].dtypes"
   ]
  },
  {
   "cell_type": "code",
   "execution_count": 363,
   "id": "7c10a7b5",
   "metadata": {},
   "outputs": [
    {
     "data": {
      "text/plain": [
       "1.0    8294\n",
       "NaN    6828\n",
       "2.0     778\n",
       "3.0      17\n",
       "4.0       2\n",
       "Name: prev_owner, dtype: int64"
      ]
     },
     "execution_count": 363,
     "metadata": {},
     "output_type": "execute_result"
    }
   ],
   "source": [
    "df[\"prev_owner\"].value_counts(dropna=False)"
   ]
  },
  {
   "cell_type": "code",
   "execution_count": 364,
   "id": "aeba8066",
   "metadata": {},
   "outputs": [
    {
     "data": {
      "text/html": [
       "<div>\n",
       "<style scoped>\n",
       "    .dataframe tbody tr th:only-of-type {\n",
       "        vertical-align: middle;\n",
       "    }\n",
       "\n",
       "    .dataframe tbody tr th {\n",
       "        vertical-align: top;\n",
       "    }\n",
       "\n",
       "    .dataframe thead th {\n",
       "        text-align: right;\n",
       "    }\n",
       "</style>\n",
       "<table border=\"1\" class=\"dataframe\">\n",
       "  <thead>\n",
       "    <tr style=\"text-align: right;\">\n",
       "      <th></th>\n",
       "      <th>url</th>\n",
       "      <th>make_model</th>\n",
       "      <th>short_description</th>\n",
       "      <th>body_type</th>\n",
       "      <th>price</th>\n",
       "      <th>vat</th>\n",
       "      <th>km</th>\n",
       "      <th>registration</th>\n",
       "      <th>prev_owner</th>\n",
       "      <th>kW</th>\n",
       "      <th>hp</th>\n",
       "      <th>Type</th>\n",
       "      <th>Previous Owners</th>\n",
       "      <th>Next Inspection</th>\n",
       "      <th>Inspection new</th>\n",
       "      <th>Warranty</th>\n",
       "      <th>Full Service</th>\n",
       "      <th>Non-smoking Vehicle</th>\n",
       "      <th>null</th>\n",
       "      <th>make</th>\n",
       "      <th>model</th>\n",
       "      <th>Offer Number</th>\n",
       "      <th>first_registration</th>\n",
       "      <th>Body Color</th>\n",
       "      <th>Paint Type</th>\n",
       "      <th>Body Color Original</th>\n",
       "      <th>Upholstery</th>\n",
       "      <th>Body</th>\n",
       "      <th>Nr. of Doors</th>\n",
       "      <th>Nr. of Seats</th>\n",
       "      <th>Model Code</th>\n",
       "      <th>Gearing Type</th>\n",
       "      <th>Displacement</th>\n",
       "      <th>Cylinders</th>\n",
       "      <th>Weight</th>\n",
       "      <th>Drive chain</th>\n",
       "      <th>Fuel</th>\n",
       "      <th>Consumption</th>\n",
       "      <th>CO2 Emission</th>\n",
       "      <th>Emission Class</th>\n",
       "      <th>\\nComfort &amp; Convenience\\n</th>\n",
       "      <th>\\nEntertainment &amp; Media\\n</th>\n",
       "      <th>\\nExtras\\n</th>\n",
       "      <th>\\nSafety &amp; Security\\n</th>\n",
       "      <th>description</th>\n",
       "      <th>Emission Label</th>\n",
       "      <th>Gears</th>\n",
       "      <th>Country version</th>\n",
       "      <th>Electricity consumption</th>\n",
       "      <th>Last Service Date</th>\n",
       "      <th>Other Fuel Types</th>\n",
       "      <th>Availability</th>\n",
       "      <th>Last Timing Belt Service Date</th>\n",
       "      <th>Available from</th>\n",
       "      <th>age</th>\n",
       "    </tr>\n",
       "  </thead>\n",
       "  <tbody>\n",
       "  </tbody>\n",
       "</table>\n",
       "</div>"
      ],
      "text/plain": [
       "Empty DataFrame\n",
       "Columns: [url, make_model, short_description, body_type, price, vat, km, registration, prev_owner, kW, hp, Type, Previous Owners, Next Inspection, Inspection new, Warranty, Full Service, Non-smoking Vehicle, null, make, model, Offer Number, first_registration, Body Color, Paint Type, Body Color Original, Upholstery, Body, Nr. of Doors, Nr. of Seats, Model Code, Gearing Type, Displacement, Cylinders, Weight, Drive chain, Fuel, Consumption, CO2 Emission, Emission Class, \n",
       "Comfort & Convenience\n",
       ", \n",
       "Entertainment & Media\n",
       ", \n",
       "Extras\n",
       ", \n",
       "Safety & Security\n",
       ", description, Emission Label, Gears, Country version, Electricity consumption, Last Service Date, Other Fuel Types, Availability, Last Timing Belt Service Date, Available from, age]\n",
       "Index: []"
      ]
     },
     "execution_count": 364,
     "metadata": {},
     "output_type": "execute_result"
    }
   ],
   "source": [
    "df[df[\"prev_owner\"].notnull() & df[\"Previous Owners\"].isnull()]"
   ]
  },
  {
   "cell_type": "markdown",
   "id": "526969eb",
   "metadata": {},
   "source": [
    "##### 12- Previous Owners column"
   ]
  },
  {
   "cell_type": "code",
   "execution_count": 365,
   "id": "a2376b9d",
   "metadata": {},
   "outputs": [
    {
     "data": {
      "text/plain": [
       "0                                                    \\n2\\n\n",
       "1                                                      NaN\n",
       "2                                                    \\n1\\n\n",
       "3                                                    \\n1\\n\n",
       "4                                                    \\n1\\n\n",
       "                               ...                        \n",
       "15914                                                  NaN\n",
       "15915    [\\n1\\n, \\n, 7.4 l/100 km (comb), \\n, 9.2 l/100...\n",
       "15916                     [\\n1\\n, \\n139 g CO2/km (comb)\\n]\n",
       "15917                                                  NaN\n",
       "15918                                                \\n1\\n\n",
       "Name: Previous Owners, Length: 15919, dtype: object"
      ]
     },
     "execution_count": 365,
     "metadata": {},
     "output_type": "execute_result"
    }
   ],
   "source": [
    "df[\"Previous Owners\"]"
   ]
  },
  {
   "cell_type": "code",
   "execution_count": 366,
   "id": "2c67a0a3",
   "metadata": {},
   "outputs": [
    {
     "data": {
      "text/plain": [
       "6640"
      ]
     },
     "execution_count": 366,
     "metadata": {},
     "output_type": "execute_result"
    }
   ],
   "source": [
    "df[\"Previous Owners\"].isnull().sum()"
   ]
  },
  {
   "cell_type": "code",
   "execution_count": 367,
   "id": "9d1e8c42",
   "metadata": {},
   "outputs": [],
   "source": [
    "df[\"Previous Owners\"] = df[\"Previous Owners\"].apply(lambda x : x[0] if type(x) == list else x).str.split(\"\\n\", expand=True)[1]"
   ]
  },
  {
   "cell_type": "code",
   "execution_count": 368,
   "id": "9e22c1e0",
   "metadata": {},
   "outputs": [],
   "source": [
    "df[\"Previous Owners\"] = df[\"Previous Owners\"].astype(\"float\")"
   ]
  },
  {
   "cell_type": "code",
   "execution_count": 369,
   "id": "a4d45aed",
   "metadata": {},
   "outputs": [
    {
     "data": {
      "text/plain": [
       "1.0    8294\n",
       "NaN    6640\n",
       "2.0     778\n",
       "0.0     188\n",
       "3.0      17\n",
       "4.0       2\n",
       "Name: Previous Owners, dtype: int64"
      ]
     },
     "execution_count": 369,
     "metadata": {},
     "output_type": "execute_result"
    }
   ],
   "source": [
    "df[\"Previous Owners\"].value_counts(dropna=False)"
   ]
  },
  {
   "cell_type": "code",
   "execution_count": 370,
   "id": "6861e2f0",
   "metadata": {},
   "outputs": [],
   "source": [
    "df.rename(columns={\"Previos Owners\":\"previous_owners\"}, inplace=True)"
   ]
  },
  {
   "cell_type": "markdown",
   "id": "5873e186",
   "metadata": {},
   "source": [
    "##### 9- kW column"
   ]
  },
  {
   "cell_type": "code",
   "execution_count": 371,
   "id": "0ae3f3b1",
   "metadata": {},
   "outputs": [
    {
     "data": {
      "text/plain": [
       "0       NaN\n",
       "1       NaN\n",
       "2       NaN\n",
       "3       NaN\n",
       "4       NaN\n",
       "         ..\n",
       "15914   NaN\n",
       "15915   NaN\n",
       "15916   NaN\n",
       "15917   NaN\n",
       "15918   NaN\n",
       "Name: kW, Length: 15919, dtype: float64"
      ]
     },
     "execution_count": 371,
     "metadata": {},
     "output_type": "execute_result"
    }
   ],
   "source": [
    "df[\"kW\"]"
   ]
  },
  {
   "cell_type": "code",
   "execution_count": 372,
   "id": "76569bbd",
   "metadata": {},
   "outputs": [
    {
     "data": {
      "text/plain": [
       "True    15919\n",
       "Name: kW, dtype: int64"
      ]
     },
     "execution_count": 372,
     "metadata": {},
     "output_type": "execute_result"
    }
   ],
   "source": [
    "df[\"kW\"].isnull().value_counts()"
   ]
  },
  {
   "cell_type": "code",
   "execution_count": null,
   "id": "047f91db",
   "metadata": {},
   "outputs": [],
   "source": []
  },
  {
   "cell_type": "markdown",
   "id": "81ae6b6d",
   "metadata": {},
   "source": [
    "##### 10- hp column"
   ]
  },
  {
   "cell_type": "code",
   "execution_count": 373,
   "id": "03b32a8c",
   "metadata": {},
   "outputs": [
    {
     "data": {
      "text/plain": [
       "0         66 kW\n",
       "1        141 kW\n",
       "2         85 kW\n",
       "3         66 kW\n",
       "4         66 kW\n",
       "          ...  \n",
       "15914    147 kW\n",
       "15915    165 kW\n",
       "15916    146 kW\n",
       "15917    147 kW\n",
       "15918    165 kW\n",
       "Name: hp, Length: 15919, dtype: object"
      ]
     },
     "execution_count": 373,
     "metadata": {},
     "output_type": "execute_result"
    }
   ],
   "source": [
    "df[\"hp\"]"
   ]
  },
  {
   "cell_type": "code",
   "execution_count": 374,
   "id": "fa6584fa",
   "metadata": {},
   "outputs": [
    {
     "data": {
      "text/plain": [
       "85 kW     2542\n",
       "66 kW     2122\n",
       "81 kW     1402\n",
       "100 kW    1308\n",
       "110 kW    1112\n",
       "70 kW      888\n",
       "125 kW     707\n",
       "51 kW      695\n",
       "55 kW      569\n",
       "118 kW     516\n",
       "92 kW      466\n",
       "121 kW     392\n",
       "147 kW     380\n",
       "77 kW      345\n",
       "56 kW      286\n",
       "54 kW      276\n",
       "103 kW     253\n",
       "87 kW      232\n",
       "165 kW     194\n",
       "88 kW      177\n",
       "60 kW      160\n",
       "162 kW      98\n",
       "- kW        88\n",
       "74 kW       81\n",
       "96 kW       72\n",
       "71 kW       59\n",
       "101 kW      47\n",
       "67 kW       40\n",
       "154 kW      39\n",
       "122 kW      35\n",
       "119 kW      30\n",
       "164 kW      27\n",
       "135 kW      24\n",
       "82 kW       22\n",
       "52 kW       22\n",
       "78 kW       20\n",
       "1 kW        20\n",
       "294 kW      18\n",
       "146 kW      18\n",
       "141 kW      16\n",
       "57 kW       10\n",
       "104 kW       8\n",
       "120 kW       8\n",
       "191 kW       7\n",
       "112 kW       7\n",
       "155 kW       6\n",
       "117 kW       6\n",
       "184 kW       5\n",
       "90 kW        4\n",
       "76 kW        4\n",
       "65 kW        4\n",
       "149 kW       3\n",
       "80 kW        3\n",
       "168 kW       3\n",
       "98 kW        3\n",
       "93 kW        3\n",
       "228 kW       2\n",
       "270 kW       2\n",
       "53 kW        2\n",
       "140 kW       2\n",
       "86 kW        2\n",
       "167 kW       2\n",
       "127 kW       2\n",
       "89 kW        2\n",
       "143 kW       2\n",
       "63 kW        2\n",
       "40 kW        2\n",
       "150 kW       2\n",
       "163 kW       1\n",
       "115 kW       1\n",
       "132 kW       1\n",
       "75 kW        1\n",
       "4 kW         1\n",
       "137 kW       1\n",
       "123 kW       1\n",
       "133 kW       1\n",
       "84 kW        1\n",
       "195 kW       1\n",
       "44 kW        1\n",
       "239 kW       1\n",
       "9 kW         1\n",
       "Name: hp, dtype: int64"
      ]
     },
     "execution_count": 374,
     "metadata": {},
     "output_type": "execute_result"
    }
   ],
   "source": [
    "df[\"hp\"].value_counts(dropna=False)"
   ]
  },
  {
   "cell_type": "code",
   "execution_count": 375,
   "id": "a4562c03",
   "metadata": {},
   "outputs": [],
   "source": [
    "df[\"hp\"].replace(\"- kW\", np.nan, inplace=True)"
   ]
  },
  {
   "cell_type": "code",
   "execution_count": 376,
   "id": "684a40a4",
   "metadata": {},
   "outputs": [],
   "source": [
    "df[\"hp\"] = df[\"hp\"].str.split(\" \",expand=True)[0].astype(\"float\")"
   ]
  },
  {
   "cell_type": "code",
   "execution_count": 377,
   "id": "1ddcf3ad",
   "metadata": {},
   "outputs": [
    {
     "data": {
      "text/plain": [
       "85.0     2542\n",
       "66.0     2122\n",
       "81.0     1402\n",
       "100.0    1308\n",
       "110.0    1112\n",
       "70.0      888\n",
       "125.0     707\n",
       "51.0      695\n",
       "55.0      569\n",
       "118.0     516\n",
       "92.0      466\n",
       "121.0     392\n",
       "147.0     380\n",
       "77.0      345\n",
       "56.0      286\n",
       "54.0      276\n",
       "103.0     253\n",
       "87.0      232\n",
       "165.0     194\n",
       "88.0      177\n",
       "60.0      160\n",
       "162.0      98\n",
       "NaN        88\n",
       "74.0       81\n",
       "96.0       72\n",
       "71.0       59\n",
       "101.0      47\n",
       "67.0       40\n",
       "154.0      39\n",
       "122.0      35\n",
       "119.0      30\n",
       "164.0      27\n",
       "135.0      24\n",
       "82.0       22\n",
       "52.0       22\n",
       "78.0       20\n",
       "1.0        20\n",
       "294.0      18\n",
       "146.0      18\n",
       "141.0      16\n",
       "57.0       10\n",
       "104.0       8\n",
       "120.0       8\n",
       "191.0       7\n",
       "112.0       7\n",
       "155.0       6\n",
       "117.0       6\n",
       "184.0       5\n",
       "90.0        4\n",
       "76.0        4\n",
       "65.0        4\n",
       "149.0       3\n",
       "80.0        3\n",
       "168.0       3\n",
       "98.0        3\n",
       "93.0        3\n",
       "228.0       2\n",
       "270.0       2\n",
       "53.0        2\n",
       "140.0       2\n",
       "86.0        2\n",
       "167.0       2\n",
       "127.0       2\n",
       "89.0        2\n",
       "143.0       2\n",
       "63.0        2\n",
       "40.0        2\n",
       "150.0       2\n",
       "163.0       1\n",
       "115.0       1\n",
       "132.0       1\n",
       "75.0        1\n",
       "4.0         1\n",
       "137.0       1\n",
       "123.0       1\n",
       "133.0       1\n",
       "84.0        1\n",
       "195.0       1\n",
       "44.0        1\n",
       "239.0       1\n",
       "9.0         1\n",
       "Name: hp, dtype: int64"
      ]
     },
     "execution_count": 377,
     "metadata": {},
     "output_type": "execute_result"
    }
   ],
   "source": [
    "df[\"hp\"].value_counts(dropna=False)"
   ]
  },
  {
   "cell_type": "code",
   "execution_count": 378,
   "id": "a6b71628",
   "metadata": {},
   "outputs": [],
   "source": [
    "df.rename(columns={\"hp\":\"hp_kw\"}, inplace=True)"
   ]
  },
  {
   "cell_type": "markdown",
   "id": "8afc364b",
   "metadata": {},
   "source": [
    "##### 11- Type"
   ]
  },
  {
   "cell_type": "code",
   "execution_count": 379,
   "id": "7b412448",
   "metadata": {},
   "outputs": [
    {
     "data": {
      "text/plain": [
       "0                  [, Used, , Diesel (Particulate Filter)]\n",
       "1                                     [, Used, , Gasoline]\n",
       "2                  [, Used, , Diesel (Particulate Filter)]\n",
       "3                  [, Used, , Diesel (Particulate Filter)]\n",
       "4                  [, Used, , Diesel (Particulate Filter)]\n",
       "                               ...                        \n",
       "15914               [, New, , Diesel (Particulate Filter)]\n",
       "15915    [, Used, , Super 95 / Super Plus 98 (Particula...\n",
       "15916                         [, Pre-registered, , Diesel]\n",
       "15917                         [, Pre-registered, , Diesel]\n",
       "15918                        [, Demonstration, , Super 95]\n",
       "Name: Type, Length: 15919, dtype: object"
      ]
     },
     "execution_count": 379,
     "metadata": {},
     "output_type": "execute_result"
    }
   ],
   "source": [
    "df[\"Type\"]"
   ]
  },
  {
   "cell_type": "code",
   "execution_count": 380,
   "id": "bdd65a37",
   "metadata": {},
   "outputs": [
    {
     "data": {
      "text/plain": [
       "0                  Used\n",
       "1                  Used\n",
       "2                  Used\n",
       "3                  Used\n",
       "4                  Used\n",
       "              ...      \n",
       "15914               New\n",
       "15915              Used\n",
       "15916    Pre-registered\n",
       "15917    Pre-registered\n",
       "15918     Demonstration\n",
       "Name: Type, Length: 15919, dtype: object"
      ]
     },
     "execution_count": 380,
     "metadata": {},
     "output_type": "execute_result"
    }
   ],
   "source": [
    "df[\"Type\"].apply(lambda x : x[1] if type(x) == list else x)"
   ]
  },
  {
   "cell_type": "code",
   "execution_count": 381,
   "id": "9504c0f9",
   "metadata": {},
   "outputs": [],
   "source": [
    "df[\"Type\"] = df[\"Type\"].apply(lambda x : x[1] if type(x) == list else x)"
   ]
  },
  {
   "cell_type": "code",
   "execution_count": 382,
   "id": "f1439a7d",
   "metadata": {},
   "outputs": [
    {
     "data": {
      "text/plain": [
       "Used              11096\n",
       "New                1650\n",
       "Pre-registered     1364\n",
       "Employee's car     1011\n",
       "Demonstration       796\n",
       "NaN                   2\n",
       "Name: Type, dtype: int64"
      ]
     },
     "execution_count": 382,
     "metadata": {},
     "output_type": "execute_result"
    }
   ],
   "source": [
    "df[\"Type\"].value_counts(dropna=False)"
   ]
  },
  {
   "cell_type": "markdown",
   "id": "5ee1a336",
   "metadata": {},
   "source": [
    "##### 13- Next Inspection column"
   ]
  },
  {
   "cell_type": "code",
   "execution_count": 383,
   "id": "36d1f6c9",
   "metadata": {},
   "outputs": [
    {
     "data": {
      "text/plain": [
       "0         [\\n06/2021\\n, \\n99 g CO2/km (comb)\\n]\n",
       "1                                           NaN\n",
       "2                                           NaN\n",
       "3                                           NaN\n",
       "4                                           NaN\n",
       "                          ...                  \n",
       "15914                                       NaN\n",
       "15915    [\\n01/2022\\n, \\n168 g CO2/km (comb)\\n]\n",
       "15916                                       NaN\n",
       "15917                                       NaN\n",
       "15918                                       NaN\n",
       "Name: Next Inspection, Length: 15919, dtype: object"
      ]
     },
     "execution_count": 383,
     "metadata": {},
     "output_type": "execute_result"
    }
   ],
   "source": [
    "df[\"Next Inspection\"]"
   ]
  },
  {
   "cell_type": "code",
   "execution_count": 384,
   "id": "92d78be1",
   "metadata": {},
   "outputs": [
    {
     "data": {
      "text/plain": [
       "True     12384\n",
       "False     3535\n",
       "Name: Next Inspection, dtype: int64"
      ]
     },
     "execution_count": 384,
     "metadata": {},
     "output_type": "execute_result"
    }
   ],
   "source": [
    "df[\"Next Inspection\"].isnull().value_counts()"
   ]
  },
  {
   "cell_type": "code",
   "execution_count": 385,
   "id": "f6415827",
   "metadata": {},
   "outputs": [
    {
     "data": {
      "text/plain": [
       "0        06/2021\n",
       "1            NaN\n",
       "2            NaN\n",
       "3            NaN\n",
       "4            NaN\n",
       "          ...   \n",
       "15914        NaN\n",
       "15915    01/2022\n",
       "15916        NaN\n",
       "15917        NaN\n",
       "15918        NaN\n",
       "Name: 1, Length: 15919, dtype: object"
      ]
     },
     "execution_count": 385,
     "metadata": {},
     "output_type": "execute_result"
    }
   ],
   "source": [
    "df[\"Next Inspection\"].apply(lambda x : x[0] if type(x)== list else x).str.split(\"\\n\", expand=True)[1]"
   ]
  },
  {
   "cell_type": "code",
   "execution_count": 386,
   "id": "fb627ca1",
   "metadata": {},
   "outputs": [],
   "source": [
    "df[\"Next Inspection\"] = df[\"Next Inspection\"].apply(lambda x : x[0] if type(x)== list else x).str.split(\"\\n\", expand=True)[1]"
   ]
  },
  {
   "cell_type": "code",
   "execution_count": 387,
   "id": "8f95449f",
   "metadata": {},
   "outputs": [],
   "source": [
    "df[\"Next Inspection\"] = pd.to_datetime(df[\"Next Inspection\"])"
   ]
  },
  {
   "cell_type": "code",
   "execution_count": 388,
   "id": "56a8823d",
   "metadata": {},
   "outputs": [],
   "source": [
    "df.rename(columns={\"Next Inspection\" : \"next_inspection\"}, inplace=True)"
   ]
  },
  {
   "cell_type": "code",
   "execution_count": 389,
   "id": "21b0ea5f",
   "metadata": {},
   "outputs": [
    {
     "data": {
      "text/plain": [
       "0       2021-06-01\n",
       "1              NaT\n",
       "2              NaT\n",
       "3              NaT\n",
       "4              NaT\n",
       "           ...    \n",
       "15914          NaT\n",
       "15915   2022-01-01\n",
       "15916          NaT\n",
       "15917          NaT\n",
       "15918          NaT\n",
       "Name: next_inspection, Length: 15919, dtype: datetime64[ns]"
      ]
     },
     "execution_count": 389,
     "metadata": {},
     "output_type": "execute_result"
    }
   ],
   "source": [
    "df[\"next_inspection\"]"
   ]
  },
  {
   "cell_type": "code",
   "execution_count": 390,
   "id": "37e8017c",
   "metadata": {},
   "outputs": [
    {
     "data": {
      "text/plain": [
       "NaT           0.777938\n",
       "2021-06-01    0.029587\n",
       "2021-03-01    0.013192\n",
       "2021-05-01    0.011307\n",
       "2021-04-01    0.010742\n",
       "2021-02-01    0.010553\n",
       "2022-04-01    0.009046\n",
       "2022-05-01    0.008983\n",
       "2021-01-01    0.008292\n",
       "2022-03-01    0.007601\n",
       "2020-03-01    0.007098\n",
       "2022-02-01    0.007036\n",
       "2022-01-01    0.006722\n",
       "2020-02-01    0.004649\n",
       "2020-04-01    0.004272\n",
       "2021-07-01    0.004272\n",
       "2021-08-01    0.004020\n",
       "2020-01-01    0.003958\n",
       "2020-05-01    0.003895\n",
       "2020-11-01    0.003643\n",
       "2020-06-01    0.003643\n",
       "2019-04-01    0.003141\n",
       "2020-12-01    0.003141\n",
       "2019-05-01    0.003141\n",
       "2021-11-01    0.003078\n",
       "2020-07-01    0.003015\n",
       "2021-09-01    0.002890\n",
       "2019-07-01    0.002701\n",
       "2019-09-01    0.002576\n",
       "2019-06-01    0.002513\n",
       "2022-06-01    0.002513\n",
       "2020-10-01    0.002387\n",
       "2019-03-01    0.002261\n",
       "2020-08-01    0.002199\n",
       "2019-11-01    0.002199\n",
       "2019-08-01    0.002010\n",
       "2019-10-01    0.002010\n",
       "2019-02-01    0.001947\n",
       "2019-01-01    0.001759\n",
       "2020-09-01    0.001696\n",
       "2021-12-01    0.001382\n",
       "2023-01-01    0.001256\n",
       "2021-10-01    0.001256\n",
       "2019-12-01    0.001256\n",
       "2023-02-01    0.000754\n",
       "2018-10-01    0.000628\n",
       "2023-03-01    0.000628\n",
       "2022-07-01    0.000565\n",
       "2022-08-01    0.000503\n",
       "2018-12-01    0.000377\n",
       "2001-01-01    0.000314\n",
       "2018-07-01    0.000314\n",
       "2018-11-01    0.000251\n",
       "2017-04-01    0.000251\n",
       "2017-03-01    0.000251\n",
       "2016-06-01    0.000251\n",
       "2018-03-01    0.000188\n",
       "2023-04-01    0.000188\n",
       "2018-08-01    0.000188\n",
       "2023-05-01    0.000126\n",
       "2018-05-01    0.000126\n",
       "2017-07-01    0.000126\n",
       "2018-06-01    0.000126\n",
       "2018-09-01    0.000126\n",
       "2022-10-01    0.000126\n",
       "2024-03-01    0.000063\n",
       "2022-12-01    0.000063\n",
       "1921-01-01    0.000063\n",
       "2017-12-01    0.000063\n",
       "1999-01-01    0.000063\n",
       "2017-05-01    0.000063\n",
       "2017-02-01    0.000063\n",
       "2016-05-01    0.000063\n",
       "2014-05-01    0.000063\n",
       "2016-04-01    0.000063\n",
       "1955-01-01    0.000063\n",
       "2018-01-01    0.000063\n",
       "2022-11-01    0.000063\n",
       "Name: next_inspection, dtype: float64"
      ]
     },
     "execution_count": 390,
     "metadata": {},
     "output_type": "execute_result"
    }
   ],
   "source": [
    "df[\"next_inspection\"].value_counts(dropna=False, normalize=True)"
   ]
  },
  {
   "cell_type": "markdown",
   "id": "286ccd17",
   "metadata": {},
   "source": [
    "##### 14- Inspection new column"
   ]
  },
  {
   "cell_type": "code",
   "execution_count": 391,
   "id": "865a4c53",
   "metadata": {},
   "outputs": [
    {
     "data": {
      "text/plain": [
       "0                     [\\nYes\\n, \\nEuro 6\\n]\n",
       "1                                       NaN\n",
       "2                                       NaN\n",
       "3                                       NaN\n",
       "4        [\\nYes\\n, \\n109 g CO2/km (comb)\\n]\n",
       "                        ...                \n",
       "15914                                   NaN\n",
       "15915                                   NaN\n",
       "15916           [\\nYes\\n, \\nEuro 6d-TEMP\\n]\n",
       "15917                                   NaN\n",
       "15918    [\\nYes\\n, \\n153 g CO2/km (comb)\\n]\n",
       "Name: Inspection new, Length: 15919, dtype: object"
      ]
     },
     "execution_count": 391,
     "metadata": {},
     "output_type": "execute_result"
    }
   ],
   "source": [
    "df[\"Inspection new\"]"
   ]
  },
  {
   "cell_type": "code",
   "execution_count": 392,
   "id": "cb24a565",
   "metadata": {},
   "outputs": [
    {
     "data": {
      "text/plain": [
       "0        Yes\n",
       "1        NaN\n",
       "2        NaN\n",
       "3        NaN\n",
       "4        Yes\n",
       "        ... \n",
       "15914    NaN\n",
       "15915    NaN\n",
       "15916    Yes\n",
       "15917    NaN\n",
       "15918    Yes\n",
       "Name: 1, Length: 15919, dtype: object"
      ]
     },
     "execution_count": 392,
     "metadata": {},
     "output_type": "execute_result"
    }
   ],
   "source": [
    "df[\"Inspection new\"].apply(lambda x : x[0] if type(x) == list else x).str.split(\"\\n\",expand=True)[1]"
   ]
  },
  {
   "cell_type": "code",
   "execution_count": 393,
   "id": "eb6bb499",
   "metadata": {},
   "outputs": [],
   "source": [
    "df[\"Inspection new\"] = df[\"Inspection new\"].apply(lambda x : x[0] if type(x) == list else x).str.split(\"\\n\",expand=True)[1]"
   ]
  },
  {
   "cell_type": "code",
   "execution_count": 394,
   "id": "be794c61",
   "metadata": {},
   "outputs": [
    {
     "data": {
      "text/plain": [
       "array(['Yes', nan], dtype=object)"
      ]
     },
     "execution_count": 394,
     "metadata": {},
     "output_type": "execute_result"
    }
   ],
   "source": [
    "df[\"Inspection new\"].unique()"
   ]
  },
  {
   "cell_type": "code",
   "execution_count": 395,
   "id": "8ab6481a",
   "metadata": {},
   "outputs": [],
   "source": [
    "df.rename(columns={\"Inspection new\": \"inspection_new\"}, inplace=True)"
   ]
  },
  {
   "cell_type": "code",
   "execution_count": 396,
   "id": "9f5e121f",
   "metadata": {},
   "outputs": [
    {
     "data": {
      "text/plain": [
       "NaN    0.753\n",
       "Yes    0.247\n",
       "Name: inspection_new, dtype: float64"
      ]
     },
     "execution_count": 396,
     "metadata": {},
     "output_type": "execute_result"
    }
   ],
   "source": [
    "df[\"inspection_new\"].value_counts(dropna=False, normalize=True)"
   ]
  },
  {
   "cell_type": "markdown",
   "id": "32213754",
   "metadata": {},
   "source": [
    "##### 15- Warranty column"
   ]
  },
  {
   "cell_type": "code",
   "execution_count": 397,
   "id": "c07448c0",
   "metadata": {},
   "outputs": [
    {
     "data": {
      "text/plain": [
       "nan                                                                                                                5420\n",
       "['\\n', '\\n', '\\nEuro 6\\n']                                                                                         1868\n",
       "\\n12 months\\n                                                                                                      1177\n",
       "\\n                                                                                                                  979\n",
       "\\n24 months\\n                                                                                                       566\n",
       "                                                                                                                   ... \n",
       "['\\n72 months\\n', '\\n125 g CO2/km (comb)\\n']                                                                          1\n",
       "['\\n60 months\\n', '\\n14 g CO2/km (comb)\\n']                                                                           1\n",
       "['\\n24 months\\n', '\\n121 g CO2/km (comb)\\n']                                                                          1\n",
       "['\\n12 months\\n', '\\nEuro 6d\\n']                                                                                      1\n",
       "['\\n36 months\\n', '\\n', '7.4 l/100 km (comb)', '\\n', '9.6 l/100 km (city)', '\\n', '6 l/100 km (country)', '\\n']       1\n",
       "Name: Warranty, Length: 516, dtype: int64"
      ]
     },
     "execution_count": 397,
     "metadata": {},
     "output_type": "execute_result"
    }
   ],
   "source": [
    "df[\"Warranty\"].astype(\"str\").value_counts()"
   ]
  },
  {
   "cell_type": "code",
   "execution_count": 398,
   "id": "0d7b8558",
   "metadata": {},
   "outputs": [
    {
     "data": {
      "text/plain": [
       "0                   \\n\n",
       "1                  NaN\n",
       "2                   \\n\n",
       "3                  NaN\n",
       "4                   \\n\n",
       "             ...      \n",
       "15914    \\n24 months\\n\n",
       "15915               \\n\n",
       "15916               \\n\n",
       "15917               \\n\n",
       "15918              NaN\n",
       "Name: Warranty, Length: 15919, dtype: object"
      ]
     },
     "execution_count": 398,
     "metadata": {},
     "output_type": "execute_result"
    }
   ],
   "source": [
    "df[\"Warranty\"].apply(lambda x: x[0] if type(x)==list else x)"
   ]
  },
  {
   "cell_type": "code",
   "execution_count": 399,
   "id": "a85b2c47",
   "metadata": {},
   "outputs": [],
   "source": [
    "df[\"Warranty\"] = df[\"Warranty\"].apply(lambda x: x[0] if type(x)==list else x)"
   ]
  },
  {
   "cell_type": "code",
   "execution_count": 400,
   "id": "da266afc",
   "metadata": {},
   "outputs": [
    {
     "data": {
      "text/html": [
       "<div>\n",
       "<style scoped>\n",
       "    .dataframe tbody tr th:only-of-type {\n",
       "        vertical-align: middle;\n",
       "    }\n",
       "\n",
       "    .dataframe tbody tr th {\n",
       "        vertical-align: top;\n",
       "    }\n",
       "\n",
       "    .dataframe thead th {\n",
       "        text-align: right;\n",
       "    }\n",
       "</style>\n",
       "<table border=\"1\" class=\"dataframe\">\n",
       "  <thead>\n",
       "    <tr style=\"text-align: right;\">\n",
       "      <th></th>\n",
       "      <th>0</th>\n",
       "    </tr>\n",
       "  </thead>\n",
       "  <tbody>\n",
       "    <tr>\n",
       "      <th>0</th>\n",
       "      <td>NaN</td>\n",
       "    </tr>\n",
       "    <tr>\n",
       "      <th>1</th>\n",
       "      <td>NaN</td>\n",
       "    </tr>\n",
       "    <tr>\n",
       "      <th>2</th>\n",
       "      <td>NaN</td>\n",
       "    </tr>\n",
       "    <tr>\n",
       "      <th>3</th>\n",
       "      <td>NaN</td>\n",
       "    </tr>\n",
       "    <tr>\n",
       "      <th>4</th>\n",
       "      <td>NaN</td>\n",
       "    </tr>\n",
       "    <tr>\n",
       "      <th>...</th>\n",
       "      <td>...</td>\n",
       "    </tr>\n",
       "    <tr>\n",
       "      <th>15914</th>\n",
       "      <td>24</td>\n",
       "    </tr>\n",
       "    <tr>\n",
       "      <th>15915</th>\n",
       "      <td>NaN</td>\n",
       "    </tr>\n",
       "    <tr>\n",
       "      <th>15916</th>\n",
       "      <td>NaN</td>\n",
       "    </tr>\n",
       "    <tr>\n",
       "      <th>15917</th>\n",
       "      <td>NaN</td>\n",
       "    </tr>\n",
       "    <tr>\n",
       "      <th>15918</th>\n",
       "      <td>NaN</td>\n",
       "    </tr>\n",
       "  </tbody>\n",
       "</table>\n",
       "<p>15919 rows × 1 columns</p>\n",
       "</div>"
      ],
      "text/plain": [
       "         0\n",
       "0      NaN\n",
       "1      NaN\n",
       "2      NaN\n",
       "3      NaN\n",
       "4      NaN\n",
       "...    ...\n",
       "15914   24\n",
       "15915  NaN\n",
       "15916  NaN\n",
       "15917  NaN\n",
       "15918  NaN\n",
       "\n",
       "[15919 rows x 1 columns]"
      ]
     },
     "execution_count": 400,
     "metadata": {},
     "output_type": "execute_result"
    }
   ],
   "source": [
    "df[\"Warranty\"].str.strip(\"\\n\").str.extract(\"(\\d+)\")"
   ]
  },
  {
   "cell_type": "code",
   "execution_count": 401,
   "id": "86a1e86a",
   "metadata": {},
   "outputs": [],
   "source": [
    "df[\"Warranty\"] = df[\"Warranty\"].str.strip(\"\\n\").str.extract(\"(\\d+)\").astype(\"float\")"
   ]
  },
  {
   "cell_type": "code",
   "execution_count": 402,
   "id": "a9cfbf42",
   "metadata": {},
   "outputs": [
    {
     "data": {
      "text/plain": [
       "NaN     0.695144\n",
       "12.0    0.162950\n",
       "24.0    0.070231\n",
       "60.0    0.025190\n",
       "36.0    0.017526\n",
       "48.0    0.009360\n",
       "6.0     0.007852\n",
       "72.0    0.003706\n",
       "3.0     0.002073\n",
       "23.0    0.000691\n",
       "18.0    0.000628\n",
       "20.0    0.000440\n",
       "25.0    0.000377\n",
       "2.0     0.000314\n",
       "50.0    0.000251\n",
       "26.0    0.000251\n",
       "16.0    0.000251\n",
       "4.0     0.000188\n",
       "1.0     0.000188\n",
       "19.0    0.000188\n",
       "34.0    0.000188\n",
       "13.0    0.000188\n",
       "28.0    0.000126\n",
       "22.0    0.000126\n",
       "14.0    0.000126\n",
       "11.0    0.000126\n",
       "46.0    0.000126\n",
       "21.0    0.000126\n",
       "9.0     0.000126\n",
       "17.0    0.000126\n",
       "45.0    0.000126\n",
       "33.0    0.000063\n",
       "40.0    0.000063\n",
       "65.0    0.000063\n",
       "10.0    0.000063\n",
       "15.0    0.000063\n",
       "7.0     0.000063\n",
       "8.0     0.000063\n",
       "56.0    0.000063\n",
       "49.0    0.000063\n",
       "47.0    0.000063\n",
       "30.0    0.000063\n",
       "Name: Warranty, dtype: float64"
      ]
     },
     "execution_count": 402,
     "metadata": {},
     "output_type": "execute_result"
    }
   ],
   "source": [
    "df[\"Warranty\"].value_counts(dropna=False, normalize=True)"
   ]
  },
  {
   "cell_type": "markdown",
   "id": "4fb15d58",
   "metadata": {},
   "source": [
    "##### 16- Full Service column"
   ]
  },
  {
   "cell_type": "code",
   "execution_count": 403,
   "id": "28dbf6a8",
   "metadata": {
    "scrolled": true
   },
   "outputs": [
    {
     "data": {
      "text/plain": [
       "10706                 [\\n, \\n, \\nEuro 6\\n]\n",
       "12616                             [\\n, \\n]\n",
       "9582                  [\\n, \\n, \\nEuro 6\\n]\n",
       "12794           [\\n, \\n, \\nEuro 6d-TEMP\\n]\n",
       "10349                                  NaN\n",
       "5268                                   NaN\n",
       "9278                                   NaN\n",
       "486                               [\\n, \\n]\n",
       "14584    [\\n, \\n, \\n114 g CO2/km (comb)\\n]\n",
       "12263           [\\n, \\n, \\nEuro 6d-TEMP\\n]\n",
       "Name: Full Service, dtype: object"
      ]
     },
     "execution_count": 403,
     "metadata": {},
     "output_type": "execute_result"
    }
   ],
   "source": [
    "df[\"Full Service\"].sample(10)"
   ]
  },
  {
   "cell_type": "code",
   "execution_count": 404,
   "id": "a7073e1f",
   "metadata": {},
   "outputs": [
    {
     "data": {
      "text/plain": [
       "nan                                                                                                             0.483950\n",
       "['\\n', '\\n', '\\n4 (Green)\\n']                                                                                   0.140398\n",
       "['\\n', '\\n', '\\nEuro 6\\n']                                                                                      0.131729\n",
       "['\\n', '\\n']                                                                                                    0.106916\n",
       "['\\n', '\\n', '\\nEuro 6d-TEMP\\n']                                                                                0.025064\n",
       "                                                                                                                  ...   \n",
       "['\\n', '\\n', '\\n80 g CO2/km (comb)\\n']                                                                          0.000063\n",
       "['\\n', '\\n', '\\n84 g CO2/km (comb)\\n']                                                                          0.000063\n",
       "['\\n', '\\n', '\\n', '6 l/100 km (comb)', '\\n', '8 l/100 km (city)', '\\n', '4.9 l/100 km (country)', '\\n']        0.000063\n",
       "['\\n', '\\n', '\\n', '4.9 l/100 km (comb)', '\\n', '6.2 l/100 km (city)', '\\n', '4.1 l/100 km (country)', '\\n']    0.000063\n",
       "['\\n', '\\n', '\\nEuro 4\\n']                                                                                      0.000063\n",
       "Name: Full Service, Length: 123, dtype: float64"
      ]
     },
     "execution_count": 404,
     "metadata": {},
     "output_type": "execute_result"
    }
   ],
   "source": [
    "df[\"Full Service\"].astype(\"str\").value_counts(normalize=True)"
   ]
  },
  {
   "cell_type": "markdown",
   "id": "8061ceb9",
   "metadata": {},
   "source": [
    "##### 17- Non-smoking Vehicle column"
   ]
  },
  {
   "cell_type": "code",
   "execution_count": 405,
   "id": "2ab52733",
   "metadata": {},
   "outputs": [
    {
     "data": {
      "text/plain": [
       "0                       [\\n, \\n]\n",
       "1                            NaN\n",
       "2                            NaN\n",
       "3           [\\n, \\n, \\nEuro 6\\n]\n",
       "4                       [\\n, \\n]\n",
       "                  ...           \n",
       "15914                        NaN\n",
       "15915    [\\n, \\n, \\n4 (Green)\\n]\n",
       "15916                   [\\n, \\n]\n",
       "15917                        NaN\n",
       "15918                        NaN\n",
       "Name: Non-smoking Vehicle, Length: 15919, dtype: object"
      ]
     },
     "execution_count": 405,
     "metadata": {},
     "output_type": "execute_result"
    }
   ],
   "source": [
    "df[\"Non-smoking Vehicle\"]"
   ]
  },
  {
   "cell_type": "code",
   "execution_count": 406,
   "id": "5c6a7bcd",
   "metadata": {},
   "outputs": [
    {
     "data": {
      "text/plain": [
       "15594                [\\n, \\n]\n",
       "4478                 [\\n, \\n]\n",
       "14978                     NaN\n",
       "11650                [\\n, \\n]\n",
       "2726                      NaN\n",
       "155      [\\n, \\n, \\nEuro 6\\n]\n",
       "12174                [\\n, \\n]\n",
       "1803                      NaN\n",
       "7021                      NaN\n",
       "12925                     NaN\n",
       "Name: Non-smoking Vehicle, dtype: object"
      ]
     },
     "execution_count": 406,
     "metadata": {},
     "output_type": "execute_result"
    }
   ],
   "source": [
    "df[\"Non-smoking Vehicle\"].sample(10)"
   ]
  },
  {
   "cell_type": "code",
   "execution_count": 407,
   "id": "1f622cb6",
   "metadata": {},
   "outputs": [
    {
     "data": {
      "text/plain": [
       "nan                                                                                                             0.549155\n",
       "['\\n', '\\n']                                                                                                    0.229097\n",
       "['\\n', '\\n', '\\n4 (Green)\\n']                                                                                   0.077894\n",
       "['\\n', '\\n', '\\nEuro 6\\n']                                                                                      0.070796\n",
       "['\\n', '\\n', '\\nEuro 6d-TEMP\\n']                                                                                0.021672\n",
       "\\n                                                                                                              0.004397\n",
       "['\\n', '\\n', '\\n120 g CO2/km (comb)\\n']                                                                         0.003958\n",
       "['\\n', '\\n', '\\n85 g CO2/km (comb)\\n']                                                                          0.002890\n",
       "['\\n', '\\n', '\\n104 g CO2/km (comb)\\n']                                                                         0.002261\n",
       "['\\n', '\\n', '\\n107 g CO2/km (comb)\\n']                                                                         0.002261\n",
       "['\\n', '\\n', '\\n153 g CO2/km (comb)\\n']                                                                         0.001947\n",
       "['\\n', '\\n', '\\n124 g CO2/km (comb)\\n']                                                                         0.001822\n",
       "['\\n', '\\n', '\\n1 (No sticker)\\n']                                                                              0.001508\n",
       "['\\n', '\\n', '\\n99 g CO2/km (comb)\\n']                                                                          0.001445\n",
       "['\\n', '\\n', '\\n106 g CO2/km (comb)\\n']                                                                         0.001256\n",
       "['\\n', '\\n', '\\n97 g CO2/km (comb)\\n']                                                                          0.001256\n",
       "['\\n', '\\n', '\\n108 g CO2/km (comb)\\n']                                                                         0.001194\n",
       "['\\n', '\\n', '\\n113 g CO2/km (comb)\\n']                                                                         0.001131\n",
       "['\\n', '\\n', '\\n100 g CO2/km (comb)\\n']                                                                         0.001131\n",
       "['\\n', '\\n', '\\n109 g CO2/km (comb)\\n']                                                                         0.001131\n",
       "['\\n', '\\n', '\\n105 g CO2/km (comb)\\n']                                                                         0.001131\n",
       "['\\n', '\\n', '\\nEuro 6c\\n']                                                                                     0.001068\n",
       "['\\n', '\\n', '\\n98 g CO2/km (comb)\\n']                                                                          0.000942\n",
       "['\\n', '\\n', '\\n129 g CO2/km (comb)\\n']                                                                         0.000879\n",
       "['\\n', '\\n', '\\n131 g CO2/km (comb)\\n']                                                                         0.000817\n",
       "['\\n', '\\n', '\\n133 g CO2/km (comb)\\n']                                                                         0.000754\n",
       "['\\n', '\\n', '\\n103 g CO2/km (comb)\\n']                                                                         0.000754\n",
       "['\\n', '\\n', '\\n114 g CO2/km (comb)\\n']                                                                         0.000754\n",
       "['\\n', '\\n', '\\n116 g CO2/km (comb)\\n']                                                                         0.000691\n",
       "['\\n', '\\n', '\\n135 g CO2/km (comb)\\n']                                                                         0.000691\n",
       "['\\n', '\\n', '\\n102 g CO2/km (comb)\\n']                                                                         0.000691\n",
       "['\\n', '\\n', '\\n127 g CO2/km (comb)\\n']                                                                         0.000628\n",
       "['\\n', '\\n', '\\n143 g CO2/km (comb)\\n']                                                                         0.000628\n",
       "['\\n', '\\n', '\\n92 g CO2/km (comb)\\n']                                                                          0.000565\n",
       "['\\n', '\\n', '\\nEuro 6d\\n']                                                                                     0.000565\n",
       "['\\n', '\\n', '\\n112 g CO2/km (comb)\\n']                                                                         0.000565\n",
       "['\\n', '\\n', '\\n5 (Blue)\\n']                                                                                    0.000503\n",
       "['\\n', '\\n', '\\n118 g CO2/km (comb)\\n']                                                                         0.000503\n",
       "['\\n', '\\n', '\\n139 g CO2/km (comb)\\n']                                                                         0.000440\n",
       "['\\n', '\\n', '\\n128 g CO2/km (comb)\\n']                                                                         0.000440\n",
       "['\\n', '\\n', '\\n147 g CO2/km (comb)\\n']                                                                         0.000440\n",
       "['\\n', '\\n', '\\n126 g CO2/km (comb)\\n']                                                                         0.000377\n",
       "['\\n', '\\n', '\\n137 g CO2/km (comb)\\n']                                                                         0.000377\n",
       "['\\n', '\\n', '\\n117 g CO2/km (comb)\\n']                                                                         0.000377\n",
       "['\\n', '\\n', '\\n140 g CO2/km (comb)\\n']                                                                         0.000377\n",
       "['\\n', '\\n', '\\n130 g CO2/km (comb)\\n']                                                                         0.000314\n",
       "['\\n', '\\n', '\\n115 g CO2/km (comb)\\n']                                                                         0.000314\n",
       "['\\n', '\\n', '\\nEuro 5\\n']                                                                                      0.000251\n",
       "['\\n', '\\n', '\\n', '5.2 l/100 km (comb)', '\\n', '5.8 l/100 km (city)', '\\n', '4.8 l/100 km (country)', '\\n']    0.000251\n",
       "['\\n', '\\n', '\\n123 g CO2/km (comb)\\n']                                                                         0.000251\n",
       "['\\n', '\\n', '\\n151 g CO2/km (comb)\\n']                                                                         0.000251\n",
       "['\\n', '\\n', '\\n95 g CO2/km (comb)\\n']                                                                          0.000188\n",
       "['\\n', '\\n', '\\n119 g CO2/km (comb)\\n']                                                                         0.000188\n",
       "['\\n', '\\n', '\\n148 g CO2/km (comb)\\n']                                                                         0.000188\n",
       "['\\n', '\\n', '\\n157 g CO2/km (comb)\\n']                                                                         0.000188\n",
       "['\\n', '\\n', '\\n136 g CO2/km (comb)\\n']                                                                         0.000188\n",
       "['\\n', '\\n', '\\n110 g CO2/km (comb)\\n']                                                                         0.000188\n",
       "['\\n', '\\n', '\\n149 g CO2/km (comb)\\n']                                                                         0.000188\n",
       "['\\n', '\\n', '\\n138 g CO2/km (comb)\\n']                                                                         0.000126\n",
       "['\\n', '\\n', '\\n125 g CO2/km (comb)\\n']                                                                         0.000126\n",
       "['\\n', '\\n', '\\n', '5.2 l/100 km (comb)', '\\n', '6.4 l/100 km (city)', '\\n', '4.4 l/100 km (country)', '\\n']    0.000126\n",
       "['\\n', '\\n', '\\n166 g CO2/km (comb)\\n']                                                                         0.000126\n",
       "['\\n', '\\n', '\\n121 g CO2/km (comb)\\n']                                                                         0.000126\n",
       "['\\n', '\\n', '\\n142 g CO2/km (comb)\\n']                                                                         0.000126\n",
       "['\\n', '\\n', '\\n90 g CO2/km (comb)\\n']                                                                          0.000126\n",
       "['\\n', '\\n', '\\n111 g CO2/km (comb)\\n']                                                                         0.000126\n",
       "['\\n', '\\n', '\\n134 g CO2/km (comb)\\n']                                                                         0.000126\n",
       "['\\n', '\\n', '\\n', '6.5 l/100 km (comb)', '\\n', '8.5 l/100 km (city)', '\\n', '5.4 l/100 km (country)', '\\n']    0.000063\n",
       "['\\n', '\\n', '\\n', '6.4 l/100 km (comb)', '\\n', '8.1 l/100 km (city)', '\\n', '5.4 l/100 km (country)', '\\n']    0.000063\n",
       "['\\n', '\\n', '\\n161 g CO2/km (comb)\\n']                                                                         0.000063\n",
       "['\\n', '\\n', '\\n172 g CO2/km (comb)\\n']                                                                         0.000063\n",
       "['\\n', '\\n', '\\n189 g CO2/km (comb)\\n']                                                                         0.000063\n",
       "['\\n', '\\n', '\\n82 g CO2/km (comb)\\n']                                                                          0.000063\n",
       "['\\n', '\\n', '\\n154 g CO2/km (comb)\\n']                                                                         0.000063\n",
       "['\\n', '\\n', '\\n', '6.5 l/100 km (comb)', '\\n', '7.9 l/100 km (city)', '\\n', '5.6 l/100 km (country)', '\\n']    0.000063\n",
       "['\\n', '\\n', '\\n', '6.3 l/100 km (comb)', '\\n', '8 l/100 km (city)', '\\n', '5.3 l/100 km (country)', '\\n']      0.000063\n",
       "['\\n', '\\n', '\\n146 g CO2/km (comb)\\n']                                                                         0.000063\n",
       "['\\n', '\\n', '\\n', '5.7 l/100 km (comb)', '\\n', '7.3 l/100 km (city)', '\\n', '4.7 l/100 km (country)', '\\n']    0.000063\n",
       "['\\n', '\\n', '\\n', '6.1 l/100 km (comb)', '\\n', '7.7 l/100 km (city)', '\\n', '5.2 l/100 km (country)', '\\n']    0.000063\n",
       "['\\n', '\\n', '\\n156 g CO2/km (comb)\\n']                                                                         0.000063\n",
       "['\\n', '\\n', '\\n', '6.1 l/100 km (comb)', '\\n', '7.8 l/100 km (city)', '\\n', '5.1 l/100 km (country)', '\\n']    0.000063\n",
       "['\\n', '\\n', '\\n', '6.2 l/100 km (comb)', '\\n', '7.9 l/100 km (city)', '\\n', '5.3 l/100 km (country)', '\\n']    0.000063\n",
       "['\\n', '\\n', '\\n152 g CO2/km (comb)\\n']                                                                         0.000063\n",
       "['\\n', '\\n', '\\n144 g CO2/km (comb)\\n']                                                                         0.000063\n",
       "['\\n', '\\n', '\\n132 g CO2/km (comb)\\n']                                                                         0.000063\n",
       "['\\n', '\\n', '\\n', '1.6 l/100 km (comb)', '\\n', '\\n', '\\n']                                                     0.000063\n",
       "['\\n', '\\n', '\\n169 g CO2/km (comb)\\n']                                                                         0.000063\n",
       "['\\n', '\\n', '\\n101 g CO2/km (comb)\\n']                                                                         0.000063\n",
       "['\\n', '\\n', '\\n159 g CO2/km (comb)\\n']                                                                         0.000063\n",
       "['\\n', '\\n', '\\n91 g CO2/km (comb)\\n']                                                                          0.000063\n",
       "['\\n', '\\n', '\\n', '5.6 l/100 km (comb)', '\\n', '7.3 l/100 km (city)', '\\n', '4.7 l/100 km (country)', '\\n']    0.000063\n",
       "['\\n', '\\n', '\\n122 g CO2/km (comb)\\n']                                                                         0.000063\n",
       "['\\n', '\\n', '\\n158 g CO2/km (comb)\\n']                                                                         0.000063\n",
       "['\\n', '\\n', '\\n150 g CO2/km (comb)\\n']                                                                         0.000063\n",
       "['\\n', '\\n', '\\n175 g CO2/km (comb)\\n']                                                                         0.000063\n",
       "Name: Non-smoking Vehicle, dtype: float64"
      ]
     },
     "execution_count": 407,
     "metadata": {},
     "output_type": "execute_result"
    }
   ],
   "source": [
    "df[\"Non-smoking Vehicle\"].astype(\"str\").value_counts(dropna=False, normalize=True)"
   ]
  },
  {
   "cell_type": "markdown",
   "id": "393dc441",
   "metadata": {},
   "source": [
    "##### 18- null column"
   ]
  },
  {
   "cell_type": "code",
   "execution_count": 408,
   "id": "216edd45",
   "metadata": {},
   "outputs": [
    {
     "data": {
      "text/plain": [
       "0        []\n",
       "1        []\n",
       "2        []\n",
       "3        []\n",
       "4        []\n",
       "         ..\n",
       "15914    []\n",
       "15915    []\n",
       "15916    []\n",
       "15917    []\n",
       "15918    []\n",
       "Name: null, Length: 15919, dtype: object"
      ]
     },
     "execution_count": 408,
     "metadata": {},
     "output_type": "execute_result"
    }
   ],
   "source": [
    "df[\"null\"]"
   ]
  },
  {
   "cell_type": "markdown",
   "id": "5d118e44",
   "metadata": {},
   "source": [
    "##### 21- Offer Number column"
   ]
  },
  {
   "cell_type": "code",
   "execution_count": 409,
   "id": "149fd4d3",
   "metadata": {},
   "outputs": [
    {
     "data": {
      "text/plain": [
       "1180            [\\n5005773\\n]\n",
       "10186       [\\n00-11-11198\\n]\n",
       "13757          [\\n11488789\\n]\n",
       "8738                  [\\n4\\n]\n",
       "11274           [\\n4920KCT\\n]\n",
       "7430     [\\nman-A4J8032309\\n]\n",
       "4390                      NaN\n",
       "9986               [\\n5679\\n]\n",
       "15678          [\\nVN027908\\n]\n",
       "8402                      NaN\n",
       "Name: Offer Number, dtype: object"
      ]
     },
     "execution_count": 409,
     "metadata": {},
     "output_type": "execute_result"
    }
   ],
   "source": [
    "df[\"Offer Number\"].sample(10)"
   ]
  },
  {
   "cell_type": "code",
   "execution_count": 410,
   "id": "21b66784",
   "metadata": {},
   "outputs": [
    {
     "data": {
      "text/plain": [
       "0             LR-062483\n",
       "1                   NaN\n",
       "2              AM-95365\n",
       "3                   NaN\n",
       "4                 C1626\n",
       "              ...      \n",
       "15914          10988301\n",
       "15915       507370_3223\n",
       "15916          Espace16\n",
       "15917           2691331\n",
       "15918    Re_30000008029\n",
       "Name: 1, Length: 15919, dtype: object"
      ]
     },
     "execution_count": 410,
     "metadata": {},
     "output_type": "execute_result"
    }
   ],
   "source": [
    "df[\"Offer Number\"].apply(lambda x : x[0] if type(x) == list else x).str.split(\"\\n\",expand=True)[1]"
   ]
  },
  {
   "cell_type": "code",
   "execution_count": 411,
   "id": "3866ba95",
   "metadata": {},
   "outputs": [],
   "source": [
    "df[\"Offer Number\"] = df[\"Offer Number\"].apply(lambda x : x[0] if type(x) == list else x).str.split(\"\\n\",expand=True)[1]"
   ]
  },
  {
   "cell_type": "code",
   "execution_count": 412,
   "id": "ca773377",
   "metadata": {},
   "outputs": [
    {
     "data": {
      "text/plain": [
       "NaN                                         0.199447\n",
       "LT67679                                     0.001696\n",
       "UN89904                                     0.001696\n",
       "XJ38068                                     0.001696\n",
       "JV03654                                     0.001696\n",
       "                                              ...   \n",
       "160_dcbb6c3e-a6da-43a3-8754-ccd994cec93b    0.000063\n",
       "6701576                                     0.000063\n",
       "6701569                                     0.000063\n",
       "158121                                      0.000063\n",
       "Re_30000008029                              0.000063\n",
       "Name: Offer Number, Length: 11441, dtype: float64"
      ]
     },
     "execution_count": 412,
     "metadata": {},
     "output_type": "execute_result"
    }
   ],
   "source": [
    "df[\"Offer Number\"].value_counts(dropna=False, normalize=True)"
   ]
  },
  {
   "cell_type": "code",
   "execution_count": null,
   "id": "1ed83cc2",
   "metadata": {},
   "outputs": [],
   "source": []
  },
  {
   "cell_type": "markdown",
   "id": "efbf1b58",
   "metadata": {},
   "source": [
    "##### 23- Body Color column"
   ]
  },
  {
   "cell_type": "code",
   "execution_count": 413,
   "id": "b7ad6c8f",
   "metadata": {},
   "outputs": [
    {
     "data": {
      "text/plain": [
       "0        Black\n",
       "1          Red\n",
       "2        Black\n",
       "3        Brown\n",
       "4        Black\n",
       "         ...  \n",
       "15914     Grey\n",
       "15915     Grey\n",
       "15916    White\n",
       "15917     Grey\n",
       "15918     Grey\n",
       "Name: Body Color, Length: 15919, dtype: object"
      ]
     },
     "execution_count": 413,
     "metadata": {},
     "output_type": "execute_result"
    }
   ],
   "source": [
    "df[\"Body Color\"].apply(lambda x : x[1] if type(x) == list else x)"
   ]
  },
  {
   "cell_type": "code",
   "execution_count": 414,
   "id": "b4082760",
   "metadata": {},
   "outputs": [],
   "source": [
    "df[\"Body Color\"] = df[\"Body Color\"].apply(lambda x : x[1] if type(x) == list else x)"
   ]
  },
  {
   "cell_type": "code",
   "execution_count": 415,
   "id": "62cc40b4",
   "metadata": {},
   "outputs": [
    {
     "data": {
      "text/plain": [
       "array(['Black', 'Red', 'Brown', 'White', 'Grey', 'Silver', 'Blue', nan,\n",
       "       'Beige', 'Violet', 'Yellow', 'Green', 'Bronze', 'Orange', 'Gold'],\n",
       "      dtype=object)"
      ]
     },
     "execution_count": 415,
     "metadata": {},
     "output_type": "execute_result"
    }
   ],
   "source": [
    "df[\"Body Color\"].unique()"
   ]
  },
  {
   "cell_type": "code",
   "execution_count": 416,
   "id": "da2c55e1",
   "metadata": {},
   "outputs": [
    {
     "data": {
      "text/plain": [
       "Black     3745\n",
       "Grey      3505\n",
       "White     3406\n",
       "Silver    1647\n",
       "Blue      1431\n",
       "Red        957\n",
       "NaN        597\n",
       "Brown      289\n",
       "Green      154\n",
       "Beige      108\n",
       "Yellow      51\n",
       "Violet      18\n",
       "Bronze       6\n",
       "Orange       3\n",
       "Gold         2\n",
       "Name: Body Color, dtype: int64"
      ]
     },
     "execution_count": 416,
     "metadata": {},
     "output_type": "execute_result"
    }
   ],
   "source": [
    "df[\"Body Color\"].value_counts(dropna=False)"
   ]
  },
  {
   "cell_type": "code",
   "execution_count": null,
   "id": "71374a9c",
   "metadata": {},
   "outputs": [],
   "source": []
  },
  {
   "cell_type": "markdown",
   "id": "22ae1293",
   "metadata": {},
   "source": [
    "##### 25- Body Color Original column"
   ]
  },
  {
   "cell_type": "code",
   "execution_count": 417,
   "id": "d7bcb31e",
   "metadata": {},
   "outputs": [
    {
     "data": {
      "text/plain": [
       "0                 Mythosschwarz\n",
       "1                           NaN\n",
       "2        mythosschwarz metallic\n",
       "3                           NaN\n",
       "4        Mythosschwarz Metallic\n",
       "                  ...          \n",
       "15914              Grigio scuro\n",
       "15915       Stahl-Grau Metallic\n",
       "15916               arktis-weiß\n",
       "15917                    Grigio\n",
       "15918    Titanium-Grau Metallic\n",
       "Name: 1, Length: 15919, dtype: object"
      ]
     },
     "execution_count": 417,
     "metadata": {},
     "output_type": "execute_result"
    }
   ],
   "source": [
    "df[\"Body Color Original\"].apply(lambda x : x[0] if type(x)== list else x).str.split(\"\\n\",expand=True)[1]"
   ]
  },
  {
   "cell_type": "code",
   "execution_count": 418,
   "id": "69b8c211",
   "metadata": {},
   "outputs": [],
   "source": [
    "df[\"Body Color Original\"] = df[\"Body Color Original\"].apply(lambda x : x[0] if type(x)== list else x).str.split(\"\\n\",expand=True)[1]"
   ]
  },
  {
   "cell_type": "code",
   "execution_count": 419,
   "id": "f8f910dc",
   "metadata": {},
   "outputs": [
    {
     "data": {
      "text/plain": [
       "NaN                              0.236133\n",
       "Onyx Schwarz                     0.021232\n",
       "Bianco                           0.017715\n",
       "Mythosschwarz Metallic           0.014951\n",
       "Brillantschwarz                  0.013569\n",
       "                                   ...   \n",
       "Rouge-Braun (G0Y)                0.000063\n",
       "VARI COLRI DISPONIBILI           0.000063\n",
       "Kokosnussbraun Metallic          0.000063\n",
       "Farbe frei wählbar               0.000063\n",
       "Perlmutt-Weiß Metallic (Weiß)    0.000063\n",
       "Name: Body Color Original, Length: 1928, dtype: float64"
      ]
     },
     "execution_count": 419,
     "metadata": {},
     "output_type": "execute_result"
    }
   ],
   "source": [
    "df[\"Body Color Original\"].value_counts(dropna=False, normalize=True)"
   ]
  },
  {
   "cell_type": "code",
   "execution_count": null,
   "id": "5fcc3d30",
   "metadata": {},
   "outputs": [],
   "source": []
  },
  {
   "cell_type": "markdown",
   "id": "08fd7865",
   "metadata": {},
   "source": [
    "##### 24- Paint Type column"
   ]
  },
  {
   "cell_type": "code",
   "execution_count": 420,
   "id": "68614a46",
   "metadata": {},
   "outputs": [
    {
     "data": {
      "text/plain": [
       "0        Metallic\n",
       "1             NaN\n",
       "2        Metallic\n",
       "3        Metallic\n",
       "4        Metallic\n",
       "           ...   \n",
       "15914    Metallic\n",
       "15915    Metallic\n",
       "15916         NaN\n",
       "15917         NaN\n",
       "15918    Metallic\n",
       "Name: 1, Length: 15919, dtype: object"
      ]
     },
     "execution_count": 420,
     "metadata": {},
     "output_type": "execute_result"
    }
   ],
   "source": [
    "df[\"Paint Type\"].apply(lambda x : x[0] if type(x)==list else x).str.split(\"\\n\", expand=True)[1]"
   ]
  },
  {
   "cell_type": "code",
   "execution_count": 421,
   "id": "a1b7bb72",
   "metadata": {},
   "outputs": [],
   "source": [
    "df[\"Paint Type\"]=df[\"Paint Type\"].apply(lambda x : x[0] if type(x)==list else x).str.split(\"\\n\", expand=True)[1]"
   ]
  },
  {
   "cell_type": "code",
   "execution_count": 422,
   "id": "03302049",
   "metadata": {},
   "outputs": [
    {
     "data": {
      "text/plain": [
       "Metallic       9794\n",
       "NaN            5772\n",
       "Uni/basic       347\n",
       "Perl effect       6\n",
       "Name: Paint Type, dtype: int64"
      ]
     },
     "execution_count": 422,
     "metadata": {},
     "output_type": "execute_result"
    }
   ],
   "source": [
    "df[\"Paint Type\"].value_counts(dropna=False)"
   ]
  },
  {
   "cell_type": "code",
   "execution_count": null,
   "id": "eb79af79",
   "metadata": {},
   "outputs": [],
   "source": []
  },
  {
   "cell_type": "markdown",
   "id": "25a570c9",
   "metadata": {},
   "source": [
    "##### 26- Upholstery column"
   ]
  },
  {
   "cell_type": "code",
   "execution_count": 423,
   "id": "bd22056b",
   "metadata": {},
   "outputs": [
    {
     "data": {
      "text/plain": [
       "10798                          NaN\n",
       "10604                          NaN\n",
       "7791     [\\nPart leather, Black\\n]\n",
       "1642                           NaN\n",
       "8863            [\\nCloth, Black\\n]\n",
       "9071            [\\nCloth, Black\\n]\n",
       "1931            [\\nCloth, Black\\n]\n",
       "12969                          NaN\n",
       "6139                   [\\nCloth\\n]\n",
       "14971    [\\nPart leather, Brown\\n]\n",
       "Name: Upholstery, dtype: object"
      ]
     },
     "execution_count": 423,
     "metadata": {},
     "output_type": "execute_result"
    }
   ],
   "source": [
    "df[\"Upholstery\"].sample(10)"
   ]
  },
  {
   "cell_type": "code",
   "execution_count": 424,
   "id": "a1667b1c",
   "metadata": {},
   "outputs": [
    {
     "data": {
      "text/plain": [
       "['\\nCloth, Black\\n']           5821\n",
       "nan                            3720\n",
       "['\\nPart leather, Black\\n']    1121\n",
       "['\\nCloth\\n']                  1005\n",
       "['\\nCloth, Grey\\n']             891\n",
       "['\\nCloth, Other\\n']            639\n",
       "['\\nFull leather, Black\\n']     575\n",
       "['\\nBlack\\n']                   491\n",
       "['\\nGrey\\n']                    273\n",
       "['\\nOther, Other\\n']            182\n",
       "['\\nPart leather\\n']            140\n",
       "['\\nFull leather\\n']            139\n",
       "['\\nFull leather, Brown\\n']     116\n",
       "['\\nPart leather, Grey\\n']      116\n",
       "['\\nOther, Black\\n']            110\n",
       "['\\nFull leather, Other\\n']      72\n",
       "['\\nFull leather, Grey\\n']       67\n",
       "['\\nPart leather, Other\\n']      65\n",
       "['\\nOther\\n']                    56\n",
       "['\\nPart leather, Brown\\n']      50\n",
       "['\\nalcantara, Black\\n']         47\n",
       "['\\nVelour, Black\\n']            36\n",
       "['\\nFull leather, Beige\\n']      36\n",
       "['\\nCloth, Brown\\n']             28\n",
       "['\\nVelour\\n']                   16\n",
       "['\\nOther, Grey\\n']              15\n",
       "['\\nCloth, Beige\\n']             13\n",
       "['\\nBrown\\n']                    12\n",
       "['\\nCloth, Blue\\n']              12\n",
       "['\\nVelour, Grey\\n']              8\n",
       "['\\nCloth, White\\n']              8\n",
       "['\\nalcantara, Grey\\n']           6\n",
       "['\\nCloth, Red\\n']                5\n",
       "['\\nOther, Yellow\\n']             4\n",
       "['\\nPart leather, Red\\n']         3\n",
       "['\\nBeige\\n']                     3\n",
       "['\\nPart leather, White\\n']       2\n",
       "['\\nFull leather, Blue\\n']        2\n",
       "['\\nalcantara, Other\\n']          2\n",
       "['\\nalcantara\\n']                 2\n",
       "['\\nWhite\\n']                     2\n",
       "['\\nPart leather, Beige\\n']       2\n",
       "['\\nBlue\\n']                      2\n",
       "['\\nCloth, Orange\\n']             1\n",
       "['\\nFull leather, Red\\n']         1\n",
       "['\\nOther, Brown\\n']              1\n",
       "['\\nFull leather, White\\n']       1\n",
       "Name: Upholstery, dtype: int64"
      ]
     },
     "execution_count": 424,
     "metadata": {},
     "output_type": "execute_result"
    }
   ],
   "source": [
    "df[\"Upholstery\"].astype(\"str\").value_counts(dropna=False)"
   ]
  },
  {
   "cell_type": "code",
   "execution_count": 425,
   "id": "b819c2a4",
   "metadata": {},
   "outputs": [],
   "source": [
    "color = [\"Beige\", \"Red\", \"Black\", \"Green\", \"Grey\", \"Yellow\", \"Brown\", \"Orange\", \"Blue\",\"White\"]\n",
    "style = [\"alcantara\", \"Full leather\", \"Velour\", \"Cloth\", \"Part leather\", \"Other\"]"
   ]
  },
  {
   "cell_type": "code",
   "execution_count": 426,
   "id": "8d804c37",
   "metadata": {},
   "outputs": [],
   "source": [
    "df[\"Upholstery\"] = df[\"Upholstery\"].apply(lambda x: x[0] if type(x)==list else x).str.strip(\"\\n\").str.split(\",\")"
   ]
  },
  {
   "cell_type": "code",
   "execution_count": 427,
   "id": "fe478f23",
   "metadata": {},
   "outputs": [],
   "source": [
    "df[\"upholstery_style\"] = df[\"Upholstery\"].apply(lambda x: x[0] if type(x) == list and x[0] in style else np.nan)"
   ]
  },
  {
   "cell_type": "code",
   "execution_count": 429,
   "id": "b58ba7ee",
   "metadata": {},
   "outputs": [],
   "source": [
    "def func(x):\n",
    "    if type(x)==list and len(x)==2:\n",
    "        return x[1].strip()\n",
    "    elif type(x) ==list and len(x)==1 and x[0] in color:\n",
    "            return x[0].strip()\n",
    "    else:\n",
    "        return np.nan"
   ]
  },
  {
   "cell_type": "code",
   "execution_count": 430,
   "id": "fd17b566",
   "metadata": {},
   "outputs": [
    {
     "data": {
      "text/plain": [
       "Black     8201\n",
       "NaN       5078\n",
       "Grey      1376\n",
       "Other      960\n",
       "Brown      207\n",
       "Beige       54\n",
       "Blue        16\n",
       "White       13\n",
       "Red          9\n",
       "Yellow       4\n",
       "Orange       1\n",
       "Name: Upholstery, dtype: int64"
      ]
     },
     "execution_count": 430,
     "metadata": {},
     "output_type": "execute_result"
    }
   ],
   "source": [
    "df[\"Upholstery\"].apply(func).value_counts(dropna=False)"
   ]
  },
  {
   "cell_type": "code",
   "execution_count": 431,
   "id": "c7e0c506",
   "metadata": {},
   "outputs": [],
   "source": [
    "df[\"upholstery_color\"] = df[\"Upholstery\"].apply(func)"
   ]
  },
  {
   "cell_type": "markdown",
   "id": "bacbef12",
   "metadata": {},
   "source": [
    "##### 28- Nr. of Doors column"
   ]
  },
  {
   "cell_type": "code",
   "execution_count": 432,
   "id": "7ed5bf03",
   "metadata": {},
   "outputs": [
    {
     "data": {
      "text/plain": [
       "0        5.0\n",
       "1        3.0\n",
       "2        4.0\n",
       "3        3.0\n",
       "4        5.0\n",
       "        ... \n",
       "15914    5.0\n",
       "15915    5.0\n",
       "15916    5.0\n",
       "15917    5.0\n",
       "15918    5.0\n",
       "Name: Nr. of Doors, Length: 15919, dtype: float64"
      ]
     },
     "execution_count": 432,
     "metadata": {},
     "output_type": "execute_result"
    }
   ],
   "source": [
    "df[\"Nr. of Doors\"].apply(lambda x : x[0] if type(x) == list else x).str.replace(\"\\n\", \"\").astype(\"float\")"
   ]
  },
  {
   "cell_type": "code",
   "execution_count": 433,
   "id": "07bcf211",
   "metadata": {},
   "outputs": [],
   "source": [
    "df[\"Nr. of Doors\"] = df[\"Nr. of Doors\"].apply(lambda x : x[0] if type(x) == list else x).str.replace(\"\\n\", \"\").astype(\"float\")"
   ]
  },
  {
   "cell_type": "code",
   "execution_count": 434,
   "id": "ee25c95f",
   "metadata": {},
   "outputs": [],
   "source": [
    "df.rename(columns={\"Nr. of Doors\": \"doors\"}, inplace=True)"
   ]
  },
  {
   "cell_type": "code",
   "execution_count": 435,
   "id": "cf3ed077",
   "metadata": {},
   "outputs": [
    {
     "data": {
      "text/plain": [
       "5.0    11575\n",
       "4.0     3079\n",
       "3.0      832\n",
       "2.0      219\n",
       "NaN      212\n",
       "1.0        1\n",
       "7.0        1\n",
       "Name: doors, dtype: int64"
      ]
     },
     "execution_count": 435,
     "metadata": {},
     "output_type": "execute_result"
    }
   ],
   "source": [
    "df[\"doors\"].value_counts(dropna=False)"
   ]
  },
  {
   "cell_type": "code",
   "execution_count": null,
   "id": "4c060a7b",
   "metadata": {},
   "outputs": [],
   "source": []
  },
  {
   "cell_type": "markdown",
   "id": "45a8a0f9",
   "metadata": {},
   "source": [
    "##### 29- Nr. of Seats column"
   ]
  },
  {
   "cell_type": "code",
   "execution_count": 436,
   "id": "9b621af0",
   "metadata": {},
   "outputs": [
    {
     "data": {
      "text/plain": [
       "0        5.0\n",
       "1        4.0\n",
       "2        4.0\n",
       "3        4.0\n",
       "4        5.0\n",
       "        ... \n",
       "15914    5.0\n",
       "15915    5.0\n",
       "15916    7.0\n",
       "15917    7.0\n",
       "15918    5.0\n",
       "Name: Nr. of Seats, Length: 15919, dtype: float64"
      ]
     },
     "execution_count": 436,
     "metadata": {},
     "output_type": "execute_result"
    }
   ],
   "source": [
    "df[\"Nr. of Seats\"].apply(lambda x : x[0] if type(x) == list else x).str.replace(\"\\n\", \"\").astype(\"float\")"
   ]
  },
  {
   "cell_type": "code",
   "execution_count": 437,
   "id": "71935852",
   "metadata": {},
   "outputs": [],
   "source": [
    "df[\"Nr. of Seats\"] = df[\"Nr. of Seats\"].apply(lambda x : x[0] if type(x) == list else x).str.replace(\"\\n\", \"\").astype(\"float\")"
   ]
  },
  {
   "cell_type": "code",
   "execution_count": 438,
   "id": "9b7ab8d4",
   "metadata": {},
   "outputs": [],
   "source": [
    "df.rename(columns={\"Nr. of Seats\": \"seats\"}, inplace=True)"
   ]
  },
  {
   "cell_type": "code",
   "execution_count": 439,
   "id": "b9a8d873",
   "metadata": {},
   "outputs": [
    {
     "data": {
      "text/plain": [
       "5.0    13336\n",
       "4.0     1125\n",
       "NaN      977\n",
       "7.0      362\n",
       "2.0      116\n",
       "6.0        2\n",
       "3.0        1\n",
       "Name: seats, dtype: int64"
      ]
     },
     "execution_count": 439,
     "metadata": {},
     "output_type": "execute_result"
    }
   ],
   "source": [
    "df[\"seats\"].value_counts(dropna=False)"
   ]
  },
  {
   "cell_type": "markdown",
   "id": "e4b8b8ab",
   "metadata": {},
   "source": [
    "##### 30- Model Code column"
   ]
  },
  {
   "cell_type": "code",
   "execution_count": 440,
   "id": "63641dbf",
   "metadata": {},
   "outputs": [
    {
     "data": {
      "text/plain": [
       "0        [\\n0588/BDF\\n]\n",
       "1        [\\n0588/BCY\\n]\n",
       "2                   NaN\n",
       "3                   NaN\n",
       "4        [\\n0588/BDF\\n]\n",
       "              ...      \n",
       "15914               NaN\n",
       "15915    [\\n0000/000\\n]\n",
       "15916               NaN\n",
       "15917               NaN\n",
       "15918    [\\n3333/BHJ\\n]\n",
       "Name: Model Code, Length: 15919, dtype: object"
      ]
     },
     "execution_count": 440,
     "metadata": {},
     "output_type": "execute_result"
    }
   ],
   "source": [
    "df[\"Model Code\"]"
   ]
  },
  {
   "cell_type": "code",
   "execution_count": 441,
   "id": "cf879945",
   "metadata": {},
   "outputs": [
    {
     "data": {
      "text/plain": [
       "0        0588/BDF\n",
       "1        0588/BCY\n",
       "2             NaN\n",
       "3             NaN\n",
       "4        0588/BDF\n",
       "           ...   \n",
       "15914         NaN\n",
       "15915    0000/000\n",
       "15916         NaN\n",
       "15917         NaN\n",
       "15918    3333/BHJ\n",
       "Name: Model Code, Length: 15919, dtype: object"
      ]
     },
     "execution_count": 441,
     "metadata": {},
     "output_type": "execute_result"
    }
   ],
   "source": [
    "df[\"Model Code\"].apply(lambda x : x[0] if type(x) == list else x).str.replace(\"\\n\", \"\")"
   ]
  },
  {
   "cell_type": "code",
   "execution_count": 442,
   "id": "1cc1d161",
   "metadata": {},
   "outputs": [],
   "source": [
    "df[\"Model Code\"] = df[\"Model Code\"].apply(lambda x : x[0] if type(x) == list else x).str.replace(\"\\n\", \"\")"
   ]
  },
  {
   "cell_type": "code",
   "execution_count": 443,
   "id": "ba5c6b7f",
   "metadata": {},
   "outputs": [],
   "source": [
    "df.rename(columns={\"Model Code\": \"model_code\"}, inplace=True)"
   ]
  },
  {
   "cell_type": "code",
   "execution_count": 444,
   "id": "cc9b92d8",
   "metadata": {},
   "outputs": [
    {
     "data": {
      "text/plain": [
       "NaN         0.687292\n",
       "0035/BCB    0.016835\n",
       "0588/BNO    0.015390\n",
       "0588/BDB    0.012941\n",
       "0588/BHX    0.011810\n",
       "              ...   \n",
       "0035/AVN    0.000063\n",
       "0035/BEM    0.000063\n",
       "0035/BAG    0.000063\n",
       "0035/BAA    0.000063\n",
       "3333/BKG    0.000063\n",
       "Name: model_code, Length: 233, dtype: float64"
      ]
     },
     "execution_count": 444,
     "metadata": {},
     "output_type": "execute_result"
    }
   ],
   "source": [
    "df[\"model_code\"].value_counts(dropna=False, normalize=True)"
   ]
  },
  {
   "cell_type": "markdown",
   "id": "466eb916",
   "metadata": {},
   "source": [
    "##### 31- Gearing Type column"
   ]
  },
  {
   "cell_type": "code",
   "execution_count": 445,
   "id": "9d4c02f6",
   "metadata": {},
   "outputs": [
    {
     "data": {
      "text/plain": [
       "0        [\\n, Automatic, \\n]\n",
       "1        [\\n, Automatic, \\n]\n",
       "2        [\\n, Automatic, \\n]\n",
       "3        [\\n, Automatic, \\n]\n",
       "4        [\\n, Automatic, \\n]\n",
       "                ...         \n",
       "15914    [\\n, Automatic, \\n]\n",
       "15915    [\\n, Automatic, \\n]\n",
       "15916    [\\n, Automatic, \\n]\n",
       "15917    [\\n, Automatic, \\n]\n",
       "15918    [\\n, Automatic, \\n]\n",
       "Name: Gearing Type, Length: 15919, dtype: object"
      ]
     },
     "execution_count": 445,
     "metadata": {},
     "output_type": "execute_result"
    }
   ],
   "source": [
    "df[\"Gearing Type\"]"
   ]
  },
  {
   "cell_type": "code",
   "execution_count": 446,
   "id": "2b412236",
   "metadata": {},
   "outputs": [
    {
     "data": {
      "text/plain": [
       "0        Automatic\n",
       "1        Automatic\n",
       "2        Automatic\n",
       "3        Automatic\n",
       "4        Automatic\n",
       "           ...    \n",
       "15914    Automatic\n",
       "15915    Automatic\n",
       "15916    Automatic\n",
       "15917    Automatic\n",
       "15918    Automatic\n",
       "Name: Gearing Type, Length: 15919, dtype: object"
      ]
     },
     "execution_count": 446,
     "metadata": {},
     "output_type": "execute_result"
    }
   ],
   "source": [
    "df[\"Gearing Type\"].apply(lambda x : x[1] if type(x) == list else x)"
   ]
  },
  {
   "cell_type": "code",
   "execution_count": 447,
   "id": "3a52d5f6",
   "metadata": {},
   "outputs": [],
   "source": [
    "df[\"Gearing Type\"] = df[\"Gearing Type\"].apply(lambda x : x[1] if type(x) == list else x)"
   ]
  },
  {
   "cell_type": "code",
   "execution_count": 448,
   "id": "70cbf5fd",
   "metadata": {},
   "outputs": [],
   "source": [
    "df.rename(columns={\"Gearing Type\": \"gearing_type\"}, inplace=True)"
   ]
  },
  {
   "cell_type": "code",
   "execution_count": 449,
   "id": "598caf6d",
   "metadata": {},
   "outputs": [
    {
     "data": {
      "text/plain": [
       "Manual            8153\n",
       "Automatic         7297\n",
       "Semi-automatic     469\n",
       "Name: gearing_type, dtype: int64"
      ]
     },
     "execution_count": 449,
     "metadata": {},
     "output_type": "execute_result"
    }
   ],
   "source": [
    "df[\"gearing_type\"].value_counts(dropna=False)"
   ]
  },
  {
   "cell_type": "markdown",
   "id": "62749d93",
   "metadata": {},
   "source": [
    "##### 32- Displacement column"
   ]
  },
  {
   "cell_type": "code",
   "execution_count": 450,
   "id": "bc0016bf",
   "metadata": {},
   "outputs": [
    {
     "data": {
      "text/plain": [
       "0        [\\n1,422 cc\\n]\n",
       "1        [\\n1,798 cc\\n]\n",
       "2        [\\n1,598 cc\\n]\n",
       "3        [\\n1,422 cc\\n]\n",
       "4        [\\n1,422 cc\\n]\n",
       "              ...      \n",
       "15914    [\\n1,997 cc\\n]\n",
       "15915    [\\n1,798 cc\\n]\n",
       "15916    [\\n1,997 cc\\n]\n",
       "15917    [\\n1,997 cc\\n]\n",
       "15918    [\\n1,798 cc\\n]\n",
       "Name: Displacement, Length: 15919, dtype: object"
      ]
     },
     "execution_count": 450,
     "metadata": {},
     "output_type": "execute_result"
    }
   ],
   "source": [
    "df[\"Displacement\"]"
   ]
  },
  {
   "cell_type": "code",
   "execution_count": 451,
   "id": "21984dbe",
   "metadata": {},
   "outputs": [
    {
     "data": {
      "text/plain": [
       "0        1422.0\n",
       "1        1798.0\n",
       "2        1598.0\n",
       "3        1422.0\n",
       "4        1422.0\n",
       "          ...  \n",
       "15914    1997.0\n",
       "15915    1798.0\n",
       "15916    1997.0\n",
       "15917    1997.0\n",
       "15918    1798.0\n",
       "Name: Displacement, Length: 15919, dtype: float64"
      ]
     },
     "execution_count": 451,
     "metadata": {},
     "output_type": "execute_result"
    }
   ],
   "source": [
    "df[\"Displacement\"].apply(lambda x : x[0] if type(x) == list else x).replace([\"\\n\", \",\",\" \", \"cc\"], \"\", regex=True).astype(\"float\")"
   ]
  },
  {
   "cell_type": "code",
   "execution_count": 452,
   "id": "6dda2f63",
   "metadata": {},
   "outputs": [],
   "source": [
    "df[\"Displacement\"] = df[\"Displacement\"]\\\n",
    ".apply(lambda x : x[0] if type(x) == list else x).replace([\"\\n\", \",\",\" \", \"cc\"], \"\", regex=True).astype(\"float\")"
   ]
  },
  {
   "cell_type": "code",
   "execution_count": 453,
   "id": "30c9ebb4",
   "metadata": {},
   "outputs": [],
   "source": [
    "df.rename(columns={\"Displacement\": \"cc_displacement\"}, inplace=True)"
   ]
  },
  {
   "cell_type": "code",
   "execution_count": 454,
   "id": "3999eb48",
   "metadata": {},
   "outputs": [
    {
     "data": {
      "text/plain": [
       "1598.0     4761\n",
       "999.0      2438\n",
       "1398.0     1314\n",
       "1399.0      749\n",
       "1229.0      677\n",
       "1956.0      670\n",
       "1461.0      595\n",
       "1490.0      559\n",
       "NaN         496\n",
       "1422.0      467\n",
       "1197.0      353\n",
       "898.0       351\n",
       "1395.0      320\n",
       "1968.0      301\n",
       "1149.0      288\n",
       "1618.0      212\n",
       "1798.0      210\n",
       "1498.0      196\n",
       "1600.0      130\n",
       "1248.0      110\n",
       "1997.0      103\n",
       "1364.0      102\n",
       "1400.0       90\n",
       "998.0        72\n",
       "1500.0       50\n",
       "2000.0       46\n",
       "1000.0       40\n",
       "1.0          36\n",
       "1998.0       25\n",
       "2480.0       20\n",
       "1200.0       18\n",
       "1984.0       18\n",
       "1397.0       11\n",
       "899.0        11\n",
       "160.0         6\n",
       "929.0         5\n",
       "1499.0        5\n",
       "997.0         4\n",
       "1596.0        4\n",
       "139.0         4\n",
       "900.0         4\n",
       "1599.0        3\n",
       "1199.0        3\n",
       "1396.0        3\n",
       "1495.0        2\n",
       "1589.0        2\n",
       "1300.0        2\n",
       "2.0           2\n",
       "995.0         2\n",
       "1496.0        1\n",
       "890.0         1\n",
       "1580.0        1\n",
       "1995.0        1\n",
       "1333.0        1\n",
       "54.0          1\n",
       "1533.0        1\n",
       "1100.0        1\n",
       "1350.0        1\n",
       "16000.0       1\n",
       "1856.0        1\n",
       "1568.0        1\n",
       "1896.0        1\n",
       "1584.0        1\n",
       "996.0         1\n",
       "1696.0        1\n",
       "1686.0        1\n",
       "15898.0       1\n",
       "1368.0        1\n",
       "140.0         1\n",
       "973.0         1\n",
       "1239.0        1\n",
       "1369.0        1\n",
       "1390.0        1\n",
       "122.0         1\n",
       "1198.0        1\n",
       "1195.0        1\n",
       "2967.0        1\n",
       "1800.0        1\n",
       "Name: cc_displacement, dtype: int64"
      ]
     },
     "execution_count": 454,
     "metadata": {},
     "output_type": "execute_result"
    }
   ],
   "source": [
    "df[\"cc_displacement\"].value_counts(dropna=False)"
   ]
  },
  {
   "cell_type": "code",
   "execution_count": 455,
   "id": "ef3da7da",
   "metadata": {},
   "outputs": [
    {
     "data": {
      "text/plain": [
       "False    15423\n",
       "True       496\n",
       "Name: cc_displacement, dtype: int64"
      ]
     },
     "execution_count": 455,
     "metadata": {},
     "output_type": "execute_result"
    }
   ],
   "source": [
    "df[\"cc_displacement\"].isnull().value_counts()"
   ]
  },
  {
   "cell_type": "markdown",
   "id": "8e20aa2f",
   "metadata": {},
   "source": [
    "##### 33- Cylinders column"
   ]
  },
  {
   "cell_type": "code",
   "execution_count": 456,
   "id": "c84cc4a3",
   "metadata": {},
   "outputs": [
    {
     "data": {
      "text/plain": [
       "0        [\\n3\\n]\n",
       "1        [\\n4\\n]\n",
       "2            NaN\n",
       "3        [\\n3\\n]\n",
       "4        [\\n3\\n]\n",
       "          ...   \n",
       "15914    [\\n4\\n]\n",
       "15915    [\\n4\\n]\n",
       "15916    [\\n4\\n]\n",
       "15917    [\\n4\\n]\n",
       "15918    [\\n4\\n]\n",
       "Name: Cylinders, Length: 15919, dtype: object"
      ]
     },
     "execution_count": 456,
     "metadata": {},
     "output_type": "execute_result"
    }
   ],
   "source": [
    "df[\"Cylinders\"]"
   ]
  },
  {
   "cell_type": "code",
   "execution_count": 457,
   "id": "7bdbb30c",
   "metadata": {},
   "outputs": [
    {
     "data": {
      "text/plain": [
       "0        3.0\n",
       "1        4.0\n",
       "2        NaN\n",
       "3        3.0\n",
       "4        3.0\n",
       "        ... \n",
       "15914    4.0\n",
       "15915    4.0\n",
       "15916    4.0\n",
       "15917    4.0\n",
       "15918    4.0\n",
       "Name: Cylinders, Length: 15919, dtype: float64"
      ]
     },
     "execution_count": 457,
     "metadata": {},
     "output_type": "execute_result"
    }
   ],
   "source": [
    "df[\"Cylinders\"].apply(lambda x : x[0] if type(x) == list else x).str.replace(\"\\n\", \"\").astype(\"float\")"
   ]
  },
  {
   "cell_type": "code",
   "execution_count": 458,
   "id": "9bc8d916",
   "metadata": {},
   "outputs": [],
   "source": [
    "df[\"Cylinders\"] = df[\"Cylinders\"].apply(lambda x : x[0] if type(x) == list else x).str.replace(\"\\n\", \"\").astype(\"float\")"
   ]
  },
  {
   "cell_type": "code",
   "execution_count": 459,
   "id": "59c9d8f4",
   "metadata": {},
   "outputs": [
    {
     "data": {
      "text/plain": [
       "4.0    8105\n",
       "NaN    5680\n",
       "3.0    2104\n",
       "5.0      22\n",
       "6.0       3\n",
       "8.0       2\n",
       "2.0       2\n",
       "1.0       1\n",
       "Name: Cylinders, dtype: int64"
      ]
     },
     "execution_count": 459,
     "metadata": {},
     "output_type": "execute_result"
    }
   ],
   "source": [
    "df[\"Cylinders\"].value_counts(dropna=False)"
   ]
  },
  {
   "cell_type": "markdown",
   "id": "fc09d706",
   "metadata": {},
   "source": [
    "##### 34-Weight column"
   ]
  },
  {
   "cell_type": "code",
   "execution_count": 460,
   "id": "94352999",
   "metadata": {},
   "outputs": [
    {
     "data": {
      "text/plain": [
       "0        [\\n1,220 kg\\n]\n",
       "1        [\\n1,255 kg\\n]\n",
       "2                   NaN\n",
       "3        [\\n1,195 kg\\n]\n",
       "4                   NaN\n",
       "              ...      \n",
       "15914    [\\n1,758 kg\\n]\n",
       "15915    [\\n1,708 kg\\n]\n",
       "15916               NaN\n",
       "15917    [\\n1,758 kg\\n]\n",
       "15918    [\\n1,685 kg\\n]\n",
       "Name: Weight, Length: 15919, dtype: object"
      ]
     },
     "execution_count": 460,
     "metadata": {},
     "output_type": "execute_result"
    }
   ],
   "source": [
    "df[\"Weight\"]"
   ]
  },
  {
   "cell_type": "code",
   "execution_count": 461,
   "id": "b0770e09",
   "metadata": {},
   "outputs": [
    {
     "data": {
      "text/plain": [
       "0        1220.0\n",
       "1        1255.0\n",
       "2           NaN\n",
       "3        1195.0\n",
       "4           NaN\n",
       "          ...  \n",
       "15914    1758.0\n",
       "15915    1708.0\n",
       "15916       NaN\n",
       "15917    1758.0\n",
       "15918    1685.0\n",
       "Name: Weight, Length: 15919, dtype: float64"
      ]
     },
     "execution_count": 461,
     "metadata": {},
     "output_type": "execute_result"
    }
   ],
   "source": [
    "df[\"Weight\"].apply(lambda x: x[0] if type(x) == list else x ).replace([\"\\n\", \",\", \" kg\"], \"\", regex=True).astype(\"float\")"
   ]
  },
  {
   "cell_type": "code",
   "execution_count": 462,
   "id": "2a2fd955",
   "metadata": {},
   "outputs": [],
   "source": [
    "df[\"Weight\"] = \\\n",
    "df[\"Weight\"].apply(lambda x: x[0] if type(x) == list else x ).replace([\"\\n\", \",\", \" kg\"], \"\", regex=True).astype(\"float\")"
   ]
  },
  {
   "cell_type": "code",
   "execution_count": 463,
   "id": "e7a033f2",
   "metadata": {},
   "outputs": [],
   "source": [
    "df.rename(columns={\"Weight\": \"kg_weights\"}, inplace=True)"
   ]
  },
  {
   "cell_type": "code",
   "execution_count": 464,
   "id": "ef802b94",
   "metadata": {},
   "outputs": [
    {
     "data": {
      "text/plain": [
       "NaN       6974\n",
       "1163.0     574\n",
       "1360.0     356\n",
       "1165.0     301\n",
       "1335.0     242\n",
       "          ... \n",
       "1960.0       1\n",
       "1258.0       1\n",
       "1167.0       1\n",
       "1331.0       1\n",
       "2037.0       1\n",
       "Name: kg_weights, Length: 435, dtype: int64"
      ]
     },
     "execution_count": 464,
     "metadata": {},
     "output_type": "execute_result"
    }
   ],
   "source": [
    "df[\"kg_weights\"].value_counts(dropna=False)"
   ]
  },
  {
   "cell_type": "markdown",
   "id": "04a48f82",
   "metadata": {},
   "source": [
    "##### 35- Drive chain column"
   ]
  },
  {
   "cell_type": "code",
   "execution_count": 465,
   "id": "f87877e3",
   "metadata": {},
   "outputs": [
    {
     "data": {
      "text/plain": [
       "0        [\\nfront\\n]\n",
       "1        [\\nfront\\n]\n",
       "2        [\\nfront\\n]\n",
       "3                NaN\n",
       "4        [\\nfront\\n]\n",
       "            ...     \n",
       "15914    [\\nfront\\n]\n",
       "15915    [\\nfront\\n]\n",
       "15916    [\\nfront\\n]\n",
       "15917    [\\nfront\\n]\n",
       "15918      [\\n4WD\\n]\n",
       "Name: Drive chain, Length: 15919, dtype: object"
      ]
     },
     "execution_count": 465,
     "metadata": {},
     "output_type": "execute_result"
    }
   ],
   "source": [
    "df[\"Drive chain\"]"
   ]
  },
  {
   "cell_type": "code",
   "execution_count": 466,
   "id": "5ccadaa1",
   "metadata": {},
   "outputs": [
    {
     "data": {
      "text/plain": [
       "0        front\n",
       "1        front\n",
       "2        front\n",
       "3          NaN\n",
       "4        front\n",
       "         ...  \n",
       "15914    front\n",
       "15915    front\n",
       "15916    front\n",
       "15917    front\n",
       "15918      4WD\n",
       "Name: Drive chain, Length: 15919, dtype: object"
      ]
     },
     "execution_count": 466,
     "metadata": {},
     "output_type": "execute_result"
    }
   ],
   "source": [
    "df[\"Drive chain\"].apply(lambda x: x[0] if type(x) == list else x).str.replace(\"\\n\", \"\")"
   ]
  },
  {
   "cell_type": "code",
   "execution_count": 467,
   "id": "6e63853f",
   "metadata": {},
   "outputs": [],
   "source": [
    "df[\"Drive chain\"] = df[\"Drive chain\"].apply(lambda x: x[0] if type(x) == list else x).str.replace(\"\\n\", \"\")"
   ]
  },
  {
   "cell_type": "code",
   "execution_count": 468,
   "id": "15e1882e",
   "metadata": {},
   "outputs": [],
   "source": [
    "df.rename(columns={\"Drive chain\": \"drive_chain\"}, inplace=True)"
   ]
  },
  {
   "cell_type": "code",
   "execution_count": 469,
   "id": "5b098084",
   "metadata": {},
   "outputs": [
    {
     "data": {
      "text/plain": [
       "front    8886\n",
       "NaN      6858\n",
       "4WD       171\n",
       "rear        4\n",
       "Name: drive_chain, dtype: int64"
      ]
     },
     "execution_count": 469,
     "metadata": {},
     "output_type": "execute_result"
    }
   ],
   "source": [
    "df[\"drive_chain\"].value_counts(dropna=False)"
   ]
  },
  {
   "cell_type": "markdown",
   "id": "e7ad38ff",
   "metadata": {},
   "source": [
    "##### 36- Fuel column"
   ]
  },
  {
   "cell_type": "code",
   "execution_count": 470,
   "id": "984b9ff9",
   "metadata": {},
   "outputs": [
    {
     "data": {
      "text/plain": [
       "0                    [\\n, Diesel (Particulate Filter), \\n]\n",
       "1                                       [\\n, Gasoline, \\n]\n",
       "2                    [\\n, Diesel (Particulate Filter), \\n]\n",
       "3                    [\\n, Diesel (Particulate Filter), \\n]\n",
       "4                    [\\n, Diesel (Particulate Filter), \\n]\n",
       "                               ...                        \n",
       "15914                [\\n, Diesel (Particulate Filter), \\n]\n",
       "15915    [\\n, Super 95 / Super Plus 98 (Particulate Fil...\n",
       "15916                                     [\\n, Diesel, \\n]\n",
       "15917                                     [\\n, Diesel, \\n]\n",
       "15918                                   [\\n, Super 95, \\n]\n",
       "Name: Fuel, Length: 15919, dtype: object"
      ]
     },
     "execution_count": 470,
     "metadata": {},
     "output_type": "execute_result"
    }
   ],
   "source": [
    "df[\"Fuel\"]"
   ]
  },
  {
   "cell_type": "code",
   "execution_count": 471,
   "id": "c05ac26e",
   "metadata": {},
   "outputs": [
    {
     "data": {
      "text/plain": [
       "0                          Diesel (Particulate Filter)\n",
       "1                                             Gasoline\n",
       "2                          Diesel (Particulate Filter)\n",
       "3                          Diesel (Particulate Filter)\n",
       "4                          Diesel (Particulate Filter)\n",
       "                             ...                      \n",
       "15914                      Diesel (Particulate Filter)\n",
       "15915    Super 95 / Super Plus 98 (Particulate Filter)\n",
       "15916                                           Diesel\n",
       "15917                                           Diesel\n",
       "15918                                         Super 95\n",
       "Name: Fuel, Length: 15919, dtype: object"
      ]
     },
     "execution_count": 471,
     "metadata": {},
     "output_type": "execute_result"
    }
   ],
   "source": [
    "df[\"Fuel\"].apply(lambda x : x[1] if type(x) ==list else x)"
   ]
  },
  {
   "cell_type": "code",
   "execution_count": 472,
   "id": "36f88b6d",
   "metadata": {},
   "outputs": [],
   "source": [
    "df[\"Fuel\"] = df[\"Fuel\"].apply(lambda x : x[1] if type(x) ==list else x)"
   ]
  },
  {
   "cell_type": "code",
   "execution_count": 473,
   "id": "6255e1b2",
   "metadata": {},
   "outputs": [
    {
     "data": {
      "text/plain": [
       "Diesel (Particulate Filter)                                                                                                       4315\n",
       "Super 95                                                                                                                          3338\n",
       "Gasoline                                                                                                                          3175\n",
       "Diesel                                                                                                                            2984\n",
       "Super 95 / Regular/Benzine 91                                                                                                      424\n",
       "Regular/Benzine 91                                                                                                                 354\n",
       "Super E10 95                                                                                                                       331\n",
       "Super 95 (Particulate Filter)                                                                                                      268\n",
       "Super 95 / Super E10 95                                                                                                            131\n",
       "Regular/Benzine 91 (Particulate Filter)                                                                                            100\n",
       "Super 95 / Super Plus 98                                                                                                            85\n",
       "Gasoline (Particulate Filter)                                                                                                       77\n",
       "Super 95 / Super Plus 98 / Super E10 95 / Super Plus E10 98                                                                         40\n",
       "Super E10 95 / Super 95                                                                                                             38\n",
       "CNG                                                                                                                                 33\n",
       "Super 95 / Super E10 95 (Particulate Filter)                                                                                        25\n",
       "Super E10 95 / Super 95 / Super Plus 98 / Super Plus E10 98                                                                         19\n",
       "LPG                                                                                                                                 16\n",
       "Super 95 / Super Plus 98 (Particulate Filter)                                                                                       14\n",
       "Regular/Benzine 91 / Super 95 / Super Plus 98 / Regular/Benzine E10 91 / Super E10 95 / Super Plus E10 98                           13\n",
       "Regular/Benzine E10 91                                                                                                              11\n",
       "Liquid petroleum gas (LPG)                                                                                                          10\n",
       "Super 95 / Super Plus 98 / Super E10 95                                                                                              8\n",
       "Regular/Benzine 91 / Regular/Benzine E10 91                                                                                          7\n",
       "Super 95 / Regular/Benzine 91 / Super Plus 98 / Regular/Benzine E10 91 / Super E10 95 / Super Plus E10 98                            7\n",
       "Super Plus 98                                                                                                                        7\n",
       "Super E10 95 (Particulate Filter)                                                                                                    7\n",
       "Super 95 / Super Plus 98 / Super Plus E10 98 / Super E10 95                                                                          5\n",
       "Others                                                                                                                               5\n",
       "Super E10 95 / Super Plus E10 98                                                                                                     4\n",
       "Electric/Gasoline                                                                                                                    4\n",
       "Super 95 / Super Plus 98 / Super E10 95 / Super Plus E10 98 (Particulate Filter)                                                     4\n",
       "Super 95 / Super E10 95 / Super Plus E10 98 / Super Plus 98                                                                          4\n",
       "Regular/Benzine 91 / Super 95 / Super Plus 98 / Regular/Benzine E10 91 / Super Plus E10 98 / Super E10 95                            4\n",
       "CNG (Particulate Filter)                                                                                                             3\n",
       "Super E10 95 / Super 95 / Super Plus 98 / Super Plus E10 98 (Particulate Filter)                                                     3\n",
       "Super E10 95 / Super 95 / Super Plus 98                                                                                              3\n",
       "Super E10 95 / Regular/Benzine 91                                                                                                    2\n",
       "Super 95 / Regular/Benzine 91 / Super Plus 98                                                                                        2\n",
       "Regular/Benzine 91 / Super 95 / Super Plus 98 / Super Plus E10 98 / Super E10 95 / Regular/Benzine E10 91                            2\n",
       "Regular/Benzine 91 / Super 95 / Super E10 95                                                                                         1\n",
       "Electric                                                                                                                             1\n",
       "Regular/Benzine 91 / Super 95 / Super E10 95 / Super Plus E10 98 / Super Plus 98 / Regular/Benzine E10 91                            1\n",
       "Super 95 / Super E10 95 / Super Plus E10 98                                                                                          1\n",
       "Super 95 / Super E10 95 / Super Plus 98                                                                                              1\n",
       "Regular/Benzine 91 / Super 95 / Super Plus E10 98 / Super E10 95 / Regular/Benzine E10 91 / Super Plus 98                            1\n",
       "Super 95 / Super Plus 98 / Regular/Benzine E10 91 / Super Plus E10 98 / Super E10 95 / Regular/Benzine 91                            1\n",
       "Super 95 / Regular/Benzine E10 91                                                                                                    1\n",
       "Super E10 95 / Regular/Benzine 91 / Regular/Benzine E10 91 / Super 95                                                                1\n",
       "Super Plus 98 / Regular/Benzine 91                                                                                                   1\n",
       "Super 95 / Regular/Benzine 91 / Super E10 95 / Super Plus 98 / Super Plus E10 98 / Regular/Benzine E10 91                            1\n",
       "Super 95 / Super Plus 98 / Super Plus E10 98                                                                                         1\n",
       "Super 95 / Regular/Benzine 91 (Particulate Filter)                                                                                   1\n",
       "Super 95 / Super E10 95 / Regular/Benzine 91                                                                                         1\n",
       "Regular/Benzine 91 / Super 95 / Super E10 95 / Regular/Benzine E10 91                                                                1\n",
       "Super 95 / Regular/Benzine E10 91 / Super E10 95                                                                                     1\n",
       "Super 95 / Regular/Benzine 91 / Super Plus 98 / Regular/Benzine E10 91 / Super Plus E10 98 / Super E10 95                            1\n",
       "Regular/Benzine E10 91 / Super E10 95 / Super Plus E10 98 / Super Plus 98 / Super 95 / Regular/Benzine 91                            1\n",
       "Super 95 / Regular/Benzine 91 / Super E10 95 / Super Plus E10 98 / Super Plus 98                                                     1\n",
       "Others (Particulate Filter)                                                                                                          1\n",
       "Biogas                                                                                                                               1\n",
       "Super 95 / Biodiesel                                                                                                                 1\n",
       "Regular/Benzine 91 / Super 95 / Super Plus 98 / Super Plus E10 98 / Super E10 95 / Regular/Benzine E10 91 (Particulate Filter)       1\n",
       "Regular/Benzine 91 / Super 95 / Super Plus 98                                                                                        1\n",
       "Regular/Benzine 91 / Super 95                                                                                                        1\n",
       "Regular/Benzine E10 91 / Regular/Benzine 91 / Super 95 / Super Plus 98 / Super E10 95 / Super Plus E10 98                            1\n",
       "Domestic gas H                                                                                                                       1\n",
       "Super E10 95 / Regular/Benzine 91 / Super 95 / Super Plus 98 / Regular/Benzine E10 91 / Super Plus E10 98                            1\n",
       "Super Plus E10 98 / Super 95 / Super Plus 98 / Super E10 95                                                                          1\n",
       "Super 95 / Regular/Benzine 91 / Super E10 95 / Super Plus E10 98 / Super Plus 98 / Regular/Benzine E10 91                            1\n",
       "Super Plus 98 / Super 95 / Super E10 95                                                                                              1\n",
       "Super Plus E10 98                                                                                                                    1\n",
       "Regular/Benzine 91 / Super 95 / Regular/Benzine E10 91                                                                               1\n",
       "Super Plus 98 / Super E10 95                                                                                                         1\n",
       "Regular/Benzine 91 / Super 95 / Regular/Benzine E10 91 / Super E10 95 / Super Plus 98 / Super Plus E10 98                            1\n",
       "Regular/Benzine 91 / Super Plus 98 / Regular/Benzine E10 91 / Super 95 / Super E10 95 / Super Plus E10 98                            1\n",
       "Super Plus 98 / Super 95 / Super Plus E10 98                                                                                         1\n",
       "Name: Fuel, dtype: int64"
      ]
     },
     "execution_count": 473,
     "metadata": {},
     "output_type": "execute_result"
    }
   ],
   "source": [
    "df[\"Fuel\"].value_counts(dropna=False)"
   ]
  },
  {
   "cell_type": "code",
   "execution_count": 474,
   "id": "ac37f69e",
   "metadata": {
    "scrolled": true
   },
   "outputs": [
    {
     "data": {
      "text/plain": [
       "0        Diesel (Particulate Filter)\n",
       "1                           Gasoline\n",
       "2        Diesel (Particulate Filter)\n",
       "3        Diesel (Particulate Filter)\n",
       "4        Diesel (Particulate Filter)\n",
       "                    ...             \n",
       "15914    Diesel (Particulate Filter)\n",
       "15915                      Super 95 \n",
       "15916                         Diesel\n",
       "15917                         Diesel\n",
       "15918                       Super 95\n",
       "Name: 0, Length: 15919, dtype: object"
      ]
     },
     "execution_count": 474,
     "metadata": {},
     "output_type": "execute_result"
    }
   ],
   "source": [
    "df[\"Fuel\"].str.split(\"/\", expand=True)[0]"
   ]
  },
  {
   "cell_type": "code",
   "execution_count": 475,
   "id": "df248aa1",
   "metadata": {},
   "outputs": [],
   "source": [
    "df[\"Fuel\"] =df[\"Fuel\"].str.split(\"/\", expand=True)[0].str.strip()"
   ]
  },
  {
   "cell_type": "code",
   "execution_count": 476,
   "id": "60c1baee",
   "metadata": {},
   "outputs": [],
   "source": [
    "df[\"Fuel\"] = df[\"Fuel\"].str.split(\"(\", expand=True)[0].str.strip()"
   ]
  },
  {
   "cell_type": "code",
   "execution_count": 477,
   "id": "c2e5ddb5",
   "metadata": {},
   "outputs": [
    {
     "data": {
      "text/plain": [
       "Diesel                  7299\n",
       "Super 95                4368\n",
       "Gasoline                3252\n",
       "Regular                  503\n",
       "Super E10 95             409\n",
       "CNG                       36\n",
       "LPG                       16\n",
       "Super Plus 98             11\n",
       "Liquid petroleum gas      10\n",
       "Others                     6\n",
       "Electric                   5\n",
       "Super Plus E10 98          2\n",
       "Biogas                     1\n",
       "Domestic gas H             1\n",
       "Name: Fuel, dtype: int64"
      ]
     },
     "execution_count": 477,
     "metadata": {},
     "output_type": "execute_result"
    }
   ],
   "source": [
    "df[\"Fuel\"].value_counts()"
   ]
  },
  {
   "cell_type": "code",
   "execution_count": 478,
   "id": "f7b8e2e6",
   "metadata": {},
   "outputs": [],
   "source": [
    "benzine = [\"Gasoline\", \"Super 95\", \"Regular\", \"Super E10 95\", \"Super Plus 98\", \"Super Plus E10 98\", \"Others\",\\\n",
    "           \"Regular/Benzine 91\",]\n",
    "lpg = [\"LPG\", \"Liquid petroleum gas\", \"CNG\", \"Biogas\", \"Domestic gas H\"]\n",
    "def fueltype(x):\n",
    "    if x in benzine:\n",
    "        return \"Benzine\"\n",
    "    elif x in lpg:\n",
    "        return \"LPG/CNG\"\n",
    "    else:\n",
    "        return x"
   ]
  },
  {
   "cell_type": "code",
   "execution_count": 479,
   "id": "f741d1a9",
   "metadata": {},
   "outputs": [],
   "source": [
    "df[\"Fuel\"] = df[\"Fuel\"].apply(fueltype)"
   ]
  },
  {
   "cell_type": "code",
   "execution_count": 480,
   "id": "b5e9fcf4",
   "metadata": {},
   "outputs": [
    {
     "data": {
      "text/plain": [
       "Benzine     8551\n",
       "Diesel      7299\n",
       "LPG/CNG       64\n",
       "Electric       5\n",
       "Name: Fuel, dtype: int64"
      ]
     },
     "execution_count": 480,
     "metadata": {},
     "output_type": "execute_result"
    }
   ],
   "source": [
    "df[\"Fuel\"].value_counts()"
   ]
  },
  {
   "cell_type": "markdown",
   "id": "85f1aa9d",
   "metadata": {},
   "source": [
    "##### 37- Consumption column"
   ]
  },
  {
   "cell_type": "code",
   "execution_count": 481,
   "id": "13826944",
   "metadata": {},
   "outputs": [
    {
     "data": {
      "text/plain": [
       "[['6.7 l/100 km (comb)'], ['8.6 l/100 km (city)'], ['5.6 l/100 km (country)']]                       10\n",
       "['\\n', '5.9 l/100 km (comb)', '\\n', '7.8 l/100 km (city)', '\\n', '4.7 l/100 km (country)', '\\n']      2\n",
       "[['5.7 l/100 km (comb)'], ['7.4 l/100 km (city)'], ['4.8 l/100 km (country)']]                        8\n",
       "[['4.6 l/100 km (comb)'], ['5.8 l/100 km (city)'], ['3.9 l/100 km (country)']]                      129\n",
       "[['5.6 l/100 km (comb)'], ['7.5 l/100 km (city)'], ['4.5 l/100 km (country)']]                        3\n",
       "[['5 l/100 km (comb)'], ['6.2 l/100 km (city)'], ['4.3 l/100 km (country)']]                          9\n",
       "[['4.5 l/100 km (comb)'], ['5.4 l/100 km (city)'], ['3.8 l/100 km (country)']]                        4\n",
       "[['4.6 l/100 km (comb)'], [], []]                                                                    43\n",
       "[['6.8 l/100 km (comb)'], ['8.6 l/100 km (city)'], ['5.8 l/100 km (country)']]                        1\n",
       "[['6.8 l/100 km (comb)'], ['8.3 l/100 km (city)'], ['6 l/100 km (country)']]                          1\n",
       "[['4.2 l/100 km (comb)'], ['6 l/100 km (city)'], ['4.9 l/100 km (country)']]                          1\n",
       "[['5 l/100 km (comb)'], [], ['4.3 l/100 km (country)']]                                               2\n",
       "[['55 l/100 km (comb)'], ['7.3 l/100 km (city)'], ['4.5 l/100 km (country)']]                         1\n",
       "[[], ['5 l/100 km (city)'], ['4 l/100 km (country)']]                                                 1\n",
       "['\\n', '5.3 l/100 km (comb)', '\\n', '7 l/100 km (city)', '\\n', '4.3 l/100 km (country)', '\\n']        1\n",
       "['\\n', '4.6 l/100 km (comb)', '\\n', '5.8 l/100 km (city)', '\\n', '3.9 l/100 km (country)', '\\n']      2\n",
       "[['3.2 l/100 km (comb)'], ['3.8 l/100 km (city)'], ['3 l/100 km (country)']]                          2\n",
       "[['5.5 l/100 km (comb)'], ['7.1 l/100 km (city)'], ['4.6 l/100 km (country)']]                        9\n",
       "[['5.2 l/100 km (comb)'], ['6.4 l/100 km (city)'], ['4.5 l/100 km (country)']]                        2\n",
       "[['5.3 l/100 km (comb)'], ['6 l/100 km (city)'], ['5 l/100 km (country)']]                            1\n",
       "['\\n', '5.3 l/100 km (comb)', '\\n', '6.8 l/100 km (city)', '\\n', '4.5 l/100 km (country)', '\\n']      2\n",
       "[['4 l/100 km (comb)'], ['4.2 l/100 km (city)'], ['3.9 l/100 km (country)']]                         69\n",
       "[['5.7 l/100 km (comb)'], ['7 l/100 km (city)'], ['4.9 l/100 km (country)']]                          1\n",
       "[['7.4 l/100 km (comb)'], ['9.1 l/100 km (city)'], ['6.3 l/100 km (country)']]                       12\n",
       "[['8.6 l/100 km (comb)'], ['11.2 l/100 km (city)'], ['7.1 l/100 km (country)']]                       1\n",
       "[['8.7 l/100 km (comb)'], ['6.4 l/100 km (city)'], ['5 l/100 km (country)']]                          1\n",
       "[['4.3 l/100 km (comb)'], ['5 l/100 km (city)'], ['3.8 l/100 km (country)']]                          3\n",
       "['\\n', '6.2 l/100 km (comb)', '\\n', '7.6 l/100 km (city)', '\\n', '5.4 l/100 km (country)', '\\n']      4\n",
       "['\\n', '4.8 l/100 km (comb)', '\\n', '5.9 l/100 km (city)', '\\n', '4.1 l/100 km (country)', '\\n']     10\n",
       "[['4.1 l/100 km (comb)'], ['5.2 l/100 km (city)'], ['3.6 l/100 km (country)']]                        1\n",
       "Name: Consumption, dtype: int64"
      ]
     },
     "execution_count": 481,
     "metadata": {},
     "output_type": "execute_result"
    }
   ],
   "source": [
    "df[\"Consumption\"].astype(\"str\").value_counts(dropna=False).sample(30)"
   ]
  },
  {
   "cell_type": "code",
   "execution_count": 482,
   "id": "8ddd0ecf",
   "metadata": {},
   "outputs": [],
   "source": [
    "def consumption_converter_comb(x):\n",
    "    if type(x) == list and len(x) == 3:\n",
    "        if x[0] != []:\n",
    "            return x[0][0]\n",
    "        else:\n",
    "            return None\n",
    "    elif type(x) == list and len(x) == 5:\n",
    "        return x[1]\n",
    "    elif type(x) == list and len(x) == 7:\n",
    "        return x[1]\n",
    "    else:\n",
    "        return None"
   ]
  },
  {
   "cell_type": "code",
   "execution_count": 483,
   "id": "da93cd86",
   "metadata": {},
   "outputs": [
    {
     "data": {
      "text/plain": [
       "0        3.8\n",
       "1        5.6\n",
       "2        3.8\n",
       "3        3.8\n",
       "4        4.1\n",
       "        ... \n",
       "15914    5.3\n",
       "15915    7.4\n",
       "15916    5.3\n",
       "15917    5.3\n",
       "15918    6.8\n",
       "Name: 0, Length: 15919, dtype: object"
      ]
     },
     "execution_count": 483,
     "metadata": {},
     "output_type": "execute_result"
    }
   ],
   "source": [
    "df[\"Consumption\"].apply(consumption_converter_comb).str.split(\" \",expand=True)[0]"
   ]
  },
  {
   "cell_type": "code",
   "execution_count": 484,
   "id": "e11bea39",
   "metadata": {},
   "outputs": [],
   "source": [
    "df[\"consumption_comb(100km/l)\"]= df[\"Consumption\"].apply(consumption_converter_comb).str.split(\" \",expand=True)[0].astype(\"float\")"
   ]
  },
  {
   "cell_type": "code",
   "execution_count": 485,
   "id": "bd48c952",
   "metadata": {},
   "outputs": [
    {
     "data": {
      "text/plain": [
       "0        3.8\n",
       "1        5.6\n",
       "2        3.8\n",
       "3        3.8\n",
       "4        4.1\n",
       "        ... \n",
       "15914    5.3\n",
       "15915    7.4\n",
       "15916    5.3\n",
       "15917    5.3\n",
       "15918    6.8\n",
       "Name: consumption_comb(100km/l), Length: 15919, dtype: float64"
      ]
     },
     "execution_count": 485,
     "metadata": {},
     "output_type": "execute_result"
    }
   ],
   "source": [
    "df[\"consumption_comb(100km/l)\"]"
   ]
  },
  {
   "cell_type": "code",
   "execution_count": 486,
   "id": "eac7f5b5",
   "metadata": {},
   "outputs": [
    {
     "data": {
      "text/plain": [
       "nan     2033\n",
       "5.4      770\n",
       "3.9      733\n",
       "4.0      713\n",
       "5.1      657\n",
       "4.4      623\n",
       "5.6      618\n",
       "4.7      602\n",
       "3.8      585\n",
       "4.8      546\n",
       "5.0      545\n",
       "4.5      523\n",
       "5.2      454\n",
       "4.2      435\n",
       "4.6      426\n",
       "4.9      393\n",
       "5.5      380\n",
       "5.3      380\n",
       "3.7      369\n",
       "5.9      369\n",
       "4.1      342\n",
       "5.7      342\n",
       "6.0      331\n",
       "4.3      307\n",
       "3.3      307\n",
       "3.5      288\n",
       "6.2      216\n",
       "3.6      194\n",
       "6.3      181\n",
       "6.1      175\n",
       "5.8      164\n",
       "6.6      148\n",
       "6.8      136\n",
       "3.4      106\n",
       "6.4       75\n",
       "3.0       69\n",
       "7.4       66\n",
       "6.5       43\n",
       "6.7       43\n",
       "7.1       38\n",
       "10.0      34\n",
       "6.9       27\n",
       "3.2       25\n",
       "8.3       20\n",
       "7.6       14\n",
       "7.0       10\n",
       "3.1        7\n",
       "7.2        6\n",
       "7.8        6\n",
       "8.0        5\n",
       "51.0       4\n",
       "8.6        4\n",
       "7.9        3\n",
       "8.7        3\n",
       "1.6        3\n",
       "7.3        2\n",
       "8.1        2\n",
       "40.0       2\n",
       "38.0       2\n",
       "0.0        2\n",
       "9.1        1\n",
       "43.0       1\n",
       "7.5        1\n",
       "13.8       1\n",
       "55.0       1\n",
       "54.0       1\n",
       "1.2        1\n",
       "32.0       1\n",
       "33.0       1\n",
       "50.0       1\n",
       "1.0        1\n",
       "46.0       1\n",
       "11.0       1\n",
       "Name: consumption_comb(100km/l), dtype: int64"
      ]
     },
     "execution_count": 486,
     "metadata": {},
     "output_type": "execute_result"
    }
   ],
   "source": [
    "df[\"consumption_comb(100km/l)\"].astype(\"str\").value_counts(dropna=False)"
   ]
  },
  {
   "cell_type": "code",
   "execution_count": 487,
   "id": "a2f9c447",
   "metadata": {},
   "outputs": [],
   "source": [
    "def consumption_converter_city(x):\n",
    "    if type(x) == list and len(x) == 3:\n",
    "        if x[1] != []:\n",
    "            return x[1  ][0]\n",
    "        else:\n",
    "            return None\n",
    "    elif type(x) == list and len(x) == 5:\n",
    "        return None\n",
    "    elif type(x) == list and len(x) == 7:\n",
    "        return x[3]\n",
    "    else:\n",
    "        return None"
   ]
  },
  {
   "cell_type": "code",
   "execution_count": 488,
   "id": "55ebcc1f",
   "metadata": {},
   "outputs": [
    {
     "data": {
      "text/html": [
       "<div>\n",
       "<style scoped>\n",
       "    .dataframe tbody tr th:only-of-type {\n",
       "        vertical-align: middle;\n",
       "    }\n",
       "\n",
       "    .dataframe tbody tr th {\n",
       "        vertical-align: top;\n",
       "    }\n",
       "\n",
       "    .dataframe thead th {\n",
       "        text-align: right;\n",
       "    }\n",
       "</style>\n",
       "<table border=\"1\" class=\"dataframe\">\n",
       "  <thead>\n",
       "    <tr style=\"text-align: right;\">\n",
       "      <th></th>\n",
       "      <th>0</th>\n",
       "    </tr>\n",
       "  </thead>\n",
       "  <tbody>\n",
       "    <tr>\n",
       "      <th>0</th>\n",
       "      <td>4.3</td>\n",
       "    </tr>\n",
       "    <tr>\n",
       "      <th>1</th>\n",
       "      <td>7.1</td>\n",
       "    </tr>\n",
       "    <tr>\n",
       "      <th>2</th>\n",
       "      <td>4.4</td>\n",
       "    </tr>\n",
       "    <tr>\n",
       "      <th>3</th>\n",
       "      <td>4.3</td>\n",
       "    </tr>\n",
       "    <tr>\n",
       "      <th>4</th>\n",
       "      <td>4.6</td>\n",
       "    </tr>\n",
       "    <tr>\n",
       "      <th>...</th>\n",
       "      <td>...</td>\n",
       "    </tr>\n",
       "    <tr>\n",
       "      <th>15914</th>\n",
       "      <td>6.2</td>\n",
       "    </tr>\n",
       "    <tr>\n",
       "      <th>15915</th>\n",
       "      <td>9.2</td>\n",
       "    </tr>\n",
       "    <tr>\n",
       "      <th>15916</th>\n",
       "      <td>6.2</td>\n",
       "    </tr>\n",
       "    <tr>\n",
       "      <th>15917</th>\n",
       "      <td>6.2</td>\n",
       "    </tr>\n",
       "    <tr>\n",
       "      <th>15918</th>\n",
       "      <td>8.7</td>\n",
       "    </tr>\n",
       "  </tbody>\n",
       "</table>\n",
       "<p>15919 rows × 1 columns</p>\n",
       "</div>"
      ],
      "text/plain": [
       "         0\n",
       "0      4.3\n",
       "1      7.1\n",
       "2      4.4\n",
       "3      4.3\n",
       "4      4.6\n",
       "...    ...\n",
       "15914  6.2\n",
       "15915  9.2\n",
       "15916  6.2\n",
       "15917  6.2\n",
       "15918  8.7\n",
       "\n",
       "[15919 rows x 1 columns]"
      ]
     },
     "execution_count": 488,
     "metadata": {},
     "output_type": "execute_result"
    }
   ],
   "source": [
    "df[\"Consumption\"].apply(consumption_converter_city).str.extract(\"(\\d{1,2}.\\d|\\d{1,3})\").astype(\"float\")"
   ]
  },
  {
   "cell_type": "code",
   "execution_count": 489,
   "id": "915a4846",
   "metadata": {},
   "outputs": [],
   "source": [
    "df[\"consumption_city(100km/l)\"] = df[\"Consumption\"].apply(consumption_converter_city).str.extract(\"(\\d{1,2}.\\d|\\d{1,3})\").astype(\"float\")"
   ]
  },
  {
   "cell_type": "code",
   "execution_count": 490,
   "id": "01d80dca",
   "metadata": {},
   "outputs": [
    {
     "data": {
      "text/plain": [
       "NaN     2436\n",
       "5.0      669\n",
       "5.8      633\n",
       "4.5      580\n",
       "4.3      533\n",
       "5.1      479\n",
       "6.8      454\n",
       "7.2      445\n",
       "7.3      435\n",
       "4.6      417\n",
       "7.8      413\n",
       "5.9      389\n",
       "5.7      376\n",
       "4.2      353\n",
       "6.6      352\n",
       "6.7      346\n",
       "5.2      345\n",
       "6.3      338\n",
       "5.4      321\n",
       "4.1      320\n",
       "4.0      300\n",
       "4.7      289\n",
       "7.5      267\n",
       "7.1      258\n",
       "6.0      251\n",
       "7.6      248\n",
       "3.9      245\n",
       "3.5      230\n",
       "6.9      223\n",
       "5.5      216\n",
       "6.2      211\n",
       "7.7      204\n",
       "7.0      194\n",
       "7.4      179\n",
       "6.5      162\n",
       "8.7      161\n",
       "6.1      152\n",
       "8.2      140\n",
       "4.4      136\n",
       "6.4      121\n",
       "8.0      110\n",
       "5.6      104\n",
       "5.3      101\n",
       "7.9      101\n",
       "4.8       72\n",
       "4.9       58\n",
       "3.7       53\n",
       "3.4       50\n",
       "8.6       42\n",
       "9.6       42\n",
       "8.3       41\n",
       "8.5       39\n",
       "9.2       34\n",
       "3.3       30\n",
       "3.8       26\n",
       "8.1       25\n",
       "10.2      21\n",
       "11.3      19\n",
       "10.0      16\n",
       "9.9       15\n",
       "9.4       14\n",
       "9.1       12\n",
       "3.0        9\n",
       "8.4        7\n",
       "0.0        6\n",
       "9.8        5\n",
       "11.5       4\n",
       "11.0       4\n",
       "11.2       4\n",
       "62.0       4\n",
       "8.9        4\n",
       "10.8       3\n",
       "9.5        3\n",
       "10.1       2\n",
       "43.0       2\n",
       "45.0       2\n",
       "1.0        2\n",
       "8.8        2\n",
       "3.6        2\n",
       "19.9       1\n",
       "64.0       1\n",
       "66.0       1\n",
       "9.0        1\n",
       "10.5       1\n",
       "16.1       1\n",
       "10.4       1\n",
       "9.7        1\n",
       "Name: consumption_city(100km/l), dtype: int64"
      ]
     },
     "execution_count": 490,
     "metadata": {},
     "output_type": "execute_result"
    }
   ],
   "source": [
    "df[\"consumption_city(100km/l)\"].value_counts(dropna=False)"
   ]
  },
  {
   "cell_type": "code",
   "execution_count": 491,
   "id": "f0db614a",
   "metadata": {},
   "outputs": [],
   "source": [
    "def consumption_converter_country(x):\n",
    "    if type(x) == list and len(x) == 3:\n",
    "        if x[2] != []:\n",
    "            return x[2][0]\n",
    "        else:\n",
    "            return None\n",
    "    elif type(x) == list and len(x) == 5:\n",
    "        return None\n",
    "    elif type(x) == list and len(x) == 7:\n",
    "        return x[5]\n",
    "    else:\n",
    "        return None"
   ]
  },
  {
   "cell_type": "code",
   "execution_count": 492,
   "id": "ad514362",
   "metadata": {},
   "outputs": [
    {
     "data": {
      "text/html": [
       "<div>\n",
       "<style scoped>\n",
       "    .dataframe tbody tr th:only-of-type {\n",
       "        vertical-align: middle;\n",
       "    }\n",
       "\n",
       "    .dataframe tbody tr th {\n",
       "        vertical-align: top;\n",
       "    }\n",
       "\n",
       "    .dataframe thead th {\n",
       "        text-align: right;\n",
       "    }\n",
       "</style>\n",
       "<table border=\"1\" class=\"dataframe\">\n",
       "  <thead>\n",
       "    <tr style=\"text-align: right;\">\n",
       "      <th></th>\n",
       "      <th>0</th>\n",
       "    </tr>\n",
       "  </thead>\n",
       "  <tbody>\n",
       "    <tr>\n",
       "      <th>0</th>\n",
       "      <td>3.5</td>\n",
       "    </tr>\n",
       "    <tr>\n",
       "      <th>1</th>\n",
       "      <td>4.7</td>\n",
       "    </tr>\n",
       "    <tr>\n",
       "      <th>2</th>\n",
       "      <td>3.4</td>\n",
       "    </tr>\n",
       "    <tr>\n",
       "      <th>3</th>\n",
       "      <td>3.5</td>\n",
       "    </tr>\n",
       "    <tr>\n",
       "      <th>4</th>\n",
       "      <td>3.8</td>\n",
       "    </tr>\n",
       "    <tr>\n",
       "      <th>...</th>\n",
       "      <td>...</td>\n",
       "    </tr>\n",
       "    <tr>\n",
       "      <th>15914</th>\n",
       "      <td>4.7</td>\n",
       "    </tr>\n",
       "    <tr>\n",
       "      <th>15915</th>\n",
       "      <td>6.3</td>\n",
       "    </tr>\n",
       "    <tr>\n",
       "      <th>15916</th>\n",
       "      <td>4.7</td>\n",
       "    </tr>\n",
       "    <tr>\n",
       "      <th>15917</th>\n",
       "      <td>4.7</td>\n",
       "    </tr>\n",
       "    <tr>\n",
       "      <th>15918</th>\n",
       "      <td>5.7</td>\n",
       "    </tr>\n",
       "  </tbody>\n",
       "</table>\n",
       "<p>15919 rows × 1 columns</p>\n",
       "</div>"
      ],
      "text/plain": [
       "         0\n",
       "0      3.5\n",
       "1      4.7\n",
       "2      3.4\n",
       "3      3.5\n",
       "4      3.8\n",
       "...    ...\n",
       "15914  4.7\n",
       "15915  6.3\n",
       "15916  4.7\n",
       "15917  4.7\n",
       "15918  5.7\n",
       "\n",
       "[15919 rows x 1 columns]"
      ]
     },
     "execution_count": 492,
     "metadata": {},
     "output_type": "execute_result"
    }
   ],
   "source": [
    "df[\"Consumption\"].apply(consumption_converter_country).str.extract(\"(\\S+)\")"
   ]
  },
  {
   "cell_type": "code",
   "execution_count": 493,
   "id": "43dcc112",
   "metadata": {},
   "outputs": [],
   "source": [
    "df[\"consumption_country(100km/l)\"] = df[\"Consumption\"].apply(consumption_converter_country).str.extract(\"(\\S+)\").astype(\"float\")"
   ]
  },
  {
   "cell_type": "code",
   "execution_count": 494,
   "id": "e07959e5",
   "metadata": {},
   "outputs": [
    {
     "data": {
      "text/plain": [
       "NaN     2376\n",
       "4.2     1178\n",
       "3.7     1089\n",
       "4.4      898\n",
       "4.5      848\n",
       "3.8      802\n",
       "3.9      777\n",
       "4.7      615\n",
       "4.1      592\n",
       "4.0      589\n",
       "3.5      525\n",
       "4.3      520\n",
       "4.6      516\n",
       "3.6      486\n",
       "4.9      481\n",
       "3.1      481\n",
       "3.3      457\n",
       "3.4      353\n",
       "4.8      341\n",
       "5.3      278\n",
       "5.4      239\n",
       "5.1      232\n",
       "5.7      204\n",
       "3.2      180\n",
       "5.6      154\n",
       "3.0      142\n",
       "5.0      130\n",
       "5.2      117\n",
       "6.3       52\n",
       "6.0       42\n",
       "5.5       36\n",
       "10.0      32\n",
       "5.8       30\n",
       "7.7       20\n",
       "6.6       19\n",
       "2.9       16\n",
       "6.4       15\n",
       "2.8        9\n",
       "0.0        9\n",
       "7.3        4\n",
       "44.0       4\n",
       "6.5        4\n",
       "7.0        3\n",
       "7.1        3\n",
       "6.9        2\n",
       "35.0       2\n",
       "37.0       2\n",
       "6.1        2\n",
       "5.9        2\n",
       "6.7        2\n",
       "7.8        2\n",
       "7.6        1\n",
       "42.0       1\n",
       "8.0        1\n",
       "8.6        1\n",
       "10.3       1\n",
       "2.0        1\n",
       "1.0        1\n",
       "Name: consumption_country(100km/l), dtype: int64"
      ]
     },
     "execution_count": 494,
     "metadata": {},
     "output_type": "execute_result"
    }
   ],
   "source": [
    "df[\"consumption_country(100km/l)\"].value_counts(dropna=False)"
   ]
  },
  {
   "cell_type": "markdown",
   "id": "c734e8a7",
   "metadata": {},
   "source": [
    "##### 38- CO2 Emission column"
   ]
  },
  {
   "cell_type": "code",
   "execution_count": 495,
   "id": "f3b2ae85",
   "metadata": {},
   "outputs": [
    {
     "data": {
      "text/plain": [
       "0         [\\n99 g CO2/km (comb)\\n]\n",
       "1        [\\n129 g CO2/km (comb)\\n]\n",
       "2         [\\n99 g CO2/km (comb)\\n]\n",
       "3         [\\n99 g CO2/km (comb)\\n]\n",
       "4        [\\n109 g CO2/km (comb)\\n]\n",
       "                   ...            \n",
       "15914    [\\n139 g CO2/km (comb)\\n]\n",
       "15915    [\\n168 g CO2/km (comb)\\n]\n",
       "15916    [\\n139 g CO2/km (comb)\\n]\n",
       "15917    [\\n139 g CO2/km (comb)\\n]\n",
       "15918    [\\n153 g CO2/km (comb)\\n]\n",
       "Name: CO2 Emission, Length: 15919, dtype: object"
      ]
     },
     "execution_count": 495,
     "metadata": {},
     "output_type": "execute_result"
    }
   ],
   "source": [
    "df[\"CO2 Emission\"]"
   ]
  },
  {
   "cell_type": "code",
   "execution_count": 496,
   "id": "f8265af2",
   "metadata": {},
   "outputs": [
    {
     "data": {
      "text/plain": [
       "0         99\n",
       "1        129\n",
       "2         99\n",
       "3         99\n",
       "4        109\n",
       "        ... \n",
       "15914    139\n",
       "15915    168\n",
       "15916    139\n",
       "15917    139\n",
       "15918    153\n",
       "Name: 1, Length: 15919, dtype: object"
      ]
     },
     "execution_count": 496,
     "metadata": {},
     "output_type": "execute_result"
    }
   ],
   "source": [
    "df[\"CO2 Emission\"].apply(lambda x: x[0] if  type(x) == list else x).str.replace(\"\\n\",\" \").str.split(\" \", expand=True)[1]"
   ]
  },
  {
   "cell_type": "code",
   "execution_count": 497,
   "id": "80843b15",
   "metadata": {},
   "outputs": [],
   "source": [
    "df[\"CO2 Emission\"]= df[\"CO2 Emission\"].apply(lambda x: x[0] if  type(x) == list else x)\\\n",
    ".str.replace(\"\\n\",\"\").str.split(\" \", expand=True)[0].str.replace(\",\",\"\").astype(\"float\")"
   ]
  },
  {
   "cell_type": "code",
   "execution_count": 498,
   "id": "5422df30",
   "metadata": {},
   "outputs": [
    {
     "data": {
      "text/plain": [
       "NaN       2436\n",
       "120.0      740\n",
       "99.0       545\n",
       "97.0       537\n",
       "104.0      501\n",
       "          ... \n",
       "14.0         1\n",
       "1060.0       1\n",
       "51.0         1\n",
       "165.0        1\n",
       "193.0        1\n",
       "Name: CO2 Emission, Length: 123, dtype: int64"
      ]
     },
     "execution_count": 498,
     "metadata": {},
     "output_type": "execute_result"
    }
   ],
   "source": [
    "df[\"CO2 Emission\"].value_counts(dropna=False)"
   ]
  },
  {
   "cell_type": "code",
   "execution_count": 499,
   "id": "b5bfc0ed",
   "metadata": {},
   "outputs": [],
   "source": [
    "df.rename(columns={\"CO2 Emission\": \"co2_emission(g/km)\"}, inplace=True)"
   ]
  },
  {
   "cell_type": "markdown",
   "id": "638cd21b",
   "metadata": {},
   "source": [
    "##### 39- Emission Class column"
   ]
  },
  {
   "cell_type": "code",
   "execution_count": 500,
   "id": "8c532acf",
   "metadata": {},
   "outputs": [
    {
     "data": {
      "text/plain": [
       "0              Euro 6\n",
       "1              Euro 6\n",
       "2              Euro 6\n",
       "3              Euro 6\n",
       "4              Euro 6\n",
       "             ...     \n",
       "15914             NaN\n",
       "15915             NaN\n",
       "15916    Euro 6d-TEMP\n",
       "15917          Euro 6\n",
       "15918          Euro 6\n",
       "Name: Emission Class, Length: 15919, dtype: object"
      ]
     },
     "execution_count": 500,
     "metadata": {},
     "output_type": "execute_result"
    }
   ],
   "source": [
    "df[\"Emission Class\"].apply(lambda x: x[0] if type(x)==list else x).str.replace(\"\\n\",\"\")"
   ]
  },
  {
   "cell_type": "code",
   "execution_count": 501,
   "id": "37f16c38",
   "metadata": {},
   "outputs": [],
   "source": [
    "df[\"Emission Class\"]= df[\"Emission Class\"].apply(lambda x: x[0] if type(x)==list else x).str.replace(\"\\n\",\"\")"
   ]
  },
  {
   "cell_type": "code",
   "execution_count": 502,
   "id": "31de791e",
   "metadata": {},
   "outputs": [],
   "source": [
    "df.rename(columns={\"Emission Class\": \"emission_class\"}, inplace=True)"
   ]
  },
  {
   "cell_type": "code",
   "execution_count": 503,
   "id": "19c9920c",
   "metadata": {},
   "outputs": [
    {
     "data": {
      "text/plain": [
       "Euro 6          10139\n",
       "NaN              3628\n",
       "Euro 6d-TEMP     1845\n",
       "Euro 6c           127\n",
       "Euro 5             78\n",
       "Euro 6d            62\n",
       "Euro 4             40\n",
       "Name: emission_class, dtype: int64"
      ]
     },
     "execution_count": 503,
     "metadata": {},
     "output_type": "execute_result"
    }
   ],
   "source": [
    "df[\"emission_class\"].value_counts(dropna=False)"
   ]
  },
  {
   "cell_type": "code",
   "execution_count": 504,
   "id": "4426657d",
   "metadata": {},
   "outputs": [],
   "source": [
    "df[\"emission_class\"].replace({\"Euro 6d-TEMP\": \"Euro 6\", \"Euro 6c\": \"Euro 6\", \"Euro 6d\": \"Euro 6\"}, inplace=True)"
   ]
  },
  {
   "cell_type": "code",
   "execution_count": 505,
   "id": "f57e5171",
   "metadata": {},
   "outputs": [
    {
     "data": {
      "text/plain": [
       "Euro 6    12173\n",
       "NaN        3628\n",
       "Euro 5       78\n",
       "Euro 4       40\n",
       "Name: emission_class, dtype: int64"
      ]
     },
     "execution_count": 505,
     "metadata": {},
     "output_type": "execute_result"
    }
   ],
   "source": [
    "df[\"emission_class\"].value_counts(dropna=False)"
   ]
  },
  {
   "cell_type": "markdown",
   "id": "0f017f37",
   "metadata": {},
   "source": [
    "##### 40- Comfort & Convenience column"
   ]
  },
  {
   "cell_type": "code",
   "execution_count": 506,
   "id": "8df3a36e",
   "metadata": {
    "scrolled": true
   },
   "outputs": [
    {
     "data": {
      "text/plain": [
       "0        [Air conditioning, Armrest, Automatic climate ...\n",
       "1        [Air conditioning, Automatic climate control, ...\n",
       "2        [Air conditioning, Cruise control, Electrical ...\n",
       "3        [Air suspension, Armrest, Auxiliary heating, E...\n",
       "4        [Air conditioning, Armrest, Automatic climate ...\n",
       "                               ...                        \n",
       "15914    [Air conditioning, Automatic climate control, ...\n",
       "15915    [Air conditioning, Automatic climate control, ...\n",
       "15916    [Air conditioning, Armrest, Automatic climate ...\n",
       "15917    [Air conditioning, Automatic climate control, ...\n",
       "15918    [Air conditioning, Automatic climate control, ...\n",
       "Name: \\nComfort & Convenience\\n, Length: 15919, dtype: object"
      ]
     },
     "execution_count": 506,
     "metadata": {},
     "output_type": "execute_result"
    }
   ],
   "source": [
    "df[\"\\nComfort & Convenience\\n\"]"
   ]
  },
  {
   "cell_type": "code",
   "execution_count": 507,
   "id": "1d626e6e",
   "metadata": {},
   "outputs": [
    {
     "data": {
      "text/plain": [
       "0        Air conditioning,Armrest,Automatic climate con...\n",
       "1        Air conditioning,Automatic climate control,Hil...\n",
       "2        Air conditioning,Cruise control,Electrical sid...\n",
       "3        Air suspension,Armrest,Auxiliary heating,Elect...\n",
       "4        Air conditioning,Armrest,Automatic climate con...\n",
       "                               ...                        \n",
       "15914    Air conditioning,Automatic climate control,Cru...\n",
       "15915    Air conditioning,Automatic climate control,Cru...\n",
       "15916    Air conditioning,Armrest,Automatic climate con...\n",
       "15917    Air conditioning,Automatic climate control,Cru...\n",
       "15918    Air conditioning,Automatic climate control,Cru...\n",
       "Name: \\nComfort & Convenience\\n, Length: 15919, dtype: object"
      ]
     },
     "execution_count": 507,
     "metadata": {},
     "output_type": "execute_result"
    }
   ],
   "source": [
    "df[\"\\nComfort & Convenience\\n\"].apply(lambda x: \",\".join(x) if type(x) ==list else x)"
   ]
  },
  {
   "cell_type": "code",
   "execution_count": 508,
   "id": "bb9f8825",
   "metadata": {},
   "outputs": [],
   "source": [
    "df[\"\\nComfort & Convenience\\n\"] = df[\"\\nComfort & Convenience\\n\"].apply(lambda x: \",\".join(x) if type(x) ==list else x)"
   ]
  },
  {
   "cell_type": "code",
   "execution_count": 509,
   "id": "d9d50b13",
   "metadata": {},
   "outputs": [],
   "source": [
    "df.rename(columns={\"\\nComfort & Convenience\\n\": \"comfort_and_convenience\"}, inplace=True)"
   ]
  },
  {
   "cell_type": "code",
   "execution_count": 510,
   "id": "5bc215a5",
   "metadata": {},
   "outputs": [
    {
     "data": {
      "text/plain": [
       "NaN                                                                                                                                                                                                                                                                                                                                                                                                                                                                                                  920\n",
       "Air conditioning,Electrical side mirrors,Hill Holder,Power windows                                                                                                                                                                                                                                                                                                                                                                                                                                   216\n",
       "Air conditioning,Electrical side mirrors,Power windows                                                                                                                                                                                                                                                                                                                                                                                                                                               134\n",
       "Air conditioning,Power windows                                                                                                                                                                                                                                                                                                                                                                                                                                                                       130\n",
       "Air conditioning,Armrest,Automatic climate control,Cruise control,Electrical side mirrors,Leather steering wheel,Light sensor,Lumbar support,Multi-function steering wheel,Navigation system,Park Distance Control,Parking assist system sensors front,Parking assist system sensors rear,Power windows,Rain sensor,Seat heating,Start-stop system                                                                                                                                                   105\n",
       "                                                                                                                                                                                                                                                                                                                                                                                                                                                                                                    ... \n",
       "Air conditioning,Cruise control,Electrical side mirrors,Hill Holder,Leather steering wheel,Light sensor,Multi-function steering wheel,Navigation system,Park Distance Control,Parking assist system sensors rear,Power windows,Rain sensor,Split rear seats,Start-stop system,Tinted windows                                                                                                                                                                                                           1\n",
       "Air conditioning,Armrest,Automatic climate control,Cruise control,Electrical side mirrors,Heated steering wheel,Hill Holder,Leather steering wheel,Light sensor,Lumbar support,Multi-function steering wheel,Navigation system,Park Distance Control,Parking assist system camera,Parking assist system sensors front,Parking assist system sensors rear,Power windows,Rain sensor,Seat heating,Sunroof                                                                                                1\n",
       "Air conditioning,Armrest,Cruise control,Electrical side mirrors,Heated steering wheel,Hill Holder,Leather steering wheel,Light sensor,Multi-function steering wheel,Park Distance Control,Parking assist system camera,Parking assist system sensors front,Parking assist system sensors rear,Power windows,Rain sensor,Seat heating,Split rear seats,Start-stop system,Tinted windows                                                                                                                 1\n",
       "Air conditioning,Automatic climate control,Cruise control,Electrical side mirrors,Leather steering wheel,Light sensor,Multi-function steering wheel,Park Distance Control,Parking assist system sensors front,Parking assist system sensors rear,Power windows,Rain sensor,Seat heating                                                                                                                                                                                                                1\n",
       "Air conditioning,Automatic climate control,Cruise control,Electrically heated windshield,Electrical side mirrors,Electric tailgate,Heads-up display,Heated steering wheel,Hill Holder,Keyless central door lock,Leather steering wheel,Light sensor,Lumbar support,Navigation system,Park Distance Control,Parking assist system camera,Parking assist system self-steering,Parking assist system sensors front,Parking assist system sensors rear,Power windows,Rain sensor,Seat heating,Sunroof      1\n",
       "Name: comfort_and_convenience, Length: 6199, dtype: int64"
      ]
     },
     "execution_count": 510,
     "metadata": {},
     "output_type": "execute_result"
    }
   ],
   "source": [
    "df[\"comfort_and_convenience\"].value_counts(dropna=False)"
   ]
  },
  {
   "cell_type": "markdown",
   "id": "dcef69d0",
   "metadata": {},
   "source": [
    "##### 41- Entertainment & Media column"
   ]
  },
  {
   "cell_type": "code",
   "execution_count": 511,
   "id": "785c85bc",
   "metadata": {},
   "outputs": [
    {
     "data": {
      "text/plain": [
       "0        [Bluetooth, Hands-free equipment, On-board com...\n",
       "1        [Bluetooth, Hands-free equipment, On-board com...\n",
       "2                                 [MP3, On-board computer]\n",
       "3        [Bluetooth, CD player, Hands-free equipment, M...\n",
       "4        [Bluetooth, CD player, Hands-free equipment, M...\n",
       "                               ...                        \n",
       "15914    [Bluetooth, Digital radio, Hands-free equipmen...\n",
       "15915    [Bluetooth, Digital radio, Hands-free equipmen...\n",
       "15916    [Bluetooth, Hands-free equipment, On-board com...\n",
       "15917               [Bluetooth, Digital radio, Radio, USB]\n",
       "15918                                                [USB]\n",
       "Name: \\nEntertainment & Media\\n, Length: 15919, dtype: object"
      ]
     },
     "execution_count": 511,
     "metadata": {},
     "output_type": "execute_result"
    }
   ],
   "source": [
    "df['\\nEntertainment & Media\\n']"
   ]
  },
  {
   "cell_type": "code",
   "execution_count": 512,
   "id": "c393c6b3",
   "metadata": {},
   "outputs": [
    {
     "data": {
      "text/plain": [
       "0        Bluetooth,Hands-free equipment,On-board comput...\n",
       "1        Bluetooth,Hands-free equipment,On-board comput...\n",
       "2                                    MP3,On-board computer\n",
       "3        Bluetooth,CD player,Hands-free equipment,MP3,O...\n",
       "4        Bluetooth,CD player,Hands-free equipment,MP3,O...\n",
       "                               ...                        \n",
       "15914    Bluetooth,Digital radio,Hands-free equipment,O...\n",
       "15915    Bluetooth,Digital radio,Hands-free equipment,R...\n",
       "15916    Bluetooth,Hands-free equipment,On-board comput...\n",
       "15917                    Bluetooth,Digital radio,Radio,USB\n",
       "15918                                                  USB\n",
       "Name: \\nEntertainment & Media\\n, Length: 15919, dtype: object"
      ]
     },
     "execution_count": 512,
     "metadata": {},
     "output_type": "execute_result"
    }
   ],
   "source": [
    "df['\\nEntertainment & Media\\n'].apply(lambda x: \",\".join(x) if type(x) ==list else x)"
   ]
  },
  {
   "cell_type": "code",
   "execution_count": 513,
   "id": "9af84481",
   "metadata": {},
   "outputs": [],
   "source": [
    "df['\\nEntertainment & Media\\n'] = df['\\nEntertainment & Media\\n'].apply(lambda x: \",\".join(x) if type(x) ==list else x)"
   ]
  },
  {
   "cell_type": "code",
   "execution_count": 514,
   "id": "cd87d8b9",
   "metadata": {},
   "outputs": [],
   "source": [
    "df.rename(columns={\"\\nEntertainment & Media\\n\": \"entertaintment_and_media\"}, inplace=True)"
   ]
  },
  {
   "cell_type": "code",
   "execution_count": 515,
   "id": "4b7f2e54",
   "metadata": {},
   "outputs": [
    {
     "data": {
      "text/plain": [
       "NaN                                                                                                 1374\n",
       "Bluetooth,Hands-free equipment,On-board computer,Radio,USB                                          1282\n",
       "Bluetooth,Hands-free equipment,MP3,On-board computer,Radio,USB                                       982\n",
       "Bluetooth,CD player,Hands-free equipment,MP3,On-board computer,Radio,USB                             783\n",
       "On-board computer,Radio                                                                              487\n",
       "                                                                                                    ... \n",
       "Bluetooth,CD player,Digital radio,Hands-free equipment,Radio                                           1\n",
       "CD player,Hands-free equipment,MP3,Radio,USB                                                           1\n",
       "MP3,Radio,Sound system,USB                                                                             1\n",
       "Bluetooth,MP3,On-board computer,Radio,Television,USB                                                   1\n",
       "Bluetooth,CD player,Hands-free equipment,MP3,On-board computer,Radio,Sound system,Television,USB       1\n",
       "Name: entertaintment_and_media, Length: 347, dtype: int64"
      ]
     },
     "execution_count": 515,
     "metadata": {},
     "output_type": "execute_result"
    }
   ],
   "source": [
    "df[\"entertaintment_and_media\"].value_counts(dropna=False)"
   ]
  },
  {
   "cell_type": "markdown",
   "id": "b489a9b5",
   "metadata": {},
   "source": [
    "##### 42- Extras column"
   ]
  },
  {
   "cell_type": "code",
   "execution_count": 516,
   "id": "6975ab71",
   "metadata": {},
   "outputs": [
    {
     "data": {
      "text/plain": [
       "0        [Alloy wheels, Catalytic Converter, Voice Cont...\n",
       "1        [Alloy wheels, Sport seats, Sport suspension, ...\n",
       "2                            [Alloy wheels, Voice Control]\n",
       "3               [Alloy wheels, Sport seats, Voice Control]\n",
       "4        [Alloy wheels, Sport package, Sport suspension...\n",
       "                               ...                        \n",
       "15914                         [Alloy wheels, Touch screen]\n",
       "15915          [Alloy wheels, Touch screen, Voice Control]\n",
       "15916                                       [Alloy wheels]\n",
       "15917                         [Alloy wheels, Touch screen]\n",
       "15918                         [Alloy wheels, Touch screen]\n",
       "Name: \\nExtras\\n, Length: 15919, dtype: object"
      ]
     },
     "execution_count": 516,
     "metadata": {},
     "output_type": "execute_result"
    }
   ],
   "source": [
    "df[\"\\nExtras\\n\"]"
   ]
  },
  {
   "cell_type": "code",
   "execution_count": 517,
   "id": "3602689a",
   "metadata": {},
   "outputs": [
    {
     "data": {
      "text/plain": [
       "0           Alloy wheels,Catalytic Converter,Voice Control\n",
       "1        Alloy wheels,Sport seats,Sport suspension,Voic...\n",
       "2                               Alloy wheels,Voice Control\n",
       "3                   Alloy wheels,Sport seats,Voice Control\n",
       "4        Alloy wheels,Sport package,Sport suspension,Vo...\n",
       "                               ...                        \n",
       "15914                            Alloy wheels,Touch screen\n",
       "15915              Alloy wheels,Touch screen,Voice Control\n",
       "15916                                         Alloy wheels\n",
       "15917                            Alloy wheels,Touch screen\n",
       "15918                            Alloy wheels,Touch screen\n",
       "Name: \\nExtras\\n, Length: 15919, dtype: object"
      ]
     },
     "execution_count": 517,
     "metadata": {},
     "output_type": "execute_result"
    }
   ],
   "source": [
    "df[\"\\nExtras\\n\"].apply(lambda x: \",\".join(x) if type(x) ==list else x)"
   ]
  },
  {
   "cell_type": "code",
   "execution_count": 518,
   "id": "18d8954e",
   "metadata": {},
   "outputs": [],
   "source": [
    "df[\"\\nExtras\\n\"] =df[\"\\nExtras\\n\"].apply(lambda x: \",\".join(x) if type(x) ==list else x)"
   ]
  },
  {
   "cell_type": "code",
   "execution_count": 519,
   "id": "40354d0a",
   "metadata": {},
   "outputs": [],
   "source": [
    "df.rename(columns={\"\\nExtras\\n\": \"extras\"}, inplace=True)"
   ]
  },
  {
   "cell_type": "code",
   "execution_count": 520,
   "id": "4e2294a0",
   "metadata": {},
   "outputs": [
    {
     "data": {
      "text/plain": [
       "Alloy wheels                                                                                               3245\n",
       "NaN                                                                                                        2962\n",
       "Alloy wheels,Touch screen                                                                                   697\n",
       "Alloy wheels,Voice Control                                                                                  577\n",
       "Alloy wheels,Touch screen,Voice Control                                                                     541\n",
       "                                                                                                           ... \n",
       "Alloy wheels,Catalytic Converter,Shift paddles,Sport package,Sport seats,Sport suspension,Voice Control       1\n",
       "Alloy wheels,Catalytic Converter,Roof rack,Sport package,Sport seats,Trailer hitch                            1\n",
       "Alloy wheels,Catalytic Converter,Ski bag,Sport package,Voice Control                                          1\n",
       "Catalytic Converter,Roof rack,Sport seats,Sport suspension                                                    1\n",
       "Alloy wheels,Shift paddles,Ski bag,Sport seats,Sport suspension,Touch screen,Voice Control                    1\n",
       "Name: extras, Length: 660, dtype: int64"
      ]
     },
     "execution_count": 520,
     "metadata": {},
     "output_type": "execute_result"
    }
   ],
   "source": [
    "df[\"extras\"].value_counts(dropna=False)"
   ]
  },
  {
   "cell_type": "markdown",
   "id": "521731c0",
   "metadata": {},
   "source": [
    "##### 43- Safety and Security column"
   ]
  },
  {
   "cell_type": "code",
   "execution_count": 521,
   "id": "ac24c1bb",
   "metadata": {},
   "outputs": [
    {
     "data": {
      "text/plain": [
       "0        [ABS, Central door lock, Daytime running light...\n",
       "1        [ABS, Central door lock, Central door lock wit...\n",
       "2        [ABS, Central door lock, Daytime running light...\n",
       "3        [ABS, Alarm system, Central door lock with rem...\n",
       "4        [ABS, Central door lock, Driver-side airbag, E...\n",
       "                               ...                        \n",
       "15914    [ABS, Central door lock, Central door lock wit...\n",
       "15915    [ABS, Adaptive Cruise Control, Blind spot moni...\n",
       "15916    [ABS, Adaptive Cruise Control, Blind spot moni...\n",
       "15917    [ABS, Blind spot monitor, Driver-side airbag, ...\n",
       "15918    [ABS, Blind spot monitor, Daytime running ligh...\n",
       "Name: \\nSafety & Security\\n, Length: 15919, dtype: object"
      ]
     },
     "execution_count": 521,
     "metadata": {},
     "output_type": "execute_result"
    }
   ],
   "source": [
    "df[\"\\nSafety & Security\\n\"]"
   ]
  },
  {
   "cell_type": "code",
   "execution_count": 522,
   "id": "916514b7",
   "metadata": {},
   "outputs": [
    {
     "data": {
      "text/plain": [
       "0        ABS,Central door lock,Daytime running lights,D...\n",
       "1        ABS,Central door lock,Central door lock with r...\n",
       "2        ABS,Central door lock,Daytime running lights,D...\n",
       "3        ABS,Alarm system,Central door lock with remote...\n",
       "4        ABS,Central door lock,Driver-side airbag,Elect...\n",
       "                               ...                        \n",
       "15914    ABS,Central door lock,Central door lock with r...\n",
       "15915    ABS,Adaptive Cruise Control,Blind spot monitor...\n",
       "15916    ABS,Adaptive Cruise Control,Blind spot monitor...\n",
       "15917    ABS,Blind spot monitor,Driver-side airbag,Elec...\n",
       "15918    ABS,Blind spot monitor,Daytime running lights,...\n",
       "Name: \\nSafety & Security\\n, Length: 15919, dtype: object"
      ]
     },
     "execution_count": 522,
     "metadata": {},
     "output_type": "execute_result"
    }
   ],
   "source": [
    "df[\"\\nSafety & Security\\n\"].apply(lambda x: \",\".join(x) if type(x) ==list else x)"
   ]
  },
  {
   "cell_type": "code",
   "execution_count": 523,
   "id": "c00ee31a",
   "metadata": {},
   "outputs": [],
   "source": [
    "df[\"\\nSafety & Security\\n\"] = df[\"\\nSafety & Security\\n\"].apply(lambda x: \",\".join(x) if type(x) ==list else x)"
   ]
  },
  {
   "cell_type": "code",
   "execution_count": 524,
   "id": "70cfb065",
   "metadata": {},
   "outputs": [],
   "source": [
    "df.rename(columns={\"\\nSafety & Security\\n\": \"safety_and_security\"}, inplace=True)"
   ]
  },
  {
   "cell_type": "code",
   "execution_count": 525,
   "id": "40fa83af",
   "metadata": {},
   "outputs": [
    {
     "data": {
      "text/plain": [
       "NaN                                                                                                                                                                                                                                                                                                                                                               982\n",
       "ABS,Central door lock,Daytime running lights,Driver-side airbag,Electronic stability control,Fog lights,Immobilizer,Isofix,Passenger-side airbag,Power steering,Side airbag,Tire pressure monitoring system,Traction control                                                                                                                                      538\n",
       "ABS,Central door lock,Daytime running lights,Driver-side airbag,Electronic stability control,Immobilizer,Isofix,Passenger-side airbag,Power steering,Side airbag,Tire pressure monitoring system,Traction control                                                                                                                                                 480\n",
       "ABS,Central door lock,Daytime running lights,Driver-side airbag,Electronic stability control,Immobilizer,Isofix,Passenger-side airbag,Power steering,Side airbag,Tire pressure monitoring system,Traction control,Xenon headlights                                                                                                                                275\n",
       "ABS,Central door lock,Daytime running lights,Driver-side airbag,Electronic stability control,Fog lights,Immobilizer,Isofix,LED Daytime Running Lights,Passenger-side airbag,Power steering,Side airbag,Tire pressure monitoring system,Traction control                                                                                                           272\n",
       "                                                                                                                                                                                                                                                                                                                                                                 ... \n",
       "ABS,Central door lock,Electronic stability control,Immobilizer,Isofix,Passenger-side airbag,Power steering,Side airbag                                                                                                                                                                                                                                              1\n",
       "ABS,Adaptive Cruise Control,Central door lock,Daytime running lights,Driver-side airbag,Electronic stability control,Emergency brake assistant,Immobilizer,Isofix,Passenger-side airbag,Power steering,Side airbag,Tire pressure monitoring system,Traction control                                                                                                 1\n",
       "ABS,Adaptive Cruise Control,Alarm system,Central door lock,Driver-side airbag,Electronic stability control,Fog lights,Immobilizer,Isofix,Lane departure warning system,LED Daytime Running Lights,Passenger-side airbag,Power steering,Side airbag,Tire pressure monitoring system,Traction control,Xenon headlights                                                1\n",
       "ABS,Adaptive Cruise Control,Central door lock,Daytime running lights,Driver-side airbag,Electronic stability control,Fog lights,Immobilizer,Isofix,Power steering,Tire pressure monitoring system,Traction control                                                                                                                                                  1\n",
       "ABS,Adaptive Cruise Control,Central door lock,Daytime running lights,Driver-side airbag,Electronic stability control,Emergency brake assistant,Fog lights,Immobilizer,Isofix,Lane departure warning system,LED Daytime Running Lights,LED Headlights,Passenger-side airbag,Power steering,Side airbag,Tire pressure monitoring system,Traffic sign recognition      1\n",
       "Name: safety_and_security, Length: 4444, dtype: int64"
      ]
     },
     "execution_count": 525,
     "metadata": {},
     "output_type": "execute_result"
    }
   ],
   "source": [
    "df[\"safety_and_security\"].value_counts(dropna=False)"
   ]
  },
  {
   "cell_type": "markdown",
   "id": "84c0a525",
   "metadata": {},
   "source": [
    "##### 44- description"
   ]
  },
  {
   "cell_type": "code",
   "execution_count": 526,
   "id": "5a259e09",
   "metadata": {},
   "outputs": [
    {
     "data": {
      "text/plain": [
       "0        [\\n, Sicherheit:,  , Deaktivierung für Beifahr...\n",
       "1        [\\nLangstreckenfahrzeug daher die hohe Kilomet...\n",
       "2        [\\n, Fahrzeug-Nummer: AM-95365,  , Ehem. UPE 2...\n",
       "3        [\\nAudi A1: , - 1e eigenaar , - Perfecte staat...\n",
       "4        [\\n, Technik & Sicherheit:, Xenon plus, Klimaa...\n",
       "                               ...                        \n",
       "15914    [\\nVettura visionabile nella sede in Via Roma ...\n",
       "15915    [\\nDach: Panorama-Glas-Schiebedach, Lackierung...\n",
       "15916    [\\n, Getriebe:,  Automatik, Technik:,  Bordcom...\n",
       "15917    [\\nDEK:[2691331], Renault Espace Blue dCi 200C...\n",
       "15918    [\\n, Sicherheit Airbags:,  , Seitenairbag,  , ...\n",
       "Name: description, Length: 15919, dtype: object"
      ]
     },
     "execution_count": 526,
     "metadata": {},
     "output_type": "execute_result"
    }
   ],
   "source": [
    "df[\"description\"]"
   ]
  },
  {
   "cell_type": "code",
   "execution_count": 527,
   "id": "18153882",
   "metadata": {},
   "outputs": [
    {
     "data": {
      "text/plain": [
       "0        Sicherheit:, ,Deaktivierung für Beifahrer-Airb...\n",
       "1        Langstreckenfahrzeug daher die hohe Kilometerl...\n",
       "2        Fahrzeug-Nummer: AM-95365, ,Ehem. UPE 24.640 E...\n",
       "3        Audi A1: ,- 1e eigenaar ,- Perfecte staat: sch...\n",
       "4        Technik & Sicherheit:,Xenon plus,Klimaautomati...\n",
       "                               ...                        \n",
       "15914    Vettura visionabile nella sede in Via Roma 141...\n",
       "15915    Dach: Panorama-Glas-Schiebedach, Lackierung: M...\n",
       "15916    Getriebe:, Automatik,Technik:, Bordcomputer,As...\n",
       "15917    DEK:[2691331],Renault Espace Blue dCi 200CV ED...\n",
       "15918    Sicherheit Airbags:, ,Seitenairbag, ,Fahrerair...\n",
       "Name: description, Length: 15919, dtype: object"
      ]
     },
     "execution_count": 527,
     "metadata": {},
     "output_type": "execute_result"
    }
   ],
   "source": [
    "df[\"description\"].apply(lambda x: \",\".join(x) if type(x) ==list else x).str.strip(\"\\n,\")"
   ]
  },
  {
   "cell_type": "code",
   "execution_count": 528,
   "id": "a64a615f",
   "metadata": {},
   "outputs": [],
   "source": [
    "df[\"description\"] =df[\"description\"].apply(lambda x: \",\".join(x) if type(x) ==list else x).str.strip(\"\\n,\")"
   ]
  },
  {
   "cell_type": "markdown",
   "id": "bb72e2c0",
   "metadata": {},
   "source": [
    "##### 45- Emission Label"
   ]
  },
  {
   "cell_type": "code",
   "execution_count": 529,
   "id": "ae2887e4",
   "metadata": {},
   "outputs": [
    {
     "data": {
      "text/plain": [
       "0                    NaN\n",
       "1        [\\n4 (Green)\\n]\n",
       "2        [\\n4 (Green)\\n]\n",
       "3                    NaN\n",
       "4                    NaN\n",
       "              ...       \n",
       "15914                NaN\n",
       "15915                NaN\n",
       "15916                NaN\n",
       "15917                NaN\n",
       "15918    [\\n4 (Green)\\n]\n",
       "Name: Emission Label, Length: 15919, dtype: object"
      ]
     },
     "execution_count": 529,
     "metadata": {},
     "output_type": "execute_result"
    }
   ],
   "source": [
    "df[\"Emission Label\"]"
   ]
  },
  {
   "cell_type": "code",
   "execution_count": 530,
   "id": "5936cbf1",
   "metadata": {},
   "outputs": [
    {
     "data": {
      "text/plain": [
       "0              NaN\n",
       "1        4 (Green)\n",
       "2        4 (Green)\n",
       "3              NaN\n",
       "4              NaN\n",
       "           ...    \n",
       "15914          NaN\n",
       "15915          NaN\n",
       "15916          NaN\n",
       "15917          NaN\n",
       "15918    4 (Green)\n",
       "Name: Emission Label, Length: 15919, dtype: object"
      ]
     },
     "execution_count": 530,
     "metadata": {},
     "output_type": "execute_result"
    }
   ],
   "source": [
    "df[\"Emission Label\"].apply(lambda x: x[0] if type(x)==list else x).str.replace(\"\\n\", \"\")"
   ]
  },
  {
   "cell_type": "code",
   "execution_count": 531,
   "id": "019da300",
   "metadata": {},
   "outputs": [],
   "source": [
    "df[\"Emission Label\"] = df[\"Emission Label\"].apply(lambda x: x[0] if type(x)==list else x).str.replace(\"\\n\", \"\")"
   ]
  },
  {
   "cell_type": "code",
   "execution_count": 532,
   "id": "df57aeed",
   "metadata": {},
   "outputs": [],
   "source": [
    "df.rename(columns={\"Emission Label\": \"emission_label\"}, inplace=True)"
   ]
  },
  {
   "cell_type": "code",
   "execution_count": 533,
   "id": "ccd7a979",
   "metadata": {},
   "outputs": [
    {
     "data": {
      "text/plain": [
       "NaN               11974\n",
       "4 (Green)          3553\n",
       "1 (No sticker)      381\n",
       "5 (Blue)              8\n",
       "3 (Yellow)            2\n",
       "2 (Red)               1\n",
       "Name: emission_label, dtype: int64"
      ]
     },
     "execution_count": 533,
     "metadata": {},
     "output_type": "execute_result"
    }
   ],
   "source": [
    "df[\"emission_label\"].value_counts(dropna=False)"
   ]
  },
  {
   "cell_type": "markdown",
   "id": "90a3d324",
   "metadata": {},
   "source": [
    "##### 46- Gears"
   ]
  },
  {
   "cell_type": "code",
   "execution_count": 534,
   "id": "72157750",
   "metadata": {},
   "outputs": [
    {
     "data": {
      "text/plain": [
       "0            NaN\n",
       "1        [\\n7\\n]\n",
       "2            NaN\n",
       "3        [\\n6\\n]\n",
       "4            NaN\n",
       "          ...   \n",
       "15914    [\\n6\\n]\n",
       "15915    [\\n7\\n]\n",
       "15916    [\\n6\\n]\n",
       "15917    [\\n6\\n]\n",
       "15918        NaN\n",
       "Name: Gears, Length: 15919, dtype: object"
      ]
     },
     "execution_count": 534,
     "metadata": {},
     "output_type": "execute_result"
    }
   ],
   "source": [
    "df[\"Gears\"]"
   ]
  },
  {
   "cell_type": "code",
   "execution_count": 535,
   "id": "05ac2cae",
   "metadata": {},
   "outputs": [
    {
     "data": {
      "text/plain": [
       "0        NaN\n",
       "1          7\n",
       "2        NaN\n",
       "3          6\n",
       "4        NaN\n",
       "        ... \n",
       "15914      6\n",
       "15915      7\n",
       "15916      6\n",
       "15917      6\n",
       "15918    NaN\n",
       "Name: Gears, Length: 15919, dtype: object"
      ]
     },
     "execution_count": 535,
     "metadata": {},
     "output_type": "execute_result"
    }
   ],
   "source": [
    "df[\"Gears\"].apply(lambda x : x[0] if type(x) == list else x).str.replace(\"\\n\", \"\")"
   ]
  },
  {
   "cell_type": "code",
   "execution_count": 536,
   "id": "c93913bf",
   "metadata": {},
   "outputs": [],
   "source": [
    "df[\"Gears\"] = df[\"Gears\"].apply(lambda x : x[0] if type(x) == list else x).str.replace(\"\\n\", \"\")"
   ]
  },
  {
   "cell_type": "code",
   "execution_count": 537,
   "id": "697bd73c",
   "metadata": {},
   "outputs": [
    {
     "data": {
      "text/plain": [
       "6      5822\n",
       "NaN    4712\n",
       "5      3239\n",
       "7      1908\n",
       "8       224\n",
       "9         6\n",
       "1         2\n",
       "3         2\n",
       "4         2\n",
       "2         1\n",
       "50        1\n",
       "Name: Gears, dtype: int64"
      ]
     },
     "execution_count": 537,
     "metadata": {},
     "output_type": "execute_result"
    }
   ],
   "source": [
    "df[\"Gears\"].value_counts(dropna=False)"
   ]
  },
  {
   "cell_type": "markdown",
   "id": "eb4914d1",
   "metadata": {},
   "source": [
    "##### 47- Country version column"
   ]
  },
  {
   "cell_type": "code",
   "execution_count": 538,
   "id": "2a20f215",
   "metadata": {},
   "outputs": [
    {
     "data": {
      "text/plain": [
       "0                  NaN\n",
       "1                  NaN\n",
       "2                  NaN\n",
       "3                  NaN\n",
       "4        [\\nGermany\\n]\n",
       "             ...      \n",
       "15914              NaN\n",
       "15915    [\\nGermany\\n]\n",
       "15916    [\\nAustria\\n]\n",
       "15917              NaN\n",
       "15918    [\\nGermany\\n]\n",
       "Name: Country version, Length: 15919, dtype: object"
      ]
     },
     "execution_count": 538,
     "metadata": {},
     "output_type": "execute_result"
    }
   ],
   "source": [
    "df[\"Country version\"]"
   ]
  },
  {
   "cell_type": "code",
   "execution_count": 539,
   "id": "23fa803b",
   "metadata": {},
   "outputs": [
    {
     "data": {
      "text/plain": [
       "0            NaN\n",
       "1            NaN\n",
       "2            NaN\n",
       "3            NaN\n",
       "4        Germany\n",
       "          ...   \n",
       "15914        NaN\n",
       "15915    Germany\n",
       "15916    Austria\n",
       "15917        NaN\n",
       "15918    Germany\n",
       "Name: Country version, Length: 15919, dtype: object"
      ]
     },
     "execution_count": 539,
     "metadata": {},
     "output_type": "execute_result"
    }
   ],
   "source": [
    "df[\"Country version\"].apply(lambda x: x[0] if type(x)==list else x).str.replace(\"\\n\", \"\")"
   ]
  },
  {
   "cell_type": "code",
   "execution_count": 540,
   "id": "c01142e0",
   "metadata": {},
   "outputs": [],
   "source": [
    "df[\"Country version\"] = df[\"Country version\"].apply(lambda x: x[0] if type(x)==list else x).str.replace(\"\\n\", \"\")"
   ]
  },
  {
   "cell_type": "code",
   "execution_count": 541,
   "id": "a11c6064",
   "metadata": {},
   "outputs": [
    {
     "data": {
      "text/plain": [
       "NaN               0.523463\n",
       "Germany           0.282807\n",
       "Italy             0.065205\n",
       "European Union    0.031849\n",
       "Netherlands       0.029148\n",
       "Spain             0.020416\n",
       "Belgium           0.019725\n",
       "Austria           0.013066\n",
       "Czech Republic    0.003267\n",
       "Poland            0.003078\n",
       "France            0.002387\n",
       "Denmark           0.002073\n",
       "Hungary           0.001759\n",
       "Japan             0.000503\n",
       "Slovakia          0.000251\n",
       "Croatia           0.000251\n",
       "Sweden            0.000188\n",
       "Romania           0.000126\n",
       "Bulgaria          0.000126\n",
       "Luxembourg        0.000063\n",
       "Switzerland       0.000063\n",
       "Slovenia          0.000063\n",
       "Egypt             0.000063\n",
       "Serbia            0.000063\n",
       "Name: Country version, dtype: float64"
      ]
     },
     "execution_count": 541,
     "metadata": {},
     "output_type": "execute_result"
    }
   ],
   "source": [
    "df[\"Country version\"].value_counts(dropna=False, normalize=True)"
   ]
  },
  {
   "cell_type": "markdown",
   "id": "ea3759ba",
   "metadata": {},
   "source": [
    "##### 48- Electricity consumption column"
   ]
  },
  {
   "cell_type": "code",
   "execution_count": 542,
   "id": "9a81463c",
   "metadata": {},
   "outputs": [
    {
     "data": {
      "text/plain": [
       "0        NaN\n",
       "1        NaN\n",
       "2        NaN\n",
       "3        NaN\n",
       "4        NaN\n",
       "        ... \n",
       "15914    NaN\n",
       "15915    NaN\n",
       "15916    NaN\n",
       "15917    NaN\n",
       "15918    NaN\n",
       "Name: Electricity consumption, Length: 15919, dtype: object"
      ]
     },
     "execution_count": 542,
     "metadata": {},
     "output_type": "execute_result"
    }
   ],
   "source": [
    "df[\"Electricity consumption\"]"
   ]
  },
  {
   "cell_type": "code",
   "execution_count": 543,
   "id": "6e89e2a3",
   "metadata": {},
   "outputs": [
    {
     "data": {
      "text/plain": [
       "True     15782\n",
       "False      137\n",
       "Name: Electricity consumption, dtype: int64"
      ]
     },
     "execution_count": 543,
     "metadata": {},
     "output_type": "execute_result"
    }
   ],
   "source": [
    "df[\"Electricity consumption\"].isnull().value_counts()"
   ]
  },
  {
   "cell_type": "code",
   "execution_count": 544,
   "id": "86abd404",
   "metadata": {},
   "outputs": [
    {
     "data": {
      "text/plain": [
       "15033    NaN\n",
       "12685    NaN\n",
       "11525    NaN\n",
       "315      NaN\n",
       "5515     NaN\n",
       "10778    NaN\n",
       "7937     NaN\n",
       "9009     NaN\n",
       "15178    NaN\n",
       "13553    NaN\n",
       "Name: Electricity consumption, dtype: object"
      ]
     },
     "execution_count": 544,
     "metadata": {},
     "output_type": "execute_result"
    }
   ],
   "source": [
    "df[\"Electricity consumption\"].sample(10)"
   ]
  },
  {
   "cell_type": "code",
   "execution_count": 545,
   "id": "61fff2c5",
   "metadata": {},
   "outputs": [
    {
     "data": {
      "text/plain": [
       "0        NaN\n",
       "1        NaN\n",
       "2        NaN\n",
       "3        NaN\n",
       "4        NaN\n",
       "        ... \n",
       "15914    NaN\n",
       "15915    NaN\n",
       "15916    NaN\n",
       "15917    NaN\n",
       "15918    NaN\n",
       "Name: Electricity consumption, Length: 15919, dtype: object"
      ]
     },
     "execution_count": 545,
     "metadata": {},
     "output_type": "execute_result"
    }
   ],
   "source": [
    "df[\"Electricity consumption\"].apply(lambda x: x[0] if type(x)==list else x).str.replace(\"\\n\", \"\")"
   ]
  },
  {
   "cell_type": "code",
   "execution_count": 546,
   "id": "f41ca494",
   "metadata": {},
   "outputs": [],
   "source": [
    "df[\"Electricity consumption\"] = df[\"Electricity consumption\"].apply(lambda x: x[0] if type(x)==list else x).str.replace(\"\\n\", \"\")"
   ]
  },
  {
   "cell_type": "code",
   "execution_count": 547,
   "id": "a66fd5da",
   "metadata": {},
   "outputs": [
    {
     "data": {
      "text/plain": [
       "NaN                    0.991394\n",
       "0 kWh/100 km (comb)    0.008606\n",
       "Name: Electricity consumption, dtype: float64"
      ]
     },
     "execution_count": 547,
     "metadata": {},
     "output_type": "execute_result"
    }
   ],
   "source": [
    "df[\"Electricity consumption\"].value_counts(dropna=False, normalize=True)"
   ]
  },
  {
   "cell_type": "markdown",
   "id": "c47be617",
   "metadata": {},
   "source": [
    "##### 49- Last Service Date"
   ]
  },
  {
   "cell_type": "code",
   "execution_count": 548,
   "id": "3794218c",
   "metadata": {},
   "outputs": [
    {
     "data": {
      "text/plain": [
       "True     15353\n",
       "False      566\n",
       "Name: Last Service Date, dtype: int64"
      ]
     },
     "execution_count": 548,
     "metadata": {},
     "output_type": "execute_result"
    }
   ],
   "source": [
    "df[\"Last Service Date\"].isnull().value_counts()"
   ]
  },
  {
   "cell_type": "code",
   "execution_count": 549,
   "id": "26bacd49",
   "metadata": {},
   "outputs": [
    {
     "data": {
      "text/plain": [
       "8185                                        NaN\n",
       "12462                                       NaN\n",
       "6634                                        NaN\n",
       "9837                                        NaN\n",
       "4688                                        NaN\n",
       "6285                                        NaN\n",
       "15628                                       NaN\n",
       "9785     [\\n06/2018\\n, \\n131 g CO2/km (comb)\\n]\n",
       "7370                                        NaN\n",
       "2940                                        NaN\n",
       "Name: Last Service Date, dtype: object"
      ]
     },
     "execution_count": 549,
     "metadata": {},
     "output_type": "execute_result"
    }
   ],
   "source": [
    "df[\"Last Service Date\"].sample(10)"
   ]
  },
  {
   "cell_type": "code",
   "execution_count": 550,
   "id": "dfbb1d5a",
   "metadata": {},
   "outputs": [
    {
     "data": {
      "text/plain": [
       "0        NaN\n",
       "1        NaN\n",
       "2        NaN\n",
       "3        NaN\n",
       "4        NaN\n",
       "        ... \n",
       "15914    NaN\n",
       "15915    NaN\n",
       "15916    NaN\n",
       "15917    NaN\n",
       "15918    NaN\n",
       "Name: Last Service Date, Length: 15919, dtype: object"
      ]
     },
     "execution_count": 550,
     "metadata": {},
     "output_type": "execute_result"
    }
   ],
   "source": [
    "df[\"Last Service Date\"].apply(lambda x: x[0] if type(x)==list else x).str.replace(\"\\n\",\"\")"
   ]
  },
  {
   "cell_type": "code",
   "execution_count": 551,
   "id": "7d7cdc08",
   "metadata": {},
   "outputs": [],
   "source": [
    "df[\"Last Service Date\"] = df[\"Last Service Date\"].apply(lambda x: x[0] if type(x)==list else x).str.replace(\"\\n\",\"\")"
   ]
  },
  {
   "cell_type": "code",
   "execution_count": 552,
   "id": "7f0e861f",
   "metadata": {},
   "outputs": [
    {
     "data": {
      "text/plain": [
       "9301     NaN\n",
       "9646     NaN\n",
       "5467     NaN\n",
       "13651    NaN\n",
       "8728     NaN\n",
       "12513    NaN\n",
       "12301    NaN\n",
       "5205     NaN\n",
       "4598     NaN\n",
       "14077    NaN\n",
       "Name: Last Service Date, dtype: object"
      ]
     },
     "execution_count": 552,
     "metadata": {},
     "output_type": "execute_result"
    }
   ],
   "source": [
    "df[\"Last Service Date\"].sample(10)"
   ]
  },
  {
   "cell_type": "code",
   "execution_count": 553,
   "id": "61ae60f7",
   "metadata": {},
   "outputs": [],
   "source": [
    "df[\"Last Service Date\"] = pd.to_datetime(df[\"Last Service Date\"])"
   ]
  },
  {
   "cell_type": "code",
   "execution_count": 554,
   "id": "9da9e69e",
   "metadata": {},
   "outputs": [
    {
     "data": {
      "text/plain": [
       "NaT           0.964445\n",
       "2019-05-01    0.003832\n",
       "2019-02-01    0.003455\n",
       "2019-01-01    0.003204\n",
       "2019-06-01    0.003078\n",
       "2019-04-01    0.003015\n",
       "2019-03-01    0.002952\n",
       "2018-12-01    0.002010\n",
       "2018-10-01    0.001508\n",
       "2018-06-01    0.001319\n",
       "2018-05-01    0.001319\n",
       "2018-07-01    0.001319\n",
       "2018-01-01    0.001256\n",
       "2018-09-01    0.001068\n",
       "2018-11-01    0.001068\n",
       "2018-04-01    0.001005\n",
       "2018-08-01    0.000817\n",
       "2018-03-01    0.000565\n",
       "2017-06-01    0.000440\n",
       "2018-02-01    0.000314\n",
       "2017-05-01    0.000188\n",
       "2017-12-01    0.000188\n",
       "2017-02-01    0.000188\n",
       "2017-10-01    0.000188\n",
       "2017-01-01    0.000188\n",
       "2017-11-01    0.000126\n",
       "2016-06-01    0.000126\n",
       "2016-04-01    0.000126\n",
       "2017-07-01    0.000126\n",
       "2019-11-01    0.000063\n",
       "2019-10-01    0.000063\n",
       "2019-07-01    0.000063\n",
       "2016-03-01    0.000063\n",
       "2019-09-01    0.000063\n",
       "2019-08-01    0.000063\n",
       "2017-09-01    0.000063\n",
       "2016-05-01    0.000063\n",
       "2017-04-01    0.000063\n",
       "Name: Last Service Date, dtype: float64"
      ]
     },
     "execution_count": 554,
     "metadata": {},
     "output_type": "execute_result"
    }
   ],
   "source": [
    "df[\"Last Service Date\"].value_counts(dropna=False, normalize=True)"
   ]
  },
  {
   "cell_type": "markdown",
   "id": "d631642e",
   "metadata": {},
   "source": [
    "##### 50- Other Fuel Types"
   ]
  },
  {
   "cell_type": "code",
   "execution_count": 555,
   "id": "24166d95",
   "metadata": {},
   "outputs": [
    {
     "data": {
      "text/plain": [
       "0                 NaN\n",
       "1                 NaN\n",
       "2                 NaN\n",
       "3                 NaN\n",
       "4                 NaN\n",
       "             ...     \n",
       "15914             NaN\n",
       "15915    [[], [], []]\n",
       "15916             NaN\n",
       "15917             NaN\n",
       "15918             NaN\n",
       "Name: Other Fuel Types, Length: 15919, dtype: object"
      ]
     },
     "execution_count": 555,
     "metadata": {},
     "output_type": "execute_result"
    }
   ],
   "source": [
    "df[\"Other Fuel Types\"]"
   ]
  },
  {
   "cell_type": "code",
   "execution_count": 556,
   "id": "90e5d1b0",
   "metadata": {},
   "outputs": [
    {
     "data": {
      "text/plain": [
       "5734     NaN\n",
       "851      NaN\n",
       "2865     NaN\n",
       "14840    NaN\n",
       "5087     NaN\n",
       "11638    NaN\n",
       "1161     NaN\n",
       "8868     NaN\n",
       "13764    NaN\n",
       "10092    NaN\n",
       "4655     NaN\n",
       "12734    NaN\n",
       "14422    NaN\n",
       "1290     NaN\n",
       "10930    NaN\n",
       "1639     NaN\n",
       "14416    NaN\n",
       "2068     NaN\n",
       "12393    NaN\n",
       "10383    NaN\n",
       "8823     NaN\n",
       "12114    NaN\n",
       "10611    NaN\n",
       "8489     NaN\n",
       "11252    NaN\n",
       "5049     NaN\n",
       "13161    NaN\n",
       "590      NaN\n",
       "8759     NaN\n",
       "12746    NaN\n",
       "Name: Other Fuel Types, dtype: object"
      ]
     },
     "execution_count": 556,
     "metadata": {},
     "output_type": "execute_result"
    }
   ],
   "source": [
    "df[\"Other Fuel Types\"].sample(30)"
   ]
  },
  {
   "cell_type": "code",
   "execution_count": 557,
   "id": "20d23005",
   "metadata": {},
   "outputs": [
    {
     "data": {
      "text/plain": [
       "nan             15039\n",
       "[[], [], []]      880\n",
       "Name: Other Fuel Types, dtype: int64"
      ]
     },
     "execution_count": 557,
     "metadata": {},
     "output_type": "execute_result"
    }
   ],
   "source": [
    "df[\"Other Fuel Types\"].astype(\"str\").value_counts(dropna=False)"
   ]
  },
  {
   "cell_type": "markdown",
   "id": "a747dd85",
   "metadata": {},
   "source": [
    "##### 51- Availability "
   ]
  },
  {
   "cell_type": "code",
   "execution_count": 558,
   "id": "ec983796",
   "metadata": {},
   "outputs": [
    {
     "data": {
      "text/plain": [
       "0                                  NaN\n",
       "1                                  NaN\n",
       "2                                  NaN\n",
       "3                                  NaN\n",
       "4                                  NaN\n",
       "                     ...              \n",
       "15914                              NaN\n",
       "15915      \\nin 5 days from ordering\\n\n",
       "15916    \\nin 120 days from ordering\\n\n",
       "15917                              NaN\n",
       "15918                              NaN\n",
       "Name: Availability, Length: 15919, dtype: object"
      ]
     },
     "execution_count": 558,
     "metadata": {},
     "output_type": "execute_result"
    }
   ],
   "source": [
    "df[\"Availability\"]"
   ]
  },
  {
   "cell_type": "code",
   "execution_count": 559,
   "id": "d4995f35",
   "metadata": {},
   "outputs": [
    {
     "data": {
      "text/plain": [
       "0                              NaN\n",
       "1                              NaN\n",
       "2                              NaN\n",
       "3                              NaN\n",
       "4                              NaN\n",
       "                   ...            \n",
       "15914                          NaN\n",
       "15915      in 5 days from ordering\n",
       "15916    in 120 days from ordering\n",
       "15917                          NaN\n",
       "15918                          NaN\n",
       "Name: Availability, Length: 15919, dtype: object"
      ]
     },
     "execution_count": 559,
     "metadata": {},
     "output_type": "execute_result"
    }
   ],
   "source": [
    "df[\"Availability\"].apply(lambda x: x[0] if type(x)==list else x).str.replace(\"\\n\", \"\")"
   ]
  },
  {
   "cell_type": "code",
   "execution_count": 560,
   "id": "ae6cf6e0",
   "metadata": {},
   "outputs": [],
   "source": [
    "df[\"Availability\"] = df[\"Availability\"].apply(lambda x: x[0] if type(x)==list else x).str.replace(\"\\n\", \"\")"
   ]
  },
  {
   "cell_type": "code",
   "execution_count": 561,
   "id": "35c79aaa",
   "metadata": {},
   "outputs": [
    {
     "data": {
      "text/plain": [
       "NaN                          0.960111\n",
       "in 90 days from ordering     0.012312\n",
       "in 120 days from ordering    0.011433\n",
       "in 1 day from ordering       0.003204\n",
       "in 5 days from ordering      0.002199\n",
       "in 3 days from ordering      0.002199\n",
       "in 180 days from ordering    0.001508\n",
       "in 14 days from ordering     0.001508\n",
       "in 7 days from ordering      0.001256\n",
       "in 150 days from ordering    0.001131\n",
       "in 2 days from ordering      0.001005\n",
       "in 60 days from ordering     0.000817\n",
       "in 42 days from ordering     0.000628\n",
       "in 21 days from ordering     0.000503\n",
       "in 4 days from ordering      0.000126\n",
       "in 6 days from ordering      0.000063\n",
       "Name: Availability, dtype: float64"
      ]
     },
     "execution_count": 561,
     "metadata": {},
     "output_type": "execute_result"
    }
   ],
   "source": [
    "df[\"Availability\"].value_counts(dropna=False,normalize=True)"
   ]
  },
  {
   "cell_type": "markdown",
   "id": "7779b9ed",
   "metadata": {},
   "source": [
    "##### 52- Last Timing Belt Service Date"
   ]
  },
  {
   "cell_type": "code",
   "execution_count": 562,
   "id": "8061e98a",
   "metadata": {},
   "outputs": [
    {
     "data": {
      "text/plain": [
       "0        NaN\n",
       "1        NaN\n",
       "2        NaN\n",
       "3        NaN\n",
       "4        NaN\n",
       "        ... \n",
       "15914    NaN\n",
       "15915    NaN\n",
       "15916    NaN\n",
       "15917    NaN\n",
       "15918    NaN\n",
       "Name: Last Timing Belt Service Date, Length: 15919, dtype: object"
      ]
     },
     "execution_count": 562,
     "metadata": {},
     "output_type": "execute_result"
    }
   ],
   "source": [
    "df[\"Last Timing Belt Service Date\"]"
   ]
  },
  {
   "cell_type": "code",
   "execution_count": 563,
   "id": "937a75b9",
   "metadata": {},
   "outputs": [
    {
     "data": {
      "text/plain": [
       "nan                              0.998995\n",
       "['\\n04/2016\\n']                  0.000126\n",
       "['\\n12/1900\\n']                  0.000063\n",
       "['\\n07/2018\\n']                  0.000063\n",
       "['\\n01/1900\\n']                  0.000063\n",
       "['\\n05/2019\\n']                  0.000063\n",
       "['\\n09/2018\\n']                  0.000063\n",
       "['\\n05/2018\\n', '\\nEuro 6\\n']    0.000063\n",
       "['\\n06/2017\\n']                  0.000063\n",
       "['\\n01/2019\\n']                  0.000063\n",
       "['\\n02/2019\\n']                  0.000063\n",
       "['\\n02/2018\\n']                  0.000063\n",
       "['\\n06/2019\\n']                  0.000063\n",
       "['\\n01/2018\\n']                  0.000063\n",
       "['\\n04/2019\\n']                  0.000063\n",
       "['\\n01/1970\\n']                  0.000063\n",
       "Name: Last Timing Belt Service Date, dtype: float64"
      ]
     },
     "execution_count": 563,
     "metadata": {},
     "output_type": "execute_result"
    }
   ],
   "source": [
    "df[\"Last Timing Belt Service Date\"].astype(\"str\").value_counts(dropna=False, normalize=True)"
   ]
  },
  {
   "cell_type": "code",
   "execution_count": null,
   "id": "c93bdc4c",
   "metadata": {},
   "outputs": [],
   "source": []
  },
  {
   "cell_type": "markdown",
   "id": "d1e561da",
   "metadata": {},
   "source": [
    "##### 53- Available from "
   ]
  },
  {
   "cell_type": "code",
   "execution_count": 564,
   "id": "69d90473",
   "metadata": {},
   "outputs": [
    {
     "data": {
      "text/plain": [
       "0        NaN\n",
       "1        NaN\n",
       "2        NaN\n",
       "3        NaN\n",
       "4        NaN\n",
       "        ... \n",
       "15914    NaN\n",
       "15915    NaN\n",
       "15916    NaN\n",
       "15917    NaN\n",
       "15918    NaN\n",
       "Name: Available from, Length: 15919, dtype: object"
      ]
     },
     "execution_count": 564,
     "metadata": {},
     "output_type": "execute_result"
    }
   ],
   "source": [
    "df[\"Available from\"]"
   ]
  },
  {
   "cell_type": "code",
   "execution_count": 565,
   "id": "8c3f6acd",
   "metadata": {},
   "outputs": [
    {
     "data": {
      "text/plain": [
       "True     0.982913\n",
       "False    0.017087\n",
       "Name: Available from, dtype: float64"
      ]
     },
     "execution_count": 565,
     "metadata": {},
     "output_type": "execute_result"
    }
   ],
   "source": [
    "df[\"Available from\"].isnull().value_counts(normalize=True)"
   ]
  },
  {
   "cell_type": "markdown",
   "id": "923ea64f",
   "metadata": {},
   "source": [
    "#### Drop Unnecessary Columns"
   ]
  },
  {
   "cell_type": "code",
   "execution_count": 566,
   "id": "88b4fb33",
   "metadata": {},
   "outputs": [
    {
     "data": {
      "text/plain": [
       "Index(['url', 'make_model', 'short_description', 'body_type', 'price', 'vat',\n",
       "       'km', 'registration', 'prev_owner', 'kW', 'hp_kw', 'Type',\n",
       "       'Previous Owners', 'next_inspection', 'inspection_new', 'Warranty',\n",
       "       'Full Service', 'Non-smoking Vehicle', 'null', 'make', 'model',\n",
       "       'Offer Number', 'first_registration', 'Body Color', 'Paint Type',\n",
       "       'Body Color Original', 'Upholstery', 'Body', 'doors', 'seats',\n",
       "       'model_code', 'gearing_type', 'cc_displacement', 'Cylinders',\n",
       "       'kg_weights', 'drive_chain', 'Fuel', 'Consumption',\n",
       "       'co2_emission(g/km)', 'emission_class', 'comfort_and_convenience',\n",
       "       'entertaintment_and_media', 'extras', 'safety_and_security',\n",
       "       'description', 'emission_label', 'Gears', 'Country version',\n",
       "       'Electricity consumption', 'Last Service Date', 'Other Fuel Types',\n",
       "       'Availability', 'Last Timing Belt Service Date', 'Available from',\n",
       "       'age', 'upholstery_style', 'upholstery_color',\n",
       "       'consumption_comb(100km/l)', 'consumption_city(100km/l)',\n",
       "       'consumption_country(100km/l)'],\n",
       "      dtype='object')"
      ]
     },
     "execution_count": 566,
     "metadata": {},
     "output_type": "execute_result"
    }
   ],
   "source": [
    "df.columns"
   ]
  },
  {
   "cell_type": "code",
   "execution_count": 567,
   "id": "5dd257a5",
   "metadata": {},
   "outputs": [],
   "source": [
    "df.drop(columns={\"url\", \"short_description\", \"registration\", \"prev_owner\", \"kW\", \"next_inspection\", \"Full Service\",\n",
    "                 \"Non-smoking Vehicle\", \"null\", \"make\", \"model\", \"Offer Number\", \"first_registration\", \"Body Color\",\n",
    "                 \"Body Color Original\", \"Upholstery\", \"Body\", \"model_code\", \"description\", \"emission_label\",\n",
    "                 \"Country version\", \"Electricity consumption\", \"Last Service Date\", \"Other Fuel Types\",\n",
    "                 \"Availability\", \"Last Timing Belt Service Date\", \"Available from\", \"Consumption\"}, inplace=True)"
   ]
  },
  {
   "cell_type": "code",
   "execution_count": 568,
   "id": "39c560e6",
   "metadata": {},
   "outputs": [
    {
     "data": {
      "text/html": [
       "<div>\n",
       "<style scoped>\n",
       "    .dataframe tbody tr th:only-of-type {\n",
       "        vertical-align: middle;\n",
       "    }\n",
       "\n",
       "    .dataframe tbody tr th {\n",
       "        vertical-align: top;\n",
       "    }\n",
       "\n",
       "    .dataframe thead th {\n",
       "        text-align: right;\n",
       "    }\n",
       "</style>\n",
       "<table border=\"1\" class=\"dataframe\">\n",
       "  <thead>\n",
       "    <tr style=\"text-align: right;\">\n",
       "      <th></th>\n",
       "      <th>0</th>\n",
       "      <th>1</th>\n",
       "      <th>2</th>\n",
       "      <th>3</th>\n",
       "      <th>4</th>\n",
       "    </tr>\n",
       "  </thead>\n",
       "  <tbody>\n",
       "    <tr>\n",
       "      <th>make_model</th>\n",
       "      <td>Audi A1</td>\n",
       "      <td>Audi A1</td>\n",
       "      <td>Audi A1</td>\n",
       "      <td>Audi A1</td>\n",
       "      <td>Audi A1</td>\n",
       "    </tr>\n",
       "    <tr>\n",
       "      <th>body_type</th>\n",
       "      <td>Sedans</td>\n",
       "      <td>Sedans</td>\n",
       "      <td>Sedans</td>\n",
       "      <td>Sedans</td>\n",
       "      <td>Sedans</td>\n",
       "    </tr>\n",
       "    <tr>\n",
       "      <th>price</th>\n",
       "      <td>15770</td>\n",
       "      <td>14500</td>\n",
       "      <td>14640</td>\n",
       "      <td>14500</td>\n",
       "      <td>16790</td>\n",
       "    </tr>\n",
       "    <tr>\n",
       "      <th>vat</th>\n",
       "      <td>VAT deductible</td>\n",
       "      <td>Price negotiable</td>\n",
       "      <td>VAT deductible</td>\n",
       "      <td>None</td>\n",
       "      <td>None</td>\n",
       "    </tr>\n",
       "    <tr>\n",
       "      <th>km</th>\n",
       "      <td>56013.0</td>\n",
       "      <td>80000.0</td>\n",
       "      <td>83450.0</td>\n",
       "      <td>73000.0</td>\n",
       "      <td>16200.0</td>\n",
       "    </tr>\n",
       "    <tr>\n",
       "      <th>hp_kw</th>\n",
       "      <td>66.0</td>\n",
       "      <td>141.0</td>\n",
       "      <td>85.0</td>\n",
       "      <td>66.0</td>\n",
       "      <td>66.0</td>\n",
       "    </tr>\n",
       "    <tr>\n",
       "      <th>Type</th>\n",
       "      <td>Used</td>\n",
       "      <td>Used</td>\n",
       "      <td>Used</td>\n",
       "      <td>Used</td>\n",
       "      <td>Used</td>\n",
       "    </tr>\n",
       "    <tr>\n",
       "      <th>Previous Owners</th>\n",
       "      <td>2.0</td>\n",
       "      <td>NaN</td>\n",
       "      <td>1.0</td>\n",
       "      <td>1.0</td>\n",
       "      <td>1.0</td>\n",
       "    </tr>\n",
       "    <tr>\n",
       "      <th>inspection_new</th>\n",
       "      <td>Yes</td>\n",
       "      <td>NaN</td>\n",
       "      <td>NaN</td>\n",
       "      <td>NaN</td>\n",
       "      <td>Yes</td>\n",
       "    </tr>\n",
       "    <tr>\n",
       "      <th>Warranty</th>\n",
       "      <td>NaN</td>\n",
       "      <td>NaN</td>\n",
       "      <td>NaN</td>\n",
       "      <td>NaN</td>\n",
       "      <td>NaN</td>\n",
       "    </tr>\n",
       "    <tr>\n",
       "      <th>Paint Type</th>\n",
       "      <td>Metallic</td>\n",
       "      <td>NaN</td>\n",
       "      <td>Metallic</td>\n",
       "      <td>Metallic</td>\n",
       "      <td>Metallic</td>\n",
       "    </tr>\n",
       "    <tr>\n",
       "      <th>doors</th>\n",
       "      <td>5.0</td>\n",
       "      <td>3.0</td>\n",
       "      <td>4.0</td>\n",
       "      <td>3.0</td>\n",
       "      <td>5.0</td>\n",
       "    </tr>\n",
       "    <tr>\n",
       "      <th>seats</th>\n",
       "      <td>5.0</td>\n",
       "      <td>4.0</td>\n",
       "      <td>4.0</td>\n",
       "      <td>4.0</td>\n",
       "      <td>5.0</td>\n",
       "    </tr>\n",
       "    <tr>\n",
       "      <th>gearing_type</th>\n",
       "      <td>Automatic</td>\n",
       "      <td>Automatic</td>\n",
       "      <td>Automatic</td>\n",
       "      <td>Automatic</td>\n",
       "      <td>Automatic</td>\n",
       "    </tr>\n",
       "    <tr>\n",
       "      <th>cc_displacement</th>\n",
       "      <td>1422.0</td>\n",
       "      <td>1798.0</td>\n",
       "      <td>1598.0</td>\n",
       "      <td>1422.0</td>\n",
       "      <td>1422.0</td>\n",
       "    </tr>\n",
       "    <tr>\n",
       "      <th>Cylinders</th>\n",
       "      <td>3.0</td>\n",
       "      <td>4.0</td>\n",
       "      <td>NaN</td>\n",
       "      <td>3.0</td>\n",
       "      <td>3.0</td>\n",
       "    </tr>\n",
       "    <tr>\n",
       "      <th>kg_weights</th>\n",
       "      <td>1220.0</td>\n",
       "      <td>1255.0</td>\n",
       "      <td>NaN</td>\n",
       "      <td>1195.0</td>\n",
       "      <td>NaN</td>\n",
       "    </tr>\n",
       "    <tr>\n",
       "      <th>drive_chain</th>\n",
       "      <td>front</td>\n",
       "      <td>front</td>\n",
       "      <td>front</td>\n",
       "      <td>NaN</td>\n",
       "      <td>front</td>\n",
       "    </tr>\n",
       "    <tr>\n",
       "      <th>Fuel</th>\n",
       "      <td>Diesel</td>\n",
       "      <td>Benzine</td>\n",
       "      <td>Diesel</td>\n",
       "      <td>Diesel</td>\n",
       "      <td>Diesel</td>\n",
       "    </tr>\n",
       "    <tr>\n",
       "      <th>co2_emission(g/km)</th>\n",
       "      <td>99.0</td>\n",
       "      <td>129.0</td>\n",
       "      <td>99.0</td>\n",
       "      <td>99.0</td>\n",
       "      <td>109.0</td>\n",
       "    </tr>\n",
       "    <tr>\n",
       "      <th>emission_class</th>\n",
       "      <td>Euro 6</td>\n",
       "      <td>Euro 6</td>\n",
       "      <td>Euro 6</td>\n",
       "      <td>Euro 6</td>\n",
       "      <td>Euro 6</td>\n",
       "    </tr>\n",
       "    <tr>\n",
       "      <th>comfort_and_convenience</th>\n",
       "      <td>Air conditioning,Armrest,Automatic climate con...</td>\n",
       "      <td>Air conditioning,Automatic climate control,Hil...</td>\n",
       "      <td>Air conditioning,Cruise control,Electrical sid...</td>\n",
       "      <td>Air suspension,Armrest,Auxiliary heating,Elect...</td>\n",
       "      <td>Air conditioning,Armrest,Automatic climate con...</td>\n",
       "    </tr>\n",
       "    <tr>\n",
       "      <th>entertaintment_and_media</th>\n",
       "      <td>Bluetooth,Hands-free equipment,On-board comput...</td>\n",
       "      <td>Bluetooth,Hands-free equipment,On-board comput...</td>\n",
       "      <td>MP3,On-board computer</td>\n",
       "      <td>Bluetooth,CD player,Hands-free equipment,MP3,O...</td>\n",
       "      <td>Bluetooth,CD player,Hands-free equipment,MP3,O...</td>\n",
       "    </tr>\n",
       "    <tr>\n",
       "      <th>extras</th>\n",
       "      <td>Alloy wheels,Catalytic Converter,Voice Control</td>\n",
       "      <td>Alloy wheels,Sport seats,Sport suspension,Voic...</td>\n",
       "      <td>Alloy wheels,Voice Control</td>\n",
       "      <td>Alloy wheels,Sport seats,Voice Control</td>\n",
       "      <td>Alloy wheels,Sport package,Sport suspension,Vo...</td>\n",
       "    </tr>\n",
       "    <tr>\n",
       "      <th>safety_and_security</th>\n",
       "      <td>ABS,Central door lock,Daytime running lights,D...</td>\n",
       "      <td>ABS,Central door lock,Central door lock with r...</td>\n",
       "      <td>ABS,Central door lock,Daytime running lights,D...</td>\n",
       "      <td>ABS,Alarm system,Central door lock with remote...</td>\n",
       "      <td>ABS,Central door lock,Driver-side airbag,Elect...</td>\n",
       "    </tr>\n",
       "    <tr>\n",
       "      <th>Gears</th>\n",
       "      <td>NaN</td>\n",
       "      <td>7</td>\n",
       "      <td>NaN</td>\n",
       "      <td>6</td>\n",
       "      <td>NaN</td>\n",
       "    </tr>\n",
       "    <tr>\n",
       "      <th>age</th>\n",
       "      <td>3.0</td>\n",
       "      <td>2.0</td>\n",
       "      <td>3.0</td>\n",
       "      <td>3.0</td>\n",
       "      <td>3.0</td>\n",
       "    </tr>\n",
       "    <tr>\n",
       "      <th>upholstery_style</th>\n",
       "      <td>Cloth</td>\n",
       "      <td>Cloth</td>\n",
       "      <td>Cloth</td>\n",
       "      <td>NaN</td>\n",
       "      <td>Cloth</td>\n",
       "    </tr>\n",
       "    <tr>\n",
       "      <th>upholstery_color</th>\n",
       "      <td>Black</td>\n",
       "      <td>Grey</td>\n",
       "      <td>Black</td>\n",
       "      <td>NaN</td>\n",
       "      <td>Black</td>\n",
       "    </tr>\n",
       "    <tr>\n",
       "      <th>consumption_comb(100km/l)</th>\n",
       "      <td>3.8</td>\n",
       "      <td>5.6</td>\n",
       "      <td>3.8</td>\n",
       "      <td>3.8</td>\n",
       "      <td>4.1</td>\n",
       "    </tr>\n",
       "    <tr>\n",
       "      <th>consumption_city(100km/l)</th>\n",
       "      <td>4.3</td>\n",
       "      <td>7.1</td>\n",
       "      <td>4.4</td>\n",
       "      <td>4.3</td>\n",
       "      <td>4.6</td>\n",
       "    </tr>\n",
       "    <tr>\n",
       "      <th>consumption_country(100km/l)</th>\n",
       "      <td>3.5</td>\n",
       "      <td>4.7</td>\n",
       "      <td>3.4</td>\n",
       "      <td>3.5</td>\n",
       "      <td>3.8</td>\n",
       "    </tr>\n",
       "  </tbody>\n",
       "</table>\n",
       "</div>"
      ],
      "text/plain": [
       "                                                                              0  \\\n",
       "make_model                                                              Audi A1   \n",
       "body_type                                                                Sedans   \n",
       "price                                                                     15770   \n",
       "vat                                                              VAT deductible   \n",
       "km                                                                      56013.0   \n",
       "hp_kw                                                                      66.0   \n",
       "Type                                                                       Used   \n",
       "Previous Owners                                                             2.0   \n",
       "inspection_new                                                              Yes   \n",
       "Warranty                                                                    NaN   \n",
       "Paint Type                                                             Metallic   \n",
       "doors                                                                       5.0   \n",
       "seats                                                                       5.0   \n",
       "gearing_type                                                          Automatic   \n",
       "cc_displacement                                                          1422.0   \n",
       "Cylinders                                                                   3.0   \n",
       "kg_weights                                                               1220.0   \n",
       "drive_chain                                                               front   \n",
       "Fuel                                                                     Diesel   \n",
       "co2_emission(g/km)                                                         99.0   \n",
       "emission_class                                                           Euro 6   \n",
       "comfort_and_convenience       Air conditioning,Armrest,Automatic climate con...   \n",
       "entertaintment_and_media      Bluetooth,Hands-free equipment,On-board comput...   \n",
       "extras                           Alloy wheels,Catalytic Converter,Voice Control   \n",
       "safety_and_security           ABS,Central door lock,Daytime running lights,D...   \n",
       "Gears                                                                       NaN   \n",
       "age                                                                         3.0   \n",
       "upholstery_style                                                          Cloth   \n",
       "upholstery_color                                                          Black   \n",
       "consumption_comb(100km/l)                                                   3.8   \n",
       "consumption_city(100km/l)                                                   4.3   \n",
       "consumption_country(100km/l)                                                3.5   \n",
       "\n",
       "                                                                              1  \\\n",
       "make_model                                                              Audi A1   \n",
       "body_type                                                                Sedans   \n",
       "price                                                                     14500   \n",
       "vat                                                            Price negotiable   \n",
       "km                                                                      80000.0   \n",
       "hp_kw                                                                     141.0   \n",
       "Type                                                                       Used   \n",
       "Previous Owners                                                             NaN   \n",
       "inspection_new                                                              NaN   \n",
       "Warranty                                                                    NaN   \n",
       "Paint Type                                                                  NaN   \n",
       "doors                                                                       3.0   \n",
       "seats                                                                       4.0   \n",
       "gearing_type                                                          Automatic   \n",
       "cc_displacement                                                          1798.0   \n",
       "Cylinders                                                                   4.0   \n",
       "kg_weights                                                               1255.0   \n",
       "drive_chain                                                               front   \n",
       "Fuel                                                                    Benzine   \n",
       "co2_emission(g/km)                                                        129.0   \n",
       "emission_class                                                           Euro 6   \n",
       "comfort_and_convenience       Air conditioning,Automatic climate control,Hil...   \n",
       "entertaintment_and_media      Bluetooth,Hands-free equipment,On-board comput...   \n",
       "extras                        Alloy wheels,Sport seats,Sport suspension,Voic...   \n",
       "safety_and_security           ABS,Central door lock,Central door lock with r...   \n",
       "Gears                                                                         7   \n",
       "age                                                                         2.0   \n",
       "upholstery_style                                                          Cloth   \n",
       "upholstery_color                                                           Grey   \n",
       "consumption_comb(100km/l)                                                   5.6   \n",
       "consumption_city(100km/l)                                                   7.1   \n",
       "consumption_country(100km/l)                                                4.7   \n",
       "\n",
       "                                                                              2  \\\n",
       "make_model                                                              Audi A1   \n",
       "body_type                                                                Sedans   \n",
       "price                                                                     14640   \n",
       "vat                                                              VAT deductible   \n",
       "km                                                                      83450.0   \n",
       "hp_kw                                                                      85.0   \n",
       "Type                                                                       Used   \n",
       "Previous Owners                                                             1.0   \n",
       "inspection_new                                                              NaN   \n",
       "Warranty                                                                    NaN   \n",
       "Paint Type                                                             Metallic   \n",
       "doors                                                                       4.0   \n",
       "seats                                                                       4.0   \n",
       "gearing_type                                                          Automatic   \n",
       "cc_displacement                                                          1598.0   \n",
       "Cylinders                                                                   NaN   \n",
       "kg_weights                                                                  NaN   \n",
       "drive_chain                                                               front   \n",
       "Fuel                                                                     Diesel   \n",
       "co2_emission(g/km)                                                         99.0   \n",
       "emission_class                                                           Euro 6   \n",
       "comfort_and_convenience       Air conditioning,Cruise control,Electrical sid...   \n",
       "entertaintment_and_media                                  MP3,On-board computer   \n",
       "extras                                               Alloy wheels,Voice Control   \n",
       "safety_and_security           ABS,Central door lock,Daytime running lights,D...   \n",
       "Gears                                                                       NaN   \n",
       "age                                                                         3.0   \n",
       "upholstery_style                                                          Cloth   \n",
       "upholstery_color                                                          Black   \n",
       "consumption_comb(100km/l)                                                   3.8   \n",
       "consumption_city(100km/l)                                                   4.4   \n",
       "consumption_country(100km/l)                                                3.4   \n",
       "\n",
       "                                                                              3  \\\n",
       "make_model                                                              Audi A1   \n",
       "body_type                                                                Sedans   \n",
       "price                                                                     14500   \n",
       "vat                                                                        None   \n",
       "km                                                                      73000.0   \n",
       "hp_kw                                                                      66.0   \n",
       "Type                                                                       Used   \n",
       "Previous Owners                                                             1.0   \n",
       "inspection_new                                                              NaN   \n",
       "Warranty                                                                    NaN   \n",
       "Paint Type                                                             Metallic   \n",
       "doors                                                                       3.0   \n",
       "seats                                                                       4.0   \n",
       "gearing_type                                                          Automatic   \n",
       "cc_displacement                                                          1422.0   \n",
       "Cylinders                                                                   3.0   \n",
       "kg_weights                                                               1195.0   \n",
       "drive_chain                                                                 NaN   \n",
       "Fuel                                                                     Diesel   \n",
       "co2_emission(g/km)                                                         99.0   \n",
       "emission_class                                                           Euro 6   \n",
       "comfort_and_convenience       Air suspension,Armrest,Auxiliary heating,Elect...   \n",
       "entertaintment_and_media      Bluetooth,CD player,Hands-free equipment,MP3,O...   \n",
       "extras                                   Alloy wheels,Sport seats,Voice Control   \n",
       "safety_and_security           ABS,Alarm system,Central door lock with remote...   \n",
       "Gears                                                                         6   \n",
       "age                                                                         3.0   \n",
       "upholstery_style                                                            NaN   \n",
       "upholstery_color                                                            NaN   \n",
       "consumption_comb(100km/l)                                                   3.8   \n",
       "consumption_city(100km/l)                                                   4.3   \n",
       "consumption_country(100km/l)                                                3.5   \n",
       "\n",
       "                                                                              4  \n",
       "make_model                                                              Audi A1  \n",
       "body_type                                                                Sedans  \n",
       "price                                                                     16790  \n",
       "vat                                                                        None  \n",
       "km                                                                      16200.0  \n",
       "hp_kw                                                                      66.0  \n",
       "Type                                                                       Used  \n",
       "Previous Owners                                                             1.0  \n",
       "inspection_new                                                              Yes  \n",
       "Warranty                                                                    NaN  \n",
       "Paint Type                                                             Metallic  \n",
       "doors                                                                       5.0  \n",
       "seats                                                                       5.0  \n",
       "gearing_type                                                          Automatic  \n",
       "cc_displacement                                                          1422.0  \n",
       "Cylinders                                                                   3.0  \n",
       "kg_weights                                                                  NaN  \n",
       "drive_chain                                                               front  \n",
       "Fuel                                                                     Diesel  \n",
       "co2_emission(g/km)                                                        109.0  \n",
       "emission_class                                                           Euro 6  \n",
       "comfort_and_convenience       Air conditioning,Armrest,Automatic climate con...  \n",
       "entertaintment_and_media      Bluetooth,CD player,Hands-free equipment,MP3,O...  \n",
       "extras                        Alloy wheels,Sport package,Sport suspension,Vo...  \n",
       "safety_and_security           ABS,Central door lock,Driver-side airbag,Elect...  \n",
       "Gears                                                                       NaN  \n",
       "age                                                                         3.0  \n",
       "upholstery_style                                                          Cloth  \n",
       "upholstery_color                                                          Black  \n",
       "consumption_comb(100km/l)                                                   4.1  \n",
       "consumption_city(100km/l)                                                   4.6  \n",
       "consumption_country(100km/l)                                                3.8  "
      ]
     },
     "execution_count": 568,
     "metadata": {},
     "output_type": "execute_result"
    }
   ],
   "source": [
    "df.head().T"
   ]
  },
  {
   "cell_type": "code",
   "execution_count": 569,
   "id": "3ecd8b76",
   "metadata": {},
   "outputs": [
    {
     "name": "stdout",
     "output_type": "stream",
     "text": [
      "<class 'pandas.core.frame.DataFrame'>\n",
      "RangeIndex: 15919 entries, 0 to 15918\n",
      "Data columns (total 32 columns):\n",
      " #   Column                        Non-Null Count  Dtype  \n",
      "---  ------                        --------------  -----  \n",
      " 0   make_model                    15919 non-null  object \n",
      " 1   body_type                     15859 non-null  object \n",
      " 2   price                         15919 non-null  int64  \n",
      " 3   vat                           11406 non-null  object \n",
      " 4   km                            14895 non-null  float64\n",
      " 5   hp_kw                         15831 non-null  float64\n",
      " 6   Type                          15917 non-null  object \n",
      " 7   Previous Owners               9279 non-null   float64\n",
      " 8   inspection_new                3932 non-null   object \n",
      " 9   Warranty                      4853 non-null   float64\n",
      " 10  Paint Type                    10147 non-null  object \n",
      " 11  doors                         15707 non-null  float64\n",
      " 12  seats                         14942 non-null  float64\n",
      " 13  gearing_type                  15919 non-null  object \n",
      " 14  cc_displacement               15423 non-null  float64\n",
      " 15  Cylinders                     10239 non-null  float64\n",
      " 16  kg_weights                    8945 non-null   float64\n",
      " 17  drive_chain                   9061 non-null   object \n",
      " 18  Fuel                          15919 non-null  object \n",
      " 19  co2_emission(g/km)            13483 non-null  float64\n",
      " 20  emission_class                12291 non-null  object \n",
      " 21  comfort_and_convenience       14999 non-null  object \n",
      " 22  entertaintment_and_media      14545 non-null  object \n",
      " 23  extras                        12957 non-null  object \n",
      " 24  safety_and_security           14937 non-null  object \n",
      " 25  Gears                         11207 non-null  object \n",
      " 26  age                           14322 non-null  float64\n",
      " 27  upholstery_style              11416 non-null  object \n",
      " 28  upholstery_color              10841 non-null  object \n",
      " 29  consumption_comb(100km/l)     13886 non-null  float64\n",
      " 30  consumption_city(100km/l)     13483 non-null  float64\n",
      " 31  consumption_country(100km/l)  13543 non-null  float64\n",
      "dtypes: float64(14), int64(1), object(17)\n",
      "memory usage: 3.9+ MB\n"
     ]
    }
   ],
   "source": [
    "df.info()"
   ]
  },
  {
   "cell_type": "markdown",
   "id": "2c7a38da",
   "metadata": {},
   "source": [
    "##### Reorganize Column Names and Check Column Types"
   ]
  },
  {
   "cell_type": "code",
   "execution_count": 570,
   "id": "1407507f",
   "metadata": {},
   "outputs": [
    {
     "data": {
      "text/plain": [
       "Index(['make_model', 'body_type', 'price', 'vat', 'km', 'hp_kw', 'Type',\n",
       "       'Previous Owners', 'inspection_new', 'Warranty', 'Paint Type', 'doors',\n",
       "       'seats', 'gearing_type', 'cc_displacement', 'Cylinders', 'kg_weights',\n",
       "       'drive_chain', 'Fuel', 'co2_emission(g/km)', 'emission_class',\n",
       "       'comfort_and_convenience', 'entertaintment_and_media', 'extras',\n",
       "       'safety_and_security', 'Gears', 'age', 'upholstery_style',\n",
       "       'upholstery_color', 'consumption_comb(100km/l)',\n",
       "       'consumption_city(100km/l)', 'consumption_country(100km/l)'],\n",
       "      dtype='object')"
      ]
     },
     "execution_count": 570,
     "metadata": {},
     "output_type": "execute_result"
    }
   ],
   "source": [
    "df.columns"
   ]
  },
  {
   "cell_type": "code",
   "execution_count": 571,
   "id": "055761ca",
   "metadata": {},
   "outputs": [],
   "source": [
    "df.rename(columns={\"Previous Owners\": \"previous_owners\", \"Paint Type\": \"paint_type\", \"doors\":\"num_of_door\",\n",
    "                   \"seats\":\"num_of_seat\", \"kg_weights\":\"weight(kg)\", \"cc_displacement\": \"displacement(cc)\", \n",
    "                   \"Warranty\": \"warranty(month)\", \"price\":\"price(€)\", \"hp_kw\":\"hp(kw)\"}, inplace=True)"
   ]
  },
  {
   "cell_type": "code",
   "execution_count": 572,
   "id": "388d60d3",
   "metadata": {},
   "outputs": [],
   "source": [
    "df.columns = df.columns.str.lower()"
   ]
  },
  {
   "cell_type": "code",
   "execution_count": 573,
   "id": "9964ce3a",
   "metadata": {},
   "outputs": [
    {
     "data": {
      "text/plain": [
       "Index(['make_model', 'body_type', 'price(€)', 'vat', 'km', 'hp(kw)', 'type',\n",
       "       'previous_owners', 'inspection_new', 'warranty(month)', 'paint_type',\n",
       "       'num_of_door', 'num_of_seat', 'gearing_type', 'displacement(cc)',\n",
       "       'cylinders', 'weight(kg)', 'drive_chain', 'fuel', 'co2_emission(g/km)',\n",
       "       'emission_class', 'comfort_and_convenience', 'entertaintment_and_media',\n",
       "       'extras', 'safety_and_security', 'gears', 'age', 'upholstery_style',\n",
       "       'upholstery_color', 'consumption_comb(100km/l)',\n",
       "       'consumption_city(100km/l)', 'consumption_country(100km/l)'],\n",
       "      dtype='object')"
      ]
     },
     "execution_count": 573,
     "metadata": {},
     "output_type": "execute_result"
    }
   ],
   "source": [
    "df.columns"
   ]
  },
  {
   "cell_type": "code",
   "execution_count": 574,
   "id": "9c2563a9",
   "metadata": {},
   "outputs": [
    {
     "name": "stdout",
     "output_type": "stream",
     "text": [
      "<class 'pandas.core.frame.DataFrame'>\n",
      "RangeIndex: 15919 entries, 0 to 15918\n",
      "Data columns (total 32 columns):\n",
      " #   Column                        Non-Null Count  Dtype  \n",
      "---  ------                        --------------  -----  \n",
      " 0   make_model                    15919 non-null  object \n",
      " 1   body_type                     15859 non-null  object \n",
      " 2   price(€)                      15919 non-null  int64  \n",
      " 3   vat                           11406 non-null  object \n",
      " 4   km                            14895 non-null  float64\n",
      " 5   hp(kw)                        15831 non-null  float64\n",
      " 6   type                          15917 non-null  object \n",
      " 7   previous_owners               9279 non-null   float64\n",
      " 8   inspection_new                3932 non-null   object \n",
      " 9   warranty(month)               4853 non-null   float64\n",
      " 10  paint_type                    10147 non-null  object \n",
      " 11  num_of_door                   15707 non-null  float64\n",
      " 12  num_of_seat                   14942 non-null  float64\n",
      " 13  gearing_type                  15919 non-null  object \n",
      " 14  displacement(cc)              15423 non-null  float64\n",
      " 15  cylinders                     10239 non-null  float64\n",
      " 16  weight(kg)                    8945 non-null   float64\n",
      " 17  drive_chain                   9061 non-null   object \n",
      " 18  fuel                          15919 non-null  object \n",
      " 19  co2_emission(g/km)            13483 non-null  float64\n",
      " 20  emission_class                12291 non-null  object \n",
      " 21  comfort_and_convenience       14999 non-null  object \n",
      " 22  entertaintment_and_media      14545 non-null  object \n",
      " 23  extras                        12957 non-null  object \n",
      " 24  safety_and_security           14937 non-null  object \n",
      " 25  gears                         11207 non-null  object \n",
      " 26  age                           14322 non-null  float64\n",
      " 27  upholstery_style              11416 non-null  object \n",
      " 28  upholstery_color              10841 non-null  object \n",
      " 29  consumption_comb(100km/l)     13886 non-null  float64\n",
      " 30  consumption_city(100km/l)     13483 non-null  float64\n",
      " 31  consumption_country(100km/l)  13543 non-null  float64\n",
      "dtypes: float64(14), int64(1), object(17)\n",
      "memory usage: 3.9+ MB\n"
     ]
    }
   ],
   "source": [
    "df.info()"
   ]
  },
  {
   "cell_type": "markdown",
   "id": "7c00c30b",
   "metadata": {},
   "source": [
    "##### Save To new csv"
   ]
  },
  {
   "cell_type": "code",
   "execution_count": 575,
   "id": "7c01b3c3",
   "metadata": {},
   "outputs": [],
   "source": [
    "df.to_csv(\"auto_scout_clean.csv\", index=False)"
   ]
  },
  {
   "cell_type": "code",
   "execution_count": null,
   "id": "767e764d",
   "metadata": {},
   "outputs": [],
   "source": []
  }
 ],
 "metadata": {
  "kernelspec": {
   "display_name": "Python 3 (ipykernel)",
   "language": "python",
   "name": "python3"
  },
  "language_info": {
   "codemirror_mode": {
    "name": "ipython",
    "version": 3
   },
   "file_extension": ".py",
   "mimetype": "text/x-python",
   "name": "python",
   "nbconvert_exporter": "python",
   "pygments_lexer": "ipython3",
   "version": "3.9.12"
  }
 },
 "nbformat": 4,
 "nbformat_minor": 5
}
