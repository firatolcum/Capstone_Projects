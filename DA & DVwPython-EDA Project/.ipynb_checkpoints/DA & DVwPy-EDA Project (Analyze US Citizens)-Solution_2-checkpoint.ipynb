{
 "cells": [
  {
   "cell_type": "markdown",
   "metadata": {
    "id": "RBgL2bqDjwN_"
   },
   "source": [
    "___\n",
    "\n",
    "<p style=\"text-align: center;\"><img src=\"https://docs.google.com/uc?id=1lY0Uj5R04yMY3-ZppPWxqCr5pvBLYPnV\" class=\"img-fluid\" \n",
    "alt=\"CLRSWY\"></p>\n",
    "\n",
    "## <p style=\"background-color:#FDFEFE; font-family:newtimeroman; color:#9d4f8c; font-size:100%; text-align:center; border-radius:10px 10px;\">WAY TO REINVENT YOURSELF</p>\n",
    "\n",
    "## <p style=\"background-color:#FDFEFE; font-family:newtimeroman; color:#060108; font-size:200%; text-align:center; border-radius:10px 10px;\">Data Analysis & Visualization with Python</p>\n",
    "\n",
    "## <p style=\"background-color:#FDFEFE; font-family:newtimeroman; color:#060108; font-size:200%; text-align:center; border-radius:10px 10px;\">Project Solution</p>\n",
    "\n",
    "![image.png](https://i.ibb.co/mT1GG7j/US-citizen.jpg)\n",
    "\n",
    "## <p style=\"background-color:#FDFEFE; font-family:newtimeroman; color:#060108; font-size:200%; text-align:center; border-radius:10px 10px;\">Analysis of US Citizens by Income Levels</p>"
   ]
  },
  {
   "cell_type": "markdown",
   "metadata": {},
   "source": [
    "<a id=\"toc\"></a>\n",
    "\n",
    "## <p style=\"background-color:#9d4f8c; font-family:newtimeroman; color:#FFF9ED; font-size:175%; text-align:center; border-radius:10px 10px;\">Content</p>\n",
    "\n",
    "* [Introduction](#0)\n",
    "* [Dataset Info](#1)\n",
    "* [Importing Related Libraries](#2)\n",
    "* [Recognizing & Understanding Data](#3)\n",
    "* [Univariate & Multivariate Analysis](#4)    \n",
    "* [Other Specific Analysis Questions](#5)\n",
    "* [Dropping Similar & Unneccessary Features](#6)\n",
    "* [Handling with Missing Values](#7)\n",
    "* [Handling with Outliers](#8)    \n",
    "* [Final Step to make ready dataset for ML Models](#9)\n",
    "* [The End of the Project](#10)"
   ]
  },
  {
   "cell_type": "markdown",
   "metadata": {
    "id": "wN-5l4z7jwN_"
   },
   "source": [
    "## <p style=\"background-color:#9d4f8c; font-family:newtimeroman; color:#FFF9ED; font-size:175%; text-align:center; border-radius:10px 10px;\">Introduction</p>\n",
    "\n",
    "<a id=\"0\"></a>\n",
    "<a href=\"#toc\" class=\"btn btn-primary btn-sm\" role=\"button\" aria-pressed=\"true\" \n",
    "style=\"color:blue; background-color:#dfa8e4\" data-toggle=\"popover\">Content</a>\n",
    "\n",
    "One of the most important components to any data science experiment that doesn’t get as much importance as it should is **``Exploratory Data Analysis (EDA)``**. In short, EDA is **``\"A first look at the data\"``**. It is a critical step in analyzing the data from an experiment. It is used to understand and summarize the content of the dataset to ensure that the features which we feed to our machine learning algorithms are refined and we get valid, correctly interpreted results.\n",
    "In general, looking at a column of numbers or a whole spreadsheet and determining the important characteristics of the data can be very tedious and boring. Moreover, it is good practice to understand the problem statement and the data before you get your hands dirty, which in view, helps to gain a lot of insights. I will try to explain the concept using the Adult dataset/Census Income dataset available on the [UCI Machine Learning Repository](https://archive.ics.uci.edu/ml/datasets/Adult). The problem statement here is to predict whether the income exceeds 50k a year or not based on the census data.\n",
    "\n",
    "# Aim of the Project\n",
    "\n",
    "Applying Exploratory Data Analysis (EDA) and preparing the data to implement the Machine Learning Algorithms;\n",
    "1. Analyzing the characteristics of individuals according to income groups\n",
    "2. Preparing data to create a model that will predict the income levels of people according to their characteristics (So the \"salary\" feature is the target feature)"
   ]
  },
  {
   "cell_type": "markdown",
   "metadata": {
    "id": "XzZP-nZ5jwOA"
   },
   "source": [
    "## <p style=\"background-color:#9d4f8c; font-family:newtimeroman; color:#FFF9ED; font-size:175%; text-align:center; border-radius:10px 10px;\">Dataset Info</p>\n",
    "\n",
    "<a id=\"1\"></a>\n",
    "<a href=\"#toc\" class=\"btn btn-primary btn-sm\" role=\"button\" aria-pressed=\"true\" \n",
    "style=\"color:blue; background-color:#dfa8e4\" data-toggle=\"popover\">Content</a>\n",
    "\n",
    "The Census Income dataset has 48,842 entries. Each entry contains the following information about an individual:\n",
    "\n",
    "- **salary (target feature/label):** whether or not an individual makes more than $50,000 annually. (<= 50K, >50K)\n",
    "- **age:** the age of an individual. (Integer greater than 0)\n",
    "- **workclass:** a general term to represent the employment status of an individual. (Private, Self-emp-not-inc, Self-emp-inc, Federal-gov, Local-gov, State-gov, Without-pay, Never-worked)\n",
    "- **fnlwgt:** this is the number of people the census believes the entry represents. People with similar demographic characteristics should have similar weights.  There is one important caveat to remember about this statement. That is that since the CPS sample is actually a collection of 51 state samples, each with its own probability of selection, the statement only applies within state.(Integer greater than 0)\n",
    "- **education:** the highest level of education achieved by an individual. (Bachelors, Some-college, 11th, HS-grad, Prof-school, Assoc-acdm, Assoc-voc, 9th, 7th-8th, 12th, Masters, 1st-4th, 10th, Doctorate, 5th-6th, Preschool.)\n",
    "- **education-num:** the highest level of education achieved in numerical form. (Integer greater than 0)\n",
    "- **marital-status:** marital status of an individual. Married-civ-spouse corresponds to a civilian spouse while Married-AF-spouse is a spouse in the Armed Forces. Married-spouse-absent includes married people living apart because either the husband or wife was employed and living at a considerable distance from home (Married-civ-spouse, Divorced, Never-married, Separated, Widowed, Married-spouse-absent, Married-AF-spouse)\n",
    "- **occupation:** the general type of occupation of an individual. (Tech-support, Craft-repair, Other-service, Sales, Exec-managerial, Prof-specialty, Handlers-cleaners, Machine-op-inspct, Adm-clerical, Farming-fishing, Transport-moving, Priv-house-serv, Protective-serv, Armed-Forces)\n",
    "- **relationship:** represents what this individual is relative to others. For example an individual could be a Husband. Each entry only has one relationship attribute. (Wife, Own-child, Husband, Not-in-family, Other-relative, Unmarried)\n",
    "- **race:** Descriptions of an individual’s race. (White, Asian-Pac-Islander, Amer-Indian-Eskimo, Other, Black)\n",
    "- **sex:** the biological sex of the individual. (Male, female)\n",
    "- **capital-gain:** capital gains for an individual. (Integer greater than or equal to 0)\n",
    "- **capital-loss:** capital loss for an individual. (Integer greater than or equal to 0)\n",
    "- **hours-per-week:** the hours an individual has reported to work per week. (continuous)\n",
    "- **native-country:** country of origin for an individual (United-States, Cambodia, England, Puerto-Rico, Canada, Germany, Outlying-US(Guam-USVI-etc), India, Japan, Greece, South, China, Cuba, Iran, Honduras, Philippines, Italy, Poland, Jamaica, Vietnam, Mexico, Portugal, Ireland, France, Dominican-Republic, Laos, Ecuador, Taiwan, Haiti, Columbia, Hungary, Guatemala, Nicaragua, Scotland, Thailand, Yugoslavia, El-Salvador, Trinadad&Tobago, Peru, Hong, Holand-Netherlands)"
   ]
  },
  {
   "cell_type": "markdown",
   "metadata": {},
   "source": [
    "## <p style=\"background-color:#9d4f8c; font-family:newtimeroman; color:#FFF9ED; font-size:175%; text-align:center; border-radius:10px 10px;\">How to Install/Enable Intellisense or Autocomplete in Jupyter Notebook</p>\n",
    "\n",
    "### Installing [jupyter_contrib_nbextensions](https://jupyter-contrib-nbextensions.readthedocs.io/en/latest/install.html)\n",
    "\n",
    "**To install the current version from The Python Package Index (PyPI), which is a repository of software for the Python programming language, simply type:**\n",
    "\n",
    "!pip install jupyter_contrib_nbextensions\n",
    "\n",
    "**Alternatively, you can install directly from the current master branch of the repository:**\n",
    "\n",
    "!pip install https://github.com/ipython-contrib/jupyter_contrib_nbextensions/tarball/master\n",
    "\n",
    "### Enabling [Intellisense or Autocomplete in Jupyter Notebook](https://botbark.com/2019/12/18/how-to-enable-intellisense-or-autocomplete-in-jupyter-notebook/)\n",
    "\n",
    "\n",
    "### Installing hinterland for jupyter without anaconda\n",
    "\n",
    "**``STEP 1:``** ``Open cmd prompt and run the following commands``\n",
    "\n",
    " 1) pip install jupyter_contrib_nbextensions<br>\n",
    " 2) pip install jupyter_nbextensions_configurator<br>\n",
    " 3) jupyter contrib nbextension install --user<br> \n",
    " 4) jupyter nbextensions_configurator enable --user<br>\n",
    "\n",
    "**``STEP 2:``** ``Open jupyter notebook``\n",
    "\n",
    " 1) click on nbextensions tab<br>\n",
    " 2) unckeck disable configuration for nbextensions without explicit compatibility<br>\n",
    " 3) put a check on Hinterland<br>\n",
    "\n",
    "**``Step 3:``** ``Open new python file and check autocomplete feature``\n",
    "\n",
    "[VIDEO SOURCE](https://www.youtube.com/watch?v=DKE8hED0fow)\n",
    "\n",
    "![Image_Assignment](https://i.ibb.co/RbmDmD6/E8-EED4-F3-B3-F4-4571-B6-A0-1-B3224-AAB060-4-5005-c.jpg)"
   ]
  },
  {
   "cell_type": "markdown",
   "metadata": {
    "id": "rvbIoNsjjwOD"
   },
   "source": [
    "## <p style=\"background-color:#9d4f8c; font-family:newtimeroman; color:#FFF9ED; font-size:175%; text-align:center; border-radius:10px 10px;\">Importing Related Libraries</p>\n",
    "\n",
    "<a id=\"2\"></a>\n",
    "<a href=\"#toc\" class=\"btn btn-primary btn-sm\" role=\"button\" aria-pressed=\"true\" \n",
    "style=\"color:blue; background-color:#dfa8e4\" data-toggle=\"popover\">Content</a>\n",
    "\n",
    "Once you've installed NumPy & Pandas you can import them as a library:"
   ]
  },
  {
   "cell_type": "code",
   "execution_count": null,
   "metadata": {
    "id": "p7_KEHrAjwOE"
   },
   "outputs": [],
   "source": [
    "import numpy as np\n",
    "import pandas as pd\n",
    "import matplotlib.pyplot as plt\n",
    "import seaborn as sns\n",
    "\n",
    "import warnings\n",
    "warnings.filterwarnings(\"ignore\")\n",
    "warnings.warn(\"this will not show\")\n",
    "\n",
    "plt.rcParams[\"figure.figsize\"] = (10, 6)\n",
    "\n",
    "sns.set_style(\"whitegrid\")\n",
    "pd.set_option('display.float_format', lambda x: '%.3f' % x)\n",
    "\n",
    "# Set it None to display all rows in the dataframe\n",
    "# pd.set_option('display.max_rows', None)\n",
    "\n",
    "# Set it to None to display all columns in the dataframe\n",
    "pd.set_option('display.max_columns', None)"
   ]
  },
  {
   "cell_type": "markdown",
   "metadata": {
    "id": "12VFNmTfjwOG"
   },
   "source": [
    "### <p style=\"background-color:#9d4f8c; font-family:newtimeroman; color:#FFF9ED; font-size:150%; text-align:left; border-radius:10px 10px;\">Reading the data from file</p>"
   ]
  },
  {
   "cell_type": "code",
   "execution_count": null,
   "metadata": {
    "id": "p0ntrObJjwOG"
   },
   "outputs": [],
   "source": [
    "df = pd.read_csv(\"adult_eda.csv\")"
   ]
  },
  {
   "cell_type": "markdown",
   "metadata": {
    "id": "Y_VGwqWCjwOH"
   },
   "source": [
    "## <p style=\"background-color:#9d4f8c; font-family:newtimeroman; color:#FFF9ED; font-size:175%; text-align:center; border-radius:10px 10px;\">Recognizing and Understanding Data</p>\n",
    "\n",
    "<a id=\"3\"></a>\n",
    "<a href=\"#toc\" class=\"btn btn-primary btn-sm\" role=\"button\" aria-pressed=\"true\" \n",
    "style=\"color:blue; background-color:#dfa8e4\" data-toggle=\"popover\">Content</a>\n",
    "\n",
    "### 1.Try to understand what the data looks like\n",
    "- Check the head, shape, data-types of the features.\n",
    "- Check if there are some dublicate rows or not. If there are, then drop them. \n",
    "- Check the statistical values of features.\n",
    "- If needed, rename the columns' names for easy use. \n",
    "- Basically check the missing values."
   ]
  },
  {
   "cell_type": "code",
   "execution_count": null,
   "metadata": {
    "id": "qY6xhhp2jwOI",
    "outputId": "d3b46928-6943-414e-9535-dd17f5ce662a",
    "scrolled": true
   },
   "outputs": [],
   "source": [
    "df.head()"
   ]
  },
  {
   "cell_type": "code",
   "execution_count": null,
   "metadata": {
    "id": "v4UmPCFQjwOJ",
    "outputId": "705ad890-8d22-4084-bf6f-88336950ec24",
    "scrolled": true
   },
   "outputs": [],
   "source": [
    "df.shape"
   ]
  },
  {
   "cell_type": "code",
   "execution_count": null,
   "metadata": {
    "id": "aZMHmmI2jwOJ",
    "outputId": "73024227-72fb-42e0-dc1f-64c6beb85af2"
   },
   "outputs": [],
   "source": [
    "df.info()"
   ]
  },
  {
   "cell_type": "code",
   "execution_count": null,
   "metadata": {
    "id": "m5Z7A1ynjwOJ",
    "outputId": "b62d0c91-71dd-4914-f48d-93058bb92ebb"
   },
   "outputs": [],
   "source": [
    "df.duplicated().value_counts()"
   ]
  },
  {
   "cell_type": "code",
   "execution_count": null,
   "metadata": {
    "id": "1KZTgV6LjwOK"
   },
   "outputs": [],
   "source": [
    " df.drop_duplicates(keep = 'first', inplace = True)\n",
    "    #metoun içinde subset attribute var onu ayarlayarak sütunları belirleyebilirsiniz."
   ]
  },
  {
   "cell_type": "code",
   "execution_count": null,
   "metadata": {
    "id": "T9kdEoIAjwOK",
    "outputId": "1b213f35-ecef-4026-e8d8-21dc23efcd53"
   },
   "outputs": [],
   "source": [
    "df.shape"
   ]
  },
  {
   "cell_type": "code",
   "execution_count": null,
   "metadata": {
    "id": "xocO27OejwOK",
    "outputId": "e189a5be-797d-4da7-8d20-18527f75b6a7"
   },
   "outputs": [],
   "source": [
    "df.describe().T"
   ]
  },
  {
   "cell_type": "code",
   "execution_count": null,
   "metadata": {
    "id": "lqwAJa6LjwOL"
   },
   "outputs": [],
   "source": [
    "df.rename(columns={\"education-num\" : \"education_num\",\n",
    "                   \"marital-status\" : \"marital_status\",\n",
    "                   \"capital-gain\" : \"capital_gain\",\n",
    "                   \"capital-loss\": \"capital_loss\",\n",
    "                   \"hours-per-week\" : \"hours_per_week\",\n",
    "                   \"native-country\" : \"native_country\",\n",
    "                   \"sex\" : \"gender\"},\n",
    "          inplace = True)\n",
    "\n",
    "# araya normal tire konulursa onu tek bir satır olarak algılamaz o yüzden alt tire yaptık"
   ]
  },
  {
   "cell_type": "code",
   "execution_count": null,
   "metadata": {
    "id": "NRPHVVevjwOL",
    "outputId": "d6632665-e494-4cf9-a58a-a78fedb33774",
    "scrolled": true
   },
   "outputs": [],
   "source": [
    "df.isnull().sum()"
   ]
  },
  {
   "cell_type": "code",
   "execution_count": null,
   "metadata": {
    "id": "y3vNp2sejwOL",
    "outputId": "abcc4f9e-ce08-4321-ef4f-b7e0ced56bf2"
   },
   "outputs": [],
   "source": [
    "df.isnull().sum() / df.shape[0] * 100"
   ]
  },
  {
   "cell_type": "markdown",
   "metadata": {
    "id": "3QuB60ZKjwOM"
   },
   "source": [
    "### 2.Look at the value counts of columns that have object datatype and detect strange values apart from the NaN Values"
   ]
  },
  {
   "cell_type": "code",
   "execution_count": null,
   "metadata": {
    "id": "yRi85HypjwOM",
    "outputId": "a5a088f0-8506-417c-e565-3fa6fe7b2b14"
   },
   "outputs": [],
   "source": [
    "df.columns"
   ]
  },
  {
   "cell_type": "code",
   "execution_count": null,
   "metadata": {
    "id": "ksU6DZ2ZjwON",
    "outputId": "40e1104c-e5ec-4a36-c0a1-f29e615ae517"
   },
   "outputs": [],
   "source": [
    "df.describe(include=\"object\").T"
   ]
  },
  {
   "cell_type": "code",
   "execution_count": null,
   "metadata": {
    "id": "-I079o7-jwON",
    "outputId": "1b614b59-7e2d-4b8f-f61b-b0755a63ba96"
   },
   "outputs": [],
   "source": [
    "object_col = df.select_dtypes(include='object').columns\n",
    "object_col"
   ]
  },
  {
   "cell_type": "code",
   "execution_count": null,
   "metadata": {
    "id": "FM8sgFTQjwON",
    "outputId": "c0318cba-8524-48e9-dc63-056d6660cb96",
    "scrolled": false
   },
   "outputs": [],
   "source": [
    "for col in object_col:\n",
    "    print(col)\n",
    "    print(\"--\"*8)\n",
    "    print(df[col].value_counts(dropna=False))\n",
    "    print(\"--\"*20)"
   ]
  },
  {
   "cell_type": "code",
   "execution_count": null,
   "metadata": {
    "id": "2HjdyNyAjwON",
    "outputId": "4e209cc2-5785-4f5d-a3df-eadbae0a65c8",
    "scrolled": false
   },
   "outputs": [],
   "source": [
    "df[df.isin(['?'])].any()"
   ]
  },
  {
   "cell_type": "markdown",
   "metadata": {
    "id": "tRENVPjsjwOO"
   },
   "source": [
    "## <p style=\"background-color:#9d4f8c; font-family:newtimeroman; color:#FFF9ED; font-size:175%; text-align:center; border-radius:10px 10px;\">Univariate & Multivariate Analysis</p>\n",
    "\n",
    "<a id=\"4\"></a>\n",
    "<a href=\"#toc\" class=\"btn btn-primary btn-sm\" role=\"button\" aria-pressed=\"true\" \n",
    "style=\"color:blue; background-color:#dfa8e4\" data-toggle=\"popover\">Content</a>\n",
    "\n",
    "Examine all features (first target feature(\"salary\"), then numeric ones, lastly categoric ones) separetly from different aspects according to target feature.\n",
    "\n",
    "**to do list for numeric features:**\n",
    "1. Check the boxplot to see extreme values \n",
    "2. Check the histplot/kdeplot to see distribution of feature\n",
    "3. Check the statistical values\n",
    "4. Check the boxplot and histplot/kdeplot by \"salary\" levels\n",
    "5. Check the statistical values by \"salary\" levels\n",
    "6. Write down the conclusions you draw from your analysis\n",
    "\n",
    "**to do list for categoric features:**\n",
    "1. Find the features which contains similar values, examine the similarities and analyze them together \n",
    "2. Check the count/percentage of person in each categories and visualize it with a suitable plot\n",
    "3. If need, decrease the number of categories by combining similar categories\n",
    "4. Check the count of person in each \"salary\" levels by categories and visualize it with a suitable plot\n",
    "5. Check the percentage distribution of person in each \"salary\" levels by categories and visualize it with suitable plot\n",
    "6. Check the count of person in each categories by \"salary\" levels and visualize it with a suitable plot\n",
    "7. Check the percentage distribution of person in each categories by \"salary\" levels and visualize it with suitable plot\n",
    "8. Write down the conclusions you draw from your analysis\n",
    "\n",
    "**Note :** Instruction/direction for each feature is available under the corresponding feature in detail, as well."
   ]
  },
  {
   "cell_type": "markdown",
   "metadata": {
    "id": "FWVwlGMnjwOO"
   },
   "source": [
    "## Salary (Target Feature)"
   ]
  },
  {
   "cell_type": "markdown",
   "metadata": {
    "id": "aZEah_LljwOO"
   },
   "source": [
    "**Check the count of person in each \"salary\" levels and visualize it with a countplot**"
   ]
  },
  {
   "cell_type": "code",
   "execution_count": null,
   "metadata": {
    "id": "qHGi3U9xjwOO",
    "outputId": "ebfe816d-30c6-46a3-9ba3-16dfb47ddd6d"
   },
   "outputs": [],
   "source": [
    "df.salary.value_counts(dropna=False)"
   ]
  },
  {
   "cell_type": "code",
   "execution_count": null,
   "metadata": {
    "id": "MzMGASoxjwOP",
    "outputId": "608c3842-d229-440c-dd9d-75cbb9e9cc31"
   },
   "outputs": [],
   "source": [
    "fig, ax = plt.subplots()\n",
    "\n",
    "ax = sns.countplot(data=df, x=\"salary\")\n",
    "\n",
    "for p in ax.patches:\n",
    "   ax.annotate((p.get_height()), (p.get_x()+0.35, p.get_height()+100));"
   ]
  },
  {
   "cell_type": "code",
   "execution_count": null,
   "metadata": {},
   "outputs": [],
   "source": [
    "fig, ax = plt.subplots()\n",
    "\n",
    "ax = sns.countplot(data=df, x=\"salary\")\n",
    "\n",
    "for container in ax.containers:\n",
    "    ax.bar_label(container);"
   ]
  },
  {
   "cell_type": "markdown",
   "metadata": {
    "id": "u92U8F26jwOP"
   },
   "source": [
    "**Check the percentage of person in each \"salary\" levels and visualize it with a pieplot**"
   ]
  },
  {
   "cell_type": "code",
   "execution_count": null,
   "metadata": {
    "id": "rxtSa_cijwOP",
    "outputId": "6497053a-8124-4797-9078-7d368feeaec9"
   },
   "outputs": [],
   "source": [
    "df.salary.value_counts(normalize=True)"
   ]
  },
  {
   "cell_type": "code",
   "execution_count": null,
   "metadata": {
    "id": "e6hTe5nFjwOP",
    "outputId": "8c259281-13be-4abb-9291-ed5dcfe20796",
    "scrolled": false
   },
   "outputs": [],
   "source": [
    "fig, ax = plt.subplots(figsize=(6, 6))\n",
    "\n",
    "ax.pie(x=df.salary.value_counts().values, \n",
    "       labels=['<=50K', '>50K'], \n",
    "       autopct='%.1f%%',\n",
    "       explode=(0, 0.1),\n",
    "       colors=['lightskyblue', 'gold'],\n",
    "       textprops={'fontsize': 12},\n",
    "       shadow=True\n",
    "       )\n",
    "plt.title(\"Percentage of Income-Levels\", fontdict = {'fontsize': 14})\n",
    "plt.show()"
   ]
  },
  {
   "cell_type": "markdown",
   "metadata": {
    "id": "P5GiZjZNjwOP"
   },
   "source": [
    "**Write down the conclusions you draw from your analysis**"
   ]
  },
  {
   "cell_type": "markdown",
   "metadata": {
    "id": "u38tpMPujwOQ"
   },
   "source": [
    "**Result :** While 75% of the individuals in the data set are at the low-income level, 25% are at the high-income level."
   ]
  },
  {
   "cell_type": "markdown",
   "metadata": {
    "id": "O-WjXfO7jwOQ"
   },
   "source": [
    "## Numeric Features"
   ]
  },
  {
   "cell_type": "markdown",
   "metadata": {
    "id": "UVjAplv8jwOQ"
   },
   "source": [
    "## age"
   ]
  },
  {
   "cell_type": "markdown",
   "metadata": {
    "id": "JSlVem-ZjwOQ"
   },
   "source": [
    "**Check the boxplot to see extreme values**"
   ]
  },
  {
   "cell_type": "code",
   "execution_count": null,
   "metadata": {
    "id": "Oo_BFyB7jwOQ",
    "outputId": "b955e9e6-4882-4632-f16a-d0d58e74d77c"
   },
   "outputs": [],
   "source": [
    "sns.boxplot(data=df, \n",
    "            x=\"age\",\n",
    "            showmeans=True, # data'nın mean ını gösterir.\n",
    "            meanprops={\"marker\":\"o\",\n",
    "                       \"markerfacecolor\":\"white\", \n",
    "                       \"markeredgecolor\":\"black\",\n",
    "                       \"markersize\":\"10\"});"
   ]
  },
  {
   "cell_type": "markdown",
   "metadata": {
    "id": "IjetyvahjwOQ"
   },
   "source": [
    "**Check the histplot/kdeplot to see distribution of feature**"
   ]
  },
  {
   "cell_type": "code",
   "execution_count": null,
   "metadata": {
    "id": "QpiiUyTDjwOR",
    "outputId": "a197713f-9f6f-4b49-97e9-739ab58c3193"
   },
   "outputs": [],
   "source": [
    "sns.histplot(data=df, x=\"age\", bins=20, kde=True);"
   ]
  },
  {
   "cell_type": "markdown",
   "metadata": {
    "id": "QqEkjaaHjwOR"
   },
   "source": [
    "**Check the statistical values**"
   ]
  },
  {
   "cell_type": "code",
   "execution_count": null,
   "metadata": {
    "id": "yp1xwAjxjwOR",
    "outputId": "02e8746d-e17e-4668-cb94-eb623860444c"
   },
   "outputs": [],
   "source": [
    "df.age.describe()"
   ]
  },
  {
   "cell_type": "markdown",
   "metadata": {
    "id": "M998V8hVjwOR"
   },
   "source": [
    "**Check the boxplot and histplot/kdeplot by \"salary\" levels**"
   ]
  },
  {
   "cell_type": "code",
   "execution_count": null,
   "metadata": {
    "id": "KqPskzt6jwOR",
    "outputId": "9eb4519d-3869-4ebb-dff8-6cfc0adc6358"
   },
   "outputs": [],
   "source": [
    "sns.boxplot(data=df, \n",
    "            x=\"salary\", \n",
    "            y=\"age\",\n",
    "            showmeans=True,\n",
    "            meanprops={\"marker\":\"o\",\n",
    "                       \"markerfacecolor\":\"white\", \n",
    "                       \"markeredgecolor\":\"black\",\n",
    "                       \"markersize\":\"10\"});"
   ]
  },
  {
   "cell_type": "code",
   "execution_count": null,
   "metadata": {
    "id": "WklD0R9AjwOS",
    "outputId": "4dbaf3c0-9c93-4ce8-fef3-e1a2faec3ade"
   },
   "outputs": [],
   "source": [
    "sns.histplot(data=df, x=\"age\", bins= 20, kde=True, hue=\"salary\");"
   ]
  },
  {
   "cell_type": "code",
   "execution_count": null,
   "metadata": {
    "id": "ZoWs0Vx8jwOS",
    "outputId": "95417d6e-481e-45a6-8ab8-841b60bc5400"
   },
   "outputs": [],
   "source": [
    "sns.kdeplot(data=df, x=\"age\", hue=\"salary\", fill=True);"
   ]
  },
  {
   "cell_type": "markdown",
   "metadata": {
    "id": "Ue0sit4hjwOS"
   },
   "source": [
    "**Check the statistical values by \"salary\" levels**"
   ]
  },
  {
   "cell_type": "code",
   "execution_count": null,
   "metadata": {
    "id": "M9hpKfUgjwOS",
    "outputId": "62684d2c-4780-4021-8e5d-fa70083b8141",
    "scrolled": true
   },
   "outputs": [],
   "source": [
    "df.groupby(\"salary\").age.describe()"
   ]
  },
  {
   "cell_type": "markdown",
   "metadata": {
    "id": "vWei7u-ljwOS"
   },
   "source": [
    "**Write down the conclusions you draw from your analysis**"
   ]
  },
  {
   "cell_type": "markdown",
   "metadata": {
    "id": "SkgAmdjnjwOT"
   },
   "source": [
    "**Result :** The mean and median age of the high-income group is higher than the low-income group. It means the older generation possesses more wealth than the young."
   ]
  },
  {
   "cell_type": "markdown",
   "metadata": {
    "id": "HOIESqNjjwOT"
   },
   "source": [
    "## fnlwgt"
   ]
  },
  {
   "cell_type": "markdown",
   "metadata": {
    "id": "j1M9913CjwOT"
   },
   "source": [
    "**Check the boxplot to see extreme values**"
   ]
  },
  {
   "cell_type": "code",
   "execution_count": null,
   "metadata": {
    "id": "XH2NHDzkjwOT",
    "outputId": "513af88e-f75b-483a-a7a3-774a4400194a",
    "scrolled": false
   },
   "outputs": [],
   "source": [
    "sns.boxplot(data=df, \n",
    "            x=\"fnlwgt\",\n",
    "            showmeans=True,\n",
    "            meanprops={\"marker\":\"o\",\n",
    "                       \"markerfacecolor\":\"white\", \n",
    "                       \"markeredgecolor\":\"black\",\n",
    "                       \"markersize\":\"10\"});"
   ]
  },
  {
   "cell_type": "markdown",
   "metadata": {
    "id": "_fMFmKvVjwOT"
   },
   "source": [
    "**Check the histplot/kdeplot to see distribution of feature**"
   ]
  },
  {
   "cell_type": "code",
   "execution_count": null,
   "metadata": {
    "id": "zZ_qSgbsjwOT",
    "outputId": "be1e8e55-79c4-4130-b7e7-b9c192d80d6d",
    "scrolled": false
   },
   "outputs": [],
   "source": [
    "sns.kdeplot(data=df, x=\"fnlwgt\", fill=True);"
   ]
  },
  {
   "cell_type": "markdown",
   "metadata": {
    "id": "6RFyLaCZjwOU"
   },
   "source": [
    "**Check the statistical values**"
   ]
  },
  {
   "cell_type": "code",
   "execution_count": null,
   "metadata": {
    "id": "1m4QNTVNjwOU",
    "outputId": "790c1a11-877b-4a49-a8f6-fc5f1c2eb3cc",
    "scrolled": true
   },
   "outputs": [],
   "source": [
    "df.fnlwgt.describe()"
   ]
  },
  {
   "cell_type": "markdown",
   "metadata": {
    "id": "0c0RZVyfjwOU"
   },
   "source": [
    "**Check the boxplot and histplot/kdeplot by \"salary\" levels**"
   ]
  },
  {
   "cell_type": "code",
   "execution_count": null,
   "metadata": {
    "id": "LbrkZXdojwOU",
    "outputId": "3f115ae3-6f7b-4618-ee38-f39d8a5da991"
   },
   "outputs": [],
   "source": [
    "sns.boxplot(data=df, \n",
    "            x=\"salary\", \n",
    "            y=\"fnlwgt\",\n",
    "            showmeans=True,\n",
    "            meanprops={\"marker\":\"o\",\n",
    "                       \"markerfacecolor\":\"white\", \n",
    "                       \"markeredgecolor\":\"black\",\n",
    "                       \"markersize\":\"10\"});"
   ]
  },
  {
   "cell_type": "code",
   "execution_count": null,
   "metadata": {
    "id": "VJdFRp9RjwOU",
    "outputId": "105c93b2-b060-43db-83a6-62920f4e5a5c",
    "scrolled": false
   },
   "outputs": [],
   "source": [
    "sns.kdeplot(data=df, x=\"fnlwgt\", hue=\"salary\", fill=True);"
   ]
  },
  {
   "cell_type": "markdown",
   "metadata": {
    "id": "7pfCMuMYjwOV"
   },
   "source": [
    "**Check the statistical values by \"salary\" levels**"
   ]
  },
  {
   "cell_type": "code",
   "execution_count": null,
   "metadata": {
    "id": "Vm1SXs_9jwOV",
    "outputId": "de4b2d9f-8741-49bb-ac8a-67817d39b759",
    "scrolled": true
   },
   "outputs": [],
   "source": [
    "df.groupby(\"salary\").fnlwgt.describe()"
   ]
  },
  {
   "cell_type": "markdown",
   "metadata": {
    "id": "mHHIE5i1jwOV"
   },
   "source": [
    "**Write down the conclusions you draw from your analysis**"
   ]
  },
  {
   "cell_type": "markdown",
   "metadata": {
    "id": "B1cHhb2ejwOV"
   },
   "source": [
    "**Result :** There is no significant difference between high and low-income groups according to the \"fnlwgt\" feature."
   ]
  },
  {
   "cell_type": "markdown",
   "metadata": {
    "id": "6MCscpw1jwOV"
   },
   "source": [
    "## capital_gain"
   ]
  },
  {
   "cell_type": "markdown",
   "metadata": {
    "id": "MYcwxtzxjwOV"
   },
   "source": [
    "**Check the boxplot to see extreme values**"
   ]
  },
  {
   "cell_type": "code",
   "execution_count": null,
   "metadata": {
    "id": "TrhrYQ5EjwOV",
    "outputId": "206cf828-58f6-4245-e6cd-ecc003468edd",
    "scrolled": true
   },
   "outputs": [],
   "source": [
    "sns.boxplot(data=df, x=\"capital_gain\");"
   ]
  },
  {
   "cell_type": "markdown",
   "metadata": {
    "id": "GVV5v0CzjwOW"
   },
   "source": [
    "**Check the histplot/kdeplot to see distribution of feature**"
   ]
  },
  {
   "cell_type": "code",
   "execution_count": null,
   "metadata": {
    "id": "yLpY2iIejwOW",
    "outputId": "e2de77e6-4026-4130-e72f-9246458e05e0",
    "scrolled": false
   },
   "outputs": [],
   "source": [
    "sns.kdeplot(data=df, x=\"capital_gain\", fill=True);"
   ]
  },
  {
   "cell_type": "markdown",
   "metadata": {
    "id": "dap9OeI-jwOW"
   },
   "source": [
    "**Check the statistical values**"
   ]
  },
  {
   "cell_type": "code",
   "execution_count": null,
   "metadata": {
    "id": "s6K1zG3EjwOW",
    "outputId": "f2e3dbb7-cbff-4080-a4ca-25eba706e59f",
    "scrolled": true
   },
   "outputs": [],
   "source": [
    "df.capital_gain.describe()"
   ]
  },
  {
   "cell_type": "markdown",
   "metadata": {
    "id": "3SWvge41jwOW"
   },
   "source": [
    "**Check the boxplot and histplot/kdeplot by \"salary\" levels**"
   ]
  },
  {
   "cell_type": "code",
   "execution_count": null,
   "metadata": {
    "id": "SMewSoRfjwOW",
    "outputId": "a3ceab5c-6d18-4b3f-f2a7-24280d32e01e"
   },
   "outputs": [],
   "source": [
    "sns.boxplot(data=df, x=\"salary\", y=\"capital_gain\");"
   ]
  },
  {
   "cell_type": "code",
   "execution_count": null,
   "metadata": {
    "id": "efrxcNRSjwOX",
    "outputId": "10654556-6fb0-4534-df3f-ab148d8cd9de",
    "scrolled": false
   },
   "outputs": [],
   "source": [
    "sns.kdeplot(data=df, x=\"capital_gain\", hue=\"salary\", fill=True);"
   ]
  },
  {
   "cell_type": "markdown",
   "metadata": {
    "id": "4WCEcxNHjwOX"
   },
   "source": [
    "**Check the statistical values by \"salary\" levels**"
   ]
  },
  {
   "cell_type": "code",
   "execution_count": null,
   "metadata": {
    "id": "N1IejL02jwOX",
    "outputId": "2f2b7378-1b20-48ab-e2cf-8e97d5dc5f4a",
    "scrolled": true
   },
   "outputs": [],
   "source": [
    "df.groupby(\"salary\").capital_gain.describe()"
   ]
  },
  {
   "cell_type": "markdown",
   "metadata": {
    "id": "uUU2P7HujwOX"
   },
   "source": [
    "**Check the statistical values by \"salary\" levels for capital_gain not equal the zero**"
   ]
  },
  {
   "cell_type": "code",
   "execution_count": null,
   "metadata": {
    "id": "4AHDsBHPjwOX",
    "outputId": "317de0a4-bb94-4a8c-f5ab-c2453fb00645",
    "scrolled": true
   },
   "outputs": [],
   "source": [
    "df[df.capital_gain != 0].groupby(\"salary\").capital_gain.describe()"
   ]
  },
  {
   "cell_type": "markdown",
   "metadata": {
    "id": "oGTkUS7-jwOX"
   },
   "source": [
    "**Write down the conclusions you draw from your analysis**"
   ]
  },
  {
   "cell_type": "markdown",
   "metadata": {
    "id": "bkZ9CSZrjwOY"
   },
   "source": [
    "**Result :** The \"capital-gain\" feature has not provided very meaningful insights. Nevertheless, we can say that the more \"capital-gain\", the more \"high-income\"."
   ]
  },
  {
   "cell_type": "markdown",
   "metadata": {
    "id": "9Xgur7CdjwOY"
   },
   "source": [
    "## capital_loss"
   ]
  },
  {
   "cell_type": "markdown",
   "metadata": {
    "id": "ronhkqMUjwOY"
   },
   "source": [
    "**Check the boxplot to see extreme values**"
   ]
  },
  {
   "cell_type": "code",
   "execution_count": null,
   "metadata": {
    "id": "HI-FoqMijwOY",
    "outputId": "7030492f-0440-4eb2-bf8b-01db5651c3c3",
    "scrolled": true
   },
   "outputs": [],
   "source": [
    "sns.boxplot(data=df, x=\"capital_loss\");"
   ]
  },
  {
   "cell_type": "markdown",
   "metadata": {
    "id": "xHU4BWzbjwOY"
   },
   "source": [
    "**Check the histplot/kdeplot to see distribution of feature**"
   ]
  },
  {
   "cell_type": "code",
   "execution_count": null,
   "metadata": {
    "id": "jisCyIN0jwOY",
    "outputId": "2aa8b3ed-ba87-4c7f-9ca5-329e44889d96",
    "scrolled": true
   },
   "outputs": [],
   "source": [
    "sns.kdeplot(data=df, x=\"capital_loss\", fill=True);"
   ]
  },
  {
   "cell_type": "markdown",
   "metadata": {
    "id": "I_cP71DijwOY"
   },
   "source": [
    "**Check the statistical values**"
   ]
  },
  {
   "cell_type": "code",
   "execution_count": null,
   "metadata": {
    "id": "WCl2uXRyjwOZ",
    "outputId": "43c13fa4-667c-4745-9061-ffcbd804cbf8",
    "scrolled": true
   },
   "outputs": [],
   "source": [
    "df.capital_loss.describe()"
   ]
  },
  {
   "cell_type": "markdown",
   "metadata": {
    "id": "oQh80H7ejwOZ"
   },
   "source": [
    "**Check the boxplot and histplot/kdeplot by \"salary\" levels**"
   ]
  },
  {
   "cell_type": "code",
   "execution_count": null,
   "metadata": {
    "id": "e2YJOzpUjwOZ",
    "outputId": "bc1e29f5-ff26-4c30-bddd-b46adb6e5ae3"
   },
   "outputs": [],
   "source": [
    "sns.boxplot(data=df, x=\"salary\", y=\"capital_loss\");"
   ]
  },
  {
   "cell_type": "code",
   "execution_count": null,
   "metadata": {
    "id": "Tl8EFUJujwOZ",
    "outputId": "5c099934-0776-4a35-80f1-694a7c488920",
    "scrolled": true
   },
   "outputs": [],
   "source": [
    "sns.kdeplot(data=df, x=\"capital_loss\", hue=\"salary\", fill=True);"
   ]
  },
  {
   "cell_type": "markdown",
   "metadata": {
    "id": "nv0MQVuQjwOZ"
   },
   "source": [
    "**Check the statistical values by \"salary\" levels**"
   ]
  },
  {
   "cell_type": "code",
   "execution_count": null,
   "metadata": {
    "id": "CHlajnDRjwOZ",
    "outputId": "e2610f3c-aeb3-48bd-c709-2a9f418729fb",
    "scrolled": true
   },
   "outputs": [],
   "source": [
    "df.groupby(\"salary\").capital_loss.describe()"
   ]
  },
  {
   "cell_type": "markdown",
   "metadata": {
    "id": "PTPaQHjujwOa"
   },
   "source": [
    "**Check the statistical values by \"salary\" levels for capital_loss not equel the zero**"
   ]
  },
  {
   "cell_type": "code",
   "execution_count": null,
   "metadata": {
    "id": "MV2nuPmZjwOa",
    "outputId": "1d0ed7ca-bf82-4541-a854-5bfee8a359d5",
    "scrolled": true
   },
   "outputs": [],
   "source": [
    "df[df.capital_loss != 0].groupby(\"salary\").capital_loss.describe()"
   ]
  },
  {
   "cell_type": "markdown",
   "metadata": {
    "id": "WsXY8G85jwOa"
   },
   "source": [
    "**Write down the conclusions you draw from your analysis**"
   ]
  },
  {
   "cell_type": "markdown",
   "metadata": {
    "id": "I56huIocjwOa"
   },
   "source": [
    "**Result :** There is no significant difference between high and low-income groups according to the \"capital_loss\" feature."
   ]
  },
  {
   "cell_type": "markdown",
   "metadata": {
    "id": "x6Q6OxR6jwOa"
   },
   "source": [
    "## hours_per_week"
   ]
  },
  {
   "cell_type": "markdown",
   "metadata": {
    "id": "XVEKpdK8jwOa"
   },
   "source": [
    "**Check the boxplot to see extreme values**"
   ]
  },
  {
   "cell_type": "code",
   "execution_count": null,
   "metadata": {
    "id": "DdGT1VGIjwOb",
    "outputId": "ed85aa55-97fa-42c9-b5dd-ff56c8a79cc8"
   },
   "outputs": [],
   "source": [
    "sns.boxplot(data=df, \n",
    "            x=\"hours_per_week\",\n",
    "            showmeans=True,\n",
    "            meanprops={\"marker\":\"o\",\n",
    "                       \"markerfacecolor\":\"white\", \n",
    "                       \"markeredgecolor\":\"black\",\n",
    "                       \"markersize\":\"10\"});"
   ]
  },
  {
   "cell_type": "markdown",
   "metadata": {
    "id": "6lclEo50jwOb"
   },
   "source": [
    "**Check the histplot/kdeplot to see distribution of feature**"
   ]
  },
  {
   "cell_type": "code",
   "execution_count": null,
   "metadata": {
    "id": "LNh8hE8cjwOb",
    "outputId": "a7045558-dc1d-4281-d91c-b3e49f8460c6",
    "scrolled": true
   },
   "outputs": [],
   "source": [
    "sns.kdeplot(data=df, x=\"hours_per_week\", fill=True);"
   ]
  },
  {
   "cell_type": "markdown",
   "metadata": {
    "id": "lXvtJXUhjwOb"
   },
   "source": [
    "**Check the statistical values**"
   ]
  },
  {
   "cell_type": "code",
   "execution_count": null,
   "metadata": {
    "id": "91QCi4I6jwOb",
    "outputId": "c7e8a38f-9a14-4b99-a9ce-9cde0e8393b4",
    "scrolled": true
   },
   "outputs": [],
   "source": [
    "df.hours_per_week.describe()"
   ]
  },
  {
   "cell_type": "markdown",
   "metadata": {
    "id": "HseRL6G5jwOb"
   },
   "source": [
    "**Check the boxplot and histplot/kdeplot by \"salary\" levels**"
   ]
  },
  {
   "cell_type": "code",
   "execution_count": null,
   "metadata": {
    "id": "Mukw_H66jwOb",
    "outputId": "cb7de7ad-7bc5-49f9-f7ed-714d028aafce"
   },
   "outputs": [],
   "source": [
    "sns.boxplot(data=df, \n",
    "            x=\"salary\", \n",
    "            y=\"hours_per_week\",\n",
    "            showmeans=True,\n",
    "            meanprops={\"marker\":\"o\",\n",
    "                       \"markerfacecolor\":\"white\", \n",
    "                       \"markeredgecolor\":\"black\",\n",
    "                       \"markersize\":\"10\"});            "
   ]
  },
  {
   "cell_type": "code",
   "execution_count": null,
   "metadata": {
    "id": "XBqReNqFjwOc",
    "outputId": "166118aa-2bde-4ff7-db06-71980aac0e5d",
    "scrolled": true
   },
   "outputs": [],
   "source": [
    "sns.kdeplot(data=df, x=\"hours_per_week\", hue=\"salary\", fill=True);"
   ]
  },
  {
   "cell_type": "markdown",
   "metadata": {
    "id": "ZNgKEn8pjwOc"
   },
   "source": [
    "**Check the statistical values by \"salary\" levels**"
   ]
  },
  {
   "cell_type": "code",
   "execution_count": null,
   "metadata": {
    "id": "zBTGWf-NjwOc",
    "outputId": "38347e5c-5062-4471-a271-6fef3ac236a2",
    "scrolled": true
   },
   "outputs": [],
   "source": [
    "df.groupby(\"salary\").hours_per_week.describe()"
   ]
  },
  {
   "cell_type": "markdown",
   "metadata": {
    "id": "eSSyAXhmjwOc"
   },
   "source": [
    "**Write down the conclusions you draw from your analysis**"
   ]
  },
  {
   "cell_type": "markdown",
   "metadata": {
    "id": "ohMQzPJkjwOc"
   },
   "source": [
    "**Result :** To be in a high-income group, almost at least 40 hours working per week is required. Most of those who work less than 40 hours per week are in the low-income group."
   ]
  },
  {
   "cell_type": "markdown",
   "metadata": {
    "id": "jWt2NRMNjwOd"
   },
   "source": [
    "## See the relationship between each numeric features by target feature (salary) in one plot basically"
   ]
  },
  {
   "cell_type": "code",
   "execution_count": null,
   "metadata": {
    "id": "hcrCeeXdjwOd",
    "outputId": "f7cf6e61-264e-4f5d-9288-7ebb1b8624c7"
   },
   "outputs": [],
   "source": [
    "sns.pairplot(df, hue=\"salary\", palette=\"viridis\", corner=True);"
   ]
  },
  {
   "cell_type": "markdown",
   "metadata": {
    "id": "KoqL-m8HjwOd"
   },
   "source": [
    "## Categorical Features"
   ]
  },
  {
   "cell_type": "markdown",
   "metadata": {
    "id": "r2MBtjItjwOd"
   },
   "source": [
    "## education & education_num"
   ]
  },
  {
   "cell_type": "markdown",
   "metadata": {
    "id": "rBi5WgmdjwOd"
   },
   "source": [
    "**Detect the similarities between these features by comparing unique values**"
   ]
  },
  {
   "cell_type": "code",
   "execution_count": null,
   "metadata": {
    "id": "erMfSRYhjwOd",
    "outputId": "5d40c2e9-00d8-4f71-fdcc-892ca07123d7"
   },
   "outputs": [],
   "source": [
    "df.education.value_counts(dropna=False)"
   ]
  },
  {
   "cell_type": "code",
   "execution_count": null,
   "metadata": {
    "id": "Ow5F5w2YjwOe",
    "outputId": "dc8b2b0e-68d3-4dd7-9386-afd4fe5c5f94"
   },
   "outputs": [],
   "source": [
    "df.education_num.value_counts(dropna=False)"
   ]
  },
  {
   "cell_type": "code",
   "execution_count": null,
   "metadata": {
    "id": "MGmoLehAjwOe",
    "outputId": "cdb342a1-668a-436f-a79f-64ce13df6292"
   },
   "outputs": [],
   "source": [
    "df.groupby('education').education_num.value_counts(dropna=False)"
   ]
  },
  {
   "cell_type": "markdown",
   "metadata": {
    "id": "_TBE_09QjwOe"
   },
   "source": [
    "**Visualize the count of person in each categories for these features (education, education_num) separately**"
   ]
  },
  {
   "cell_type": "code",
   "execution_count": null,
   "metadata": {
    "id": "Et91cYt3jwOe",
    "outputId": "ac82185c-05b4-4f38-aa91-cb5e0a842e36"
   },
   "outputs": [],
   "source": [
    "ax = sns.countplot(data=df, x=\"education\")\n",
    "\n",
    "plt.xticks(rotation=60)\n",
    "\n",
    "for container in ax.containers:\n",
    "    ax.bar_label(container);"
   ]
  },
  {
   "cell_type": "code",
   "execution_count": null,
   "metadata": {
    "id": "hBNaS39UjwOe",
    "outputId": "47499dca-97bf-4bb7-8e8b-72c006e82733"
   },
   "outputs": [],
   "source": [
    "ax = sns.countplot(data = df, x = \"education_num\")\n",
    "\n",
    "for container in ax.containers:\n",
    "    ax.bar_label(container);"
   ]
  },
  {
   "cell_type": "markdown",
   "metadata": {
    "id": "60WFA-LxjwOf"
   },
   "source": [
    "**Check the count of person in each \"salary\" levels by these features (education and education_num) separately and visualize them with countplot**"
   ]
  },
  {
   "cell_type": "code",
   "execution_count": null,
   "metadata": {
    "id": "chHCgF19jwOf",
    "outputId": "f5102728-d7aa-4930-8def-2fce6deda3e7"
   },
   "outputs": [],
   "source": [
    "df.groupby(\"education\").salary.value_counts()"
   ]
  },
  {
   "cell_type": "code",
   "execution_count": null,
   "metadata": {
    "id": "JxY-H7xWjwOg",
    "outputId": "e0c058e7-1442-478d-ee13-c1c030c658ed"
   },
   "outputs": [],
   "source": [
    "ax = sns.countplot(data = df, x = \"education\", hue = \"salary\")\n",
    "\n",
    "plt.xticks(rotation = 90)\n",
    "\n",
    "for container in ax.containers:\n",
    "    ax.bar_label(container);"
   ]
  },
  {
   "cell_type": "code",
   "execution_count": null,
   "metadata": {
    "id": "aKGJkgY5jwOg",
    "outputId": "b798de1e-7706-48b6-b2bd-6be1a3541a42",
    "scrolled": true
   },
   "outputs": [],
   "source": [
    "df.groupby(\"education_num\").salary.value_counts()"
   ]
  },
  {
   "cell_type": "code",
   "execution_count": null,
   "metadata": {
    "id": "p4NNYHK5jwOg",
    "outputId": "27efa7fb-2e06-4b33-e1f9-3d18365156bd",
    "scrolled": true
   },
   "outputs": [],
   "source": [
    "ax = sns.countplot(data = df, x = \"education_num\", hue = \"salary\")\n",
    "\n",
    "for container in ax.containers:\n",
    "    ax.bar_label(container);"
   ]
  },
  {
   "cell_type": "markdown",
   "metadata": {
    "id": "u1tOfC0AjwOh"
   },
   "source": [
    "**Visualize the boxplot of \"education_num\" feature by \"salary\" levels**"
   ]
  },
  {
   "cell_type": "code",
   "execution_count": null,
   "metadata": {
    "id": "iKbHdqizjwOh",
    "outputId": "6fc11e2b-114c-4f8a-d94c-165e9f7ab619"
   },
   "outputs": [],
   "source": [
    "sns.boxplot(data = df, x = \"salary\", y = \"education_num\");"
   ]
  },
  {
   "cell_type": "markdown",
   "metadata": {
    "id": "zSe13lNmjwOh"
   },
   "source": [
    "**Decrease the number of categories in \"education\" feature as low, medium, and high level and create a new feature with this new categorical data.**"
   ]
  },
  {
   "cell_type": "code",
   "execution_count": null,
   "metadata": {
    "id": "ogvWXpzCjwOh"
   },
   "outputs": [],
   "source": [
    "def mapping_education(x):\n",
    "    if x in [\"Preschool\", \"1st-4th\", \"5th-6th\", \"7th-8th\", \"9th\", \"10th\", \"11th\", \"12th\"]:\n",
    "        return \"low_level_grade\"\n",
    "    elif x in [\"HS-grad\", \"Some-college\", \"Assoc-voc\", \"Assoc-acdm\"]:\n",
    "        return \"medium_level_grade\"\n",
    "    elif x in [\"Bachelors\", \"Masters\", \"Prof-school\", \"Doctorate\"]:\n",
    "        return \"high_level_grade\""
   ]
  },
  {
   "cell_type": "code",
   "execution_count": null,
   "metadata": {
    "id": "apgUwWupjwOi",
    "outputId": "6f31480c-3794-47e1-f7d7-7e65e764b20a",
    "scrolled": true
   },
   "outputs": [],
   "source": [
    "df.education.apply(mapping_education).value_counts(dropna=False)"
   ]
  },
  {
   "cell_type": "code",
   "execution_count": null,
   "metadata": {
    "id": "c6q4GTXxjwOi"
   },
   "outputs": [],
   "source": [
    "df[\"education_summary\"] = df.education.apply(mapping_education)"
   ]
  },
  {
   "cell_type": "markdown",
   "metadata": {
    "id": "tKtlRPugjwOi"
   },
   "source": [
    "**Visualize the count of person in each categories for these new education levels (high, medium, low)**"
   ]
  },
  {
   "cell_type": "code",
   "execution_count": null,
   "metadata": {
    "id": "qG7G9A5EjwOi",
    "outputId": "4ab5f7a5-88b8-489b-eb70-f81dc157d2c5",
    "scrolled": true
   },
   "outputs": [],
   "source": [
    "ax = sns.countplot(data = df, x = \"education_summary\")\n",
    "\n",
    "for container in ax.containers:\n",
    "    ax.bar_label(container);"
   ]
  },
  {
   "cell_type": "markdown",
   "metadata": {
    "id": "Hs4Zjh3vjwOj"
   },
   "source": [
    "**Check the count of person in each \"salary\" levels by these new education levels(high, medium, low) and visualize it with countplot**"
   ]
  },
  {
   "cell_type": "code",
   "execution_count": null,
   "metadata": {
    "id": "RWhu4q0GjwOj",
    "outputId": "0a3af47b-f4ef-4cbd-aa0f-d2121a1fcf40"
   },
   "outputs": [],
   "source": [
    "df.groupby(\"education_summary\").salary.value_counts()"
   ]
  },
  {
   "cell_type": "code",
   "execution_count": null,
   "metadata": {
    "id": "yWc48AuTjwOj",
    "outputId": "861f518d-4be2-46e6-dfef-7080d2671f53",
    "scrolled": true
   },
   "outputs": [],
   "source": [
    "ax = sns.countplot(data=df, x=\"education_summary\", hue=\"salary\")\n",
    "\n",
    "for container in ax.containers:\n",
    "    ax.bar_label(container);"
   ]
  },
  {
   "cell_type": "markdown",
   "metadata": {
    "id": "67F2OAabjwOj"
   },
   "source": [
    "**Check the percentage distribution of person in each \"salary\" levels by each new education levels (high, medium, low) and visualize it with pie plot separately**"
   ]
  },
  {
   "cell_type": "code",
   "execution_count": null,
   "metadata": {
    "id": "avEKPbeBjwOj",
    "outputId": "4ee991cb-ccad-44cf-ec40-86dc16bbe311"
   },
   "outputs": [],
   "source": [
    "edu = df.groupby([\"education_summary\"]).salary.value_counts(normalize=True)\n",
    "edu"
   ]
  },
  {
   "cell_type": "code",
   "execution_count": null,
   "metadata": {
    "id": "AMwp-cf0jwOk",
    "outputId": "efe8d71e-f26b-4a26-8bb6-9f8180a950ab",
    "scrolled": false
   },
   "outputs": [],
   "source": [
    "plt.figure(figsize = (18, 6))\n",
    "index = 1\n",
    "for i in [0, 2, 4]:\n",
    "    plt.subplot(1,3,index)\n",
    "    edu[i:i+2].plot.pie(subplots=True,\n",
    "                        labels=[\"<=50K\", \">50K\"],\n",
    "                        autopct=\"%.2f%%\",\n",
    "                        textprops={'fontsize': 12},\n",
    "                        colors=['pink', 'lightskyblue'],\n",
    "                        )\n",
    "    plt.title(edu.index[i][0], fontdict = {'fontsize': 14})\n",
    "#    plt.legend()\n",
    "    index += 1"
   ]
  },
  {
   "cell_type": "markdown",
   "metadata": {
    "id": "b5mSBv18jwOk"
   },
   "source": [
    "**Check the count of person in each these new education levels(high, medium, low) by \"salary\" levels and visualize it with countplot**"
   ]
  },
  {
   "cell_type": "code",
   "execution_count": null,
   "metadata": {
    "id": "GXJj2IXJjwOk",
    "outputId": "6d6ad812-eb9a-4d49-c941-19133450f959"
   },
   "outputs": [],
   "source": [
    "df.groupby(\"salary\").education_summary.value_counts()"
   ]
  },
  {
   "cell_type": "code",
   "execution_count": null,
   "metadata": {
    "id": "RJp4-7wujwOk",
    "outputId": "9b5599dc-4085-496a-95fd-b1e40a1c18a3",
    "scrolled": true
   },
   "outputs": [],
   "source": [
    "ax = sns.countplot(data=df, x=\"salary\", hue=\"education_summary\")\n",
    "\n",
    "for container in ax.containers:\n",
    "    ax.bar_label(container);"
   ]
  },
  {
   "cell_type": "markdown",
   "metadata": {
    "id": "eAj4WMoCjwOk"
   },
   "source": [
    "**Check the the percentage distribution of person in each these new education levels(high, medium, low) by \"salary\" levels and visualize it with pie plot separately**"
   ]
  },
  {
   "cell_type": "code",
   "execution_count": null,
   "metadata": {
    "id": "9pPfEER4jwOk",
    "outputId": "69016c33-0a76-49e8-a089-51051b31f986"
   },
   "outputs": [],
   "source": [
    "edu = df.groupby([\"salary\"]).education_summary.value_counts(normalize=True)\n",
    "edu"
   ]
  },
  {
   "cell_type": "code",
   "execution_count": null,
   "metadata": {
    "id": "Xi39POo6jwOl",
    "outputId": "9d67dd62-7ac2-459e-e329-0d9e6abf4268",
    "scrolled": false
   },
   "outputs": [],
   "source": [
    "plt.figure(figsize = (18, 6))\n",
    "index = 1\n",
    "for i in [0, 3]:\n",
    "    plt.subplot(1,2,index)\n",
    "    edu[i:i+3].plot.pie(subplots=True,\n",
    "                       #labels=[\"high\", \"medium\", \"low\"],\n",
    "                        autopct=\"%.2f%%\",\n",
    "                        textprops={'fontsize': 12},\n",
    "                        colors=['pink', 'lightskyblue', 'lightgreen'],\n",
    "                        )\n",
    "    plt.title(edu.index[i][0], fontdict = {'fontsize': 14})\n",
    "#    plt.legend()\n",
    "    index += 1"
   ]
  },
  {
   "cell_type": "code",
   "execution_count": null,
   "metadata": {
    "id": "ISrF9dH8jwOl",
    "outputId": "6f235c4a-5999-4273-ae91-0a38f3acfb88"
   },
   "outputs": [],
   "source": [
    "edu_df = pd.DataFrame(edu)\n",
    "edu_df.rename(columns = {\"education_summary\" : \"percentage\"}, inplace = True)\n",
    "edu_df.reset_index(inplace = True)\n",
    "edu_df.sort_values(by = [\"salary\", \"education_summary\"], inplace=True)\n",
    "edu_df"
   ]
  },
  {
   "cell_type": "code",
   "execution_count": null,
   "metadata": {
    "id": "-ugj-CUPjwOl",
    "outputId": "2c61a157-6127-42ff-c273-facb03652242"
   },
   "outputs": [],
   "source": [
    "plt.figure(figsize = (18, 6))\n",
    "index = 1\n",
    "for i in [0, 3]:\n",
    "    plt.subplot(1,2,index)\n",
    "    edu_df[\"percentage\"][i:i+3].plot.pie(subplots=True,\n",
    "                                         labels=[\"high\", \"low\", \"medium\"],\n",
    "                                         autopct=\"%.2f%%\",\n",
    "                                         textprops={'fontsize': 12},\n",
    "                                         colors=['pink', 'lightskyblue', 'lightgreen'],\n",
    "                                         )\n",
    "    plt.title(edu_df.salary[i], fontdict = {'fontsize': 14})\n",
    "#    plt.legend()\n",
    "    index += 1"
   ]
  },
  {
   "cell_type": "markdown",
   "metadata": {
    "id": "w94EfDfXjwOq"
   },
   "source": [
    "**Write down the conclusions you draw from your analysis**"
   ]
  },
  {
   "cell_type": "markdown",
   "metadata": {
    "id": "I0rff9v4jwOr"
   },
   "source": [
    "**Result :** We can easily say that the more education the more high income."
   ]
  },
  {
   "cell_type": "markdown",
   "metadata": {
    "id": "vqWCeRBujwOr"
   },
   "source": [
    "## marital_status & relationship"
   ]
  },
  {
   "cell_type": "markdown",
   "metadata": {
    "id": "IBrIsEoDjwOr"
   },
   "source": [
    "**Detect the similarities between these features by comparing unique values**"
   ]
  },
  {
   "cell_type": "code",
   "execution_count": null,
   "metadata": {
    "id": "UbdQNz5GjwOr",
    "outputId": "5afb1ae7-f639-4899-95d1-7ccb34a587b4"
   },
   "outputs": [],
   "source": [
    "df.marital_status.value_counts(dropna=False)"
   ]
  },
  {
   "cell_type": "code",
   "execution_count": null,
   "metadata": {
    "id": "Hj_VnvaQjwOr",
    "outputId": "6a7881fb-a855-425c-a181-5e5f9ef2273a"
   },
   "outputs": [],
   "source": [
    "df.relationship.value_counts(dropna=False)"
   ]
  },
  {
   "cell_type": "code",
   "execution_count": null,
   "metadata": {
    "id": "1aEdaG0IjwOs"
   },
   "outputs": [],
   "source": [
    "df.relationship.fillna(\"Unknown\", inplace=True)"
   ]
  },
  {
   "cell_type": "code",
   "execution_count": null,
   "metadata": {
    "id": "st8PcXfRjwOs",
    "outputId": "32a8774d-d444-4f11-d1c8-883d81299ac8"
   },
   "outputs": [],
   "source": [
    "df.groupby(\"relationship\").marital_status.value_counts(dropna=False)"
   ]
  },
  {
   "cell_type": "markdown",
   "metadata": {
    "id": "yPM-OiBhjwOs"
   },
   "source": [
    "**Assessment :** These features have almost same info, but \"relationship\" feature has %15 of missing values. So I have decided to go my way with \"marital_status\" feature"
   ]
  },
  {
   "cell_type": "markdown",
   "metadata": {
    "id": "K6riSLdzjwOs"
   },
   "source": [
    "**Visualize the count of person in each categories**"
   ]
  },
  {
   "cell_type": "code",
   "execution_count": null,
   "metadata": {
    "id": "qFL9Z5b5jwOs",
    "outputId": "056dc480-d85a-40a8-b162-4ad1b690d518"
   },
   "outputs": [],
   "source": [
    "ax = sns.countplot(data=df, x=\"marital_status\")\n",
    "\n",
    "plt.xticks(rotation=45)\n",
    "\n",
    "for container in ax.containers:\n",
    "    ax.bar_label(container);"
   ]
  },
  {
   "cell_type": "markdown",
   "metadata": {
    "id": "7bcL3vvOjwOs"
   },
   "source": [
    "**Check the count of person in each \"salary\" levels by categories and visualize it with countplot**"
   ]
  },
  {
   "cell_type": "code",
   "execution_count": null,
   "metadata": {
    "id": "HIcxgxRyjwOs",
    "outputId": "90524096-5348-43e7-cc3b-5c0a980295f0"
   },
   "outputs": [],
   "source": [
    "df.groupby(\"marital_status\").salary.value_counts()"
   ]
  },
  {
   "cell_type": "code",
   "execution_count": null,
   "metadata": {
    "id": "Q5OT5LGXjwOt",
    "outputId": "95610cff-58fa-4569-a626-599497dfe719"
   },
   "outputs": [],
   "source": [
    "ax = sns.countplot(data=df, x=\"marital_status\", hue=\"salary\")\n",
    "\n",
    "plt.xticks(rotation=45)\n",
    "\n",
    "for container in ax.containers:\n",
    "    ax.bar_label(container);"
   ]
  },
  {
   "cell_type": "markdown",
   "metadata": {
    "id": "AaZb50BZjwOt"
   },
   "source": [
    "**Decrease the number of categories in \"marital_status\" feature as married, and unmarried and create a new feature with this new categorical data**"
   ]
  },
  {
   "cell_type": "code",
   "execution_count": null,
   "metadata": {
    "id": "J-Pqmh3ljwOt"
   },
   "outputs": [],
   "source": [
    "def mapping_marital_status(x):\n",
    "    if x in [\"Never-married\", \"Divorced\", \"Separated\", \"Widowed\"]:\n",
    "        return \"unmarried\"\n",
    "    elif x in [\"Married-civ-spouse\", \"Married-AF-spouse\", \"Married-spouse-absent\"]:\n",
    "        return \"married\""
   ]
  },
  {
   "cell_type": "code",
   "execution_count": null,
   "metadata": {
    "id": "5OebmePmjwOt",
    "outputId": "4c2e2727-dace-43d8-e6bf-e00a471910d0"
   },
   "outputs": [],
   "source": [
    "df.marital_status.apply(mapping_marital_status).value_counts(dropna=False)"
   ]
  },
  {
   "cell_type": "code",
   "execution_count": null,
   "metadata": {
    "id": "XrwJlCrgjwOt"
   },
   "outputs": [],
   "source": [
    "df[\"marital_status_summary\"] = df.marital_status.apply(mapping_marital_status)"
   ]
  },
  {
   "cell_type": "markdown",
   "metadata": {
    "id": "ia-VhumAjwOu"
   },
   "source": [
    "**Visualize the count of person in each categories for these new marital status (married, unmarried)**"
   ]
  },
  {
   "cell_type": "code",
   "execution_count": null,
   "metadata": {
    "id": "UqHiI5XUjwOu",
    "outputId": "3044fdf3-07a1-4420-ef6e-c8304008e830"
   },
   "outputs": [],
   "source": [
    "ax = sns.countplot(data=df, x=\"marital_status_summary\")\n",
    "\n",
    "for container in ax.containers:\n",
    "    ax.bar_label(container);"
   ]
  },
  {
   "cell_type": "markdown",
   "metadata": {
    "id": "ibWKNY8vjwOu"
   },
   "source": [
    "**Check the count of person in each \"salary\" levels by these new marital status (married, unmarried) and visualize it with countplot**"
   ]
  },
  {
   "cell_type": "code",
   "execution_count": null,
   "metadata": {
    "id": "tYD8yljrjwOu",
    "outputId": "8a75eefe-af2f-4a66-90fd-84041cf6c902"
   },
   "outputs": [],
   "source": [
    "df.groupby(\"marital_status_summary\").salary.value_counts()"
   ]
  },
  {
   "cell_type": "code",
   "execution_count": null,
   "metadata": {
    "id": "t2_aJMMSjwOu",
    "outputId": "8792cfe1-bc41-40b8-9dda-d1fbc78c9a6a"
   },
   "outputs": [],
   "source": [
    "ax = sns.countplot(data=df, x=\"marital_status_summary\", hue=\"salary\")\n",
    "\n",
    "for container in ax.containers:\n",
    "    ax.bar_label(container);"
   ]
  },
  {
   "cell_type": "markdown",
   "metadata": {
    "id": "jN44FLRhjwOu"
   },
   "source": [
    "**Check the percentage distribution of person in each \"salary\" levels by each new marital status (married, unmarried) and visualize it with pie plot separately**"
   ]
  },
  {
   "cell_type": "code",
   "execution_count": null,
   "metadata": {
    "id": "QXiVyJlGjwOv",
    "outputId": "f3e6a1cf-c9b6-4490-8cf5-daa2b0061eab"
   },
   "outputs": [],
   "source": [
    "marital = df.groupby([\"marital_status_summary\"]).salary.value_counts(normalize=True)\n",
    "marital"
   ]
  },
  {
   "cell_type": "code",
   "execution_count": null,
   "metadata": {
    "id": "zOn0Iec-jwOv",
    "outputId": "5420319d-7d35-4a70-8bba-f163f3491f04"
   },
   "outputs": [],
   "source": [
    "plt.figure(figsize = (18, 6))\n",
    "index = 1\n",
    "for i in [0, 2]:\n",
    "    plt.subplot(1,2,index)\n",
    "    marital[i:i+2].plot.pie(subplots=True,\n",
    "                            labels=[\"<=50K\", \">50K\"],\n",
    "                            autopct=\"%.2f%%\",\n",
    "                            textprops={'fontsize': 12},\n",
    "                            colors=['pink', 'lightskyblue'],\n",
    "                            )\n",
    "    plt.title(marital.index[i][0], fontdict = {'fontsize': 14})\n",
    "#    plt.legend()\n",
    "    index += 1"
   ]
  },
  {
   "cell_type": "markdown",
   "metadata": {
    "id": "fIzvS7m4jwOv"
   },
   "source": [
    "**Check the count of person in each these new marital status (married, unmarried) by \"salary\" levels and visualize it with countplot**"
   ]
  },
  {
   "cell_type": "code",
   "execution_count": null,
   "metadata": {
    "id": "K91ANwlSjwOv",
    "outputId": "fc42a9e8-eb28-4f5f-c3a9-2dd0401bb995"
   },
   "outputs": [],
   "source": [
    "df.groupby(\"salary\").marital_status_summary.value_counts()"
   ]
  },
  {
   "cell_type": "code",
   "execution_count": null,
   "metadata": {
    "id": "Ar3rMa9EjwOv",
    "outputId": "44c8b83c-7c88-43b5-e34d-567e47593177"
   },
   "outputs": [],
   "source": [
    "ax = sns.countplot(data=df, x=\"salary\", hue=\"marital_status_summary\")\n",
    "\n",
    "for container in ax.containers:\n",
    "    ax.bar_label(container);"
   ]
  },
  {
   "cell_type": "markdown",
   "metadata": {
    "id": "QmCK3AwHjwOw"
   },
   "source": [
    "**Check the the percentage distribution of person in each these new marital status (married, unmarried) by \"salary\" levels and visualize it with pie plot separately**"
   ]
  },
  {
   "cell_type": "code",
   "execution_count": null,
   "metadata": {
    "id": "dmUyIiV-jwOw",
    "outputId": "2d1b17d5-9de3-475c-c85d-28fcd17cdc96"
   },
   "outputs": [],
   "source": [
    "marital = df.groupby(\"salary\").marital_status_summary.value_counts(normalize=True)\n",
    "marital"
   ]
  },
  {
   "cell_type": "code",
   "execution_count": null,
   "metadata": {
    "id": "_jmedwMAjwOw",
    "outputId": "2e8ab10f-d353-4690-b374-26462fa3f3a3"
   },
   "outputs": [],
   "source": [
    "marital_df = pd.DataFrame(marital)\n",
    "marital_df.rename(columns = {\"marital_status_summary\" : \"percentage\"}, inplace = True)\n",
    "marital_df.reset_index(inplace = True)\n",
    "marital_df.sort_values(by = [\"salary\", \"marital_status_summary\"], inplace = True)\n",
    "marital_df"
   ]
  },
  {
   "cell_type": "code",
   "execution_count": null,
   "metadata": {
    "id": "YnqWWGNDjwOw",
    "outputId": "7fdace21-c8dc-423c-a1ed-1d6c19feecaa"
   },
   "outputs": [],
   "source": [
    "plt.figure(figsize = (18, 6))\n",
    "index = 1\n",
    "for i in [0, 2]:\n",
    "    plt.subplot(1,2,index)\n",
    "    marital_df[\"percentage\"][i:i+2].plot.pie(subplots=True,\n",
    "                                             labels=[\"married\", \"unmarried\"],\n",
    "                                             autopct=\"%.2f%%\",\n",
    "                                             textprops={'fontsize': 12},\n",
    "                                             colors=['pink', 'lightskyblue'],\n",
    "                                             )\n",
    "    plt.title(marital_df.salary[i], fontdict = {'fontsize': 14})\n",
    "#    plt.legend()\n",
    "    index += 1"
   ]
  },
  {
   "cell_type": "markdown",
   "metadata": {
    "id": "btsOpWP4jwOw"
   },
   "source": [
    "**Write down the conclusions you draw from your analysis**"
   ]
  },
  {
   "cell_type": "markdown",
   "metadata": {
    "id": "AyKIsXirjwOw"
   },
   "source": [
    "**Result :** We can easily say that married persons have earned more income than unmarried persons."
   ]
  },
  {
   "cell_type": "markdown",
   "metadata": {
    "id": "ZjfFoHZTjwOx"
   },
   "source": [
    "## workclass"
   ]
  },
  {
   "cell_type": "markdown",
   "metadata": {
    "id": "76aQfVejjwOx"
   },
   "source": [
    "**Check the count of person in each categories and visualize it with countplot**"
   ]
  },
  {
   "cell_type": "code",
   "execution_count": null,
   "metadata": {
    "id": "pgt8mUGBjwOx",
    "outputId": "8f3ffb4a-17f8-4ddb-8327-004a34d0a60a"
   },
   "outputs": [],
   "source": [
    "df.workclass.value_counts(dropna=False)"
   ]
  },
  {
   "cell_type": "code",
   "execution_count": null,
   "metadata": {
    "id": "jKDV-lZKjwOx",
    "outputId": "067883f7-c0fb-4f0c-91c4-b48ebebf0757"
   },
   "outputs": [],
   "source": [
    "ax = sns.countplot(data=df, x=\"workclass\")\n",
    "\n",
    "plt.xticks(rotation=60)\n",
    "\n",
    "for container in ax.containers:\n",
    "    ax.bar_label(container);"
   ]
  },
  {
   "cell_type": "markdown",
   "metadata": {
    "id": "G38jfGGLjwOx"
   },
   "source": [
    "**Replace the value \"?\" to the value \"Unknown\"** "
   ]
  },
  {
   "cell_type": "code",
   "execution_count": null,
   "metadata": {
    "id": "iM5uumoSjwOx"
   },
   "outputs": [],
   "source": [
    "df.workclass.replace(\"?\", \"Unknown\", inplace=True)"
   ]
  },
  {
   "cell_type": "markdown",
   "metadata": {
    "id": "MQ8i-iX5jwOy"
   },
   "source": [
    "**Check the count of person in each \"salary\" levels by workclass groups and visualize it with countplot**"
   ]
  },
  {
   "cell_type": "code",
   "execution_count": null,
   "metadata": {
    "id": "ijfERZMkjwOy",
    "outputId": "5ee047d6-df58-47d6-83d4-03d2aedc503c"
   },
   "outputs": [],
   "source": [
    "df.groupby(\"workclass\").salary.value_counts()"
   ]
  },
  {
   "cell_type": "code",
   "execution_count": null,
   "metadata": {
    "id": "lR4dSvPDjwOy",
    "outputId": "97ef8ff3-2b78-446b-88ae-3dab86061079"
   },
   "outputs": [],
   "source": [
    "ax = sns.countplot(data = df, x = \"workclass\", hue = \"salary\")\n",
    "\n",
    "plt.xticks(rotation=60)\n",
    "\n",
    "for container in ax.containers:\n",
    "    ax.bar_label(container);"
   ]
  },
  {
   "cell_type": "markdown",
   "metadata": {
    "id": "6Fk8gfvtjwOz"
   },
   "source": [
    "**Check the percentage distribution of person in each \"salary\" levels by each workclass groups and visualize it with bar plot**"
   ]
  },
  {
   "cell_type": "code",
   "execution_count": null,
   "metadata": {
    "id": "Xq2oheFijwOz",
    "outputId": "a40009ff-b304-4aeb-8280-2c7e985ca065"
   },
   "outputs": [],
   "source": [
    "workclass = df.groupby(\"workclass\").salary.value_counts(normalize=True)\n",
    "workclass"
   ]
  },
  {
   "cell_type": "code",
   "execution_count": null,
   "metadata": {
    "id": "jbUwnLq9jwO0",
    "outputId": "c775176a-5667-40fc-f3ce-8cb1df8cb8c8"
   },
   "outputs": [],
   "source": [
    "workclass_df = pd.DataFrame(workclass)\n",
    "workclass_df.rename(columns = {\"salary\" : \"percentage\"}, inplace = True)\n",
    "workclass_df.reset_index(inplace = True)\n",
    "workclass_df.sort_values(by = [\"workclass\", \"salary\"], inplace=True)\n",
    "workclass_df"
   ]
  },
  {
   "cell_type": "code",
   "execution_count": null,
   "metadata": {
    "id": "gViYcJ5IjwO0",
    "outputId": "134226c4-a584-4070-b159-9f85ee506db0"
   },
   "outputs": [],
   "source": [
    "fig, ax = plt.subplots()\n",
    "\n",
    "ax = sns.barplot(data = workclass_df, x = \"workclass\", y = \"percentage\", hue = \"salary\")\n",
    "\n",
    "plt.xticks(rotation=60)\n",
    "\n",
    "for container in ax.containers:\n",
    "    ax.bar_label(container);"
   ]
  },
  {
   "cell_type": "markdown",
   "metadata": {
    "id": "RL8LYvpqjwO0"
   },
   "source": [
    "**Check the count of person in each workclass groups by \"salary\" levels and visualize it with countplot**"
   ]
  },
  {
   "cell_type": "code",
   "execution_count": null,
   "metadata": {
    "id": "jYmjji-bjwO1",
    "outputId": "e924f7c3-2bc6-4fb0-aff8-a53b7d108fb6"
   },
   "outputs": [],
   "source": [
    "df.groupby(\"salary\").workclass.value_counts()"
   ]
  },
  {
   "cell_type": "code",
   "execution_count": null,
   "metadata": {
    "id": "9j1IDWi5jwO1",
    "outputId": "88fd6685-f0dc-4036-922a-5212bef200ff"
   },
   "outputs": [],
   "source": [
    "ax = sns.countplot(data=df, x=\"salary\", hue=\"workclass\")\n",
    "\n",
    "for container in ax.containers:\n",
    "    ax.bar_label(container);"
   ]
  },
  {
   "cell_type": "markdown",
   "metadata": {
    "id": "oGkqNFeyjwO1"
   },
   "source": [
    "**Check the the percentage distribution of person in each workclass groups by \"salary\" levels and visualize it with countplot**"
   ]
  },
  {
   "cell_type": "code",
   "execution_count": null,
   "metadata": {
    "id": "XtBb2tRdjwO1",
    "outputId": "b3dcfb64-7ed8-4188-bb37-784d6f287bb6"
   },
   "outputs": [],
   "source": [
    "workclass = df.groupby(\"salary\").workclass.value_counts(normalize=True)\n",
    "workclass"
   ]
  },
  {
   "cell_type": "code",
   "execution_count": null,
   "metadata": {
    "id": "nOU2GB7AjwO2",
    "outputId": "79e034a4-1d0d-4ac4-9787-c93ed753eec0"
   },
   "outputs": [],
   "source": [
    "workclass_df = pd.DataFrame(workclass)\n",
    "workclass_df.rename(columns = {\"workclass\" : \"percentage\"}, inplace = True)\n",
    "workclass_df.reset_index(inplace = True)\n",
    "workclass_df.sort_values(by = [\"salary\", \"workclass\"], inplace=True)\n",
    "workclass_df"
   ]
  },
  {
   "cell_type": "code",
   "execution_count": null,
   "metadata": {
    "id": "G0Uj8XkDjwO2",
    "outputId": "66e1f3e7-0866-46f7-f01c-47a1ecee5b4e"
   },
   "outputs": [],
   "source": [
    "fig, ax = plt.subplots(figsize=(14, 6))\n",
    "\n",
    "ax = sns.barplot(data=workclass_df, x=\"salary\", y=\"percentage\", hue=\"workclass\")\n",
    "\n",
    "for container in ax.containers:\n",
    "    ax.bar_label(container);"
   ]
  },
  {
   "cell_type": "markdown",
   "metadata": {
    "id": "D9bZC4XKjwO2"
   },
   "source": [
    "**Write down the conclusions you draw from your analysis**"
   ]
  },
  {
   "cell_type": "markdown",
   "metadata": {
    "id": "KmOli0qJjwO2"
   },
   "source": [
    "**Result :** \"Self-emp-inc\" work-class has a high ratio in the self group about high-level income. \"Private\" work-class has a high ratio in the high-income group about high-level income."
   ]
  },
  {
   "cell_type": "markdown",
   "metadata": {
    "id": "KxHaqS4mjwO2"
   },
   "source": [
    "## occupation"
   ]
  },
  {
   "cell_type": "markdown",
   "metadata": {
    "id": "YYdf-ElmjwO2"
   },
   "source": [
    "**Check the count of person in each categories and visualize it with countplot**"
   ]
  },
  {
   "cell_type": "code",
   "execution_count": null,
   "metadata": {
    "id": "vNGn45iWjwO2",
    "outputId": "218c0bde-416a-417e-94c1-ce1b8295227d"
   },
   "outputs": [],
   "source": [
    "df.occupation.value_counts(dropna=False)"
   ]
  },
  {
   "cell_type": "code",
   "execution_count": null,
   "metadata": {
    "id": "bmmgpkYwjwO3",
    "outputId": "8ca4a3a4-c1a0-4de7-e9f9-df6adb26d60f"
   },
   "outputs": [],
   "source": [
    "ax = sns.countplot(data=df, x=\"occupation\")\n",
    "\n",
    "plt.xticks(rotation = 90)\n",
    "\n",
    "for container in ax.containers:\n",
    "    ax.bar_label(container);"
   ]
  },
  {
   "cell_type": "markdown",
   "metadata": {
    "id": "dMs4D0nWjwO3"
   },
   "source": [
    "**Replace the value \"?\" to the value \"Unknown\"**"
   ]
  },
  {
   "cell_type": "code",
   "execution_count": null,
   "metadata": {
    "id": "R9qDFC1WjwO3"
   },
   "outputs": [],
   "source": [
    "df.occupation.replace(\"?\", \"Unknown\", inplace=True)"
   ]
  },
  {
   "cell_type": "markdown",
   "metadata": {
    "id": "TUN8tSr3jwO3"
   },
   "source": [
    "**Check the count of person in each \"salary\" levels by occupation groups and visualize it with countplot**"
   ]
  },
  {
   "cell_type": "code",
   "execution_count": null,
   "metadata": {
    "id": "fnhFw0KjjwO3",
    "outputId": "1b17b0db-f7a5-48a2-81bf-bf256eec1449"
   },
   "outputs": [],
   "source": [
    "df.groupby(\"occupation\").salary.value_counts()"
   ]
  },
  {
   "cell_type": "code",
   "execution_count": null,
   "metadata": {
    "id": "9zAkV306jwO3",
    "outputId": "3c5da52b-7454-489f-a8e8-f9d0571c632a",
    "scrolled": true
   },
   "outputs": [],
   "source": [
    "ax = sns.countplot(data = df, x = \"occupation\", hue = \"salary\")\n",
    "\n",
    "plt.xticks(rotation=90)\n",
    "\n",
    "for container in ax.containers:\n",
    "    ax.bar_label(container);"
   ]
  },
  {
   "cell_type": "markdown",
   "metadata": {
    "id": "_rBEm99IjwO3"
   },
   "source": [
    "**Check the percentage distribution of person in each \"salary\" levels by each occupation groups and visualize it with bar plot**"
   ]
  },
  {
   "cell_type": "code",
   "execution_count": null,
   "metadata": {
    "id": "uWXqxAHXjwO4",
    "outputId": "352bb2a8-a261-409a-b7d8-10c968c3577f"
   },
   "outputs": [],
   "source": [
    "occupation = df.groupby(\"occupation\").salary.value_counts(normalize=True)\n",
    "occupation"
   ]
  },
  {
   "cell_type": "code",
   "execution_count": null,
   "metadata": {
    "id": "aNOVOC8CjwO4",
    "outputId": "baf895a4-77db-4ebb-b1cc-c652f53db07e"
   },
   "outputs": [],
   "source": [
    "occupation_df = pd.DataFrame(occupation)\n",
    "occupation_df.rename(columns = {\"salary\" : \"percentage\"}, inplace = True)\n",
    "occupation_df.reset_index(inplace = True)\n",
    "occupation_df.sort_values(by = [\"occupation\", \"salary\"], inplace=True)\n",
    "occupation_df"
   ]
  },
  {
   "cell_type": "code",
   "execution_count": null,
   "metadata": {
    "id": "TuT34I8zjwO4",
    "outputId": "5e11c3d2-bd23-45d9-e95d-6cee250d6a58"
   },
   "outputs": [],
   "source": [
    "fig, ax = plt.subplots(figsize=(14, 6))\n",
    "\n",
    "ax = sns.barplot(data = occupation_df, x = \"occupation\", y = \"percentage\", hue = \"salary\")\n",
    "\n",
    "plt.xticks(rotation=60)\n",
    "\n",
    "for container in ax.containers:\n",
    "    ax.bar_label(container);"
   ]
  },
  {
   "cell_type": "markdown",
   "metadata": {
    "id": "7t8zCRj6jwO4"
   },
   "source": [
    "**Check the count of person in each occupation groups by \"salary\" levels and visualize it with countplot**"
   ]
  },
  {
   "cell_type": "code",
   "execution_count": null,
   "metadata": {
    "id": "3Q5SuCZzjwO4",
    "outputId": "ee59ac6e-70b3-4aaf-e6ec-0af2b4b86f96"
   },
   "outputs": [],
   "source": [
    "df.groupby(\"salary\").occupation.value_counts()"
   ]
  },
  {
   "cell_type": "code",
   "execution_count": null,
   "metadata": {
    "id": "re5gtlTdjwO4",
    "outputId": "04aac4ee-7797-4c2e-9fe3-0208ba09efc6"
   },
   "outputs": [],
   "source": [
    "ax = sns.countplot(data=df, x=\"salary\", hue=\"occupation\")\n",
    "\n",
    "for container in ax.containers:\n",
    "    ax.bar_label(container);"
   ]
  },
  {
   "cell_type": "markdown",
   "metadata": {
    "id": "4CQDBKHWjwO5"
   },
   "source": [
    "**Check the the percentage distribution of person in each occupation groups by \"salary\" levels and visualize it with bar plot**"
   ]
  },
  {
   "cell_type": "code",
   "execution_count": null,
   "metadata": {
    "id": "p2pytaxMjwO5",
    "outputId": "6e759192-5d68-4c16-dde9-dcafc498281d"
   },
   "outputs": [],
   "source": [
    "occupation = df.groupby(\"salary\").occupation.value_counts(normalize=True)\n",
    "occupation"
   ]
  },
  {
   "cell_type": "code",
   "execution_count": null,
   "metadata": {
    "id": "IvIcruFcjwO5",
    "outputId": "0f29f951-1168-44d1-dade-cb5c5db07ebf"
   },
   "outputs": [],
   "source": [
    "occupation_df = pd.DataFrame(occupation)\n",
    "occupation_df.rename(columns = {\"occupation\" : \"percentage\"}, inplace = True)\n",
    "occupation_df.reset_index(inplace = True)\n",
    "occupation_df.sort_values(by = [\"salary\", \"occupation\"], inplace=True)\n",
    "occupation_df"
   ]
  },
  {
   "cell_type": "code",
   "execution_count": null,
   "metadata": {
    "id": "iR4x1RqgjwO5",
    "outputId": "961aef51-f097-4386-fa77-059377dde31e"
   },
   "outputs": [],
   "source": [
    "fig, ax = plt.subplots(figsize=(20, 6))\n",
    "\n",
    "ax = sns.barplot(data = occupation_df, x = \"salary\", y = \"percentage\", hue = \"occupation\")\n",
    "\n",
    "for container in ax.containers:\n",
    "    ax.bar_label(container);"
   ]
  },
  {
   "cell_type": "markdown",
   "metadata": {
    "id": "gQcGUBTxjwO5"
   },
   "source": [
    "**Write down the conclusions you draw from your analysis**"
   ]
  },
  {
   "cell_type": "markdown",
   "metadata": {
    "id": "UOnnd1YXjwO5"
   },
   "source": [
    "**Result :** \"Exec-managerial\" and \"Prof-specialty\" occupations have a high ratio of high-level income both in the self group and in the high-income group."
   ]
  },
  {
   "cell_type": "markdown",
   "metadata": {
    "id": "eoAUdH20jwO6"
   },
   "source": [
    "## race"
   ]
  },
  {
   "cell_type": "markdown",
   "metadata": {
    "id": "Minu-UhrjwO6"
   },
   "source": [
    "**Check the count of person in each categories and visualize it with countplot**"
   ]
  },
  {
   "cell_type": "code",
   "execution_count": null,
   "metadata": {
    "id": "HL9SccCPjwO6",
    "outputId": "8b9b9593-b6bc-48fa-fb1d-78113b53ca1e"
   },
   "outputs": [],
   "source": [
    "df.race.value_counts(dropna=False)"
   ]
  },
  {
   "cell_type": "code",
   "execution_count": null,
   "metadata": {
    "id": "NxMKzct4jwO6",
    "outputId": "1daadfe7-bcbf-45b9-a307-be161c532e6b"
   },
   "outputs": [],
   "source": [
    "ax = sns.countplot(data = df, x = \"race\")\n",
    "\n",
    "plt.xticks(rotation = 45)\n",
    "\n",
    "for container in ax.containers:\n",
    "    ax.bar_label(container);"
   ]
  },
  {
   "cell_type": "markdown",
   "metadata": {
    "id": "TTfS9EJLjwO6"
   },
   "source": [
    "**Check the count of person in each \"salary\" levels by races and visualize it with countplot**"
   ]
  },
  {
   "cell_type": "code",
   "execution_count": null,
   "metadata": {
    "id": "VHjuKDnUjwO6",
    "outputId": "111aa10c-b816-494e-9b29-7e9cf7a67510"
   },
   "outputs": [],
   "source": [
    "df.groupby(\"race\").salary.value_counts()"
   ]
  },
  {
   "cell_type": "code",
   "execution_count": null,
   "metadata": {
    "id": "dKxrPFRKjwO6",
    "outputId": "4fc46249-3fb5-4120-8052-08468f4beaed"
   },
   "outputs": [],
   "source": [
    "ax = sns.countplot(data=df, x=\"race\", hue=\"salary\")\n",
    "\n",
    "plt.xticks(rotation=45)\n",
    "\n",
    "for container in ax.containers:\n",
    "    ax.bar_label(container);"
   ]
  },
  {
   "cell_type": "markdown",
   "metadata": {
    "id": "gwh3_WZ3jwO7"
   },
   "source": [
    "**Check the percentage distribution of person in each \"salary\" levels by each races and visualize it with pie plot**"
   ]
  },
  {
   "cell_type": "code",
   "execution_count": null,
   "metadata": {
    "id": "WOd5HkSXjwO7",
    "outputId": "458bb911-9ebb-436b-9131-70c42dd8f686"
   },
   "outputs": [],
   "source": [
    "race = df.groupby(\"race\").salary.value_counts(normalize=True)\n",
    "race"
   ]
  },
  {
   "cell_type": "code",
   "execution_count": null,
   "metadata": {
    "id": "UHuV5GLOjwO7",
    "outputId": "95456c9e-1f3a-48a1-e1e2-9d4625765566"
   },
   "outputs": [],
   "source": [
    "plt.figure(figsize = (18, 12))\n",
    "index = 1\n",
    "for i in [0, 2, 4, 6, 8]:\n",
    "    plt.subplot(2,3,index)\n",
    "    race[i:i+2].plot.pie(subplots=True,\n",
    "                         labels=[\"<=50K\", \">50K\"],\n",
    "                         autopct=\"%.2f%%\",\n",
    "                         textprops={'fontsize': 12},\n",
    "                         colors=['pink', 'lightskyblue'],\n",
    "                         )\n",
    "    plt.title(race.index[i][0], fontdict = {'fontsize': 14})\n",
    "#    plt.legend()\n",
    "    index += 1"
   ]
  },
  {
   "cell_type": "markdown",
   "metadata": {
    "id": "xl_7einXjwO7"
   },
   "source": [
    "**Check the count of person in each races by \"salary\" levels and visualize it with countplot**"
   ]
  },
  {
   "cell_type": "code",
   "execution_count": null,
   "metadata": {
    "id": "qhdZp7bVjwO7",
    "outputId": "9b9e3d65-436a-4053-ba7c-b1e84d5cc909"
   },
   "outputs": [],
   "source": [
    "df.groupby(\"salary\").race.value_counts()"
   ]
  },
  {
   "cell_type": "code",
   "execution_count": null,
   "metadata": {
    "id": "D4XMDmYajwO7",
    "outputId": "1608746e-d649-42ad-e268-056f6af60af3",
    "scrolled": true
   },
   "outputs": [],
   "source": [
    "ax = sns.countplot(data=df, x=\"salary\", hue=\"race\")\n",
    "\n",
    "for container in ax.containers:\n",
    "    ax.bar_label(container);"
   ]
  },
  {
   "cell_type": "markdown",
   "metadata": {
    "id": "y6WnktoJjwO8"
   },
   "source": [
    "**Check the the percentage distribution of person in each races by \"salary\" levels and visualize it with bar plot**"
   ]
  },
  {
   "cell_type": "code",
   "execution_count": null,
   "metadata": {
    "id": "9_NXSTiSjwO8",
    "outputId": "92d11c07-baac-4501-c86a-6257aaa58b87"
   },
   "outputs": [],
   "source": [
    "race = df.groupby(\"salary\").race.value_counts(normalize=True)\n",
    "race"
   ]
  },
  {
   "cell_type": "code",
   "execution_count": null,
   "metadata": {
    "id": "UXsB1xTOjwO8",
    "outputId": "1c3b21d4-ebd7-4012-a843-c3459f993725"
   },
   "outputs": [],
   "source": [
    "race_df = pd.DataFrame(race)\n",
    "race_df.rename(columns = {\"race\" : \"percentage\"}, inplace = True)\n",
    "race_df.reset_index(inplace = True)\n",
    "race_df.sort_values(by = [\"salary\", \"race\"], inplace=True)\n",
    "race_df"
   ]
  },
  {
   "cell_type": "code",
   "execution_count": null,
   "metadata": {
    "id": "6Gz3u9U5jwO8",
    "outputId": "822e1f7c-c116-46c1-b441-a5a8ef4c2301"
   },
   "outputs": [],
   "source": [
    "fig, ax = plt.subplots(figsize=(14, 6))\n",
    "\n",
    "ax = sns.barplot(data=race_df, x=\"salary\", y=\"percentage\", hue=\"race\")\n",
    "\n",
    "for container in ax.containers:\n",
    "    ax.bar_label(container);"
   ]
  },
  {
   "cell_type": "markdown",
   "metadata": {
    "id": "ektBJBtxjwO8"
   },
   "source": [
    "**Write down the conclusions you draw from your analysis**"
   ]
  },
  {
   "cell_type": "markdown",
   "metadata": {
    "id": "XvzagJjcjwO8"
   },
   "source": [
    "**Result :** \"Asian-Pac-Islander\" and \"White\" races has a high ratio in the self group about high-level income. \"White\" race has a high ratio in the high-income group about high-level income."
   ]
  },
  {
   "cell_type": "markdown",
   "metadata": {
    "id": "-atLCuBJjwO8"
   },
   "source": [
    "## gender"
   ]
  },
  {
   "cell_type": "markdown",
   "metadata": {
    "id": "UPBcWPwxjwO9"
   },
   "source": [
    "**Check the count of person in each gender and visualize it with countplot**"
   ]
  },
  {
   "cell_type": "code",
   "execution_count": null,
   "metadata": {
    "id": "Dkw4k7f_jwO9",
    "outputId": "49c6b984-97c9-43ad-aaa3-7f598afc2cdb"
   },
   "outputs": [],
   "source": [
    "df.gender.value_counts(dropna=False)"
   ]
  },
  {
   "cell_type": "code",
   "execution_count": null,
   "metadata": {
    "id": "1iTPOcYBjwO9",
    "outputId": "6cc71215-412b-47d8-c42a-edc6acfa1e81"
   },
   "outputs": [],
   "source": [
    "ax = sns.countplot(data=df, x=\"gender\")\n",
    "\n",
    "for container in ax.containers:\n",
    "    ax.bar_label(container);"
   ]
  },
  {
   "cell_type": "markdown",
   "metadata": {
    "id": "pdUFVxrZjwO9"
   },
   "source": [
    "**Check the count of person in each \"salary\" levels by gender and visualize it with countplot**"
   ]
  },
  {
   "cell_type": "code",
   "execution_count": null,
   "metadata": {
    "id": "DHAJFn1-jwO9",
    "outputId": "8d19cd94-1e30-412e-cee4-81a83281adcb"
   },
   "outputs": [],
   "source": [
    "df.groupby(\"gender\").salary.value_counts()"
   ]
  },
  {
   "cell_type": "code",
   "execution_count": null,
   "metadata": {
    "id": "p6AOcjKvjwO9",
    "outputId": "6796ad1e-e29c-4241-9f33-5e6912a0f61d"
   },
   "outputs": [],
   "source": [
    "ax = sns.countplot(data=df, x=\"gender\", hue=\"salary\")\n",
    "\n",
    "for container in ax.containers:\n",
    "    ax.bar_label(container);"
   ]
  },
  {
   "cell_type": "markdown",
   "metadata": {
    "id": "HwUybulnjwO9"
   },
   "source": [
    "**Check the percentage distribution of person in each \"salary\" levels by each gender and visualize it with pie plot**"
   ]
  },
  {
   "cell_type": "code",
   "execution_count": null,
   "metadata": {
    "id": "rYe6rZffjwO-",
    "outputId": "b5a0e173-0be0-42ad-c2bc-2eeb5c0aca0a"
   },
   "outputs": [],
   "source": [
    "gender = df.groupby(\"gender\").salary.value_counts(normalize=True)\n",
    "gender"
   ]
  },
  {
   "cell_type": "code",
   "execution_count": null,
   "metadata": {
    "id": "fOiDuF5GjwO-",
    "outputId": "c6216d49-1eac-49ef-cfbe-10a0500a0a0e"
   },
   "outputs": [],
   "source": [
    "plt.figure(figsize = (18, 6))\n",
    "index = 1\n",
    "for i in [0, 2]:\n",
    "    plt.subplot(1,2,index)\n",
    "    gender[i:i+2].plot.pie(subplots=True,\n",
    "                         labels=[\"<=50K\", \">50K\"],\n",
    "                         autopct=\"%.2f%%\",\n",
    "                         textprops={'fontsize': 12},\n",
    "                         colors=['pink', 'lightskyblue'],\n",
    "                         )\n",
    "    plt.title(gender.index[i][0], fontdict = {'fontsize': 14})\n",
    "#    plt.legend()\n",
    "    index += 1"
   ]
  },
  {
   "cell_type": "markdown",
   "metadata": {
    "id": "fJouHbA4jwO-"
   },
   "source": [
    "**Check the count of person in each gender by \"salary\" levels and visualize it with countplot**"
   ]
  },
  {
   "cell_type": "code",
   "execution_count": null,
   "metadata": {
    "id": "gkIuP4jbjwO-",
    "outputId": "4e664c62-3cfa-4bd1-82ec-98bc0aa0cb64"
   },
   "outputs": [],
   "source": [
    "df.groupby(\"salary\").gender.value_counts()"
   ]
  },
  {
   "cell_type": "code",
   "execution_count": null,
   "metadata": {
    "id": "cg--lZ1ajwO-",
    "outputId": "f39bf576-d517-482b-f2b7-b51af9361069"
   },
   "outputs": [],
   "source": [
    "ax = sns.countplot(data=df, x=\"salary\", hue=\"gender\")\n",
    "\n",
    "for container in ax.containers:\n",
    "    ax.bar_label(container);"
   ]
  },
  {
   "cell_type": "markdown",
   "metadata": {
    "id": "SOs01uF6jwO-"
   },
   "source": [
    "**Check the the percentage distribution of person in each gender by \"salary\" levels and visualize it with pie plot**"
   ]
  },
  {
   "cell_type": "code",
   "execution_count": null,
   "metadata": {
    "id": "mS7dWjrqjwO_",
    "outputId": "3e6f2f10-547a-4316-8146-ca8cdea73456"
   },
   "outputs": [],
   "source": [
    "gender = df.groupby(\"salary\").gender.value_counts(normalize=True)\n",
    "gender"
   ]
  },
  {
   "cell_type": "code",
   "execution_count": null,
   "metadata": {
    "id": "e-UBOnjQjwO_",
    "outputId": "f4fcd145-d8b6-4206-e2fc-797d9c18ca86"
   },
   "outputs": [],
   "source": [
    "plt.figure(figsize = (18, 6))\n",
    "index = 1\n",
    "for i in [0, 2]:\n",
    "    plt.subplot(1,2,index)\n",
    "    gender[i:i+2].plot.pie(subplots=True,\n",
    "                         labels=[\"Male\", \"Female\"],\n",
    "                         autopct=\"%.2f%%\",\n",
    "                         textprops={'fontsize': 12},\n",
    "                         colors=['pink', 'lightskyblue'],\n",
    "                         )\n",
    "    plt.title(gender.index[i][0], fontdict = {'fontsize': 14})\n",
    "#    plt.legend()\n",
    "    index += 1"
   ]
  },
  {
   "cell_type": "markdown",
   "metadata": {
    "id": "gZgesr4WjwO_"
   },
   "source": [
    "**Write down the conclusions you draw from your analysis**"
   ]
  },
  {
   "cell_type": "markdown",
   "metadata": {
    "id": "QphA4kCgjwO_"
   },
   "source": [
    "**Result :** We can easily say that males have earned more income than females."
   ]
  },
  {
   "cell_type": "markdown",
   "metadata": {
    "id": "Q1AO-wkrjwO_"
   },
   "source": [
    "## native_country"
   ]
  },
  {
   "cell_type": "markdown",
   "metadata": {
    "id": "7RBYpgOtjwO_"
   },
   "source": [
    "**Check the count of person in each categories and visualize it with countplot**"
   ]
  },
  {
   "cell_type": "code",
   "execution_count": null,
   "metadata": {
    "id": "sKuPy3cGjwO_",
    "outputId": "845e0d46-40d2-491d-b397-a3e322f28796"
   },
   "outputs": [],
   "source": [
    "df.native_country.value_counts(dropna=False)"
   ]
  },
  {
   "cell_type": "code",
   "execution_count": null,
   "metadata": {
    "id": "Tl6VwdLIjwPA",
    "outputId": "3a826a28-ccd6-4c03-d5e3-cedb3f2e215d"
   },
   "outputs": [],
   "source": [
    "plt.figure(figsize=(14, 6))\n",
    "\n",
    "sns.countplot(data=df, x=\"native_country\")\n",
    "plt.xticks(rotation=90)\n",
    "\n",
    "for container in ax.containers:\n",
    "    ax.bar_label(container);"
   ]
  },
  {
   "cell_type": "markdown",
   "metadata": {
    "id": "IzZNpvJPjwPA"
   },
   "source": [
    "**Replace the value \"?\" to the value \"Unknown\"** "
   ]
  },
  {
   "cell_type": "code",
   "execution_count": null,
   "metadata": {
    "id": "n_Y-lMcOjwPA"
   },
   "outputs": [],
   "source": [
    "df.native_country.replace(\"?\", \"Unknown\", inplace = True)"
   ]
  },
  {
   "cell_type": "markdown",
   "metadata": {
    "id": "jhFDZnJ_jwPA"
   },
   "source": [
    "**Decrease the number of categories in \"native_country\" feature as US, and Others and create a new feature with this new categorical data**"
   ]
  },
  {
   "cell_type": "code",
   "execution_count": null,
   "metadata": {
    "id": "4L1ZWfZYjwPA"
   },
   "outputs": [],
   "source": [
    "def mapping_native_country(x):\n",
    "    if x == \"United-States\":\n",
    "        return \"US\"\n",
    "    else:\n",
    "        return \"Others\""
   ]
  },
  {
   "cell_type": "code",
   "execution_count": null,
   "metadata": {
    "id": "WUnDsyt7jwPA",
    "outputId": "bcf6c723-ab3d-42a1-8d43-3779bab31810"
   },
   "outputs": [],
   "source": [
    "df.native_country.apply(mapping_native_country).value_counts(dropna=False)"
   ]
  },
  {
   "cell_type": "code",
   "execution_count": null,
   "metadata": {
    "id": "jLqTghW8jwPA"
   },
   "outputs": [],
   "source": [
    "df[\"native_country_summary\"] = df.native_country.apply(mapping_native_country)\n",
    "df[\"native_country_summary\"]"
   ]
  },
  {
   "cell_type": "markdown",
   "metadata": {
    "id": "uoX86TB6jwPA"
   },
   "source": [
    "**Visualize the count of person in each new categories (US, Others)**"
   ]
  },
  {
   "cell_type": "code",
   "execution_count": null,
   "metadata": {
    "id": "9lSfGMCHjwPB",
    "outputId": "2a238a03-dede-451e-95f9-d2b88ebddb5e"
   },
   "outputs": [],
   "source": [
    "ax = sns.countplot(data=df, x=\"native_country_summary\")\n",
    "\n",
    "for container in ax.containers:\n",
    "    ax.bar_label(container);"
   ]
  },
  {
   "cell_type": "markdown",
   "metadata": {
    "id": "x-wiC7UAjwPB"
   },
   "source": [
    "**Check the count of person in each \"salary\" levels by these new native countries (US, Others) and visualize it with countplot**"
   ]
  },
  {
   "cell_type": "code",
   "execution_count": null,
   "metadata": {
    "id": "ESX1DGmojwPB",
    "outputId": "a42a79ec-68fa-4ab2-d596-1deaded49ddf"
   },
   "outputs": [],
   "source": [
    "df.groupby(\"native_country_summary\").salary.value_counts()"
   ]
  },
  {
   "cell_type": "code",
   "execution_count": null,
   "metadata": {
    "id": "yBXbzaP4jwPB",
    "outputId": "b78d9ec5-65c3-420f-a3c7-97749833819d",
    "scrolled": false
   },
   "outputs": [],
   "source": [
    "ax = sns.countplot(data=df, x=\"native_country_summary\", hue=\"salary\")\n",
    "\n",
    "for container in ax.containers:\n",
    "    ax.bar_label(container);"
   ]
  },
  {
   "cell_type": "markdown",
   "metadata": {
    "id": "w_LThintjwPB"
   },
   "source": [
    "**Check the percentage distribution of person in each \"salary\" levels by each new native countries (US, Others) and visualize it with pie plot separately**"
   ]
  },
  {
   "cell_type": "code",
   "execution_count": null,
   "metadata": {
    "id": "7doRxiUcjwPC",
    "outputId": "24506089-ee5c-4e94-c4a8-dff55ad51c91"
   },
   "outputs": [],
   "source": [
    "country = df.groupby([\"native_country_summary\"]).salary.value_counts(normalize=True)\n",
    "country"
   ]
  },
  {
   "cell_type": "code",
   "execution_count": null,
   "metadata": {
    "id": "8B6IUiwzjwPC",
    "outputId": "daa31462-1881-4644-e269-6dd7ae5b3aa1"
   },
   "outputs": [],
   "source": [
    "plt.figure(figsize = (18, 6))\n",
    "index = 1\n",
    "for i in [0, 2]:\n",
    "    plt.subplot(1,2,index)\n",
    "    country[i:i+2].plot.pie(subplots=True,\n",
    "                            labels=[\"<=50K\", \">50K\"],\n",
    "                            autopct=\"%.2f%%\",\n",
    "                            textprops={'fontsize': 12},\n",
    "                            colors=['pink', 'lightskyblue'],\n",
    "                            )\n",
    "    plt.title(country.index[i][0], fontdict = {'fontsize': 14})\n",
    "#    plt.legend()\n",
    "    index += 1"
   ]
  },
  {
   "cell_type": "markdown",
   "metadata": {
    "id": "PpmDSPKAjwPC"
   },
   "source": [
    "**Check the count of person in each these new native countries (US, Others) by \"salary\" levels and visualize it with countplot**"
   ]
  },
  {
   "cell_type": "code",
   "execution_count": null,
   "metadata": {
    "id": "M3LJ3FC5jwPC",
    "outputId": "d251b33f-fa43-4170-a1c7-5e635b8db2e8"
   },
   "outputs": [],
   "source": [
    "df.groupby(\"salary\").native_country_summary.value_counts()"
   ]
  },
  {
   "cell_type": "code",
   "execution_count": null,
   "metadata": {
    "id": "lz74jT75jwPC",
    "outputId": "1d842f2f-9329-473e-ba08-c027615513d9"
   },
   "outputs": [],
   "source": [
    "ax = sns.countplot(data=df, x=\"salary\", hue=\"native_country_summary\")\n",
    "\n",
    "for container in ax.containers:\n",
    "    ax.bar_label(container);"
   ]
  },
  {
   "cell_type": "markdown",
   "metadata": {
    "id": "z8Qi7EFPjwPD"
   },
   "source": [
    "**Check the the percentage distribution of person in each these new native countries (US, Others) by \"salary\" levels and visualize it with pie plot separately**"
   ]
  },
  {
   "cell_type": "code",
   "execution_count": null,
   "metadata": {
    "id": "q4PUMG-njwPD",
    "outputId": "e22bbb29-775a-4553-f0f3-8f9a69a4d486"
   },
   "outputs": [],
   "source": [
    "country = df.groupby([\"salary\"]).native_country_summary.value_counts(normalize=True)\n",
    "country"
   ]
  },
  {
   "cell_type": "code",
   "execution_count": null,
   "metadata": {
    "id": "Z5aB2eqTjwPD",
    "outputId": "ee77f818-83eb-4c8c-8149-ce26405fb778"
   },
   "outputs": [],
   "source": [
    "plt.figure(figsize = (18, 6))\n",
    "index = 1\n",
    "for i in [0, 2]:\n",
    "    plt.subplot(1,2,index)\n",
    "    country[i:i+2].plot.pie(subplots=True,\n",
    "                            labels=[\"US\", \"Others\"],\n",
    "                            autopct=\"%.2f%%\",\n",
    "                            textprops={'fontsize': 12},\n",
    "                            colors=['pink', 'lightskyblue'],\n",
    "                            )\n",
    "    plt.title(country.index[i][0], fontdict = {'fontsize': 14})\n",
    "#    plt.legend()\n",
    "    index += 1"
   ]
  },
  {
   "cell_type": "markdown",
   "metadata": {
    "id": "Y9pmpvNZjwPD"
   },
   "source": [
    "**Write down the conclusions you draw from your analysis**"
   ]
  },
  {
   "cell_type": "markdown",
   "metadata": {
    "id": "N1L4tySAjwPE"
   },
   "source": [
    "**Result :** \"United States\" has a high ratio of high-level income both in the self group and in the high-income group."
   ]
  },
  {
   "cell_type": "markdown",
   "metadata": {
    "id": "aQo2OjRBjwPE"
   },
   "source": [
    "## <p style=\"background-color:#9d4f8c; font-family:newtimeroman; color:#FFF9ED; font-size:175%; text-align:center; border-radius:10px 10px;\">Other Specific Analysis Questions</p>\n",
    "\n",
    "<a id=\"5\"></a>\n",
    "<a href=\"#toc\" class=\"btn btn-primary btn-sm\" role=\"button\" aria-pressed=\"true\" \n",
    "style=\"color:blue; background-color:#dfa8e4\" data-toggle=\"popover\">Content</a>"
   ]
  },
  {
   "cell_type": "markdown",
   "metadata": {
    "id": "4Nzi2KokjwPE"
   },
   "source": [
    "### 1. What is the average age of males and females by income level?"
   ]
  },
  {
   "cell_type": "code",
   "execution_count": null,
   "metadata": {
    "id": "695BNv9mjwPE",
    "outputId": "b28bebca-4ec6-4c52-e3ed-dc77ad0746e6"
   },
   "outputs": [],
   "source": [
    "df.groupby([\"salary\", \"gender\"]).age.mean()"
   ]
  },
  {
   "cell_type": "code",
   "execution_count": null,
   "metadata": {
    "id": "gHJj2-3BjwPE",
    "outputId": "63221b2a-d461-4a8d-9f12-8ecf8770e6e6"
   },
   "outputs": [],
   "source": [
    "fig, ax = plt.subplots()\n",
    "\n",
    "ax = df.groupby([\"salary\", \"gender\"]).age.mean().plot.bar()\n",
    "\n",
    "for container in ax.containers:\n",
    "    ax.bar_label(container);"
   ]
  },
  {
   "cell_type": "code",
   "execution_count": null,
   "metadata": {
    "id": "CJxjoA8ejwPE",
    "outputId": "111d20c7-6864-42f7-8098-ec7b05c304dc"
   },
   "outputs": [],
   "source": [
    "age = df.groupby([\"salary\", \"gender\"])[[\"age\"]].mean().reset_index()\n",
    "age"
   ]
  },
  {
   "cell_type": "code",
   "execution_count": null,
   "metadata": {
    "id": "jHz5G42kjwPE",
    "outputId": "9b1a1d09-1b35-40c9-a296-0e87a887e4cc"
   },
   "outputs": [],
   "source": [
    "fig, ax = plt.subplots()\n",
    "\n",
    "ax = sns.barplot(data=age, x=\"salary\", y=\"age\", hue=\"gender\")\n",
    "\n",
    "for container in ax.containers:\n",
    "    ax.bar_label(container);"
   ]
  },
  {
   "cell_type": "markdown",
   "metadata": {
    "id": "Atr3vfcKjwPF"
   },
   "source": [
    "### 2. What is the workclass percentages of Americans in high-level income group?"
   ]
  },
  {
   "cell_type": "code",
   "execution_count": null,
   "metadata": {
    "id": "_2wlZKtSjwPF",
    "outputId": "cebaaf08-dd3d-47b3-ec59-4514d1245890"
   },
   "outputs": [],
   "source": [
    "workclass_US = df[(df.salary == \">50K\") & (df.native_country_summary == \"US\")].workclass.value_counts(dropna = False, normalize = True) * 100\n",
    "workclass_US"
   ]
  },
  {
   "cell_type": "code",
   "execution_count": null,
   "metadata": {
    "id": "K8XsmmfmjwPF",
    "outputId": "12d24ad3-811d-4c67-9fd9-314ec264f872",
    "scrolled": true
   },
   "outputs": [],
   "source": [
    "fig, ax = plt.subplots()\n",
    "\n",
    "ax = sns.barplot(x = workclass_US.index, y = workclass_US.values)\n",
    "plt.xticks(rotation=45)\n",
    "\n",
    "for container in ax.containers:\n",
    "    ax.bar_label(container);"
   ]
  },
  {
   "cell_type": "markdown",
   "metadata": {
    "id": "7CvSp9f7jwPF"
   },
   "source": [
    "### 3. What is the occupation percentages of Americans who work as \"Private\" workclass in high-level income group?"
   ]
  },
  {
   "cell_type": "code",
   "execution_count": null,
   "metadata": {
    "id": "8K8xLconjwPF",
    "outputId": "0d62556a-c8da-4247-adeb-5a55f7eedd39"
   },
   "outputs": [],
   "source": [
    "occupation_US = df[(df.salary == \">50K\") & (df.native_country_summary == \"US\") & (df.workclass == \"Private\")]\\\n",
    "                  .occupation.value_counts(dropna = False, normalize = True) * 100 \n",
    "occupation_US"
   ]
  },
  {
   "cell_type": "code",
   "execution_count": null,
   "metadata": {
    "id": "WNJSHRk-jwPF",
    "outputId": "d0072dec-0dfd-4c43-c287-3aa9af000c0e",
    "scrolled": false
   },
   "outputs": [],
   "source": [
    "fig, ax = plt.subplots()\n",
    "\n",
    "ax = sns.barplot(x = occupation_US.index, y = occupation_US.values)\n",
    "plt.xticks(rotation=90)\n",
    "\n",
    "for container in ax.containers:\n",
    "    ax.bar_label(container);"
   ]
  },
  {
   "cell_type": "markdown",
   "metadata": {
    "id": "F7sK9___jwPG"
   },
   "source": [
    "### 4. What is the education level percentages of Asian-Pac-Islander race group in high-level income group?"
   ]
  },
  {
   "cell_type": "code",
   "execution_count": null,
   "metadata": {
    "id": "w5z37frVjwPG",
    "outputId": "08f3806e-9bd6-49f6-cbe4-c6666a432a67"
   },
   "outputs": [],
   "source": [
    "Asian_Pac_Islander = df[(df.salary == \">50K\") & (df.race == \"Asian-Pac-Islander\")]\\\n",
    "                     .education.value_counts(dropna = False, normalize = True) * 100 \n",
    "Asian_Pac_Islander"
   ]
  },
  {
   "cell_type": "code",
   "execution_count": null,
   "metadata": {
    "id": "xPGl66yCjwPG",
    "outputId": "53c9d262-df20-4b16-8f71-aac836acf9e0",
    "scrolled": false
   },
   "outputs": [],
   "source": [
    "fig, ax = plt.subplots()\n",
    "\n",
    "ax = sns.barplot(x = Asian_Pac_Islander.index, y = Asian_Pac_Islander.values)\n",
    "plt.xticks(rotation=90)\n",
    "\n",
    "for container in ax.containers:\n",
    "    ax.bar_label(container);"
   ]
  },
  {
   "cell_type": "markdown",
   "metadata": {
    "id": "7qqMjUE9jwPG"
   },
   "source": [
    "### 5. What is the occupation percentages of Asian-Pac-Islander race group who has a Bachelors degree in high-level income group?"
   ]
  },
  {
   "cell_type": "code",
   "execution_count": null,
   "metadata": {
    "id": "-YFqtz58jwPG",
    "outputId": "cfbc4f8e-fb91-479c-abed-fdbdfc9cac63"
   },
   "outputs": [],
   "source": [
    "Asian_Pac_Islander = df[(df.salary == \">50K\") & (df.race == \"Asian-Pac-Islander\") & (df.education == \"Bachelors\")]\\\n",
    "                     .occupation.value_counts(dropna = False, normalize = True) * 100 \n",
    "Asian_Pac_Islander"
   ]
  },
  {
   "cell_type": "code",
   "execution_count": null,
   "metadata": {
    "id": "GkVsEPXLjwPG",
    "outputId": "a13c9b27-b4b5-4263-8627-1305fb1e9c1b",
    "scrolled": false
   },
   "outputs": [],
   "source": [
    "fig, ax = plt.subplots()\n",
    "\n",
    "ax = sns.barplot(x = Asian_Pac_Islander.index, y = Asian_Pac_Islander.values)\n",
    "plt.xticks(rotation=90)\n",
    "\n",
    "for container in ax.containers:\n",
    "    ax.bar_label(container);"
   ]
  },
  {
   "cell_type": "markdown",
   "metadata": {
    "id": "R5sVvHBYjwPH"
   },
   "source": [
    "### 6. What is the mean of working hours per week by gender for education level, workclass, marital status summary and native country summary? Try to plot all required in one figure."
   ]
  },
  {
   "cell_type": "code",
   "execution_count": null,
   "metadata": {
    "id": "6XvmB1NOjwPH",
    "outputId": "e30b20c2-6f44-444c-8c95-1154831fb5c5"
   },
   "outputs": [],
   "source": [
    "g = sns.catplot(x=\"education_summary\",\n",
    "                y=\"hours_per_week\",\n",
    "                data=df,\n",
    "                kind=\"bar\",\n",
    "                estimator= np.mean,\n",
    "                hue=\"gender\",\n",
    "                col=\"marital_status_summary\",\n",
    "                row=\"native_country_summary\",\n",
    "                ci=None,\n",
    "                palette=sns.color_palette(['pink', 'skyblue']));\n",
    "\n",
    "g.fig.set_size_inches(15, 8)\n",
    "g.fig.subplots_adjust(top=0.9)\n",
    "g.fig.suptitle('Working Hours Per Week by Gender for Education, Workclass, Marital Status')\n",
    "\n",
    "# iterate through axes\n",
    "for ax in g.axes.ravel():\n",
    "\n",
    "    # add annotations\n",
    "    for container in ax.containers:\n",
    "        ax.bar_label(container);\n",
    "    \n",
    "    ax.margins(y=0.2)\n",
    "\n",
    "plt.show()"
   ]
  },
  {
   "cell_type": "markdown",
   "metadata": {
    "id": "tct5KTULjwPH"
   },
   "source": [
    "## <p style=\"background-color:#9d4f8c; font-family:newtimeroman; color:#FFF9ED; font-size:175%; text-align:center; border-radius:10px 10px;\">Dropping Similar & Unneccessary Features</p>\n",
    "\n",
    "<a id=\"6\"></a>\n",
    "<a href=\"#toc\" class=\"btn btn-primary btn-sm\" role=\"button\" aria-pressed=\"true\" \n",
    "style=\"color:blue; background-color:#dfa8e4\" data-toggle=\"popover\">Content</a>"
   ]
  },
  {
   "cell_type": "code",
   "execution_count": null,
   "metadata": {
    "id": "baqe9ua4jwPH",
    "outputId": "1d0be240-aba6-4067-802f-b2e70752820e"
   },
   "outputs": [],
   "source": [
    "df.info()"
   ]
  },
  {
   "cell_type": "code",
   "execution_count": null,
   "metadata": {
    "id": "lXCQgnsYjwPH"
   },
   "outputs": [],
   "source": [
    "df.drop(columns = [\"education\", \"education_num\", \"relationship\", \"marital_status\", \"native_country\"], inplace = True)"
   ]
  },
  {
   "cell_type": "markdown",
   "metadata": {
    "id": "-_TS1bdWjwPH"
   },
   "source": [
    "## <p style=\"background-color:#9d4f8c; font-family:newtimeroman; color:#FFF9ED; font-size:175%; text-align:center; border-radius:10px 10px;\">Handling with Missing Value</p>\n",
    "\n",
    "<a id=\"7\"></a>\n",
    "<a href=\"#toc\" class=\"btn btn-primary btn-sm\" role=\"button\" aria-pressed=\"true\" \n",
    "style=\"color:blue; background-color:#dfa8e4\" data-toggle=\"popover\">Content</a>"
   ]
  },
  {
   "cell_type": "markdown",
   "metadata": {
    "id": "-9W89YamjwPI"
   },
   "source": [
    "**Check the missing values for all features basically**"
   ]
  },
  {
   "cell_type": "code",
   "execution_count": null,
   "metadata": {
    "id": "xRah7bdqjwPI",
    "outputId": "a8272c1d-feeb-4684-e69b-3b6775e868a3",
    "scrolled": true
   },
   "outputs": [],
   "source": [
    "df.isnull().sum()"
   ]
  },
  {
   "cell_type": "markdown",
   "metadata": {
    "id": "gQmPPblQjwPI"
   },
   "source": [
    "**1. It seems that there is no missing value. But we know that \"workclass\", and \"occupation\" features have missing values as the \"Unknown\" string values. Examine these features in more detail.**\n",
    "\n",
    "**2. Decide if drop these \"Unknown\" string values or not**"
   ]
  },
  {
   "cell_type": "code",
   "execution_count": null,
   "metadata": {
    "id": "dJkpaqbOjwPI",
    "outputId": "5dd40daf-ad8f-4c72-9c90-5671f1934899"
   },
   "outputs": [],
   "source": [
    "df.workclass.value_counts()"
   ]
  },
  {
   "cell_type": "code",
   "execution_count": null,
   "metadata": {
    "id": "7_Qxh7WVjwPI",
    "outputId": "498beb6c-888f-49dd-edb0-7a2921200724"
   },
   "outputs": [],
   "source": [
    "df.occupation.value_counts()"
   ]
  },
  {
   "cell_type": "code",
   "execution_count": null,
   "metadata": {
    "id": "P53M7yfVjwPI",
    "outputId": "0a2d373c-a026-49c7-ccaf-197fc074537c"
   },
   "outputs": [],
   "source": [
    "df[df.occupation == \"Unknown\"].workclass.value_counts()"
   ]
  },
  {
   "cell_type": "code",
   "execution_count": null,
   "metadata": {
    "id": "vxiKQqYRjwPI"
   },
   "outputs": [],
   "source": [
    "df.replace(\"Unknown\", np.nan, inplace = True)"
   ]
  },
  {
   "cell_type": "code",
   "execution_count": null,
   "metadata": {
    "id": "33lgueMojwPI",
    "outputId": "fe2d2a12-0c6e-49a9-e02a-c130ab8814af"
   },
   "outputs": [],
   "source": [
    "df.isnull().sum()"
   ]
  },
  {
   "cell_type": "code",
   "execution_count": null,
   "metadata": {
    "id": "er7M7CYSjwPJ"
   },
   "outputs": [],
   "source": [
    "df.dropna(inplace = True)"
   ]
  },
  {
   "cell_type": "code",
   "execution_count": null,
   "metadata": {
    "id": "I66cdIqrjwPJ",
    "outputId": "424afb41-f7ec-4165-c230-8681ed068c97"
   },
   "outputs": [],
   "source": [
    "df.isnull().sum()"
   ]
  },
  {
   "cell_type": "code",
   "execution_count": null,
   "metadata": {
    "id": "MBe8W4MdjwPJ",
    "outputId": "b1766d9b-6812-41ad-d058-39f32e279c27"
   },
   "outputs": [],
   "source": [
    "df.info()"
   ]
  },
  {
   "cell_type": "markdown",
   "metadata": {
    "id": "OqhEXvvtjwPJ"
   },
   "source": [
    "## <p style=\"background-color:#9d4f8c; font-family:newtimeroman; color:#FFF9ED; font-size:175%; text-align:center; border-radius:10px 10px;\">Handling with Outliers</p>\n",
    "\n",
    "<a id=\"8\"></a>\n",
    "<a href=\"#toc\" class=\"btn btn-primary btn-sm\" role=\"button\" aria-pressed=\"true\" \n",
    "style=\"color:blue; background-color:#dfa8e4\" data-toggle=\"popover\">Content</a>"
   ]
  },
  {
   "cell_type": "markdown",
   "metadata": {
    "id": "A96k9zQ-jwPJ"
   },
   "source": [
    "### Boxplot and Histplot for all numeric features\n",
    "\n",
    "**Plot boxplots for each numeric features at the same figure as subplots**"
   ]
  },
  {
   "cell_type": "code",
   "execution_count": null,
   "metadata": {
    "id": "_sWpVXRujwPJ",
    "outputId": "0392519d-73f8-408c-af87-b09dd94e4e8c"
   },
   "outputs": [],
   "source": [
    "plt.boxplot((df[df.select_dtypes('number').columns]), \n",
    "            labels=df.select_dtypes('number').columns,\n",
    "            showmeans=True,\n",
    "            meanprops={\"marker\":\"o\",\n",
    "                       \"markerfacecolor\":\"white\", \n",
    "                       \"markeredgecolor\":\"black\",\n",
    "                       \"markersize\":\"10\"});\n",
    "plt.show()"
   ]
  },
  {
   "cell_type": "code",
   "execution_count": null,
   "metadata": {
    "id": "19LXURbdjwPJ",
    "outputId": "8cb50127-be45-433c-f887-fa8e2876213c"
   },
   "outputs": [],
   "source": [
    "index = 0\n",
    "plt.figure(figsize=(20, 10))\n",
    "for feature in df.select_dtypes('number').columns:\n",
    "    index += 1\n",
    "    plt.subplot(2,3,index)\n",
    "    sns.boxplot(x=feature, \n",
    "                data=df, \n",
    "                whis=1.5,\n",
    "                showmeans=True,\n",
    "                meanprops={\"marker\":\"o\",\n",
    "                           \"markerfacecolor\":\"white\", \n",
    "                           \"markeredgecolor\":\"black\",\n",
    "                           \"markersize\":\"10\"})"
   ]
  },
  {
   "cell_type": "markdown",
   "metadata": {
    "id": "RhL1GSZWjwPK"
   },
   "source": [
    "**Plot both boxplots and histograms for each numeric features at the same figure as subplots**"
   ]
  },
  {
   "cell_type": "code",
   "execution_count": null,
   "metadata": {
    "id": "4mP6wGFpjwPK",
    "outputId": "969f39a1-d121-4b5a-cff0-45c77e6aedd9",
    "scrolled": false
   },
   "outputs": [],
   "source": [
    "index = 0\n",
    "plt.figure(figsize=(20, 40))\n",
    "for feature in df.select_dtypes('number').columns:\n",
    "    index += 1\n",
    "    plt.subplot(6,2, index)\n",
    "    sns.boxplot(x=feature, data=df, whis=1.5)\n",
    "    index += 1\n",
    "    plt.subplot(6,2,index)\n",
    "    sns.histplot(x=feature, data=df)"
   ]
  },
  {
   "cell_type": "markdown",
   "metadata": {
    "id": "O6diQd9mjwPK"
   },
   "source": [
    "**Check the statistical values for all numeric features**"
   ]
  },
  {
   "cell_type": "code",
   "execution_count": null,
   "metadata": {
    "id": "TEMG8okPjwPK",
    "outputId": "e7e6d142-a684-43a1-b998-ab25a1a5d152"
   },
   "outputs": [],
   "source": [
    "df.describe().T"
   ]
  },
  {
   "cell_type": "markdown",
   "metadata": {
    "id": "7-GYNYVzjwPK"
   },
   "source": [
    "**1. After analyzing all features, we have decided that we can't evaluate extreme values in \"fnlwgt, capital_gain, capital_loss\" features in the scope of outliers.**\n",
    "\n",
    "**2. So let's examine \"age and hours_per_week\" features and detect extreme values which could be outliers by using IQR Rule.**"
   ]
  },
  {
   "cell_type": "markdown",
   "metadata": {
    "id": "9s-OW2OwjwPR"
   },
   "source": [
    "### age"
   ]
  },
  {
   "cell_type": "code",
   "execution_count": null,
   "metadata": {
    "id": "GCRGhO72jwPR",
    "outputId": "8d330f66-b2a0-41b9-cbf4-278ddbc41d10"
   },
   "outputs": [],
   "source": [
    "plt.figure(figsize=(10, 6))\n",
    "\n",
    "plt.subplot(1, 2, 1)\n",
    "sns.boxplot(data=df.age,\n",
    "            showmeans=True,\n",
    "            meanprops={\"marker\":\"o\",\n",
    "                       \"markerfacecolor\":\"white\", \n",
    "                       \"markeredgecolor\":\"black\",\n",
    "                       \"markersize\":\"10\"})\n",
    "\n",
    "plt.subplot(1, 2, 2)\n",
    "sns.histplot(data=df.age);"
   ]
  },
  {
   "cell_type": "code",
   "execution_count": null,
   "metadata": {
    "id": "-4ZPTeQPjwPR",
    "outputId": "6acd52c7-b4b9-456b-b84a-028c39290ce8"
   },
   "outputs": [],
   "source": [
    "low = df.age.quantile(0.25)\n",
    "high = df.age.quantile(0.75)\n",
    "IQR = high - low\n",
    "low, high, IQR"
   ]
  },
  {
   "cell_type": "code",
   "execution_count": null,
   "metadata": {
    "id": "3HNyNp-ZjwPS",
    "outputId": "b0aa7ed6-3005-4d68-dcb8-47dad83e3534"
   },
   "outputs": [],
   "source": [
    "lower_lim = low - (1.5 * IQR)\n",
    "upper_lim = high + (1.5 * IQR)\n",
    "lower_lim, upper_lim"
   ]
  },
  {
   "cell_type": "code",
   "execution_count": null,
   "metadata": {
    "id": "LPBrEifZjwPS",
    "outputId": "4bfb91c8-6c7d-4f18-a941-8074f5e506b3"
   },
   "outputs": [],
   "source": [
    "df[df.age > upper_lim].age.value_counts()"
   ]
  },
  {
   "cell_type": "code",
   "execution_count": null,
   "metadata": {
    "id": "gCIeTMScjwPS",
    "outputId": "85048126-266d-4fb0-b9f9-5adf674c5315"
   },
   "outputs": [],
   "source": [
    "df[df.age > upper_lim].sort_values(by=\"age\", ascending=False)"
   ]
  },
  {
   "cell_type": "markdown",
   "metadata": {
    "id": "vlBdLCMhjwPT"
   },
   "source": [
    "### hours_per_week"
   ]
  },
  {
   "cell_type": "code",
   "execution_count": null,
   "metadata": {
    "id": "0f14JR3ojwPT",
    "outputId": "0ac310c0-0bc8-485e-fd21-e78293efff0a"
   },
   "outputs": [],
   "source": [
    "plt.figure(figsize=(10, 6))\n",
    "\n",
    "plt.subplot(1, 2, 1)\n",
    "sns.boxplot(data=df.hours_per_week,\n",
    "            showmeans=True,\n",
    "            meanprops={\"marker\":\"o\",\n",
    "                       \"markerfacecolor\":\"white\", \n",
    "                       \"markeredgecolor\":\"black\",\n",
    "                       \"markersize\":\"10\"})\n",
    "\n",
    "plt.subplot(1, 2, 2)\n",
    "sns.histplot(data=df.hours_per_week, bins=10);"
   ]
  },
  {
   "cell_type": "code",
   "execution_count": null,
   "metadata": {
    "id": "vQGoJw6DjwPT",
    "outputId": "072a01d0-e3ff-4dad-9ded-3dd8c6991fcf"
   },
   "outputs": [],
   "source": [
    "low = df.hours_per_week.quantile(0.25)\n",
    "high = df.hours_per_week.quantile(0.75)\n",
    "IQR = high - low\n",
    "low, high, IQR"
   ]
  },
  {
   "cell_type": "code",
   "execution_count": null,
   "metadata": {
    "id": "t_CzSS0EjwPU",
    "outputId": "933eb0e3-a5b9-4c4e-d5b0-26d8cc76e0eb"
   },
   "outputs": [],
   "source": [
    "lower_lim = low - (1.5 * IQR)\n",
    "upper_lim = high + (1.5 * IQR)\n",
    "lower_lim, upper_lim"
   ]
  },
  {
   "cell_type": "code",
   "execution_count": null,
   "metadata": {
    "id": "XLKSFZMljwPU",
    "outputId": "2e308cc6-041c-42b9-940d-8df8a36bc125"
   },
   "outputs": [],
   "source": [
    "df[df.hours_per_week > upper_lim].hours_per_week.value_counts().sort_index(ascending=False)"
   ]
  },
  {
   "cell_type": "code",
   "execution_count": null,
   "metadata": {
    "id": "RUA-Yk55jwPU",
    "outputId": "113eb950-d7c3-463e-fc8c-6d7222914f95",
    "scrolled": false
   },
   "outputs": [],
   "source": [
    "df[df.hours_per_week > upper_lim].sort_values(by=\"hours_per_week\", ascending=False)"
   ]
  },
  {
   "cell_type": "code",
   "execution_count": null,
   "metadata": {
    "id": "93eP8xszjwPU",
    "outputId": "997fc290-cca5-4061-9e55-158774e599ee"
   },
   "outputs": [],
   "source": [
    "df[df.hours_per_week < lower_lim].hours_per_week.value_counts().sort_index()"
   ]
  },
  {
   "cell_type": "code",
   "execution_count": null,
   "metadata": {
    "id": "ZId6b98cjwPV",
    "outputId": "f79c4c81-ec4c-4d62-e0c8-17f6eb3fe84c"
   },
   "outputs": [],
   "source": [
    "df[df.hours_per_week < lower_lim].groupby(\"salary\").hours_per_week.describe()"
   ]
  },
  {
   "cell_type": "code",
   "execution_count": null,
   "metadata": {
    "id": "Osd8iz8IjwPV",
    "outputId": "d91b2905-b5f8-4a5c-a425-ffe93b76f308"
   },
   "outputs": [],
   "source": [
    "df[df.hours_per_week < lower_lim].groupby(\"salary\").age.describe()"
   ]
  },
  {
   "cell_type": "markdown",
   "metadata": {
    "id": "0CJdRoYMjwPV"
   },
   "source": [
    "**Result :** As we see, there are number of extreme values in both \"age and hours_per_week\" features. But how can we know if these extreme values are outliers or not? At this point, **domain knowledge** comes to the fore.\n",
    "\n",
    "**Domain Knowledge for this dataset:**\n",
    "1. In this dataset, all values are created according to the statements of individuals. So It can be some \"data entries errors\".\n",
    "2. In addition, we have aimed to create an ML model with some restrictions as getting better performance from the ML model.\n",
    "3. In this respect, our sample space ranges for some features are as follows.\n",
    "    - age : 17 to 80\n",
    "    - hours_per_week : 7 to 70\n",
    "    - if somebody's age is more than 60, he/she can't work more than 60 hours in a week"
   ]
  },
  {
   "cell_type": "markdown",
   "metadata": {
    "id": "HE-2lkvajwPV"
   },
   "source": [
    "### Dropping rows according to the domain knownledge "
   ]
  },
  {
   "cell_type": "code",
   "execution_count": null,
   "metadata": {
    "id": "cH--uBjnjwPW",
    "outputId": "24d1ba92-c243-4fce-8f78-4567fdb8dc2e"
   },
   "outputs": [],
   "source": [
    "df[(df.age < 17) | (df.age > 80)].sort_values(by = \"age\", ascending = False)"
   ]
  },
  {
   "cell_type": "code",
   "execution_count": null,
   "metadata": {
    "id": "pef3mkEzjwPW",
    "outputId": "b653ac33-bd6d-4f65-99d8-28aa7ea2a478"
   },
   "outputs": [],
   "source": [
    "df[(df.age < 17) | (df.age > 80)].shape"
   ]
  },
  {
   "cell_type": "code",
   "execution_count": null,
   "metadata": {
    "id": "wsrX0YIrjwPW",
    "outputId": "39b4800c-5ad4-4470-a7cd-55ac5549a857"
   },
   "outputs": [],
   "source": [
    "drop_index = df[(df.age < 17) | (df.age > 80)].index\n",
    "drop_index"
   ]
  },
  {
   "cell_type": "code",
   "execution_count": null,
   "metadata": {
    "id": "hOXc2peRjwPW"
   },
   "outputs": [],
   "source": [
    "df.drop(drop_index, inplace = True)"
   ]
  },
  {
   "cell_type": "code",
   "execution_count": null,
   "metadata": {
    "id": "M-Z2itRjjwPX",
    "outputId": "c25071f8-650d-4262-b839-824bcd0be9e9",
    "scrolled": false
   },
   "outputs": [],
   "source": [
    "df[(df.hours_per_week < 7) | (df.hours_per_week > 70)].sort_values(by = \"hours_per_week\", ascending = False)"
   ]
  },
  {
   "cell_type": "code",
   "execution_count": null,
   "metadata": {
    "id": "4twb64ORjwPX",
    "outputId": "c8fc2dd4-c2f5-4c95-fd0f-66491c91865a"
   },
   "outputs": [],
   "source": [
    "df[(df.hours_per_week < 7) | (df.hours_per_week > 70)].shape"
   ]
  },
  {
   "cell_type": "code",
   "execution_count": null,
   "metadata": {
    "id": "cW3FH3lnjwPX",
    "outputId": "340b81d1-88f8-4767-e809-9bf10bf545f7"
   },
   "outputs": [],
   "source": [
    "drop_index = df[(df.hours_per_week < 7) | (df.hours_per_week > 70)].index\n",
    "drop_index"
   ]
  },
  {
   "cell_type": "code",
   "execution_count": null,
   "metadata": {
    "id": "KaWAXr4WjwPY"
   },
   "outputs": [],
   "source": [
    "df.drop(drop_index, inplace = True)"
   ]
  },
  {
   "cell_type": "code",
   "execution_count": null,
   "metadata": {
    "id": "tqNZsRyQjwPY",
    "outputId": "320e7782-c120-48a3-c851-b0db2a33378a",
    "scrolled": false
   },
   "outputs": [],
   "source": [
    "df[(df.age > 60) & (df.hours_per_week > 60)]"
   ]
  },
  {
   "cell_type": "code",
   "execution_count": null,
   "metadata": {
    "id": "Q7WZc01UjwPY",
    "outputId": "31d08a32-cbc8-41dc-a619-1c7ba2ac7a31"
   },
   "outputs": [],
   "source": [
    "df[(df.age > 60) & (df.hours_per_week > 60)].shape"
   ]
  },
  {
   "cell_type": "code",
   "execution_count": null,
   "metadata": {
    "id": "iqRkrP6qjwPZ",
    "outputId": "044e9ae1-a0b5-49e6-b817-594f1ed67720"
   },
   "outputs": [],
   "source": [
    "drop_index = df[(df.age > 60) & (df.hours_per_week > 60)].index\n",
    "drop_index"
   ]
  },
  {
   "cell_type": "code",
   "execution_count": null,
   "metadata": {
    "id": "8MC7tjrxjwPZ"
   },
   "outputs": [],
   "source": [
    "df.drop(drop_index, inplace = True)"
   ]
  },
  {
   "cell_type": "code",
   "execution_count": null,
   "metadata": {
    "id": "MOE1yU2RjwPZ",
    "outputId": "9e349b3c-128a-4e9e-b6a2-2cd137657705"
   },
   "outputs": [],
   "source": [
    "df.shape"
   ]
  },
  {
   "cell_type": "code",
   "execution_count": null,
   "metadata": {
    "id": "uKR0D3AijwPZ",
    "outputId": "4c09c993-143d-4ce5-b43e-56bb4013d8ca"
   },
   "outputs": [],
   "source": [
    "df.reset_index(drop = True, inplace = True)\n",
    "df.head()"
   ]
  },
  {
   "cell_type": "markdown",
   "metadata": {
    "id": "CQ9PuUCZjwPa"
   },
   "source": [
    "## <p style=\"background-color:#9d4f8c; font-family:newtimeroman; color:#FFF9ED; font-size:175%; text-align:center; border-radius:10px 10px;\">Final Step to Make the Dataset Ready for ML Models</p>\n",
    "\n",
    "<a id=\"9\"></a>\n",
    "<a href=\"#toc\" class=\"btn btn-primary btn-sm\" role=\"button\" aria-pressed=\"true\" \n",
    "style=\"color:blue; background-color:#dfa8e4\" data-toggle=\"popover\">Content</a>"
   ]
  },
  {
   "cell_type": "markdown",
   "metadata": {
    "id": "slzCtnsnjwPa"
   },
   "source": [
    "### 1. Convert all features to numeric"
   ]
  },
  {
   "cell_type": "markdown",
   "metadata": {
    "id": "MvUDThmpjwPa"
   },
   "source": [
    "**Convert target feature (salary) to numeric (0 and 1) by using map function**"
   ]
  },
  {
   "cell_type": "code",
   "execution_count": null,
   "metadata": {
    "id": "vUfxwSktjwPa"
   },
   "outputs": [],
   "source": [
    "df[\"salary\"] = df.salary.map({\"<=50K\" : 0, \">50K\" : 1})\n",
    "df[\"salary\"]"
   ]
  },
  {
   "cell_type": "code",
   "execution_count": null,
   "metadata": {
    "id": "z6LPsuD5jwPb",
    "outputId": "bcf51a10-0721-49f4-fa6e-693976a0b134"
   },
   "outputs": [],
   "source": [
    "df.salary.value_counts()"
   ]
  },
  {
   "cell_type": "markdown",
   "metadata": {
    "id": "PsG-ZJftjwPb"
   },
   "source": [
    "**Convert all features to numeric by using get_dummies function**"
   ]
  },
  {
   "cell_type": "code",
   "execution_count": null,
   "metadata": {
    "id": "dSFOEr6ljwPb",
    "outputId": "f49cc4ac-8f1f-4eb6-97ce-d62925a10cea"
   },
   "outputs": [],
   "source": [
    "df_dummy = pd.get_dummies(df, drop_first=True)\n",
    "df_dummy"
   ]
  },
  {
   "cell_type": "code",
   "execution_count": null,
   "metadata": {
    "id": "A3rc-35QjwPb",
    "outputId": "350abbb8-2ff5-4e76-c870-e643b706e467"
   },
   "outputs": [],
   "source": [
    "df.shape"
   ]
  },
  {
   "cell_type": "code",
   "execution_count": null,
   "metadata": {
    "id": "XhpyqEdqjwPc",
    "outputId": "942d1075-1a51-4f54-c4b3-27e77f293bf0"
   },
   "outputs": [],
   "source": [
    "df_dummy.shape"
   ]
  },
  {
   "cell_type": "markdown",
   "metadata": {
    "id": "YjCbYLcxjwPc"
   },
   "source": [
    "### 2. Take a look at correlation between features by utilizing power of visualizing"
   ]
  },
  {
   "cell_type": "code",
   "execution_count": null,
   "metadata": {
    "id": "crJE-orojwPc",
    "outputId": "5905aefa-cbc6-442e-eaf2-03ff22ee16d5",
    "scrolled": true
   },
   "outputs": [],
   "source": [
    "df_dummy.corr()"
   ]
  },
  {
   "cell_type": "code",
   "execution_count": null,
   "metadata": {
    "id": "Vp4403w-jwPc",
    "outputId": "aa5092e1-f2ca-43ae-d65e-5533d30abad8"
   },
   "outputs": [],
   "source": [
    "plt.figure(figsize=(20, 20))\n",
    "sns.heatmap(df_dummy.corr(), annot=True, cmap=\"YlGnBu\");"
   ]
  },
  {
   "cell_type": "code",
   "execution_count": null,
   "metadata": {
    "id": "iu_4kBKYjwPc",
    "outputId": "7dfd9924-be35-4581-d8ed-d2fda17ecf8d"
   },
   "outputs": [],
   "source": [
    "df_dummy_corr_salary = df_dummy.corr()[[\"salary\"]].drop(\"salary\").sort_values(by = \"salary\", ascending = False)\n",
    "df_dummy_corr_salary"
   ]
  },
  {
   "cell_type": "code",
   "execution_count": null,
   "metadata": {
    "id": "ds5JaIomjwPc",
    "outputId": "55c88575-af9b-4c4f-a54f-52165e7fc474"
   },
   "outputs": [],
   "source": [
    "plt.figure(figsize = (3, 14))\n",
    "sns.heatmap(df_dummy_corr_salary, annot = True, cmap = \"YlGnBu\")\n",
    "plt.show()"
   ]
  },
  {
   "cell_type": "code",
   "execution_count": null,
   "metadata": {
    "id": "CrjMAwISjwPd",
    "outputId": "905cb7ea-1126-43d8-8bca-5f550264fcb0"
   },
   "outputs": [],
   "source": [
    "plt.figure(figsize = (6, 14))\n",
    "df_dummy.corr()[\"salary\"].drop(\"salary\").sort_values().plot.barh();"
   ]
  },
  {
   "cell_type": "markdown",
   "metadata": {
    "id": "II2iQLeCjwPd"
   },
   "source": [
    "<a id=\"10\"></a>\n",
    "<a href=\"#toc\" class=\"btn btn-primary btn-sm\" role=\"button\" aria-pressed=\"true\" \n",
    "style=\"color:blue; background-color:#dfa8e4\" data-toggle=\"popover\">Content</a>\n",
    "\n",
    "## <p style=\"background-color:#FDFEFE; font-family:newtimeroman; color:#9d4f8c; font-size:150%; text-align:center; border-radius:10px 10px;\">The End of the Project</p>\n",
    "\n",
    "<p style=\"text-align: center;\"><img src=\"https://docs.google.com/uc?id=1lY0Uj5R04yMY3-ZppPWxqCr5pvBLYPnV\" class=\"img-fluid\" \n",
    "alt=\"CLRSWY\"></p>\n",
    "\n",
    "## <p style=\"background-color:#FDFEFE; font-family:newtimeroman; color:#9d4f8c; font-size:100%; text-align:center; border-radius:10px 10px;\">WAY TO REINVENT YOURSELF</p>\n",
    "\n",
    "___\n"
   ]
  }
 ],
 "metadata": {
  "colab": {
   "collapsed_sections": [
    "3QuB60ZKjwOM",
    "tRENVPjsjwOO",
    "FWVwlGMnjwOO",
    "O-WjXfO7jwOQ",
    "UVjAplv8jwOQ",
    "HOIESqNjjwOT",
    "6MCscpw1jwOV",
    "9Xgur7CdjwOY",
    "x6Q6OxR6jwOa",
    "jWt2NRMNjwOd",
    "KoqL-m8HjwOd",
    "r2MBtjItjwOd",
    "vqWCeRBujwOr",
    "ZjfFoHZTjwOx",
    "KxHaqS4mjwO2",
    "eoAUdH20jwO6",
    "-atLCuBJjwO8",
    "Q1AO-wkrjwO_",
    "aQo2OjRBjwPE",
    "4Nzi2KokjwPE",
    "Atr3vfcKjwPF",
    "7CvSp9f7jwPF",
    "F7sK9___jwPG",
    "7qqMjUE9jwPG",
    "R5sVvHBYjwPH",
    "tct5KTULjwPH",
    "-_TS1bdWjwPH",
    "OqhEXvvtjwPJ",
    "A96k9zQ-jwPJ",
    "9s-OW2OwjwPR",
    "vlBdLCMhjwPT",
    "HE-2lkvajwPV",
    "CQ9PuUCZjwPa",
    "slzCtnsnjwPa",
    "YjCbYLcxjwPc",
    "II2iQLeCjwPd"
   ],
   "name": "DAwPy (EDA Project- (Analyze US Citizens))-Solution.ipynb",
   "provenance": []
  },
  "kernelspec": {
   "display_name": "Python 3 (ipykernel)",
   "language": "python",
   "name": "python3"
  },
  "language_info": {
   "codemirror_mode": {
    "name": "ipython",
    "version": 3
   },
   "file_extension": ".py",
   "mimetype": "text/x-python",
   "name": "python",
   "nbconvert_exporter": "python",
   "pygments_lexer": "ipython3",
   "version": "3.9.12"
  },
  "toc": {
   "base_numbering": 1,
   "nav_menu": {},
   "number_sections": false,
   "sideBar": true,
   "skip_h1_title": false,
   "title_cell": "Table of Contents",
   "title_sidebar": "Contents",
   "toc_cell": false,
   "toc_position": {},
   "toc_section_display": true,
   "toc_window_display": false
  }
 },
 "nbformat": 4,
 "nbformat_minor": 1
}
